{
 "cells": [
  {
   "cell_type": "code",
   "execution_count": null,
   "metadata": {},
   "outputs": [],
   "source": [
    "import pandas as pd\n",
    "import json\n",
    "\n",
    "UPLIMIT, DOWNLIMIT = 32, -32\n",
    "DOWNSAMPLING_RATE = 10\n",
    "\n",
    "INPUT_FILEPATH, ACTION_NAME, START_FRAME, END_FRAME=\"02_01.json\", \"WALK_02_01\", None, None\n",
    "\n",
    "\n"
   ]
  },
  {
   "cell_type": "code",
   "execution_count": null,
   "metadata": {},
   "outputs": [],
   "source": [
    "############\n",
    "## FILE LOADING\n",
    "############\n",
    "\n",
    "def jsonFromFile(filepath):\n",
    "    filecontent = open(filepath, encoding=\"utf8\").read() #.replace('\\r','').replace('\\n','') #.decode('utf-8-sig')\n",
    "    data = json.loads(filecontent)\n",
    "    return data\n",
    "\n",
    "data =jsonFromFile(INPUT_FILEPATH)"
   ]
  },
  {
   "cell_type": "code",
   "execution_count": null,
   "metadata": {},
   "outputs": [],
   "source": [
    "############\n",
    "## FRAME SELECTION\n",
    "############\n",
    "\n",
    "df_allbvh=pd.DataFrame(data)\n",
    "if ((START_FRAME != None) and (END_FRAME != None)):\n",
    "    mask = ((df_allbvh[\"frame_id\"] >= START_FRAME) & (df_allbvh[\"frame_id\"] <=END_FRAME))\n",
    "    df_bvh = df_allbvh.loc[mask]\n",
    "elif ((START_FRAME == None) and (END_FRAME != None)):\n",
    "    mask = (df_allbvh[\"frame_id\"] <=END_FRAME)\n",
    "    df_bvh = df_allbvh.loc[mask]\n",
    "elif ((START_FRAME != None) and (END_FRAME == None)):\n",
    "    mask = (df_allbvh[\"frame_id\"] >= START_FRAME)\n",
    "    df_bvh = df_allbvh.loc[mask]\n",
    "else:\n",
    "    df_bvh = df_allbvh"
   ]
  },
  {
   "cell_type": "code",
   "execution_count": null,
   "metadata": {},
   "outputs": [],
   "source": [
    "# TMP_FILE = \"tmp.xlsx\"\n",
    "# def exportDataToExcel (filepath, data):\n",
    "#     with pd.ExcelWriter(filepath) as writer:\n",
    "#         for sheetName,values in data.items():\n",
    "#             pd.DataFrame(values).to_excel(writer, sheet_name=sheetName)\n",
    "# exportDataToExcel (TMP_FILE, {\"data\":data})\n",
    "# df_bvh = pd.read_excel(TMP_FILE, sheet_name='data') #, index_col=0"
   ]
  },
  {
   "cell_type": "code",
   "execution_count": null,
   "metadata": {},
   "outputs": [],
   "source": [
    "df_bvh.plot(x='frame_id', figsize=(20,15))"
   ]
  },
  {
   "cell_type": "code",
   "execution_count": null,
   "metadata": {},
   "outputs": [],
   "source": [
    "############\n",
    "## SKELETON SIMPLIFYING OFFSETING AND DISPLACEMENT CANCELATION\n",
    "############\n",
    "all_bone = pd.DataFrame()\n",
    "all_bone [\"hipX\"]= df_bvh[\"hip_X\"]\n",
    "all_bone [\"hipY\"]=0\n",
    "all_bone [\"hipZ\"]=df_bvh [\"hip_Z\"]\n",
    "all_bone [\"abdomenX\"]= df_bvh [\"abdomen_X\"]\n",
    "all_bone [\"abdomenY\"]= df_bvh [\"abdomen_Y\"] - df_bvh [\"hip_Y\"]\n",
    "all_bone [\"abdomenZ\"]= df_bvh [\"abdomen_Z\"]\n",
    "all_bone [\"chestX\"]= df_bvh [\"chest_X\"]\n",
    "all_bone [\"chestY\"]= df_bvh [\"chest_Y\"] - df_bvh [\"hip_Y\"]\n",
    "all_bone [\"chestZ\"]= df_bvh [\"chest_Z\"]\n",
    "all_bone [\"headX\"]= df_bvh [\"head_X\"]\n",
    "all_bone [\"headY\"]= df_bvh [\"head_Y\"] - df_bvh [\"hip_Y\"]\n",
    "all_bone [\"headZ\"]= df_bvh [\"head_Z\"]\n",
    "all_bone [\"lShldrX\"]  = df_bvh [\"lShldr_X\"]\n",
    "all_bone [\"lShldrY\"]  = df_bvh [\"lShldr_Y\"] - df_bvh [\"hip_Y\"]\n",
    "all_bone [\"lShldrZ\"]  = df_bvh [\"lShldr_Z\"]\n",
    "all_bone [\"rShldrX\"]  = df_bvh [\"rShldr_X\"]\n",
    "all_bone [\"rShldrY\"]  = df_bvh [\"rShldr_Y\"] - df_bvh [\"hip_Y\"]\n",
    "all_bone [\"rShldrZ\"]  = df_bvh [\"rShldr_Z\"]\n",
    "all_bone [\"lForeArmX\"]= df_bvh [\"lForeArm_X\"]\n",
    "all_bone [\"lForeArmY\"]= df_bvh [\"lForeArm_Y\"] - df_bvh [\"hip_Y\"]\n",
    "all_bone [\"lForeArmZ\"]= df_bvh [\"lForeArm_Z\"]\n",
    "all_bone [\"rForeArmX\"]= df_bvh [\"rForeArm_X\"]\n",
    "all_bone [\"rForeArmY\"]= df_bvh [\"rForeArm_Y\"] - df_bvh [\"hip_Y\"]\n",
    "all_bone [\"rForeArmZ\"]= df_bvh [\"rForeArm_Z\"]\n",
    "all_bone [\"lThighX\"]  = df_bvh [\"lThigh_X\"]\n",
    "all_bone [\"lThighY\"]  = df_bvh [\"lThigh_Y\"] - df_bvh [\"hip_Y\"]\n",
    "all_bone [\"lThighZ\"]  = df_bvh [\"lThigh_Z\"]\n",
    "all_bone [\"rThighX\"]  = df_bvh [\"rThigh_X\"]\n",
    "all_bone [\"rThighY\"]  = df_bvh [\"rThigh_Y\"] - df_bvh [\"hip_Y\"]\n",
    "all_bone [\"rThighZ\"]  = df_bvh [\"rThigh_Z\"]\n",
    "all_bone [\"lShinX\"]   = df_bvh [\"lShin_X\"]\n",
    "all_bone [\"lShinY\"]   = df_bvh [\"lShin_Y\"] - df_bvh [\"hip_Y\"]\n",
    "all_bone [\"lShinZ\"]   = df_bvh [\"lShin_Z\"]\n",
    "all_bone [\"rShinX\"]   = df_bvh [\"rShin_X\"]\n",
    "all_bone [\"rShinY\"]   = df_bvh [\"rShin_Y\"] - df_bvh [\"hip_Y\"]\n",
    "all_bone [\"rShinZ\"]   = df_bvh [\"rShin_Z\"]\n",
    "all_bone [\"lFootX\"]   = df_bvh [\"lFoot_X\"]\n",
    "all_bone [\"lFootY\"]   = df_bvh [\"lFoot_Y\"] - df_bvh [\"hip_Y\"]\n",
    "all_bone [\"lFootZ\"]   = df_bvh [\"lFoot_Z\"]\n",
    "all_bone [\"rFootX\"]   = df_bvh [\"rFoot_X\"]\n",
    "all_bone [\"rFootY\"]   = df_bvh [\"rFoot_Y\"] - df_bvh [\"hip_Y\"]\n",
    "all_bone [\"rFootZ\"]   = df_bvh [\"rFoot_Z\"]"
   ]
  },
  {
   "cell_type": "code",
   "execution_count": null,
   "metadata": {},
   "outputs": [],
   "source": [
    "############\n",
    "## ANIMATION DOWNSAMPLING\n",
    "############\n",
    "all_bone['ts']=pd.date_range('1973-09-30', periods=len(all_bone), freq='S')\n",
    "res_bones=all_bone.set_index('ts').resample('%dS'%(DOWNSAMPLING_RATE)).mean()\n",
    "nb_frame=len(res_bones)"
   ]
  },
  {
   "cell_type": "code",
   "execution_count": null,
   "metadata": {},
   "outputs": [],
   "source": [
    "############\n",
    "## SKELETON BOX-RESIZING AND CENTERING\n",
    "############\n",
    "\n",
    "maxH = max(res_bones.filter(regex=(\".*Z\")).max())\n",
    "minH = min(res_bones.filter(regex=(\".*Z\")).min())\n",
    "midH = res_bones[\"hipZ\"].mean()\n",
    "ratio = (maxH-minH)/(UPLIMIT-DOWNLIMIT)\n",
    "#print (minH, midH, maxH, ratio)"
   ]
  },
  {
   "cell_type": "code",
   "execution_count": null,
   "metadata": {},
   "outputs": [],
   "source": [
    "\n",
    "res_bones[\"hipX\"]      = res_bones[\"hipX\"]/ratio\n",
    "res_bones[\"hipY\"]      =0\n",
    "res_bones[\"hipZ\"]      =(res_bones[\"hipZ\"]-midH)/ratio\n",
    "res_bones[\"abdomenX\"]  = res_bones[\"abdomenX\"]/ratio\n",
    "res_bones[\"abdomenY\"]  = res_bones[\"abdomenY\"]/ratio\n",
    "res_bones[\"abdomenZ\"]  =(res_bones[\"abdomenZ\"]-midH)/ratio\n",
    "res_bones[\"chestX\"]    = res_bones[\"chestX\"]/ratio\n",
    "res_bones[\"chestY\"]    = res_bones[\"chestY\"]/ratio\n",
    "res_bones[\"chestZ\"]    =(res_bones[\"chestZ\"]-midH)/ratio\n",
    "res_bones[\"headX\"]     = res_bones[\"headX\"]/ratio\n",
    "res_bones[\"headY\"]     = res_bones[\"headY\"]/ratio\n",
    "res_bones[\"headZ\"]     =(res_bones[\"headZ\"]-midH)/ratio\n",
    "\n",
    "res_bones [\"lShldrX\"]  =  res_bones [\"lShldrX\"]/ratio\n",
    "res_bones [\"lShldrY\"]  =  res_bones [\"lShldrY\"]/ratio\n",
    "res_bones [\"lShldrZ\"]  = (res_bones [\"lShldrZ\"]-midH)/ratio\n",
    "res_bones [\"rShldrX\"]  =  res_bones [\"rShldrX\"]/ratio\n",
    "res_bones [\"rShldrY\"]  =  res_bones [\"rShldrY\"]/ratio \n",
    "res_bones [\"rShldrZ\"]  = (res_bones [\"rShldrZ\"]-midH)/ratio\n",
    "res_bones [\"lForeArmX\"]=  res_bones [\"lForeArmX\"]/ratio\n",
    "res_bones [\"lForeArmY\"]=  res_bones [\"lForeArmY\"]/ratio\n",
    "res_bones [\"lForeArmZ\"]= (res_bones [\"lForeArmZ\"]-midH)/ratio\n",
    "res_bones [\"rForeArmX\"]=  res_bones [\"rForeArmX\"]/ratio\n",
    "res_bones [\"rForeArmY\"]=  res_bones [\"rForeArmY\"]/ratio\n",
    "res_bones [\"rForeArmZ\"]= (res_bones [\"rForeArmZ\"]-midH)/ratio\n",
    "res_bones [\"lThighX\"]  =  res_bones [\"lThighX\"]/ratio\n",
    "res_bones [\"lThighY\"]  =  res_bones [\"lThighY\"]/ratio\n",
    "res_bones [\"lThighZ\"]  = (res_bones [\"lThighZ\"]-midH)/ratio\n",
    "res_bones [\"rThighX\"]  =  res_bones [\"rThighX\"]/ratio\n",
    "res_bones [\"rThighY\"]  =  res_bones [\"rThighY\"]/ratio\n",
    "res_bones [\"rThighZ\"]  = (res_bones [\"rThighZ\"]-midH)/ratio\n",
    "res_bones [\"lShinX\"]   =  res_bones [\"lShinX\"]/ratio\n",
    "res_bones [\"lShinY\"]   =  res_bones [\"lShinY\"]/ratio\n",
    "res_bones [\"lShinZ\"]   = (res_bones [\"lShinZ\"]-midH)/ratio\n",
    "res_bones [\"rShinX\"]   =  res_bones [\"rShinX\"]/ratio\n",
    "res_bones [\"rShinY\"]   =  res_bones [\"rShinY\"]/ratio\n",
    "res_bones [\"rShinZ\"]   = (res_bones [\"rShinZ\"]-midH)/ratio\n",
    "res_bones [\"lFootX\"]   =  res_bones [\"lFootX\"]/ratio\n",
    "res_bones [\"lFootY\"]   =  res_bones [\"lFootY\"]/ratio\n",
    "res_bones [\"lFootZ\"]   = (res_bones [\"lFootZ\"]-midH)/ratio\n",
    "res_bones [\"rFootX\"]   =  res_bones [\"rFootX\"]/ratio\n",
    "res_bones [\"rFootY\"]   =  res_bones [\"rFootY\"]/ratio\n",
    "res_bones [\"rFootZ\"]   = (res_bones [\"rFootZ\"]-midH)/ratio\n"
   ]
  },
  {
   "cell_type": "code",
   "execution_count": null,
   "metadata": {},
   "outputs": [],
   "source": [
    "res_bones[[\"hipX\", \"hipZ\", \"abdomenX\", \"abdomenY\", \"abdomenZ\"]].plot()"
   ]
  },
  {
   "cell_type": "code",
   "execution_count": null,
   "metadata": {},
   "outputs": [],
   "source": [
    "res = res_bones.round()"
   ]
  },
  {
   "cell_type": "code",
   "execution_count": null,
   "metadata": {},
   "outputs": [],
   "source": [
    "res.plot(figsize=(20,15))"
   ]
  },
  {
   "cell_type": "code",
   "execution_count": null,
   "metadata": {},
   "outputs": [],
   "source": [
    "############\n",
    "## C CODE GENERATION\n",
    "############\n",
    "first = True\n",
    "frame_number = 0\n",
    "cficontent = \"\"\n",
    "for row_index, row in res.iterrows():\n",
    "    if first:\n",
    "        cficontent += \"#define NB_FRAME_%s %d\\n\"%(ACTION_NAME,nb_frame)\n",
    "        cficontent += \"char points3D_%s[]={\\n// frame %d\\n\\t\\t%d,\\t%d,\\t%d,\\t0 // hip\\n\"%(ACTION_NAME,frame_number,int(row[\"hipX\"]), int(row[\"hipY\"]), int(row[\"hipZ\"]))\n",
    "        first = False\n",
    "    else:\n",
    "        cficontent += \"\\n// frame %d\\n\\t,\\t%d,\\t%d,\\t%d,\\t0 // hip\\n\"%(frame_number,int(row[\"hipX\"]), int(row[\"hipY\"]), int(row[\"hipZ\"]))\n",
    "    cficontent += \"\\t,\\t%d,\\t%d,\\t%d,\\t1 // abdomen\\n\"%(int(row[\"abdomenX\"]), int(row[\"abdomenY\"]), int(row[\"abdomenZ\"]))\n",
    "    cficontent += \"\\t,\\t%d,\\t%d,\\t%d,\\t2 // chest\\n\"%(int(row[\"chestX\"]), int(row[\"chestY\"]), int(row[\"chestZ\"]))\n",
    "    cficontent += \"\\t,\\t%d,\\t%d,\\t%d,\\t3 // head\\n\"%(int(row[\"headX\"]), int(row[\"headY\"]), int(row[\"headZ\"]))\n",
    "    cficontent += \"\\t,\\t%d,\\t%d,\\t%d,\\t4 // lShldr\\n\"%(int(row[\"lShldrX\"]), int(row[\"lShldrY\"]), int(row[\"lShldrZ\"]))\n",
    "    cficontent += \"\\t,\\t%d,\\t%d,\\t%d,\\t5 // rShldr\\n\"%(int(row[\"rShldrX\"]), int(row[\"rShldrY\"]), int(row[\"rShldrZ\"]))\n",
    "    cficontent += \"\\t,\\t%d,\\t%d,\\t%d,\\t6 // lForeArm\\n\"%(int(row[\"lForeArmX\"]), int(row[\"lForeArmY\"]), int(row[\"lForeArmZ\"]))\n",
    "    cficontent += \"\\t,\\t%d,\\t%d,\\t%d,\\t7 // rForeArm\\n\"%(int(row[\"rForeArmX\"]), int(row[\"rForeArmY\"]), int(row[\"rForeArmZ\"]))\n",
    "    cficontent += \"\\t,\\t%d,\\t%d,\\t%d,\\t8 // lThigh\\n\"%(int(row[\"lThighX\"]), int(row[\"lThighY\"]), int(row[\"lThighZ\"]))\n",
    "    cficontent += \"\\t,\\t%d,\\t%d,\\t%d,\\t9 // rThigh\\n\"%(int(row[\"rThighX\"]), int(row[\"rThighY\"]), int(row[\"rThighZ\"]))\n",
    "    cficontent += \"\\t,\\t%d,\\t%d,\\t%d,\\t10 // lShin\\n\"%(int(row[\"lShinX\"]), int(row[\"lShinY\"]), int(row[\"lShinZ\"]))\n",
    "    cficontent += \"\\t,\\t%d,\\t%d,\\t%d,\\t11 // rShin\\n\"%(int(row[\"rShinX\"]), int(row[\"rShinY\"]), int(row[\"rShinZ\"]))\n",
    "    cficontent += \"\\t,\\t%d,\\t%d,\\t%d,\\t12 // lFoot\\n\"%(int(row[\"lFootX\"]), int(row[\"lFootY\"]), int(row[\"lFootZ\"]))\n",
    "    cficontent += \"\\t,\\t%d,\\t%d,\\t%d,\\t13 // rFoot\\n\"%(int(row[\"rFootX\"]), int(row[\"rFootY\"]), int(row[\"rFootZ\"]))\n",
    "    frame_number = frame_number + 1\n",
    "cficontent += \"};\\n\"\n",
    "print (cficontent) \n",
    "\n",
    "with open (\"%s_c.c\"%(ACTION_NAME), 'w') as fil:\n",
    "    fil.write (cficontent)\n",
    "\n"
   ]
  },
  {
   "cell_type": "code",
   "execution_count": null,
   "metadata": {},
   "outputs": [],
   "source": [
    "############\n",
    "## ASM CODE GENERATION\n",
    "############\n",
    "first = True\n",
    "frame_number = 0\n",
    "sficontent = \"\"\n",
    "for row_index, row in res.iterrows():\n",
    "    if first:\n",
    "        sficontent += \"#define NB_FRAME_%s %d\\n\"%(ACTION_NAME,nb_frame)\n",
    "        sficontent += \"points3D_%s\\n;; frame %d\\n\\t.byt %d,\\t%d,\\t%d,\\t0 ;; hip\\n\"%(ACTION_NAME,frame_number, int(row[\"hipX\"]), int(row[\"hipY\"]), int(row[\"hipZ\"]))\n",
    "        first = False\n",
    "    else:\n",
    "        sficontent += \"\\n;; frame %d\\n\\t.byt %d,\\t%d,\\t%d,\\t0 ;; hip\\n\"%(frame_number, int(row[\"hipX\"]), int(row[\"hipY\"]), int(row[\"hipZ\"]))\n",
    "    sficontent += \"\\t.byt %d,\\t%d,\\t%d,\\t1 ;; abdomen\\n\"%(int(row[\"abdomenX\"]), int(row[\"abdomenY\"]), int(row[\"abdomenZ\"]))\n",
    "    sficontent += \"\\t.byt %d,\\t%d,\\t%d,\\t2 ;; chest\\n\"%(int(row[\"chestX\"]), int(row[\"chestY\"]), int(row[\"chestZ\"]))\n",
    "    sficontent += \"\\t.byt %d,\\t%d,\\t%d,\\t3 ;; head\\n\"%(int(row[\"headX\"]), int(row[\"headY\"]), int(row[\"headZ\"]))\n",
    "    sficontent += \"\\t.byt %d,\\t%d,\\t%d,\\t4 ;; lShldr\\n\"%(int(row[\"lShldrX\"]), int(row[\"lShldrY\"]), int(row[\"lShldrZ\"]))\n",
    "    sficontent += \"\\t.byt %d,\\t%d,\\t%d,\\t5 ;; rShldr\\n\"%(int(row[\"rShldrX\"]), int(row[\"rShldrY\"]), int(row[\"rShldrZ\"]))\n",
    "    sficontent += \"\\t.byt %d,\\t%d,\\t%d,\\t6 ;; lForeArm\\n\"%(int(row[\"lForeArmX\"]), int(row[\"lForeArmY\"]), int(row[\"lForeArmZ\"]))\n",
    "    sficontent += \"\\t.byt %d,\\t%d,\\t%d,\\t7 ;; rForeArm\\n\"%(int(row[\"rForeArmX\"]), int(row[\"rForeArmY\"]), int(row[\"rForeArmZ\"]))\n",
    "    sficontent += \"\\t.byt %d,\\t%d,\\t%d,\\t8 ;; lThigh\\n\"%(int(row[\"lThighX\"]), int(row[\"lThighY\"]), int(row[\"lThighZ\"]))\n",
    "    sficontent += \"\\t.byt %d,\\t%d,\\t%d,\\t9 ;; rThigh\\n\"%(int(row[\"rThighX\"]), int(row[\"rThighY\"]), int(row[\"rThighZ\"]))\n",
    "    sficontent += \"\\t.byt %d,\\t%d,\\t%d,\\t10 ;; lShin\\n\"%(int(row[\"lShinX\"]), int(row[\"lShinY\"]), int(row[\"lShinZ\"]))\n",
    "    sficontent += \"\\t.byt %d,\\t%d,\\t%d,\\t11 ;; rShin\\n\"%(int(row[\"rShinX\"]), int(row[\"rShinY\"]), int(row[\"rShinZ\"]))\n",
    "    sficontent += \"\\t.byt %d,\\t%d,\\t%d,\\t12 ;; lFoot\\n\"%(int(row[\"lFootX\"]), int(row[\"lFootY\"]), int(row[\"lFootZ\"]))\n",
    "    sficontent += \"\\t.byt %d,\\t%d,\\t%d,\\t13 ;; rFoot\\n\"%(int(row[\"rFootX\"]), int(row[\"rFootY\"]), int(row[\"rFootZ\"]))\n",
    "    frame_number = frame_number + 1\n",
    "print (sficontent)   \n",
    "\n",
    "with open (\"%s_s.s\"%(ACTION_NAME), 'w') as fil:\n",
    "    fil.write (sficontent)\n",
    "\n"
   ]
  },
  {
   "cell_type": "code",
   "execution_count": null,
   "metadata": {},
   "outputs": [],
   "source": []
  },
  {
   "cell_type": "code",
   "execution_count": null,
   "metadata": {},
   "outputs": [],
   "source": []
  }
 ],
 "metadata": {
  "kernelspec": {
   "display_name": "Python 3",
   "language": "python",
   "name": "python3"
  },
  "language_info": {
   "codemirror_mode": {
    "name": "ipython",
    "version": 3
   },
   "file_extension": ".py",
   "mimetype": "text/x-python",
   "name": "python",
   "nbconvert_exporter": "python",
   "pygments_lexer": "ipython3",
   "version": "3.7.6"
  }
 },
 "nbformat": 4,
 "nbformat_minor": 4
}
