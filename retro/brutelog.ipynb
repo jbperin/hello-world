{
 "cells": [
  {
   "cell_type": "code",
   "execution_count": null,
   "id": "d3910d4f-2afd-49df-93e7-da2defa6fa8d",
   "metadata": {},
   "outputs": [],
   "source": [
    "import inspect"
   ]
  },
  {
   "cell_type": "code",
   "execution_count": null,
   "id": "98eae76b-ab70-48be-9ff7-99fd5ecc4ea8",
   "metadata": {},
   "outputs": [],
   "source": [
    "import numpy as np\n",
    "import math\n",
    "import pandas as pd"
   ]
  },
  {
   "cell_type": "code",
   "execution_count": null,
   "id": "634feece-cb02-4bd8-ac35-97186c99e52c",
   "metadata": {},
   "outputs": [],
   "source": [
    "import sample_functions"
   ]
  },
  {
   "cell_type": "code",
   "execution_count": null,
   "id": "9c9c355b-fb3f-42c1-8800-4c5bcf8886a7",
   "metadata": {},
   "outputs": [],
   "source": [
    "#def toBin (val, size):\n",
    "#    return list(reversed(list(map(lambda x: int(x),'{:0{}b}'.format(val, size)))))\n",
    "from dt2code import toBin"
   ]
  },
  {
   "cell_type": "code",
   "execution_count": null,
   "id": "e015f934-95a0-46dc-a451-040bf8e6a847",
   "metadata": {},
   "outputs": [],
   "source": [
    "def log2_12_12(a11, a10, a9, a8, a7, a6, a5, a4, a3, a2, a1, a0):\n",
    "    bits = [a11, a10, a9, a8, a7, a6, a5, a4, a3, a2, a1, a0]\n",
    "    \n",
    "    def f(i): return min((2**12)-1,round(math.log2((i))*(((2**12)-1)/12))) if i != 0 else 0\n",
    "\n",
    "    v1 = 0\n",
    "    for i, b in enumerate(reversed(bits)):\n",
    "        v1 += b << i\n",
    "    mathval1 = f(v1)\n",
    "    # Output as list of bits (LSB first)\n",
    "    return toBin(mathval1, 12)\n"
   ]
  },
  {
   "cell_type": "code",
   "execution_count": null,
   "id": "d673f541-26f0-4860-bd6a-ad03f8e906ed",
   "metadata": {},
   "outputs": [],
   "source": [
    "#def deduce_fonction_prototype(fonction):\n",
    "#    nb_input = len (inspect.signature(fonction).parameters)\n",
    "#    fake_parametres = [0] * nb_input\n",
    "#    nb_output = len(fonction(*fake_parametres))\n",
    "#    return nb_input, nb_output\n",
    "from dt2code import deduce_fonction_prototype\n",
    "NBITS_INPUT, NBITS_OUTPUT = deduce_fonction_prototype(log2_12_12)"
   ]
  },
  {
   "cell_type": "code",
   "execution_count": null,
   "id": "b211bddf-fa2a-4e16-b386-b2335adddf60",
   "metadata": {},
   "outputs": [],
   "source": [
    "print (NBITS_INPUT, NBITS_OUTPUT)"
   ]
  },
  {
   "cell_type": "code",
   "execution_count": null,
   "id": "8d21ede8-9d7a-4642-9c8b-3045bc1b551d",
   "metadata": {},
   "outputs": [],
   "source": [
    "def build_composed_training_samples():\n",
    "    data = []\n",
    "    for v1 in range(2**NBITS_INPUT):\n",
    "        binv1 = sample_functions.toBin(v1, NBITS_INPUT)\n",
    "        # log2_12_12 expects MSB first\n",
    "        out_bits = log2_12_12(*reversed(binv1))\n",
    "        row = {}\n",
    "        for i in range(NBITS_INPUT):\n",
    "            row[f'a{i}'] = binv1[i]\n",
    "        for i in range(NBITS_INPUT,NBITS_INPUT+6):\n",
    "            row[f'a{i}'] = out_bits[i-6]\n",
    "        for i in range(NBITS_OUTPUT):\n",
    "            row[f'r{i}'] = out_bits[i]\n",
    "        data.append(row)\n",
    "    df = pd.DataFrame(data)\n",
    "    return df\n"
   ]
  },
  {
   "cell_type": "code",
   "execution_count": null,
   "id": "2401d470-3f5f-4c36-847a-649456e82788",
   "metadata": {},
   "outputs": [],
   "source": [
    "theDataframe = build_composed_training_samples()\n",
    "theDataframe.head()\n",
    "theDataframe.to_excel(\"output.xlsx\")"
   ]
  },
  {
   "cell_type": "code",
   "execution_count": null,
   "id": "7f2413ac-f6ee-46a7-be4b-38b18573733c",
   "metadata": {},
   "outputs": [],
   "source": [
    "def build_X_y(idxOfBitToEncode, hypothesis, df=None):\n",
    "    if df is None:\n",
    "        raise ValueError(\"A DataFrame of training samples must be provided.\")\n",
    "    # Build filter mask\n",
    "    mask = pd.Series([True] * len(df))\n",
    "    for hyp in hypothesis:\n",
    "        mask &= (df[f'a{hyp[0]}'] == hyp[1])\n",
    "    filtered = df[mask]\n",
    "    X = filtered[[f'a{i}' for i in range(NBITS_INPUT+6)]].values.tolist()\n",
    "    y = filtered[f'r{idxOfBitToEncode}'].values.tolist()\n",
    "    return X, y\n",
    "\n",
    "\n"
   ]
  },
  {
   "cell_type": "code",
   "execution_count": null,
   "id": "9c4fb65e-5072-4082-a1c3-23d10d28b6ec",
   "metadata": {},
   "outputs": [],
   "source": [
    "# X, y = build_X_y(5, hypothesis=[], df=theDataframe)\n",
    "# from sklearn.tree import DecisionTreeClassifier\n",
    "# tree = DecisionTreeClassifier().fit(X, y)\n",
    "# X[0]\n"
   ]
  },
  {
   "cell_type": "code",
   "execution_count": null,
   "id": "b25e6760-f29d-415e-b8f5-870e4c6f6017",
   "metadata": {
    "scrolled": true
   },
   "outputs": [],
   "source": [
    "# from sklearn.tree import export_text\n",
    "# print(export_text(tree))"
   ]
  },
  {
   "cell_type": "code",
   "execution_count": null,
   "id": "88e766b1-fbd0-4d5a-86dd-7bac0a45daec",
   "metadata": {},
   "outputs": [],
   "source": [
    "from sklearn.tree import DecisionTreeClassifier\n",
    "def full_composed_abstract_tree   (listOfIdxOfBitToEncode,  hypothesis):\n",
    "\n",
    "    idxOfBitToEncode = listOfIdxOfBitToEncode[0]\n",
    "\n",
    "    X, y = build_X_y( idxOfBitToEncode, hypothesis, theDataframe)\n",
    "\n",
    "    if len(y) == 1:\n",
    "        if (y[0] == 0):\n",
    "            result = {'value': 'pass'}\n",
    "        else: \n",
    "            result = {'value': f\"r{idxOfBitToEncode} = {y[0]}\"}\n",
    "        if (len(listOfIdxOfBitToEncode) != 1):\n",
    "            listOfIdxOfBitToEncode.pop(0)\n",
    "            result['subtree'] = full_composed_abstract_tree(listOfIdxOfBitToEncode, hypothesis)\n",
    "        return result\n",
    "    \n",
    "    tree = DecisionTreeClassifier().fit(X, y) # max_depth=2\n",
    "    # display_tree(tree)\n",
    "    node_id=0\n",
    "\n",
    "    if tree.tree_.children_left[node_id] == tree.tree_.children_right[node_id]:  # Leaf node\n",
    "        listOfIdxOfBitToEncode.pop(0)  \n",
    "        if len(listOfIdxOfBitToEncode) != 0:\n",
    "            if (y[0] == 0):\n",
    "                result = {'value': 'pass'}\n",
    "            else:\n",
    "                result = {'value': f\"r{idxOfBitToEncode} = {y[0]}\"}\n",
    "            result['subtree']= full_composed_abstract_tree(listOfIdxOfBitToEncode, hypothesis)\n",
    "\n",
    "            # listOfIdxOfBitToEncode.insert(0, sav)  # Restore the index for the next call\n",
    "            return result\n",
    "        else:\n",
    "            if (y[0] == 0):\n",
    "                result = {'value': 'pass'}\n",
    "            else:\n",
    "                result = {'value': f\"r{idxOfBitToEncode} = {y[0]}\"}\n",
    "            # listOfIdxOfBitToEncode.insert(0, sav)\n",
    "            return result\n",
    "    else:\n",
    "        result = {\n",
    "            'feature': tree.tree_.feature[node_id],\n",
    "            # 'threshold': \"\", #tree.tree_.threshold[node_id], #\n",
    "            # 'value': \"\", # tree.tree_.value[node_id][0].tolist(), # \n",
    "        }\n",
    "        savl = listOfIdxOfBitToEncode.copy()\n",
    "        result['left'] = full_composed_abstract_tree(listOfIdxOfBitToEncode, hypothesis + [(tree.tree_.feature[node_id], 0)])\n",
    "        listOfIdxOfBitToEncode = savl.copy()\n",
    "        result['right'] = full_composed_abstract_tree(listOfIdxOfBitToEncode, hypothesis + [(tree.tree_.feature[node_id], 1)])\n",
    "        listOfIdxOfBitToEncode = savl.copy()\n",
    "\n",
    "        return result\n",
    "\n"
   ]
  },
  {
   "cell_type": "code",
   "execution_count": null,
   "id": "537cabd7-7075-4283-b2b0-ed2c65df1460",
   "metadata": {},
   "outputs": [],
   "source": [
    "listOfIdxOfBitToEncode = [5, 4, 3, 2]#list(reversed(range(6)))\n",
    "hypothesis = []\n",
    "abstree = full_composed_abstract_tree(listOfIdxOfBitToEncode, hypothesis)"
   ]
  },
  {
   "cell_type": "code",
   "execution_count": null,
   "id": "eee45b53-4d76-417b-bdfb-cf5a8e44774f",
   "metadata": {
    "scrolled": true
   },
   "outputs": [],
   "source": [
    "from dt2code import convert_numpy_types, remove_pass_and_empty\n",
    "import json\n",
    "abstree_serializable = convert_numpy_types(abstree)\n",
    "light_abstree = remove_pass_and_empty(abstree_serializable)\n",
    "# print(json.dumps(light_abstree, indent=2))"
   ]
  },
  {
   "cell_type": "code",
   "execution_count": null,
   "id": "a3ac5ec6-2eec-400d-be94-5d624ab34992",
   "metadata": {
    "scrolled": true
   },
   "outputs": [],
   "source": [
    "from dt2code import build_abstree_to_json\n",
    "build_abstree_to_json(light_abstree, 'abstree.json')"
   ]
  },
  {
   "cell_type": "code",
   "execution_count": null,
   "id": "d8d66bc6-587b-4413-8fad-a1bfe3af9893",
   "metadata": {},
   "outputs": [],
   "source": [
    "from dt2code import generate_function_code, save_function_to_file, read_abstree_from_json\n",
    "function_code = generate_function_code(read_abstree_from_json('abstree.json'), 0, NBITS_INPUT+6, NBITS_OUTPUT)\n",
    "save_function_to_file(function_code, 'abstree.py')"
   ]
  },
  {
   "cell_type": "code",
   "execution_count": null,
   "id": "12c7c8af-4701-4b7f-bfc3-4c03649d39e9",
   "metadata": {},
   "outputs": [],
   "source": [
    "from dt2code import generate_function_asm_code\n",
    "\n",
    "with open (\"brute_code/fonction.s\", \"w\") as ficout:\n",
    "    for line in generate_function_asm_code(read_abstree_from_json('abstree.json')):\n",
    "        # print (line)\n",
    "        ficout.write(line+\"\\n\")\n"
   ]
  },
  {
   "cell_type": "code",
   "execution_count": null,
   "id": "bba71048-cee0-4283-91ec-84071fc31adf",
   "metadata": {},
   "outputs": [],
   "source": [
    "from dt2code import abstree_to_asm6502_code\n",
    "with open (\"brute_code/function_core.s\", \"w\") as ficout:\n",
    "    for line in abstree_to_asm6502_code(read_abstree_from_json('abstree.json'), indent=1):\n",
    "        # print (line)\n",
    "        ficout.write(line+\"\\n\")"
   ]
  },
  {
   "cell_type": "code",
   "execution_count": null,
   "id": "20766472-9b1c-4af4-b23a-4c570fbc08b4",
   "metadata": {},
   "outputs": [],
   "source": [
    "from dt2code import optimize_ASM_code\n",
    "optimize_ASM_code(\"brute_code/function_core.s\")"
   ]
  },
  {
   "cell_type": "code",
   "execution_count": null,
   "id": "cc6087fa-9076-4120-925f-e37d2d3fbc86",
   "metadata": {},
   "outputs": [],
   "source": []
  }
 ],
 "metadata": {
  "kernelspec": {
   "display_name": "Python 3 (ipykernel)",
   "language": "python",
   "name": "python3"
  },
  "language_info": {
   "codemirror_mode": {
    "name": "ipython",
    "version": 3
   },
   "file_extension": ".py",
   "mimetype": "text/x-python",
   "name": "python",
   "nbconvert_exporter": "python",
   "pygments_lexer": "ipython3",
   "version": "3.11.6"
  }
 },
 "nbformat": 4,
 "nbformat_minor": 5
}
