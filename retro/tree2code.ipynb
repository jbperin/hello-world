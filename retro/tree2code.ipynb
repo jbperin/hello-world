{
 "cells": [
  {
   "cell_type": "code",
   "execution_count": 1,
   "id": "76a0d7dc-2139-4ea7-91e7-fd7f687c4ea3",
   "metadata": {},
   "outputs": [],
   "source": [
    "import sklearn\n",
    "\n",
    "from sklearn.tree import DecisionTreeClassifier\n",
    "from sklearn.tree import export_text\n",
    "\n",
    "import numpy as np\n",
    "import math\n",
    "\n",
    "from sympy.logic import POSform, SOPform\n",
    "from sympy import symbols\n",
    "\n",
    "symA = 'a0 a1 a2 a3 a4 a5 a6 a7 a8 a9 a10 a11 a12 a13 a14 a15'\n",
    "symB = 'b0 b1 b2 b3 b4 b5 b6 b7 b8 b9 b10 b11 b12 b13 b14 b15'\n",
    "\n",
    "a0, a1, a2, a3, a4, a5, a6, a7, a8, a9, a10, a11, a12, a13, a14, a15 = symbols(symA)\n",
    "b0, b1, b2, b3, b4, b5, b6, b7, b8, b9, b10, b11, b12, b13, b14, b15 = symbols(symB)\n",
    "\n",
    "A = [a0, a1, a2, a3, a4, a5, a6, a7, a8, a9, a10, a11, a12, a13, a14, a15]\n",
    "\n",
    "B = [b0, b1, b2, b3, b4, b5, b6, b7, b8, b9, b10, b11, b12, b13, b14, b15]\n",
    "\n",
    "def toBin (val, size):\n",
    "    return list(reversed(list(map(lambda x: int(x),'{:0{}b}'.format(val, size)))))\n"
   ]
  },
  {
   "cell_type": "code",
   "execution_count": 2,
   "id": "0f7814dc-d823-4a65-bb53-779b9f2ef16b",
   "metadata": {},
   "outputs": [],
   "source": [
    "def build_X_y(NBITS, idxOfBitToEncode, hypothesis):\n",
    "    X = []\n",
    "    y = []\n",
    "    for v1 in range(2**NBITS):\n",
    "        binv1 = toBin(v1, NBITS)\n",
    "        include = True\n",
    "        for hyp in hypothesis:\n",
    "            if binv1[hyp[0]] != hyp[1]:\n",
    "                include = False\n",
    "                break\n",
    "        if not include:\n",
    "            continue\n",
    "        mathval1 = round(math.sqrt(v1))\n",
    "        binval1 = toBin(mathval1, NBITS)\n",
    "        targetbit = binval1[idxOfBitToEncode]\n",
    "        print(v1, binv1, mathval1, binval1, targetbit)\n",
    "        X.append(binv1)\n",
    "        y.append(targetbit)\n",
    "    print(X)\n",
    "    print(y)\n",
    "    return X, y"
   ]
  },
  {
   "cell_type": "code",
   "execution_count": 14,
   "id": "5c82d6de-c2b6-4143-8c40-a6385555f44f",
   "metadata": {},
   "outputs": [
    {
     "name": "stdout",
     "output_type": "stream",
     "text": [
      "0 [0, 0, 0, 0] 0 [0, 0, 0, 0] 0\n",
      "1 [1, 0, 0, 0] 1 [1, 0, 0, 0] 0\n",
      "2 [0, 1, 0, 0] 1 [1, 0, 0, 0] 0\n",
      "3 [1, 1, 0, 0] 2 [0, 1, 0, 0] 0\n",
      "4 [0, 0, 1, 0] 2 [0, 1, 0, 0] 0\n",
      "5 [1, 0, 1, 0] 2 [0, 1, 0, 0] 0\n",
      "6 [0, 1, 1, 0] 2 [0, 1, 0, 0] 0\n",
      "7 [1, 1, 1, 0] 3 [1, 1, 0, 0] 0\n",
      "8 [0, 0, 0, 1] 3 [1, 1, 0, 0] 0\n",
      "9 [1, 0, 0, 1] 3 [1, 1, 0, 0] 0\n",
      "10 [0, 1, 0, 1] 3 [1, 1, 0, 0] 0\n",
      "11 [1, 1, 0, 1] 3 [1, 1, 0, 0] 0\n",
      "12 [0, 0, 1, 1] 3 [1, 1, 0, 0] 0\n",
      "13 [1, 0, 1, 1] 4 [0, 0, 1, 0] 1\n",
      "14 [0, 1, 1, 1] 4 [0, 0, 1, 0] 1\n",
      "15 [1, 1, 1, 1] 4 [0, 0, 1, 0] 1\n",
      "[[0, 0, 0, 0], [1, 0, 0, 0], [0, 1, 0, 0], [1, 1, 0, 0], [0, 0, 1, 0], [1, 0, 1, 0], [0, 1, 1, 0], [1, 1, 1, 0], [0, 0, 0, 1], [1, 0, 0, 1], [0, 1, 0, 1], [1, 1, 0, 1], [0, 0, 1, 1], [1, 0, 1, 1], [0, 1, 1, 1], [1, 1, 1, 1]]\n",
      "[0, 0, 0, 0, 0, 0, 0, 0, 0, 0, 0, 0, 0, 1, 1, 1]\n"
     ]
    }
   ],
   "source": [
    "NBITS = 4\n",
    "idxOfBitToEncode = 2\n",
    "hypothesis = []  # Example hypothesis to filter inputs\n",
    "\n",
    "X, y = build_X_y(NBITS, idxOfBitToEncode, hypothesis)"
   ]
  },
  {
   "cell_type": "code",
   "execution_count": null,
   "id": "c870ee4d-347a-401d-951f-0bfeb816f882",
   "metadata": {},
   "outputs": [
    {
     "name": "stdout",
     "output_type": "stream",
     "text": [
      "[[[13.  3.]]\n",
      "\n",
      " [[ 8.  0.]]\n",
      "\n",
      " [[ 5.  3.]]\n",
      "\n",
      " [[ 4.  0.]]\n",
      "\n",
      " [[ 1.  3.]]\n",
      "\n",
      " [[ 1.  1.]]\n",
      "\n",
      " [[ 1.  0.]]\n",
      "\n",
      " [[ 0.  1.]]\n",
      "\n",
      " [[ 0.  2.]]]\n"
     ]
    }
   ],
   "source": [
    "tree = DecisionTreeClassifier().fit(X, y) # max_depth=2\n"
   ]
  },
  {
   "cell_type": "code",
   "execution_count": 16,
   "id": "cd7d2d18",
   "metadata": {},
   "outputs": [
    {
     "name": "stdout",
     "output_type": "stream",
     "text": [
      "|--- feature_3 <= 0.50\n",
      "|   |--- class: 0\n",
      "|--- feature_3 >  0.50\n",
      "|   |--- feature_2 <= 0.50\n",
      "|   |   |--- class: 0\n",
      "|   |--- feature_2 >  0.50\n",
      "|   |   |--- feature_1 <= 0.50\n",
      "|   |   |   |--- feature_0 <= 0.50\n",
      "|   |   |   |   |--- class: 0\n",
      "|   |   |   |--- feature_0 >  0.50\n",
      "|   |   |   |   |--- class: 1\n",
      "|   |   |--- feature_1 >  0.50\n",
      "|   |   |   |--- class: 1\n",
      "\n"
     ]
    }
   ],
   "source": [
    "r = export_text(tree) # , feature_names = [\"a\", \"b\"])\n",
    "\n",
    "print (r)\n"
   ]
  },
  {
   "cell_type": "code",
   "execution_count": 17,
   "id": "be69c080-acce-4bbd-a6ba-2eb97eaec1ff",
   "metadata": {},
   "outputs": [
    {
     "name": "stdout",
     "output_type": "stream",
     "text": [
      "{'feature': 3, 'threshold': 0.5, 'value': [13.0, 3.0], 'left': {'value': [8.0, 0.0]}, 'right': {'feature': 2, 'threshold': 0.5, 'value': [5.0, 3.0], 'left': {'value': [4.0, 0.0]}, 'right': {'feature': 1, 'threshold': 0.5, 'value': [1.0, 3.0], 'left': {'feature': 0, 'threshold': 0.5, 'value': [1.0, 1.0], 'left': {'value': [1.0, 0.0]}, 'right': {'value': [0.0, 1.0]}}, 'right': {'value': [0.0, 2.0]}}}}\n"
     ]
    }
   ],
   "source": [
    "def build_abstract_tree(tree, node_id=0):\n",
    "    \"\"\"\n",
    "    Recursively builds an abstract binary tree from a DecisionTreeClassifier.\n",
    "    Each node is a dict with 'feature', 'threshold', 'left', 'right', or 'value' for leaves.\n",
    "    \"\"\"\n",
    "    if tree.children_left[node_id] == tree.children_right[node_id]:  # Leaf node\n",
    "        return {'value': tree.value[node_id][0].tolist()}\n",
    "    return {\n",
    "        'feature': tree.feature[node_id],\n",
    "        'threshold': tree.threshold[node_id],\n",
    "        'value': tree.value[node_id][0].tolist(),\n",
    "        'left': build_abstract_tree(tree, tree.children_left[node_id]),\n",
    "        'right': build_abstract_tree(tree, tree.children_right[node_id])\n",
    "    }\n",
    "\n",
    "# Usage:\n",
    "abstract_tree = build_abstract_tree(tree.tree_)\n",
    "print(abstract_tree)"
   ]
  },
  {
   "cell_type": "code",
   "execution_count": 19,
   "id": "bddd58b9",
   "metadata": {},
   "outputs": [
    {
     "name": "stdout",
     "output_type": "stream",
     "text": [
      "Feature 3 <= 0.5, value=[13.0, 3.0]\n",
      "  Leaf: [8.0, 0.0]\n",
      "  Feature 2 <= 0.5, value=[5.0, 3.0]\n",
      "    Leaf: [4.0, 0.0]\n",
      "    Feature 1 <= 0.5, value=[1.0, 3.0]\n",
      "      Feature 0 <= 0.5, value=[1.0, 1.0]\n",
      "        Leaf: [1.0, 0.0]\n",
      "        Leaf: [0.0, 1.0]\n",
      "      Leaf: [0.0, 2.0]\n"
     ]
    }
   ],
   "source": [
    "def print_abstract_tree(node, depth=0):\n",
    "    indent = \"  \" * depth\n",
    "    if 'value' in node and ('feature' not in node):\n",
    "        print(f\"{indent}Leaf: {node['value']}\")\n",
    "    else:\n",
    "        print(f\"{indent}Feature {node['feature']} <= {node['threshold']}, value={node['value']}\")\n",
    "        print_abstract_tree(node['left'], depth + 1)\n",
    "        print_abstract_tree(node['right'], depth + 1)\n",
    "\n",
    "# Affichage\n",
    "print_abstract_tree(abstract_tree)"
   ]
  },
  {
   "cell_type": "code",
   "execution_count": 18,
   "id": "fbd5cf8b",
   "metadata": {},
   "outputs": [
    {
     "name": "stdout",
     "output_type": "stream",
     "text": [
      "['__class__', '__delattr__', '__dir__', '__doc__', '__eq__', '__format__', '__ge__', '__getattribute__', '__getstate__', '__gt__', '__hash__', '__init__', '__init_subclass__', '__le__', '__lt__', '__ne__', '__new__', '__pyx_vtable__', '__reduce__', '__reduce_ex__', '__repr__', '__setattr__', '__setstate__', '__sizeof__', '__str__', '__subclasshook__', 'apply', 'capacity', 'children_left', 'children_right', 'compute_feature_importances', 'compute_node_depths', 'compute_partial_dependence', 'decision_path', 'feature', 'impurity', 'max_depth', 'max_n_classes', 'missing_go_to_left', 'n_classes', 'n_features', 'n_leaves', 'n_node_samples', 'n_outputs', 'node_count', 'predict', 'threshold', 'value', 'weighted_n_node_samples']\n"
     ]
    }
   ],
   "source": [
    "print (dir(tree.tree_))"
   ]
  },
  {
   "cell_type": "code",
   "execution_count": 20,
   "id": "b64a921c",
   "metadata": {},
   "outputs": [
    {
     "name": "stdout",
     "output_type": "stream",
     "text": [
      "int predict(float features[]) {\n",
      "if (features[3] <= 0.5) {\n",
      "    return 0;\n",
      "} else {\n",
      "    if (features[2] <= 0.5) {\n",
      "        return 0;\n",
      "    } else {\n",
      "        if (features[1] <= 0.5) {\n",
      "            if (features[0] <= 0.5) {\n",
      "                return 0;\n",
      "            } else {\n",
      "                return 1;\n",
      "            }\n",
      "        } else {\n",
      "            return 1;\n",
      "        }\n",
      "    }\n",
      "}\n",
      "}\n",
      "\n"
     ]
    }
   ],
   "source": [
    "def generate_c_code(node, depth=0):\n",
    "    indent = \"    \" * depth\n",
    "    code = \"\"\n",
    "    if 'value' in node and ('feature' not in node):\n",
    "        # On suppose une classification binaire, retourne la classe majoritaire\n",
    "        val = node['value']\n",
    "        result = 0 if val[0] >= val[1] else 1\n",
    "        code += f\"{indent}return {result};\\n\"\n",
    "    else:\n",
    "        code += f\"{indent}if (features[{node['feature']}] <= {node['threshold']}) {{\\n\"\n",
    "        code += generate_c_code(node['left'], depth + 1)\n",
    "        code += f\"{indent}}} else {{\\n\"\n",
    "        code += generate_c_code(node['right'], depth + 1)\n",
    "        code += f\"{indent}}}\\n\"\n",
    "    return code\n",
    "\n",
    "def tree_to_c_function(abstract_tree, func_name=\"predict\"):\n",
    "    c_code = f\"int {func_name}(float features[]) {{\\n\"\n",
    "    c_code += generate_c_code(abstract_tree)\n",
    "    c_code += \"}\\n\"\n",
    "    return c_code\n",
    "\n",
    "# Exemple d'utilisation\n",
    "c_function_code = tree_to_c_function(abstract_tree)\n",
    "print(c_function_code)"
   ]
  }
 ],
 "metadata": {
  "kernelspec": {
   "display_name": "Python 3 (ipykernel)",
   "language": "python",
   "name": "python3"
  },
  "language_info": {
   "codemirror_mode": {
    "name": "ipython",
    "version": 3
   },
   "file_extension": ".py",
   "mimetype": "text/x-python",
   "name": "python",
   "nbconvert_exporter": "python",
   "pygments_lexer": "ipython3",
   "version": "3.11.6"
  }
 },
 "nbformat": 4,
 "nbformat_minor": 5
}
