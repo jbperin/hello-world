{
 "cells": [
  {
   "cell_type": "code",
   "execution_count": 5,
   "id": "7fe5c814-db36-4cbb-bb0a-5d11a491a237",
   "metadata": {},
   "outputs": [],
   "source": [
    "import sympy\n",
    "from sympy.physics.quantum import Bra, Ket\n",
    "from sympy import Matrix\n",
    "from sympy.physics.quantum import TensorProduct\n",
    "from sympy.physics.quantum.gate import HadamardGate,CNotGate, IdentityGate\n",
    "from sympy.physics.quantum.qapply import qapply\n",
    "from sympy import eye\n",
    "\n",
    "from sympy.physics.quantum import Ket\n",
    "from sympy import sqrt\n",
    "\n",
    "sympy.init_printing()"
   ]
  },
  {
   "cell_type": "code",
   "execution_count": 6,
   "id": "2fc9fb53-ce8e-41de-964f-4c8bb3693cb4",
   "metadata": {},
   "outputs": [],
   "source": [
    "#definition des états\n",
    "ket0 = Matrix([1,0])\n",
    "ket1 = Matrix([0,1])\n",
    "plus = Matrix([1/sqrt(2),1/sqrt(2)])\n",
    "minus = Matrix([1/sqrt(2),-1/sqrt(2)])"
   ]
  },
  {
   "cell_type": "code",
   "execution_count": 7,
   "id": "a9bcad44-7107-4ec6-848e-bea5a59cb0bf",
   "metadata": {},
   "outputs": [],
   "source": [
    "I=eye(2)\n",
    "notgate=Matrix([[0,1], [1,0]])\n",
    "Hgate = Matrix([[1/sqrt(2),1/sqrt(2)], [1/sqrt(2),-1/sqrt(2)]])\n",
    "Zgate=Matrix([[1,0], [0,-1]])\n",
    "\n",
    "SWAP = Matrix ([[1,0,0,0],[0,0,1,0],[0,1,0,0],[0,0,0,1]])\n",
    "cnotgate = TensorProduct(I,ket0*ket0.T) + TensorProduct(notgate, ket1*ket1.T) # second qubit is the control\n",
    "\n"
   ]
  },
  {
   "cell_type": "code",
   "execution_count": 8,
   "id": "e6a75d7d-96d6-493b-af78-eeba175a5685",
   "metadata": {},
   "outputs": [
    {
     "data": {
      "image/png": "[encoded data removed]",
      "text/latex": [
       "$\\displaystyle \\left[\\begin{matrix}1 & 0 & 0 & 0 & 0 & 0 & 0 & 0\\\\0 & 1 & 0 & 0 & 0 & 0 & 0 & 0\\\\0 & 0 & 1 & 0 & 0 & 0 & 0 & 0\\\\0 & 0 & 0 & 1 & 0 & 0 & 0 & 0\\\\0 & 0 & 0 & 0 & 1 & 0 & 0 & 0\\\\0 & 0 & 0 & 0 & 0 & 1 & 0 & 0\\\\0 & 0 & 0 & 0 & 0 & 0 & 0 & 1\\\\0 & 0 & 0 & 0 & 0 & 0 & 1 & 0\\end{matrix}\\right]$"
      ],
      "text/plain": [
       "⎡1  0  0  0  0  0  0  0⎤\n",
       "⎢                      ⎥\n",
       "⎢0  1  0  0  0  0  0  0⎥\n",
       "⎢                      ⎥\n",
       "⎢0  0  1  0  0  0  0  0⎥\n",
       "⎢                      ⎥\n",
       "⎢0  0  0  1  0  0  0  0⎥\n",
       "⎢                      ⎥\n",
       "⎢0  0  0  0  1  0  0  0⎥\n",
       "⎢                      ⎥\n",
       "⎢0  0  0  0  0  1  0  0⎥\n",
       "⎢                      ⎥\n",
       "⎢0  0  0  0  0  0  0  1⎥\n",
       "⎢                      ⎥\n",
       "⎣0  0  0  0  0  0  1  0⎦"
      ]
     },
     "execution_count": 8,
     "metadata": {},
     "output_type": "execute_result"
    }
   ],
   "source": [
    "toffoliGate = TensorProduct(ket0*ket0.T,I,I) +TensorProduct(ket1*ket1.T,TensorProduct(ket0*ket0.T,I) + TensorProduct(ket1*ket1.T,notgate))\n",
    "toffoliGate"
   ]
  },
  {
   "cell_type": "code",
   "execution_count": 70,
   "id": "e02b2e1f-0632-4deb-9da5-84f271447967",
   "metadata": {},
   "outputs": [
    {
     "data": {
      "image/png": "[encoded data removed]",
      "text/latex": [
       "$\\displaystyle \\left[\\begin{matrix}0 & 0 & 1 & 0\\\\0 & 1 & 0 & 0\\\\1 & 0 & 0 & 0\\\\0 & 0 & 0 & 1\\end{matrix}\\right]$"
      ],
      "text/plain": [
       "⎡0  0  1  0⎤\n",
       "⎢          ⎥\n",
       "⎢0  1  0  0⎥\n",
       "⎢          ⎥\n",
       "⎢1  0  0  0⎥\n",
       "⎢          ⎥\n",
       "⎣0  0  0  1⎦"
      ]
     },
     "execution_count": 70,
     "metadata": {},
     "output_type": "execute_result"
    }
   ],
   "source": [
    "tmp=TensorProduct(I,ket1*ket1.T) + TensorProduct(notgate,ket0*ket0.T)\n",
    "tmp"
   ]
  },
  {
   "cell_type": "code",
   "execution_count": 71,
   "id": "7891ad41-4e0c-4be2-bc92-04d0168c6df2",
   "metadata": {},
   "outputs": [
    {
     "data": {
      "image/png": "[encoded data removed]",
      "text/latex": [
       "$\\displaystyle \\left[\\begin{matrix}0 & 0 & 0 & 0 & 1 & 0 & 0 & 0\\\\0 & 1 & 0 & 0 & 0 & 0 & 0 & 0\\\\0 & 0 & 1 & 0 & 0 & 0 & 0 & 0\\\\0 & 0 & 0 & 1 & 0 & 0 & 0 & 0\\\\1 & 0 & 0 & 0 & 0 & 0 & 0 & 0\\\\0 & 0 & 0 & 0 & 0 & 1 & 0 & 0\\\\0 & 0 & 0 & 0 & 0 & 0 & 1 & 0\\\\0 & 0 & 0 & 0 & 0 & 0 & 0 & 1\\end{matrix}\\right]$"
      ],
      "text/plain": [
       "⎡0  0  0  0  1  0  0  0⎤\n",
       "⎢                      ⎥\n",
       "⎢0  1  0  0  0  0  0  0⎥\n",
       "⎢                      ⎥\n",
       "⎢0  0  1  0  0  0  0  0⎥\n",
       "⎢                      ⎥\n",
       "⎢0  0  0  1  0  0  0  0⎥\n",
       "⎢                      ⎥\n",
       "⎢1  0  0  0  0  0  0  0⎥\n",
       "⎢                      ⎥\n",
       "⎢0  0  0  0  0  1  0  0⎥\n",
       "⎢                      ⎥\n",
       "⎢0  0  0  0  0  0  1  0⎥\n",
       "⎢                      ⎥\n",
       "⎣0  0  0  0  0  0  0  1⎦"
      ]
     },
     "execution_count": 71,
     "metadata": {},
     "output_type": "execute_result"
    }
   ],
   "source": [
    "Uf_00=TensorProduct(I,I,ket1*ket1.T) + TensorProduct(tmp,ket0*ket0.T)\n",
    "Uf_00"
   ]
  },
  {
   "cell_type": "code",
   "execution_count": 72,
   "id": "b3ecbe22-b844-4dbb-bbb0-ac12020f20a2",
   "metadata": {},
   "outputs": [
    {
     "data": {
      "image/png": "[encoded data removed]",
      "text/latex": [
       "$\\displaystyle \\left[\\begin{matrix}1 & 0 & 0 & 0 & 0 & 0 & 0 & 0\\\\0 & 0 & 0 & 0 & 0 & 1 & 0 & 0\\\\0 & 0 & 1 & 0 & 0 & 0 & 0 & 0\\\\0 & 0 & 0 & 1 & 0 & 0 & 0 & 0\\\\0 & 0 & 0 & 0 & 1 & 0 & 0 & 0\\\\0 & 1 & 0 & 0 & 0 & 0 & 0 & 0\\\\0 & 0 & 0 & 0 & 0 & 0 & 1 & 0\\\\0 & 0 & 0 & 0 & 0 & 0 & 0 & 1\\end{matrix}\\right]$"
      ],
      "text/plain": [
       "⎡1  0  0  0  0  0  0  0⎤\n",
       "⎢                      ⎥\n",
       "⎢0  0  0  0  0  1  0  0⎥\n",
       "⎢                      ⎥\n",
       "⎢0  0  1  0  0  0  0  0⎥\n",
       "⎢                      ⎥\n",
       "⎢0  0  0  1  0  0  0  0⎥\n",
       "⎢                      ⎥\n",
       "⎢0  0  0  0  1  0  0  0⎥\n",
       "⎢                      ⎥\n",
       "⎢0  1  0  0  0  0  0  0⎥\n",
       "⎢                      ⎥\n",
       "⎢0  0  0  0  0  0  1  0⎥\n",
       "⎢                      ⎥\n",
       "⎣0  0  0  0  0  0  0  1⎦"
      ]
     },
     "execution_count": 72,
     "metadata": {},
     "output_type": "execute_result"
    }
   ],
   "source": [
    "Uf_01=TensorProduct(I,I,ket0*ket0.T) + TensorProduct(TensorProduct(I,ket1*ket1.T)+TensorProduct(notgate,ket0*ket0.T),ket1*ket1.T)\n",
    "Uf_01"
   ]
  },
  {
   "cell_type": "code",
   "execution_count": 73,
   "id": "ac8ee00d-7b5b-45c0-bfe5-1e4769d8b462",
   "metadata": {},
   "outputs": [
    {
     "data": {
      "image/png": "[encoded data removed]",
      "text/latex": [
       "$\\displaystyle \\left[\\begin{matrix}1 & 0 & 0 & 0 & 0 & 0 & 0 & 0\\\\0 & 1 & 0 & 0 & 0 & 0 & 0 & 0\\\\0 & 0 & 0 & 0 & 0 & 0 & 1 & 0\\\\0 & 0 & 0 & 1 & 0 & 0 & 0 & 0\\\\0 & 0 & 0 & 0 & 1 & 0 & 0 & 0\\\\0 & 0 & 0 & 0 & 0 & 1 & 0 & 0\\\\0 & 0 & 1 & 0 & 0 & 0 & 0 & 0\\\\0 & 0 & 0 & 0 & 0 & 0 & 0 & 1\\end{matrix}\\right]$"
      ],
      "text/plain": [
       "⎡1  0  0  0  0  0  0  0⎤\n",
       "⎢                      ⎥\n",
       "⎢0  1  0  0  0  0  0  0⎥\n",
       "⎢                      ⎥\n",
       "⎢0  0  0  0  0  0  1  0⎥\n",
       "⎢                      ⎥\n",
       "⎢0  0  0  1  0  0  0  0⎥\n",
       "⎢                      ⎥\n",
       "⎢0  0  0  0  1  0  0  0⎥\n",
       "⎢                      ⎥\n",
       "⎢0  0  0  0  0  1  0  0⎥\n",
       "⎢                      ⎥\n",
       "⎢0  0  1  0  0  0  0  0⎥\n",
       "⎢                      ⎥\n",
       "⎣0  0  0  0  0  0  0  1⎦"
      ]
     },
     "execution_count": 73,
     "metadata": {},
     "output_type": "execute_result"
    }
   ],
   "source": [
    "Uf_10=TensorProduct(I,I,ket1*ket1.T) + TensorProduct(TensorProduct(I,ket0*ket0.T)+TensorProduct(notgate,ket1*ket1.T),ket0*ket0.T)\n",
    "Uf_10"
   ]
  },
  {
   "cell_type": "code",
   "execution_count": 74,
   "id": "26d18578-f153-4ca2-a4a5-38e820bee129",
   "metadata": {},
   "outputs": [
    {
     "data": {
      "image/png": "[encoded data removed]",
      "text/latex": [
       "$\\displaystyle \\left[\\begin{matrix}1 & 0 & 0 & 0 & 0 & 0 & 0 & 0\\\\0 & 1 & 0 & 0 & 0 & 0 & 0 & 0\\\\0 & 0 & 1 & 0 & 0 & 0 & 0 & 0\\\\0 & 0 & 0 & 0 & 0 & 0 & 0 & 1\\\\0 & 0 & 0 & 0 & 1 & 0 & 0 & 0\\\\0 & 0 & 0 & 0 & 0 & 1 & 0 & 0\\\\0 & 0 & 0 & 0 & 0 & 0 & 1 & 0\\\\0 & 0 & 0 & 1 & 0 & 0 & 0 & 0\\end{matrix}\\right]$"
      ],
      "text/plain": [
       "⎡1  0  0  0  0  0  0  0⎤\n",
       "⎢                      ⎥\n",
       "⎢0  1  0  0  0  0  0  0⎥\n",
       "⎢                      ⎥\n",
       "⎢0  0  1  0  0  0  0  0⎥\n",
       "⎢                      ⎥\n",
       "⎢0  0  0  0  0  0  0  1⎥\n",
       "⎢                      ⎥\n",
       "⎢0  0  0  0  1  0  0  0⎥\n",
       "⎢                      ⎥\n",
       "⎢0  0  0  0  0  1  0  0⎥\n",
       "⎢                      ⎥\n",
       "⎢0  0  0  0  0  0  1  0⎥\n",
       "⎢                      ⎥\n",
       "⎣0  0  0  1  0  0  0  0⎦"
      ]
     },
     "execution_count": 74,
     "metadata": {},
     "output_type": "execute_result"
    }
   ],
   "source": [
    "Uf_11 = TensorProduct(I,I,ket0*ket0.T) + TensorProduct(TensorProduct(I,ket0*ket0.T)+TensorProduct(notgate,ket1*ket1.T),ket1*ket1.T)\n",
    "Uf_11"
   ]
  },
  {
   "cell_type": "code",
   "execution_count": 75,
   "id": "e5e6339e-f5c7-411f-90df-b9b72c0d1b51",
   "metadata": {},
   "outputs": [
    {
     "data": {
      "image/png": "[encoded data removed]",
      "text/latex": [
       "$\\displaystyle \\left[\\begin{matrix}\\frac{\\sqrt{2}}{4}\\\\\\frac{\\sqrt{2}}{4}\\\\\\frac{\\sqrt{2}}{4}\\\\\\frac{\\sqrt{2}}{4}\\\\- \\frac{\\sqrt{2}}{4}\\\\- \\frac{\\sqrt{2}}{4}\\\\- \\frac{\\sqrt{2}}{4}\\\\- \\frac{\\sqrt{2}}{4}\\end{matrix}\\right]$"
      ],
      "text/plain": [
       "⎡ √2 ⎤\n",
       "⎢ ── ⎥\n",
       "⎢ 4  ⎥\n",
       "⎢    ⎥\n",
       "⎢ √2 ⎥\n",
       "⎢ ── ⎥\n",
       "⎢ 4  ⎥\n",
       "⎢    ⎥\n",
       "⎢ √2 ⎥\n",
       "⎢ ── ⎥\n",
       "⎢ 4  ⎥\n",
       "⎢    ⎥\n",
       "⎢ √2 ⎥\n",
       "⎢ ── ⎥\n",
       "⎢ 4  ⎥\n",
       "⎢    ⎥\n",
       "⎢-√2 ⎥\n",
       "⎢────⎥\n",
       "⎢ 4  ⎥\n",
       "⎢    ⎥\n",
       "⎢-√2 ⎥\n",
       "⎢────⎥\n",
       "⎢ 4  ⎥\n",
       "⎢    ⎥\n",
       "⎢-√2 ⎥\n",
       "⎢────⎥\n",
       "⎢ 4  ⎥\n",
       "⎢    ⎥\n",
       "⎢-√2 ⎥\n",
       "⎢────⎥\n",
       "⎣ 4  ⎦"
      ]
     },
     "execution_count": 75,
     "metadata": {},
     "output_type": "execute_result"
    }
   ],
   "source": [
    "TensorProduct(Hgate*ket1,Hgate*ket0,Hgate*ket0)\n"
   ]
  },
  {
   "cell_type": "code",
   "execution_count": 76,
   "id": "e834920f-31e1-4db4-8e89-56f7e53d901c",
   "metadata": {},
   "outputs": [
    {
     "data": {
      "image/png": "[encoded data removed]",
      "text/latex": [
       "$\\displaystyle \\left[\\begin{matrix}\\frac{\\sqrt{2}}{4}\\\\\\frac{\\sqrt{2}}{4}\\\\- \\frac{\\sqrt{2}}{4}\\\\\\frac{\\sqrt{2}}{4}\\\\- \\frac{\\sqrt{2}}{4}\\\\- \\frac{\\sqrt{2}}{4}\\\\\\frac{\\sqrt{2}}{4}\\\\- \\frac{\\sqrt{2}}{4}\\end{matrix}\\right]$"
      ],
      "text/plain": [
       "⎡ √2 ⎤\n",
       "⎢ ── ⎥\n",
       "⎢ 4  ⎥\n",
       "⎢    ⎥\n",
       "⎢ √2 ⎥\n",
       "⎢ ── ⎥\n",
       "⎢ 4  ⎥\n",
       "⎢    ⎥\n",
       "⎢-√2 ⎥\n",
       "⎢────⎥\n",
       "⎢ 4  ⎥\n",
       "⎢    ⎥\n",
       "⎢ √2 ⎥\n",
       "⎢ ── ⎥\n",
       "⎢ 4  ⎥\n",
       "⎢    ⎥\n",
       "⎢-√2 ⎥\n",
       "⎢────⎥\n",
       "⎢ 4  ⎥\n",
       "⎢    ⎥\n",
       "⎢-√2 ⎥\n",
       "⎢────⎥\n",
       "⎢ 4  ⎥\n",
       "⎢    ⎥\n",
       "⎢ √2 ⎥\n",
       "⎢ ── ⎥\n",
       "⎢ 4  ⎥\n",
       "⎢    ⎥\n",
       "⎢-√2 ⎥\n",
       "⎢────⎥\n",
       "⎣ 4  ⎦"
      ]
     },
     "execution_count": 76,
     "metadata": {},
     "output_type": "execute_result"
    }
   ],
   "source": [
    "Uf_10*TensorProduct(Hgate*ket1,Hgate*ket0,Hgate*ket0)"
   ]
  },
  {
   "cell_type": "code",
   "execution_count": 77,
   "id": "a09eaa8b-9f03-461a-8729-3be4417cd31c",
   "metadata": {},
   "outputs": [
    {
     "data": {
      "image/png": "[encoded data removed]",
      "text/latex": [
       "$\\displaystyle \\left[\\begin{matrix}-0.5 & 0.5 & 0.5 & 0.5\\\\0.5 & -0.5 & 0.5 & 0.5\\\\0.5 & 0.5 & -0.5 & 0.5\\\\0.5 & 0.5 & 0.5 & -0.5\\end{matrix}\\right]$"
      ],
      "text/plain": [
       "⎡-0.5  0.5   0.5   0.5 ⎤\n",
       "⎢                      ⎥\n",
       "⎢0.5   -0.5  0.5   0.5 ⎥\n",
       "⎢                      ⎥\n",
       "⎢0.5   0.5   -0.5  0.5 ⎥\n",
       "⎢                      ⎥\n",
       "⎣0.5   0.5   0.5   -0.5⎦"
      ]
     },
     "execution_count": 77,
     "metadata": {},
     "output_type": "execute_result"
    }
   ],
   "source": [
    "U = (1/2)*Matrix([\n",
    "    [-1, 1, 1, 1], \n",
    "    [1, -1, 1, 1], \n",
    "    [1, 1, -1, 1], \n",
    "    [1, 1, 1, -1]\n",
    "])\n",
    "U"
   ]
  },
  {
   "cell_type": "code",
   "execution_count": 78,
   "id": "3b78197f-6c00-45ab-b001-9957728e8e70",
   "metadata": {},
   "outputs": [
    {
     "data": {
      "image/png": "[encoded data removed]",
      "text/latex": [
       "$\\displaystyle \\left[\\begin{matrix}-0.5 & 0.5 & 0.5 & 0.5 & 0 & 0 & 0 & 0\\\\0.5 & -0.5 & 0.5 & 0.5 & 0 & 0 & 0 & 0\\\\0.5 & 0.5 & -0.5 & 0.5 & 0 & 0 & 0 & 0\\\\0.5 & 0.5 & 0.5 & -0.5 & 0 & 0 & 0 & 0\\\\0 & 0 & 0 & 0 & -0.5 & 0.5 & 0.5 & 0.5\\\\0 & 0 & 0 & 0 & 0.5 & -0.5 & 0.5 & 0.5\\\\0 & 0 & 0 & 0 & 0.5 & 0.5 & -0.5 & 0.5\\\\0 & 0 & 0 & 0 & 0.5 & 0.5 & 0.5 & -0.5\\end{matrix}\\right]$"
      ],
      "text/plain": [
       "⎡-0.5  0.5   0.5   0.5    0     0     0     0  ⎤\n",
       "⎢                                              ⎥\n",
       "⎢0.5   -0.5  0.5   0.5    0     0     0     0  ⎥\n",
       "⎢                                              ⎥\n",
       "⎢0.5   0.5   -0.5  0.5    0     0     0     0  ⎥\n",
       "⎢                                              ⎥\n",
       "⎢0.5   0.5   0.5   -0.5   0     0     0     0  ⎥\n",
       "⎢                                              ⎥\n",
       "⎢ 0     0     0     0    -0.5  0.5   0.5   0.5 ⎥\n",
       "⎢                                              ⎥\n",
       "⎢ 0     0     0     0    0.5   -0.5  0.5   0.5 ⎥\n",
       "⎢                                              ⎥\n",
       "⎢ 0     0     0     0    0.5   0.5   -0.5  0.5 ⎥\n",
       "⎢                                              ⎥\n",
       "⎣ 0     0     0     0    0.5   0.5   0.5   -0.5⎦"
      ]
     },
     "execution_count": 78,
     "metadata": {},
     "output_type": "execute_result"
    }
   ],
   "source": [
    "A = TensorProduct (I, U)\n",
    "A"
   ]
  },
  {
   "cell_type": "code",
   "execution_count": 79,
   "id": "745ab8f5-be37-49d4-b924-9190dd93684b",
   "metadata": {},
   "outputs": [
    {
     "data": {
      "image/png": "[encoded data removed]",
      "text/latex": [
       "$\\displaystyle \\left[ \\left[\\begin{matrix}- 0.5 \\sqrt{2}\\\\0\\\\0\\\\0\\\\0.5 \\sqrt{2}\\\\0\\\\0\\\\0\\end{matrix}\\right], \\  \\left[\\begin{matrix}0\\\\0\\\\0.5 \\sqrt{2}\\\\0\\\\0\\\\0\\\\- 0.5 \\sqrt{2}\\\\0\\end{matrix}\\right], \\  \\left[\\begin{matrix}0\\\\0.5 \\sqrt{2}\\\\0\\\\0\\\\0\\\\- 0.5 \\sqrt{2}\\\\0\\\\0\\end{matrix}\\right], \\  \\left[\\begin{matrix}0\\\\0\\\\0\\\\0.5 \\sqrt{2}\\\\0\\\\0\\\\0\\\\- 0.5 \\sqrt{2}\\end{matrix}\\right]\\right]$"
      ],
      "text/plain": [
       "⎡⎡-0.5⋅√2⎤  ⎡   0   ⎤  ⎡   0   ⎤  ⎡   0   ⎤⎤\n",
       "⎢⎢       ⎥  ⎢       ⎥  ⎢       ⎥  ⎢       ⎥⎥\n",
       "⎢⎢   0   ⎥  ⎢   0   ⎥  ⎢0.5⋅√2 ⎥  ⎢   0   ⎥⎥\n",
       "⎢⎢       ⎥  ⎢       ⎥  ⎢       ⎥  ⎢       ⎥⎥\n",
       "⎢⎢   0   ⎥  ⎢0.5⋅√2 ⎥  ⎢   0   ⎥  ⎢   0   ⎥⎥\n",
       "⎢⎢       ⎥  ⎢       ⎥  ⎢       ⎥  ⎢       ⎥⎥\n",
       "⎢⎢   0   ⎥  ⎢   0   ⎥  ⎢   0   ⎥  ⎢0.5⋅√2 ⎥⎥\n",
       "⎢⎢       ⎥, ⎢       ⎥, ⎢       ⎥, ⎢       ⎥⎥\n",
       "⎢⎢0.5⋅√2 ⎥  ⎢   0   ⎥  ⎢   0   ⎥  ⎢   0   ⎥⎥\n",
       "⎢⎢       ⎥  ⎢       ⎥  ⎢       ⎥  ⎢       ⎥⎥\n",
       "⎢⎢   0   ⎥  ⎢   0   ⎥  ⎢-0.5⋅√2⎥  ⎢   0   ⎥⎥\n",
       "⎢⎢       ⎥  ⎢       ⎥  ⎢       ⎥  ⎢       ⎥⎥\n",
       "⎢⎢   0   ⎥  ⎢-0.5⋅√2⎥  ⎢   0   ⎥  ⎢   0   ⎥⎥\n",
       "⎢⎢       ⎥  ⎢       ⎥  ⎢       ⎥  ⎢       ⎥⎥\n",
       "⎣⎣   0   ⎦  ⎣   0   ⎦  ⎣   0   ⎦  ⎣-0.5⋅√2⎦⎦"
      ]
     },
     "execution_count": 79,
     "metadata": {},
     "output_type": "execute_result"
    }
   ],
   "source": [
    "[A*TensorProduct(I,Hgate,Hgate)*Uf_00*TensorProduct(Hgate*ket1,Hgate*ket0,Hgate*ket0),\n",
    " A*TensorProduct(I,Hgate,Hgate)*Uf_01*TensorProduct(Hgate*ket1,Hgate*ket0,Hgate*ket0),\n",
    " A*TensorProduct(I,Hgate,Hgate)*Uf_10*TensorProduct(Hgate*ket1,Hgate*ket0,Hgate*ket0),\n",
    " A*TensorProduct(I,Hgate,Hgate)*Uf_11*TensorProduct(Hgate*ket1,Hgate*ket0,Hgate*ket0),\n",
    "]\n"
   ]
  },
  {
   "cell_type": "code",
   "execution_count": 80,
   "id": "99c2ca8e-d50a-4172-ba59-453f112f06bf",
   "metadata": {},
   "outputs": [
    {
     "data": {
      "image/png": "[encoded data removed]",
      "text/latex": [
       "$\\displaystyle \\left[\\begin{matrix}\\frac{\\sqrt{2}}{4} & \\frac{\\sqrt{2}}{4} & \\frac{\\sqrt{2}}{4} & \\frac{\\sqrt{2}}{4}\\\\- \\frac{\\sqrt{2}}{4} & \\frac{\\sqrt{2}}{4} & - \\frac{\\sqrt{2}}{4} & \\frac{\\sqrt{2}}{4}\\\\- \\frac{\\sqrt{2}}{4} & - \\frac{\\sqrt{2}}{4} & \\frac{\\sqrt{2}}{4} & \\frac{\\sqrt{2}}{4}\\\\- \\frac{\\sqrt{2}}{4} & \\frac{\\sqrt{2}}{4} & \\frac{\\sqrt{2}}{4} & - \\frac{\\sqrt{2}}{4}\\\\- \\frac{\\sqrt{2}}{4} & - \\frac{\\sqrt{2}}{4} & - \\frac{\\sqrt{2}}{4} & - \\frac{\\sqrt{2}}{4}\\\\\\frac{\\sqrt{2}}{4} & - \\frac{\\sqrt{2}}{4} & \\frac{\\sqrt{2}}{4} & - \\frac{\\sqrt{2}}{4}\\\\\\frac{\\sqrt{2}}{4} & \\frac{\\sqrt{2}}{4} & - \\frac{\\sqrt{2}}{4} & - \\frac{\\sqrt{2}}{4}\\\\\\frac{\\sqrt{2}}{4} & - \\frac{\\sqrt{2}}{4} & - \\frac{\\sqrt{2}}{4} & \\frac{\\sqrt{2}}{4}\\end{matrix}\\right]$"
      ],
      "text/plain": [
       "⎡ √2    √2    √2    √2 ⎤\n",
       "⎢ ──    ──    ──    ── ⎥\n",
       "⎢ 4     4     4     4  ⎥\n",
       "⎢                      ⎥\n",
       "⎢-√2    √2   -√2    √2 ⎥\n",
       "⎢────   ──   ────   ── ⎥\n",
       "⎢ 4     4     4     4  ⎥\n",
       "⎢                      ⎥\n",
       "⎢-√2   -√2    √2    √2 ⎥\n",
       "⎢────  ────   ──    ── ⎥\n",
       "⎢ 4     4     4     4  ⎥\n",
       "⎢                      ⎥\n",
       "⎢-√2    √2    √2   -√2 ⎥\n",
       "⎢────   ──    ──   ────⎥\n",
       "⎢ 4     4     4     4  ⎥\n",
       "⎢                      ⎥\n",
       "⎢-√2   -√2   -√2   -√2 ⎥\n",
       "⎢────  ────  ────  ────⎥\n",
       "⎢ 4     4     4     4  ⎥\n",
       "⎢                      ⎥\n",
       "⎢ √2   -√2    √2   -√2 ⎥\n",
       "⎢ ──   ────   ──   ────⎥\n",
       "⎢ 4     4     4     4  ⎥\n",
       "⎢                      ⎥\n",
       "⎢ √2    √2   -√2   -√2 ⎥\n",
       "⎢ ──    ──   ────  ────⎥\n",
       "⎢ 4     4     4     4  ⎥\n",
       "⎢                      ⎥\n",
       "⎢ √2   -√2   -√2    √2 ⎥\n",
       "⎢ ──   ────  ────   ── ⎥\n",
       "⎣ 4     4     4     4  ⎦"
      ]
     },
     "execution_count": 80,
     "metadata": {},
     "output_type": "execute_result"
    }
   ],
   "source": [
    "V=Matrix([\n",
    "    Matrix([TensorProduct(I,Hgate,Hgate)*Uf_00*TensorProduct(Hgate*ket1,Hgate*ket0,Hgate*ket0)]).T,\n",
    "    Matrix([TensorProduct(I,Hgate,Hgate)*Uf_01*TensorProduct(Hgate*ket1,Hgate*ket0,Hgate*ket0)]).T,\n",
    "    Matrix([TensorProduct(I,Hgate,Hgate)*Uf_10*TensorProduct(Hgate*ket1,Hgate*ket0,Hgate*ket0)]).T,\n",
    "    Matrix([TensorProduct(I,Hgate,Hgate)*Uf_11*TensorProduct(Hgate*ket1,Hgate*ket0,Hgate*ket0)]).T,\n",
    "]).T\n",
    "V"
   ]
  },
  {
   "cell_type": "code",
   "execution_count": 81,
   "id": "e799b124-27ec-46f8-8590-8dcfa92a522a",
   "metadata": {},
   "outputs": [
    {
     "data": {
      "image/png": "[encoded data removed]",
      "text/latex": [
       "$\\displaystyle \\left[\\begin{matrix}- 0.5 \\sqrt{2} & 0 & 0 & 0\\\\0 & 0 & 0.5 \\sqrt{2} & 0\\\\0 & 0.5 \\sqrt{2} & 0 & 0\\\\0 & 0 & 0 & 0.5 \\sqrt{2}\\\\0.5 \\sqrt{2} & 0 & 0 & 0\\\\0 & 0 & - 0.5 \\sqrt{2} & 0\\\\0 & - 0.5 \\sqrt{2} & 0 & 0\\\\0 & 0 & 0 & - 0.5 \\sqrt{2}\\end{matrix}\\right]$"
      ],
      "text/plain": [
       "⎡-0.5⋅√2     0        0        0   ⎤\n",
       "⎢                                  ⎥\n",
       "⎢   0        0     0.5⋅√2      0   ⎥\n",
       "⎢                                  ⎥\n",
       "⎢   0     0.5⋅√2      0        0   ⎥\n",
       "⎢                                  ⎥\n",
       "⎢   0        0        0     0.5⋅√2 ⎥\n",
       "⎢                                  ⎥\n",
       "⎢0.5⋅√2      0        0        0   ⎥\n",
       "⎢                                  ⎥\n",
       "⎢   0        0     -0.5⋅√2     0   ⎥\n",
       "⎢                                  ⎥\n",
       "⎢   0     -0.5⋅√2     0        0   ⎥\n",
       "⎢                                  ⎥\n",
       "⎣   0        0        0     -0.5⋅√2⎦"
      ]
     },
     "execution_count": 81,
     "metadata": {},
     "output_type": "execute_result"
    }
   ],
   "source": [
    "R=Matrix([\n",
    "    Matrix([A*TensorProduct(I,Hgate,Hgate)*Uf_00*TensorProduct(Hgate*ket1,Hgate*ket0,Hgate*ket0)]).T,\n",
    "    Matrix([A*TensorProduct(I,Hgate,Hgate)*Uf_01*TensorProduct(Hgate*ket1,Hgate*ket0,Hgate*ket0)]).T,\n",
    "    Matrix([A*TensorProduct(I,Hgate,Hgate)*Uf_10*TensorProduct(Hgate*ket1,Hgate*ket0,Hgate*ket0)]).T,\n",
    "    Matrix([A*TensorProduct(I,Hgate,Hgate)*Uf_11*TensorProduct(Hgate*ket1,Hgate*ket0,Hgate*ket0)]).T,\n",
    "]).T\n",
    "R"
   ]
  },
  {
   "cell_type": "code",
   "execution_count": 82,
   "id": "a0f03080-7e76-4c7e-8967-570ea151304a",
   "metadata": {},
   "outputs": [
    {
     "data": {
      "image/png": "[encoded data removed]",
      "text/latex": [
       "$\\displaystyle \\left[\\begin{matrix}-0.25 & 0.25 & 0.25 & 0.25 & 0.25 & -0.25 & -0.25 & -0.25\\\\0.25 & -0.25 & 0.25 & 0.25 & -0.25 & 0.25 & -0.25 & -0.25\\\\0.25 & 0.25 & -0.25 & 0.25 & -0.25 & -0.25 & 0.25 & -0.25\\\\0.25 & 0.25 & 0.25 & -0.25 & -0.25 & -0.25 & -0.25 & 0.25\\\\0.25 & -0.25 & -0.25 & -0.25 & -0.25 & 0.25 & 0.25 & 0.25\\\\-0.25 & 0.25 & -0.25 & -0.25 & 0.25 & -0.25 & 0.25 & 0.25\\\\-0.25 & -0.25 & 0.25 & -0.25 & 0.25 & 0.25 & -0.25 & 0.25\\\\-0.25 & -0.25 & -0.25 & 0.25 & 0.25 & 0.25 & 0.25 & -0.25\\end{matrix}\\right]$"
      ],
      "text/plain": [
       "⎡-0.25  0.25   0.25   0.25   0.25   -0.25  -0.25  -0.25⎤\n",
       "⎢                                                      ⎥\n",
       "⎢0.25   -0.25  0.25   0.25   -0.25  0.25   -0.25  -0.25⎥\n",
       "⎢                                                      ⎥\n",
       "⎢0.25   0.25   -0.25  0.25   -0.25  -0.25  0.25   -0.25⎥\n",
       "⎢                                                      ⎥\n",
       "⎢0.25   0.25   0.25   -0.25  -0.25  -0.25  -0.25  0.25 ⎥\n",
       "⎢                                                      ⎥\n",
       "⎢0.25   -0.25  -0.25  -0.25  -0.25  0.25   0.25   0.25 ⎥\n",
       "⎢                                                      ⎥\n",
       "⎢-0.25  0.25   -0.25  -0.25  0.25   -0.25  0.25   0.25 ⎥\n",
       "⎢                                                      ⎥\n",
       "⎢-0.25  -0.25  0.25   -0.25  0.25   0.25   -0.25  0.25 ⎥\n",
       "⎢                                                      ⎥\n",
       "⎣-0.25  -0.25  -0.25  0.25   0.25   0.25   0.25   -0.25⎦"
      ]
     },
     "execution_count": 82,
     "metadata": {},
     "output_type": "execute_result"
    }
   ],
   "source": [
    "R*V.pinv()"
   ]
  },
  {
   "cell_type": "code",
   "execution_count": 83,
   "id": "07bf0806-6310-4edc-91d6-56e059f5b616",
   "metadata": {},
   "outputs": [
    {
     "data": {
      "image/png": "[encoded data removed]",
      "text/latex": [
       "$\\displaystyle \\left[\\begin{matrix}0 & 0 & 0 & 0\\\\0 & 0 & 0 & 0\\\\0 & 0 & 0 & 0\\\\0 & 0 & 0 & 0\\\\0 & 0 & 0 & 0\\\\0 & 0 & 0 & 0\\\\0 & 0 & 0 & 0\\\\0 & 0 & 0 & 0\\end{matrix}\\right]$"
      ],
      "text/plain": [
       "⎡0  0  0  0⎤\n",
       "⎢          ⎥\n",
       "⎢0  0  0  0⎥\n",
       "⎢          ⎥\n",
       "⎢0  0  0  0⎥\n",
       "⎢          ⎥\n",
       "⎢0  0  0  0⎥\n",
       "⎢          ⎥\n",
       "⎢0  0  0  0⎥\n",
       "⎢          ⎥\n",
       "⎢0  0  0  0⎥\n",
       "⎢          ⎥\n",
       "⎢0  0  0  0⎥\n",
       "⎢          ⎥\n",
       "⎣0  0  0  0⎦"
      ]
     },
     "execution_count": 83,
     "metadata": {},
     "output_type": "execute_result"
    }
   ],
   "source": [
    "A*V-R"
   ]
  },
  {
   "cell_type": "code",
   "execution_count": 84,
   "id": "0e2ce65d-3543-40a0-99ea-673246e9690f",
   "metadata": {},
   "outputs": [
    {
     "name": "stdout",
     "output_type": "stream",
     "text": [
      "Matrix([[-0.250000000000000, 0.250000000000000, 0.250000000000000, 0.250000000000000, 0.250000000000000, -0.250000000000000, -0.250000000000000, -0.250000000000000], [0.250000000000000, -0.250000000000000, 0.250000000000000, 0.250000000000000, -0.250000000000000, 0.250000000000000, -0.250000000000000, -0.250000000000000], [0.250000000000000, 0.250000000000000, -0.250000000000000, 0.250000000000000, -0.250000000000000, -0.250000000000000, 0.250000000000000, -0.250000000000000], [0.250000000000000, 0.250000000000000, 0.250000000000000, -0.250000000000000, -0.250000000000000, -0.250000000000000, -0.250000000000000, 0.250000000000000], [0.250000000000000, -0.250000000000000, -0.250000000000000, -0.250000000000000, -0.250000000000000, 0.250000000000000, 0.250000000000000, 0.250000000000000], [-0.250000000000000, 0.250000000000000, -0.250000000000000, -0.250000000000000, 0.250000000000000, -0.250000000000000, 0.250000000000000, 0.250000000000000], [-0.250000000000000, -0.250000000000000, 0.250000000000000, -0.250000000000000, 0.250000000000000, 0.250000000000000, -0.250000000000000, 0.250000000000000], [-0.250000000000000, -0.250000000000000, -0.250000000000000, 0.250000000000000, 0.250000000000000, 0.250000000000000, 0.250000000000000, -0.250000000000000]])\n"
     ]
    }
   ],
   "source": [
    "print (R*V.pinv())"
   ]
  },
  {
   "cell_type": "code",
   "execution_count": 85,
   "id": "801f41ba-9191-4934-87db-b6d7ead4804a",
   "metadata": {},
   "outputs": [
    {
     "data": {
      "image/png": "[encoded data removed]",
      "text/latex": [
       "$\\displaystyle \\left[\\begin{matrix}\\frac{\\sqrt{2}}{4}\\\\- \\frac{\\sqrt{2}}{4}\\\\- \\frac{\\sqrt{2}}{4}\\\\- \\frac{\\sqrt{2}}{4}\\\\- \\frac{\\sqrt{2}}{4}\\\\\\frac{\\sqrt{2}}{4}\\\\\\frac{\\sqrt{2}}{4}\\\\\\frac{\\sqrt{2}}{4}\\end{matrix}\\right]$"
      ],
      "text/plain": [
       "⎡ √2 ⎤\n",
       "⎢ ── ⎥\n",
       "⎢ 4  ⎥\n",
       "⎢    ⎥\n",
       "⎢-√2 ⎥\n",
       "⎢────⎥\n",
       "⎢ 4  ⎥\n",
       "⎢    ⎥\n",
       "⎢-√2 ⎥\n",
       "⎢────⎥\n",
       "⎢ 4  ⎥\n",
       "⎢    ⎥\n",
       "⎢-√2 ⎥\n",
       "⎢────⎥\n",
       "⎢ 4  ⎥\n",
       "⎢    ⎥\n",
       "⎢-√2 ⎥\n",
       "⎢────⎥\n",
       "⎢ 4  ⎥\n",
       "⎢    ⎥\n",
       "⎢ √2 ⎥\n",
       "⎢ ── ⎥\n",
       "⎢ 4  ⎥\n",
       "⎢    ⎥\n",
       "⎢ √2 ⎥\n",
       "⎢ ── ⎥\n",
       "⎢ 4  ⎥\n",
       "⎢    ⎥\n",
       "⎢ √2 ⎥\n",
       "⎢ ── ⎥\n",
       "⎣ 4  ⎦"
      ]
     },
     "execution_count": 85,
     "metadata": {},
     "output_type": "execute_result"
    }
   ],
   "source": [
    "# TensorProduct(minus, \n",
    "TensorProduct(I,Hgate,Hgate)*Uf_00*TensorProduct(Hgate*ket1,Hgate*ket0,Hgate*ket0)"
   ]
  },
  {
   "cell_type": "markdown",
   "id": "1eee7a1b-77f8-42d9-a85a-3906cfa91f66",
   "metadata": {},
   "source": [
    "# Kraus-Cirac decomposition\n"
   ]
  },
  {
   "cell_type": "markdown",
   "id": "1ac6ec49-1669-451b-8305-0d48bf43e89f",
   "metadata": {},
   "source": [
    "$$\n",
    "fd = -1\\times\\vert0\\rangle\\langle0\\vert + \\vert0\\rangle\\langle1\\vert + \\vert1\\rangle\\langle0\\vert - 1\\times \\vert1\\rangle\\langle1\\vert\n",
    "$$"
   ]
  },
  {
   "cell_type": "code",
   "execution_count": 61,
   "id": "108002f6-c812-4aa3-a835-b4164d2886d9",
   "metadata": {},
   "outputs": [
    {
     "data": {
      "image/png": "[encoded data removed]",
      "text/latex": [
       "$\\displaystyle \\left[\\begin{matrix}-1 & 1\\\\1 & -1\\end{matrix}\\right]$"
      ],
      "text/plain": [
       "⎡-1  1 ⎤\n",
       "⎢      ⎥\n",
       "⎣1   -1⎦"
      ]
     },
     "execution_count": 61,
     "metadata": {},
     "output_type": "execute_result"
    }
   ],
   "source": [
    "fd = -1*ket0*ket0.T+1*ket0*ket1.T+1*ket1*ket0.T-1*ket1*ket1.T\n",
    "fd"
   ]
  },
  {
   "cell_type": "markdown",
   "id": "65d1c529-e275-4410-ac16-38210742e6eb",
   "metadata": {},
   "source": [
    "$$\n",
    "I \\oplus fd\n",
    "$$"
   ]
  },
  {
   "cell_type": "code",
   "execution_count": 57,
   "id": "4bbc0e1b-71af-4b9b-96f8-698c30dd67aa",
   "metadata": {},
   "outputs": [
    {
     "data": {
      "image/png": "[encoded data removed]",
      "text/latex": [
       "$\\displaystyle \\left[\\begin{matrix}-1 & 1 & 0 & 0\\\\1 & -1 & 0 & 0\\\\0 & 0 & -1 & 1\\\\0 & 0 & 1 & -1\\end{matrix}\\right]$"
      ],
      "text/plain": [
       "⎡-1  1   0   0 ⎤\n",
       "⎢              ⎥\n",
       "⎢1   -1  0   0 ⎥\n",
       "⎢              ⎥\n",
       "⎢0   0   -1  1 ⎥\n",
       "⎢              ⎥\n",
       "⎣0   0   1   -1⎦"
      ]
     },
     "execution_count": 57,
     "metadata": {},
     "output_type": "execute_result"
    }
   ],
   "source": [
    "TensorProduct(I,fd)"
   ]
  },
  {
   "cell_type": "markdown",
   "id": "a878273c-59f2-4991-bfad-fefdbc666cc6",
   "metadata": {},
   "source": [
    "$$\n",
    "sd = \\vert0\\rangle\\langle0\\vert + \\vert0\\rangle\\langle1\\vert + \\vert1\\rangle\\langle0\\vert + \\vert1\\rangle\\langle1\\vert\n",
    "$$"
   ]
  },
  {
   "cell_type": "code",
   "execution_count": 58,
   "id": "5d966115-af44-4e82-b02d-238ba8860662",
   "metadata": {},
   "outputs": [
    {
     "data": {
      "image/png": "[encoded data removed]",
      "text/latex": [
       "$\\displaystyle \\left[\\begin{matrix}1 & 1\\\\1 & 1\\end{matrix}\\right]$"
      ],
      "text/plain": [
       "⎡1  1⎤\n",
       "⎢    ⎥\n",
       "⎣1  1⎦"
      ]
     },
     "execution_count": 58,
     "metadata": {},
     "output_type": "execute_result"
    }
   ],
   "source": [
    "sd = 1*ket0*ket0.T+1*ket0*ket1.T+1*ket1*ket0.T+1*ket1*ket1.T\n",
    "sd"
   ]
  },
  {
   "cell_type": "markdown",
   "id": "9b7a06cc-f1a4-497c-ad44-1f04a3f7a67e",
   "metadata": {},
   "source": [
    "$$\n",
    "NOT \\oplus sd\n",
    "$$"
   ]
  },
  {
   "cell_type": "code",
   "execution_count": 42,
   "id": "787e31bb-1f35-4822-af27-48d624ed007a",
   "metadata": {},
   "outputs": [
    {
     "data": {
      "image/png": "[encoded data removed]",
      "text/latex": [
       "$\\displaystyle \\left[\\begin{matrix}0 & 0 & 1 & 1\\\\0 & 0 & 1 & 1\\\\1 & 1 & 0 & 0\\\\1 & 1 & 0 & 0\\end{matrix}\\right]$"
      ],
      "text/plain": [
       "⎡0  0  1  1⎤\n",
       "⎢          ⎥\n",
       "⎢0  0  1  1⎥\n",
       "⎢          ⎥\n",
       "⎢1  1  0  0⎥\n",
       "⎢          ⎥\n",
       "⎣1  1  0  0⎦"
      ]
     },
     "execution_count": 42,
     "metadata": {},
     "output_type": "execute_result"
    }
   ],
   "source": [
    "TensorProduct(notgate,sd)"
   ]
  },
  {
   "cell_type": "markdown",
   "id": "78c5153a-7f35-42d5-b90a-79a2cccb4612",
   "metadata": {},
   "source": [
    "$$\n",
    "U = \\frac{1}{2}*(I \\oplus fd + NOT \\oplus sd)\n",
    "$$"
   ]
  },
  {
   "cell_type": "code",
   "execution_count": 45,
   "id": "abeac535-243c-4863-af0c-825de76678e4",
   "metadata": {},
   "outputs": [
    {
     "data": {
      "image/png": "[encoded data removed]",
      "text/latex": [
       "$\\displaystyle \\left[\\begin{matrix}-0.5 & 0.5 & 0.5 & 0.5\\\\0.5 & -0.5 & 0.5 & 0.5\\\\0.5 & 0.5 & -0.5 & 0.5\\\\0.5 & 0.5 & 0.5 & -0.5\\end{matrix}\\right]$"
      ],
      "text/plain": [
       "⎡-0.5  0.5   0.5   0.5 ⎤\n",
       "⎢                      ⎥\n",
       "⎢0.5   -0.5  0.5   0.5 ⎥\n",
       "⎢                      ⎥\n",
       "⎢0.5   0.5   -0.5  0.5 ⎥\n",
       "⎢                      ⎥\n",
       "⎣0.5   0.5   0.5   -0.5⎦"
      ]
     },
     "execution_count": 45,
     "metadata": {},
     "output_type": "execute_result"
    }
   ],
   "source": [
    "(1/2)*(TensorProduct(I,fd) + TensorProduct(notgate,sd))"
   ]
  },
  {
   "cell_type": "code",
   "execution_count": 1,
   "id": "9db66907-fd1e-4b56-82c2-54112abef99c",
   "metadata": {},
   "outputs": [],
   "source": [
    "def Controlled(U):\n",
    "    return TensorProduct(ket0*ket0.T, I) + TensorProduct(ket1*ket1.T, U)"
   ]
  },
  {
   "cell_type": "code",
   "execution_count": 10,
   "id": "a283ce32-5040-407d-9287-511ca59aa1ab",
   "metadata": {},
   "outputs": [
    {
     "data": {
      "image/png": "[encoded data removed]",
      "text/latex": [
       "$\\displaystyle \\left[\\begin{matrix}- \\frac{1}{2} & \\frac{1}{2} & \\frac{1}{2} & \\frac{1}{2}\\\\\\frac{1}{2} & - \\frac{1}{2} & \\frac{1}{2} & \\frac{1}{2}\\\\\\frac{1}{2} & \\frac{1}{2} & - \\frac{1}{2} & \\frac{1}{2}\\\\\\frac{1}{2} & \\frac{1}{2} & \\frac{1}{2} & - \\frac{1}{2}\\end{matrix}\\right]$"
      ],
      "text/plain": [
       "⎡-1/2  1/2   1/2   1/2 ⎤\n",
       "⎢                      ⎥\n",
       "⎢1/2   -1/2  1/2   1/2 ⎥\n",
       "⎢                      ⎥\n",
       "⎢1/2   1/2   -1/2  1/2 ⎥\n",
       "⎢                      ⎥\n",
       "⎣1/2   1/2   1/2   -1/2⎦"
      ]
     },
     "execution_count": 10,
     "metadata": {},
     "output_type": "execute_result"
    }
   ],
   "source": [
    "\n",
    "TensorProduct(Hgate,I)*Controlled(notgate)*TensorProduct(Hgate,I)*TensorProduct(notgate,notgate)"
   ]
  },
  {
   "cell_type": "markdown",
   "id": "14602f22-d5ef-4dae-ad3e-a6ac36f123b3",
   "metadata": {},
   "source": [
    "Et voici la [solution dans Quirk](https://algassert.com/quirk#circuit={%22cols%22:[[%22H%22,%22H%22,%22H%22],[%22~gnbm%22],[%22H%22,%22H%22],[%22H%22],[%22%E2%80%A2%22,%22X%22],[%22H%22],[%22X%22,%22X%22]],%22gates%22:[{%22id%22:%22~diut%22,%22name%22:%22F00C%22,%22circuit%22:{%22cols%22:[[%22%E2%97%A6%22,%22%E2%97%A6%22,%22X%22]]}},{%22id%22:%22~7gpq%22,%22name%22:%22F01C%22,%22circuit%22:{%22cols%22:[[%22%E2%80%A2%22,%22%E2%97%A6%22,%22X%22]]}},{%22id%22:%22~gnbm%22,%22name%22:%22F10C%22,%22circuit%22:{%22cols%22:[[%22%E2%97%A6%22,%22%E2%80%A2%22,%22X%22]]}},{%22id%22:%22~6r1f%22,%22name%22:%22F11C%22,%22circuit%22:{%22cols%22:[[%22%E2%80%A2%22,%22%E2%80%A2%22,%22X%22]]}},{%22id%22:%22~niml%22,%22name%22:%22F00M%22,%22matrix%22:%22{{0,0,0,0,1,0,0,0},{0,1,0,0,0,0,0,0},{0,0,1,0,0,0,0,0},{0,0,0,1,0,0,0,0},{1,0,0,0,0,0,0,0},{0,0,0,0,0,1,0,0},{0,0,0,0,0,0,1,0},{0,0,0,0,0,0,0,1}}%22},{%22id%22:%22~9sh2%22,%22name%22:%22F01M%22,%22matrix%22:%22{{1,0,0,0,0,0,0,0},{0,0,0,0,0,1,0,0},{0,0,1,0,0,0,0,0},{0,0,0,1,0,0,0,0},{0,0,0,0,1,0,0,0},{0,1,0,0,0,0,0,0},{0,0,0,0,0,0,1,0},{0,0,0,0,0,0,0,1}}%22},{%22id%22:%22~dogi%22,%22name%22:%22F10M%22,%22matrix%22:%22{{1,0,0,0,0,0,0,0},{0,1,0,0,0,0,0,0},{0,0,0,0,0,0,1,0},{0,0,0,1,0,0,0,0},{0,0,0,0,1,0,0,0},{0,0,0,0,0,1,0,0},{0,0,1,0,0,0,0,0},{0,0,0,0,0,0,0,1}}%22},{%22id%22:%22~viov%22,%22name%22:%22F11M%22,%22matrix%22:%22{{1,0,0,0,0,0,0,0},{0,1,0,0,0,0,0,0},{0,0,1,0,0,0,0,0},{0,0,0,0,0,0,0,1},{0,0,0,0,1,0,0,0},{0,0,0,0,0,1,0,0},{0,0,0,0,0,0,1,0},{0,0,0,1,0,0,0,0}}%22},{%22id%22:%22~5lr9%22,%22name%22:%22U%22,%22matrix%22:%22{{-%C2%BD,%C2%BD,%C2%BD,%C2%BD},{%C2%BD,-%C2%BD,%C2%BD,%C2%BD},{%C2%BD,%C2%BD,-%C2%BD,%C2%BD},{%C2%BD,%C2%BD,%C2%BD,-%C2%BD}}%22},{%22id%22:%22~rssu%22,%22name%22:%22myU%22,%22matrix%22:%22{{0.0826902,0.4760478,0.5266797,0.1419818,0.5826902,-0.0239522,0.0266797,-0.3580182},{0.1763118,-0.0221848,0.3215547,0.6830707,-0.3236882,0.4778152,-0.1784453,0.1830707},{0.1710094,-0.0559056,0.1280949,0.3350088,-0.3289906,-0.5559056,0.6280949,-0.1649912},{0.6072783,0.0188629,0.0907125,-0.0413008,0.1072783,-0.4811371,-0.4092875,0.4586992},{0.5826902,-0.0239522,0.0266797,-0.3580182,0.0826902,0.4760478,0.5266797,0.1419818},{-0.3236882,0.4778152,-0.1784453,0.1830707,0.1763118,-0.0221848,0.3215547,0.6830707},{-0.3289906,-0.5559056,0.6280949,-0.1649912,0.1710094,-0.0559056,0.1280949,0.3350088},{0.1072783,-0.4811371,-0.4092875,0.4586992,0.6072783,0.0188629,0.0907125,-0.0413008}}%22}],%22init%22:[0,0,1]})"
   ]
  },
  {
   "cell_type": "code",
   "execution_count": 67,
   "id": "cb86ea95-47ef-4e30-817d-f5548d28dfa0",
   "metadata": {},
   "outputs": [
    {
     "data": {
      "image/png": "[encoded data removed]",
      "text/latex": [
       "$\\displaystyle \\left[\\begin{matrix}\\frac{1}{2} & \\frac{1}{2} & \\frac{1}{2} & \\frac{1}{2}\\\\- \\frac{1}{2} & \\frac{1}{2} & \\frac{1}{2} & - \\frac{1}{2}\\\\\\frac{1}{2} & \\frac{1}{2} & - \\frac{1}{2} & - \\frac{1}{2}\\\\- \\frac{1}{2} & \\frac{1}{2} & - \\frac{1}{2} & \\frac{1}{2}\\end{matrix}\\right]$"
      ],
      "text/plain": [
       "⎡1/2   1/2  1/2   1/2 ⎤\n",
       "⎢                     ⎥\n",
       "⎢-1/2  1/2  1/2   -1/2⎥\n",
       "⎢                     ⎥\n",
       "⎢1/2   1/2  -1/2  -1/2⎥\n",
       "⎢                     ⎥\n",
       "⎣-1/2  1/2  -1/2  1/2 ⎦"
      ]
     },
     "execution_count": 67,
     "metadata": {},
     "output_type": "execute_result"
    }
   ],
   "source": [
    "TensorProduct(I, Zgate)*cnotgate*TensorProduct(Hgate, Hgate)"
   ]
  },
  {
   "cell_type": "code",
   "execution_count": 68,
   "id": "e040774b-6b65-4012-b2a4-803fd45dc722",
   "metadata": {},
   "outputs": [
    {
     "data": {
      "image/png": "[encoded data removed]",
      "text/latex": [
       "$\\displaystyle \\left[\\begin{matrix}1 & 0 & 0 & 0\\\\0 & -1 & 0 & 0\\\\0 & 0 & 1 & 0\\\\0 & 0 & 0 & -1\\end{matrix}\\right]$"
      ],
      "text/plain": [
       "⎡1  0   0  0 ⎤\n",
       "⎢            ⎥\n",
       "⎢0  -1  0  0 ⎥\n",
       "⎢            ⎥\n",
       "⎢0  0   1  0 ⎥\n",
       "⎢            ⎥\n",
       "⎣0  0   0  -1⎦"
      ]
     },
     "execution_count": 68,
     "metadata": {},
     "output_type": "execute_result"
    }
   ],
   "source": [
    "TensorProduct(I, Zgate)\n"
   ]
  },
  {
   "cell_type": "code",
   "execution_count": 77,
   "id": "a281f9a1-c745-4d8a-b1bd-c6da39af3213",
   "metadata": {},
   "outputs": [
    {
     "data": {
      "image/png": "[encoded data removed]",
      "text/latex": [
       "$\\displaystyle \\left[\\begin{matrix}\\frac{\\sqrt{2}}{2} & - \\frac{\\sqrt{2}}{2}\\\\- \\frac{\\sqrt{2}}{2} & - \\frac{\\sqrt{2}}{2}\\end{matrix}\\right]$"
      ],
      "text/plain": [
       "⎡ √2   -√2 ⎤\n",
       "⎢ ──   ────⎥\n",
       "⎢ 2     2  ⎥\n",
       "⎢          ⎥\n",
       "⎢-√2   -√2 ⎥\n",
       "⎢────  ────⎥\n",
       "⎣ 2     2  ⎦"
      ]
     },
     "execution_count": 77,
     "metadata": {},
     "output_type": "execute_result"
    }
   ],
   "source": [
    "Zgate*Hgate*Zgate\n"
   ]
  },
  {
   "cell_type": "code",
   "execution_count": null,
   "id": "92ae6c96-2ac7-4e48-8178-b4af7824088f",
   "metadata": {},
   "outputs": [],
   "source": []
  }
 ],
 "metadata": {
  "kernelspec": {
   "display_name": "Python 3 (ipykernel)",
   "language": "python",
   "name": "python3"
  },
  "language_info": {
   "codemirror_mode": {
    "name": "ipython",
    "version": 3
   },
   "file_extension": ".py",
   "mimetype": "text/x-python",
   "name": "python",
   "nbconvert_exporter": "python",
   "pygments_lexer": "ipython3",
   "version": "3.11.6"
  }
 },
 "nbformat": 4,
 "nbformat_minor": 5
}
