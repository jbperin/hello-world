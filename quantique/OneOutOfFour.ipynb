{
 "cells": [
  {
   "cell_type": "code",
   "execution_count": 1,
   "id": "7fe5c814-db36-4cbb-bb0a-5d11a491a237",
   "metadata": {},
   "outputs": [],
   "source": [
    "import sympy as sp\n",
    "from sympy.physics.quantum import Bra, Ket\n",
    "from sympy import Matrix\n",
    "from sympy.physics.quantum import TensorProduct\n",
    "from sympy.physics.quantum.gate import HadamardGate,CNotGate, IdentityGate\n",
    "from sympy.physics.quantum.qapply import qapply\n",
    "from sympy import eye\n",
    "\n",
    "from sympy.physics.quantum import Ket\n",
    "from sympy import sqrt\n",
    "from UnitaryFunction import buildUnitaryMatrix, format_matrice\n",
    "sp.init_printing()"
   ]
  },
  {
   "cell_type": "code",
   "execution_count": 2,
   "id": "2fc9fb53-ce8e-41de-964f-4c8bb3693cb4",
   "metadata": {},
   "outputs": [],
   "source": [
    "#definition des états\n",
    "ket0 = Matrix([1,0])\n",
    "ket1 = Matrix([0,1])\n",
    "plus = Matrix([1/sqrt(2),1/sqrt(2)])\n",
    "minus = Matrix([1/sqrt(2),-1/sqrt(2)])\n",
    "\n",
    "α = sp.Symbol(\"α\")\n",
    "β = sp.Symbol(\"β\")\n",
    "ϕ = α * ket0 + β * ket1 # Matrix([α,β])\n"
   ]
  },
  {
   "cell_type": "code",
   "execution_count": 26,
   "id": "a9bcad44-7107-4ec6-848e-bea5a59cb0bf",
   "metadata": {},
   "outputs": [],
   "source": [
    "I=sp.eye(2)\n",
    "π=sp.pi\n",
    "i=sp.I\n",
    "X=sp.Matrix([[0,1], [1,0]]) #Pauli\n",
    "σx=X\n",
    "Y=sp.Matrix([[0,-i], [i,0]])\n",
    "Z=sp.Matrix([[1,0], [0,-1]])\n",
    "\n",
    "H=sp.Matrix([[1/sp.sqrt(2),1/sp.sqrt(2)], [1/sp.sqrt(2),-1/sp.sqrt(2)]])\n",
    "\n",
    "S=sp.Matrix([[1,0], [0,-i]])\n",
    "T=sp.Matrix([[1,0], [0,sp.exp(-i*π/4)]])\n",
    "\n",
    "\n",
    "# rotation by theta around y\n",
    "def Ry(θ):\n",
    "    return sp.Matrix([[sp.cos(θ/2),sp.sin(θ/2)], [-sp.sin(θ/2),sp.cos(θ/2)]])\n",
    "\n",
    "# rotation by alpha around z\n",
    "def Rz(α):\n",
    "    return sp.Matrix([[sp.exp(i*α/2),0], [0,sp.exp(-i*α/2)]]) \n",
    "\n",
    "# Phase Shift with resepct to delta\n",
    "def Ph(δ):\n",
    "    return sp.Matrix([[sp.exp(i*δ),0], [0,sp.exp(i*δ)]]) \n",
    "\n",
    "# Operation on two Qubits\n",
    "\n",
    "SWAP = sp.Matrix ([[1,0,0,0],[0,0,1,0],[0,1,0,0],[0,0,0,1]])\n",
    "CNOT = TensorProduct(I,ket0*ket0.T) + TensorProduct(X, ket1*ket1.T) # second qubit is the control"
   ]
  },
  {
   "cell_type": "code",
   "execution_count": 27,
   "id": "e6a75d7d-96d6-493b-af78-eeba175a5685",
   "metadata": {},
   "outputs": [],
   "source": [
    "# toffoliGate = TensorProduct(ket0*ket0.T,I,I) +TensorProduct(ket1*ket1.T,TensorProduct(ket0*ket0.T,I) + TensorProduct(ket1*ket1.T,X))\n",
    "# toffoliGate"
   ]
  },
  {
   "cell_type": "code",
   "execution_count": null,
   "id": "e02b2e1f-0632-4deb-9da5-84f271447967",
   "metadata": {},
   "outputs": [],
   "source": []
  },
  {
   "cell_type": "code",
   "execution_count": 28,
   "id": "7891ad41-4e0c-4be2-bc92-04d0168c6df2",
   "metadata": {},
   "outputs": [
    {
     "name": "stdout",
     "output_type": "stream",
     "text": [
      "Uf_00 =\n",
      "0, 0, 0, 0, 1, 0, 0, 0,\n",
      "0, 1, 0, 0, 0, 0, 0, 0,\n",
      "0, 0, 1, 0, 0, 0, 0, 0,\n",
      "0, 0, 0, 1, 0, 0, 0, 0,\n",
      "1, 0, 0, 0, 0, 0, 0, 0,\n",
      "0, 0, 0, 0, 0, 1, 0, 0,\n",
      "0, 0, 0, 0, 0, 0, 1, 0,\n",
      "0, 0, 0, 0, 0, 0, 0, 1\n"
     ]
    }
   ],
   "source": [
    "# Uf_00=TensorProduct(I,I,ket1*ket1.T) + TensorProduct(tmp,ket0*ket0.T)\n",
    "def f00(a,b): \n",
    "    return not a  and not b\n",
    "Uf_00 = buildUnitaryMatrix(f00)\n",
    "print(format_matrice(Uf_00))"
   ]
  },
  {
   "cell_type": "code",
   "execution_count": null,
   "id": "c9b8852b-9b72-4832-a85c-ff8920def07c",
   "metadata": {},
   "outputs": [],
   "source": []
  },
  {
   "cell_type": "code",
   "execution_count": null,
   "id": "0cd7b303-558f-4516-aab7-0f0ee9949d42",
   "metadata": {},
   "outputs": [],
   "source": []
  },
  {
   "cell_type": "code",
   "execution_count": 32,
   "id": "b3ecbe22-b844-4dbb-bbb0-ac12020f20a2",
   "metadata": {},
   "outputs": [
    {
     "name": "stdout",
     "output_type": "stream",
     "text": [
      "Uf_01 =\n",
      "1, 0, 0, 0, 0, 0, 0, 0,\n",
      "0, 0, 0, 0, 0, 1, 0, 0,\n",
      "0, 0, 1, 0, 0, 0, 0, 0,\n",
      "0, 0, 0, 1, 0, 0, 0, 0,\n",
      "0, 0, 0, 0, 1, 0, 0, 0,\n",
      "0, 1, 0, 0, 0, 0, 0, 0,\n",
      "0, 0, 0, 0, 0, 0, 1, 0,\n",
      "0, 0, 0, 0, 0, 0, 0, 1\n"
     ]
    }
   ],
   "source": [
    "# Uf_01=TensorProduct(I,I,ket0*ket0.T) + TensorProduct(TensorProduct(I,ket1*ket1.T)+TensorProduct(X,ket0*ket0.T),ket1*ket1.T)\n",
    "def f01(a,b): \n",
    "    return not a  and b\n",
    "Uf_01 = buildUnitaryMatrix(f01)\n",
    "print(format_matrice(Uf_01))"
   ]
  },
  {
   "cell_type": "code",
   "execution_count": 33,
   "id": "ac8ee00d-7b5b-45c0-bfe5-1e4769d8b462",
   "metadata": {},
   "outputs": [
    {
     "name": "stdout",
     "output_type": "stream",
     "text": [
      "Uf_10 =\n",
      "1, 0, 0, 0, 0, 0, 0, 0,\n",
      "0, 1, 0, 0, 0, 0, 0, 0,\n",
      "0, 0, 0, 0, 0, 0, 1, 0,\n",
      "0, 0, 0, 1, 0, 0, 0, 0,\n",
      "0, 0, 0, 0, 1, 0, 0, 0,\n",
      "0, 0, 0, 0, 0, 1, 0, 0,\n",
      "0, 0, 1, 0, 0, 0, 0, 0,\n",
      "0, 0, 0, 0, 0, 0, 0, 1\n"
     ]
    }
   ],
   "source": [
    "#Uf_10=TensorProduct(I,I,ket1*ket1.T) + TensorProduct(TensorProduct(I,ket0*ket0.T)+TensorProduct(X,ket1*ket1.T),ket0*ket0.T)\n",
    "def f10(a,b): \n",
    "    return a  and not b\n",
    "Uf_10= buildUnitaryMatrix(f10)\n",
    "print(format_matrice(Uf_10))"
   ]
  },
  {
   "cell_type": "code",
   "execution_count": 35,
   "id": "26d18578-f153-4ca2-a4a5-38e820bee129",
   "metadata": {},
   "outputs": [
    {
     "name": "stdout",
     "output_type": "stream",
     "text": [
      "Uf_11 =\n",
      "1, 0, 0, 0, 0, 0, 0, 0,\n",
      "0, 1, 0, 0, 0, 0, 0, 0,\n",
      "0, 0, 1, 0, 0, 0, 0, 0,\n",
      "0, 0, 0, 0, 0, 0, 0, 1,\n",
      "0, 0, 0, 0, 1, 0, 0, 0,\n",
      "0, 0, 0, 0, 0, 1, 0, 0,\n",
      "0, 0, 0, 0, 0, 0, 1, 0,\n",
      "0, 0, 0, 1, 0, 0, 0, 0\n"
     ]
    }
   ],
   "source": [
    "# Uf_11 = TensorProduct(I,I,ket0*ket0.T) + TensorProduct(TensorProduct(I,ket0*ket0.T)+TensorProduct(X,ket1*ket1.T),ket1*ket1.T)\n",
    "def f11(a,b): \n",
    "    return a and b\n",
    "Uf_11= buildUnitaryMatrix(f11)\n",
    "print(format_matrice(Uf_11))"
   ]
  },
  {
   "cell_type": "code",
   "execution_count": 36,
   "id": "e5e6339e-f5c7-411f-90df-b9b72c0d1b51",
   "metadata": {},
   "outputs": [
    {
     "data": {
      "image/png": "[encoded data removed]",
      "text/latex": [
       "$\\displaystyle \\left[\\begin{matrix}\\frac{\\sqrt{2}}{4}\\\\\\frac{\\sqrt{2}}{4}\\\\\\frac{\\sqrt{2}}{4}\\\\\\frac{\\sqrt{2}}{4}\\\\- \\frac{\\sqrt{2}}{4}\\\\- \\frac{\\sqrt{2}}{4}\\\\- \\frac{\\sqrt{2}}{4}\\\\- \\frac{\\sqrt{2}}{4}\\end{matrix}\\right]$"
      ],
      "text/plain": [
       "⎡ √2 ⎤\n",
       "⎢ ── ⎥\n",
       "⎢ 4  ⎥\n",
       "⎢    ⎥\n",
       "⎢ √2 ⎥\n",
       "⎢ ── ⎥\n",
       "⎢ 4  ⎥\n",
       "⎢    ⎥\n",
       "⎢ √2 ⎥\n",
       "⎢ ── ⎥\n",
       "⎢ 4  ⎥\n",
       "⎢    ⎥\n",
       "⎢ √2 ⎥\n",
       "⎢ ── ⎥\n",
       "⎢ 4  ⎥\n",
       "⎢    ⎥\n",
       "⎢-√2 ⎥\n",
       "⎢────⎥\n",
       "⎢ 4  ⎥\n",
       "⎢    ⎥\n",
       "⎢-√2 ⎥\n",
       "⎢────⎥\n",
       "⎢ 4  ⎥\n",
       "⎢    ⎥\n",
       "⎢-√2 ⎥\n",
       "⎢────⎥\n",
       "⎢ 4  ⎥\n",
       "⎢    ⎥\n",
       "⎢-√2 ⎥\n",
       "⎢────⎥\n",
       "⎣ 4  ⎦"
      ]
     },
     "execution_count": 36,
     "metadata": {},
     "output_type": "execute_result"
    }
   ],
   "source": [
    "TensorProduct(H*ket1,H*ket0,H*ket0)\n"
   ]
  },
  {
   "cell_type": "code",
   "execution_count": 37,
   "id": "e834920f-31e1-4db4-8e89-56f7e53d901c",
   "metadata": {},
   "outputs": [
    {
     "data": {
      "image/png": "[encoded data removed]",
      "text/latex": [
       "$\\displaystyle \\left[\\begin{matrix}\\frac{\\sqrt{2}}{4}\\\\\\frac{\\sqrt{2}}{4}\\\\- \\frac{\\sqrt{2}}{4}\\\\\\frac{\\sqrt{2}}{4}\\\\- \\frac{\\sqrt{2}}{4}\\\\- \\frac{\\sqrt{2}}{4}\\\\\\frac{\\sqrt{2}}{4}\\\\- \\frac{\\sqrt{2}}{4}\\end{matrix}\\right]$"
      ],
      "text/plain": [
       "⎡ √2 ⎤\n",
       "⎢ ── ⎥\n",
       "⎢ 4  ⎥\n",
       "⎢    ⎥\n",
       "⎢ √2 ⎥\n",
       "⎢ ── ⎥\n",
       "⎢ 4  ⎥\n",
       "⎢    ⎥\n",
       "⎢-√2 ⎥\n",
       "⎢────⎥\n",
       "⎢ 4  ⎥\n",
       "⎢    ⎥\n",
       "⎢ √2 ⎥\n",
       "⎢ ── ⎥\n",
       "⎢ 4  ⎥\n",
       "⎢    ⎥\n",
       "⎢-√2 ⎥\n",
       "⎢────⎥\n",
       "⎢ 4  ⎥\n",
       "⎢    ⎥\n",
       "⎢-√2 ⎥\n",
       "⎢────⎥\n",
       "⎢ 4  ⎥\n",
       "⎢    ⎥\n",
       "⎢ √2 ⎥\n",
       "⎢ ── ⎥\n",
       "⎢ 4  ⎥\n",
       "⎢    ⎥\n",
       "⎢-√2 ⎥\n",
       "⎢────⎥\n",
       "⎣ 4  ⎦"
      ]
     },
     "execution_count": 37,
     "metadata": {},
     "output_type": "execute_result"
    }
   ],
   "source": [
    "Uf_10*TensorProduct(H*ket1,H*ket0,H*ket0)"
   ]
  },
  {
   "cell_type": "code",
   "execution_count": 40,
   "id": "638e436e-61b6-48c8-a20d-0e4d5410ad05",
   "metadata": {},
   "outputs": [
    {
     "data": {
      "image/png": "[encoded data removed]",
      "text/latex": [
       "$\\displaystyle \\left[\\begin{matrix}0 & 0 & 0 & 0\\\\0 & 0 & 0 & 0\\\\0 & 0 & 0 & 0\\\\0 & 0 & 0 & 0\\\\\\frac{1}{2} & \\frac{1}{2} & \\frac{1}{2} & \\frac{1}{2}\\\\- \\frac{1}{2} & \\frac{1}{2} & - \\frac{1}{2} & \\frac{1}{2}\\\\- \\frac{1}{2} & - \\frac{1}{2} & \\frac{1}{2} & \\frac{1}{2}\\\\- \\frac{1}{2} & \\frac{1}{2} & \\frac{1}{2} & - \\frac{1}{2}\\end{matrix}\\right]$"
      ],
      "text/plain": [
       "⎡ 0     0     0     0  ⎤\n",
       "⎢                      ⎥\n",
       "⎢ 0     0     0     0  ⎥\n",
       "⎢                      ⎥\n",
       "⎢ 0     0     0     0  ⎥\n",
       "⎢                      ⎥\n",
       "⎢ 0     0     0     0  ⎥\n",
       "⎢                      ⎥\n",
       "⎢1/2   1/2   1/2   1/2 ⎥\n",
       "⎢                      ⎥\n",
       "⎢-1/2  1/2   -1/2  1/2 ⎥\n",
       "⎢                      ⎥\n",
       "⎢-1/2  -1/2  1/2   1/2 ⎥\n",
       "⎢                      ⎥\n",
       "⎣-1/2  1/2   1/2   -1/2⎦"
      ]
     },
     "execution_count": 40,
     "metadata": {},
     "output_type": "execute_result"
    }
   ],
   "source": [
    "V=Matrix([\n",
    "    Matrix([TensorProduct(H,H,H)*Uf_00*TensorProduct(H*ket1,H*ket0,H*ket0)]).T,\n",
    "    Matrix([TensorProduct(H,H,H)*Uf_01*TensorProduct(H*ket1,H*ket0,H*ket0)]).T,\n",
    "    Matrix([TensorProduct(H,H,H)*Uf_10*TensorProduct(H*ket1,H*ket0,H*ket0)]).T,\n",
    "    Matrix([TensorProduct(H,H,H)*Uf_11*TensorProduct(H*ket1,H*ket0,H*ket0)]).T,\n",
    "]).T\n",
    "V"
   ]
  },
  {
   "cell_type": "code",
   "execution_count": 43,
   "id": "ed943404-48ae-4959-b8d6-09a45122f698",
   "metadata": {},
   "outputs": [
    {
     "data": {
      "image/png": "[encoded data removed]",
      "text/latex": [
       "$\\displaystyle \\left[\\begin{matrix}\\frac{1}{2} & \\frac{1}{2} & \\frac{1}{2} & \\frac{1}{2}\\\\- \\frac{1}{2} & \\frac{1}{2} & - \\frac{1}{2} & \\frac{1}{2}\\\\- \\frac{1}{2} & - \\frac{1}{2} & \\frac{1}{2} & \\frac{1}{2}\\\\- \\frac{1}{2} & \\frac{1}{2} & \\frac{1}{2} & - \\frac{1}{2}\\end{matrix}\\right]$"
      ],
      "text/plain": [
       "⎡1/2   1/2   1/2   1/2 ⎤\n",
       "⎢                      ⎥\n",
       "⎢-1/2  1/2   -1/2  1/2 ⎥\n",
       "⎢                      ⎥\n",
       "⎢-1/2  -1/2  1/2   1/2 ⎥\n",
       "⎢                      ⎥\n",
       "⎣-1/2  1/2   1/2   -1/2⎦"
      ]
     },
     "execution_count": 43,
     "metadata": {},
     "output_type": "execute_result"
    }
   ],
   "source": [
    "M=sp.Matrix([[ 1, 0, 0, 0, 1, 0, 0, 0],\n",
    "        [ 0, 1, 0, 0, 0, 1, 0, 0],\n",
    "        [ 0, 0, 1, 0, 0, 0, 1, 0],\n",
    "        [ 0, 0, 0, 1, 0, 0, 0, 1]])*V\n",
    "M"
   ]
  },
  {
   "cell_type": "code",
   "execution_count": 45,
   "id": "cf88ae91-b3ec-4302-a088-97bccca12e31",
   "metadata": {},
   "outputs": [
    {
     "name": "stdout",
     "output_type": "stream",
     "text": [
      "R =\n",
      "1/2, -1/2, -1/2, -1/2,\n",
      "1/2, 1/2, -1/2, 1/2,\n",
      "1/2, -1/2, 1/2, 1/2,\n",
      "1/2, 1/2, 1/2, -1/2\n"
     ]
    }
   ],
   "source": [
    "R=M.inv()\n",
    "print(format_matrice(R))"
   ]
  },
  {
   "cell_type": "code",
   "execution_count": 12,
   "id": "a09eaa8b-9f03-461a-8729-3be4417cd31c",
   "metadata": {},
   "outputs": [
    {
     "data": {
      "image/png": "[encoded data removed]",
      "text/latex": [
       "$\\displaystyle \\left[\\begin{matrix}-0.5 & 0.5 & 0.5 & 0.5\\\\0.5 & -0.5 & 0.5 & 0.5\\\\0.5 & 0.5 & -0.5 & 0.5\\\\0.5 & 0.5 & 0.5 & -0.5\\end{matrix}\\right]$"
      ],
      "text/plain": [
       "⎡-0.5  0.5   0.5   0.5 ⎤\n",
       "⎢                      ⎥\n",
       "⎢0.5   -0.5  0.5   0.5 ⎥\n",
       "⎢                      ⎥\n",
       "⎢0.5   0.5   -0.5  0.5 ⎥\n",
       "⎢                      ⎥\n",
       "⎣0.5   0.5   0.5   -0.5⎦"
      ]
     },
     "execution_count": 12,
     "metadata": {},
     "output_type": "execute_result"
    }
   ],
   "source": [
    "U = (1/2)*Matrix([\n",
    "    [-1, 1, 1, 1], \n",
    "    [1, -1, 1, 1], \n",
    "    [1, 1, -1, 1], \n",
    "    [1, 1, 1, -1]\n",
    "])\n",
    "U"
   ]
  },
  {
   "cell_type": "code",
   "execution_count": 13,
   "id": "3b78197f-6c00-45ab-b001-9957728e8e70",
   "metadata": {},
   "outputs": [
    {
     "data": {
      "image/png": "[encoded data removed]",
      "text/latex": [
       "$\\displaystyle \\left[\\begin{matrix}-0.5 & 0.5 & 0.5 & 0.5 & 0 & 0 & 0 & 0\\\\0.5 & -0.5 & 0.5 & 0.5 & 0 & 0 & 0 & 0\\\\0.5 & 0.5 & -0.5 & 0.5 & 0 & 0 & 0 & 0\\\\0.5 & 0.5 & 0.5 & -0.5 & 0 & 0 & 0 & 0\\\\0 & 0 & 0 & 0 & -0.5 & 0.5 & 0.5 & 0.5\\\\0 & 0 & 0 & 0 & 0.5 & -0.5 & 0.5 & 0.5\\\\0 & 0 & 0 & 0 & 0.5 & 0.5 & -0.5 & 0.5\\\\0 & 0 & 0 & 0 & 0.5 & 0.5 & 0.5 & -0.5\\end{matrix}\\right]$"
      ],
      "text/plain": [
       "⎡-0.5  0.5   0.5   0.5    0     0     0     0  ⎤\n",
       "⎢                                              ⎥\n",
       "⎢0.5   -0.5  0.5   0.5    0     0     0     0  ⎥\n",
       "⎢                                              ⎥\n",
       "⎢0.5   0.5   -0.5  0.5    0     0     0     0  ⎥\n",
       "⎢                                              ⎥\n",
       "⎢0.5   0.5   0.5   -0.5   0     0     0     0  ⎥\n",
       "⎢                                              ⎥\n",
       "⎢ 0     0     0     0    -0.5  0.5   0.5   0.5 ⎥\n",
       "⎢                                              ⎥\n",
       "⎢ 0     0     0     0    0.5   -0.5  0.5   0.5 ⎥\n",
       "⎢                                              ⎥\n",
       "⎢ 0     0     0     0    0.5   0.5   -0.5  0.5 ⎥\n",
       "⎢                                              ⎥\n",
       "⎣ 0     0     0     0    0.5   0.5   0.5   -0.5⎦"
      ]
     },
     "execution_count": 13,
     "metadata": {},
     "output_type": "execute_result"
    }
   ],
   "source": [
    "A = TensorProduct (I, U)\n",
    "A"
   ]
  },
  {
   "cell_type": "code",
   "execution_count": 14,
   "id": "745ab8f5-be37-49d4-b924-9190dd93684b",
   "metadata": {},
   "outputs": [
    {
     "data": {
      "image/png": "[encoded data removed]",
      "text/latex": [
       "$\\displaystyle \\left[ \\left[\\begin{matrix}- 0.5 \\sqrt{2}\\\\0\\\\0\\\\0\\\\0.5 \\sqrt{2}\\\\0\\\\0\\\\0\\end{matrix}\\right], \\  \\left[\\begin{matrix}0\\\\0\\\\0.5 \\sqrt{2}\\\\0\\\\0\\\\0\\\\- 0.5 \\sqrt{2}\\\\0\\end{matrix}\\right], \\  \\left[\\begin{matrix}0\\\\0.5 \\sqrt{2}\\\\0\\\\0\\\\0\\\\- 0.5 \\sqrt{2}\\\\0\\\\0\\end{matrix}\\right], \\  \\left[\\begin{matrix}0\\\\0\\\\0\\\\0.5 \\sqrt{2}\\\\0\\\\0\\\\0\\\\- 0.5 \\sqrt{2}\\end{matrix}\\right]\\right]$"
      ],
      "text/plain": [
       "⎡⎡-0.5⋅√2⎤  ⎡   0   ⎤  ⎡   0   ⎤  ⎡   0   ⎤⎤\n",
       "⎢⎢       ⎥  ⎢       ⎥  ⎢       ⎥  ⎢       ⎥⎥\n",
       "⎢⎢   0   ⎥  ⎢   0   ⎥  ⎢0.5⋅√2 ⎥  ⎢   0   ⎥⎥\n",
       "⎢⎢       ⎥  ⎢       ⎥  ⎢       ⎥  ⎢       ⎥⎥\n",
       "⎢⎢   0   ⎥  ⎢0.5⋅√2 ⎥  ⎢   0   ⎥  ⎢   0   ⎥⎥\n",
       "⎢⎢       ⎥  ⎢       ⎥  ⎢       ⎥  ⎢       ⎥⎥\n",
       "⎢⎢   0   ⎥  ⎢   0   ⎥  ⎢   0   ⎥  ⎢0.5⋅√2 ⎥⎥\n",
       "⎢⎢       ⎥, ⎢       ⎥, ⎢       ⎥, ⎢       ⎥⎥\n",
       "⎢⎢0.5⋅√2 ⎥  ⎢   0   ⎥  ⎢   0   ⎥  ⎢   0   ⎥⎥\n",
       "⎢⎢       ⎥  ⎢       ⎥  ⎢       ⎥  ⎢       ⎥⎥\n",
       "⎢⎢   0   ⎥  ⎢   0   ⎥  ⎢-0.5⋅√2⎥  ⎢   0   ⎥⎥\n",
       "⎢⎢       ⎥  ⎢       ⎥  ⎢       ⎥  ⎢       ⎥⎥\n",
       "⎢⎢   0   ⎥  ⎢-0.5⋅√2⎥  ⎢   0   ⎥  ⎢   0   ⎥⎥\n",
       "⎢⎢       ⎥  ⎢       ⎥  ⎢       ⎥  ⎢       ⎥⎥\n",
       "⎣⎣   0   ⎦  ⎣   0   ⎦  ⎣   0   ⎦  ⎣-0.5⋅√2⎦⎦"
      ]
     },
     "execution_count": 14,
     "metadata": {},
     "output_type": "execute_result"
    }
   ],
   "source": [
    "[A*TensorProduct(I,H,H)*Uf_00*TensorProduct(H*ket1,H*ket0,H*ket0),\n",
    " A*TensorProduct(I,H,H)*Uf_01*TensorProduct(H*ket1,H*ket0,H*ket0),\n",
    " A*TensorProduct(I,H,H)*Uf_10*TensorProduct(H*ket1,H*ket0,H*ket0),\n",
    " A*TensorProduct(I,H,H)*Uf_11*TensorProduct(H*ket1,H*ket0,H*ket0),\n",
    "]\n"
   ]
  },
  {
   "cell_type": "code",
   "execution_count": 15,
   "id": "99c2ca8e-d50a-4172-ba59-453f112f06bf",
   "metadata": {},
   "outputs": [
    {
     "data": {
      "image/png": "[encoded data removed]",
      "text/latex": [
       "$\\displaystyle \\left[\\begin{matrix}\\frac{\\sqrt{2}}{4} & \\frac{\\sqrt{2}}{4} & \\frac{\\sqrt{2}}{4} & \\frac{\\sqrt{2}}{4}\\\\- \\frac{\\sqrt{2}}{4} & \\frac{\\sqrt{2}}{4} & - \\frac{\\sqrt{2}}{4} & \\frac{\\sqrt{2}}{4}\\\\- \\frac{\\sqrt{2}}{4} & - \\frac{\\sqrt{2}}{4} & \\frac{\\sqrt{2}}{4} & \\frac{\\sqrt{2}}{4}\\\\- \\frac{\\sqrt{2}}{4} & \\frac{\\sqrt{2}}{4} & \\frac{\\sqrt{2}}{4} & - \\frac{\\sqrt{2}}{4}\\\\- \\frac{\\sqrt{2}}{4} & - \\frac{\\sqrt{2}}{4} & - \\frac{\\sqrt{2}}{4} & - \\frac{\\sqrt{2}}{4}\\\\\\frac{\\sqrt{2}}{4} & - \\frac{\\sqrt{2}}{4} & \\frac{\\sqrt{2}}{4} & - \\frac{\\sqrt{2}}{4}\\\\\\frac{\\sqrt{2}}{4} & \\frac{\\sqrt{2}}{4} & - \\frac{\\sqrt{2}}{4} & - \\frac{\\sqrt{2}}{4}\\\\\\frac{\\sqrt{2}}{4} & - \\frac{\\sqrt{2}}{4} & - \\frac{\\sqrt{2}}{4} & \\frac{\\sqrt{2}}{4}\\end{matrix}\\right]$"
      ],
      "text/plain": [
       "⎡ √2    √2    √2    √2 ⎤\n",
       "⎢ ──    ──    ──    ── ⎥\n",
       "⎢ 4     4     4     4  ⎥\n",
       "⎢                      ⎥\n",
       "⎢-√2    √2   -√2    √2 ⎥\n",
       "⎢────   ──   ────   ── ⎥\n",
       "⎢ 4     4     4     4  ⎥\n",
       "⎢                      ⎥\n",
       "⎢-√2   -√2    √2    √2 ⎥\n",
       "⎢────  ────   ──    ── ⎥\n",
       "⎢ 4     4     4     4  ⎥\n",
       "⎢                      ⎥\n",
       "⎢-√2    √2    √2   -√2 ⎥\n",
       "⎢────   ──    ──   ────⎥\n",
       "⎢ 4     4     4     4  ⎥\n",
       "⎢                      ⎥\n",
       "⎢-√2   -√2   -√2   -√2 ⎥\n",
       "⎢────  ────  ────  ────⎥\n",
       "⎢ 4     4     4     4  ⎥\n",
       "⎢                      ⎥\n",
       "⎢ √2   -√2    √2   -√2 ⎥\n",
       "⎢ ──   ────   ──   ────⎥\n",
       "⎢ 4     4     4     4  ⎥\n",
       "⎢                      ⎥\n",
       "⎢ √2    √2   -√2   -√2 ⎥\n",
       "⎢ ──    ──   ────  ────⎥\n",
       "⎢ 4     4     4     4  ⎥\n",
       "⎢                      ⎥\n",
       "⎢ √2   -√2   -√2    √2 ⎥\n",
       "⎢ ──   ────  ────   ── ⎥\n",
       "⎣ 4     4     4     4  ⎦"
      ]
     },
     "execution_count": 15,
     "metadata": {},
     "output_type": "execute_result"
    }
   ],
   "source": [
    "V=Matrix([\n",
    "    Matrix([TensorProduct(I,H,H)*Uf_00*TensorProduct(H*ket1,H*ket0,H*ket0)]).T,\n",
    "    Matrix([TensorProduct(I,H,H)*Uf_01*TensorProduct(H*ket1,H*ket0,H*ket0)]).T,\n",
    "    Matrix([TensorProduct(I,H,H)*Uf_10*TensorProduct(H*ket1,H*ket0,H*ket0)]).T,\n",
    "    Matrix([TensorProduct(I,H,H)*Uf_11*TensorProduct(H*ket1,H*ket0,H*ket0)]).T,\n",
    "]).T\n",
    "V"
   ]
  },
  {
   "cell_type": "code",
   "execution_count": 16,
   "id": "e799b124-27ec-46f8-8590-8dcfa92a522a",
   "metadata": {},
   "outputs": [
    {
     "data": {
      "image/png": "[encoded data removed]",
      "text/latex": [
       "$\\displaystyle \\left[\\begin{matrix}- 0.5 \\sqrt{2} & 0 & 0 & 0\\\\0 & 0 & 0.5 \\sqrt{2} & 0\\\\0 & 0.5 \\sqrt{2} & 0 & 0\\\\0 & 0 & 0 & 0.5 \\sqrt{2}\\\\0.5 \\sqrt{2} & 0 & 0 & 0\\\\0 & 0 & - 0.5 \\sqrt{2} & 0\\\\0 & - 0.5 \\sqrt{2} & 0 & 0\\\\0 & 0 & 0 & - 0.5 \\sqrt{2}\\end{matrix}\\right]$"
      ],
      "text/plain": [
       "⎡-0.5⋅√2     0        0        0   ⎤\n",
       "⎢                                  ⎥\n",
       "⎢   0        0     0.5⋅√2      0   ⎥\n",
       "⎢                                  ⎥\n",
       "⎢   0     0.5⋅√2      0        0   ⎥\n",
       "⎢                                  ⎥\n",
       "⎢   0        0        0     0.5⋅√2 ⎥\n",
       "⎢                                  ⎥\n",
       "⎢0.5⋅√2      0        0        0   ⎥\n",
       "⎢                                  ⎥\n",
       "⎢   0        0     -0.5⋅√2     0   ⎥\n",
       "⎢                                  ⎥\n",
       "⎢   0     -0.5⋅√2     0        0   ⎥\n",
       "⎢                                  ⎥\n",
       "⎣   0        0        0     -0.5⋅√2⎦"
      ]
     },
     "execution_count": 16,
     "metadata": {},
     "output_type": "execute_result"
    }
   ],
   "source": [
    "R=Matrix([\n",
    "    Matrix([A*TensorProduct(I,H,H)*Uf_00*TensorProduct(H*ket1,H*ket0,H*ket0)]).T,\n",
    "    Matrix([A*TensorProduct(I,H,H)*Uf_01*TensorProduct(H*ket1,H*ket0,H*ket0)]).T,\n",
    "    Matrix([A*TensorProduct(I,H,H)*Uf_10*TensorProduct(H*ket1,H*ket0,H*ket0)]).T,\n",
    "    Matrix([A*TensorProduct(I,H,H)*Uf_11*TensorProduct(H*ket1,H*ket0,H*ket0)]).T,\n",
    "]).T\n",
    "R"
   ]
  },
  {
   "cell_type": "code",
   "execution_count": 17,
   "id": "a0f03080-7e76-4c7e-8967-570ea151304a",
   "metadata": {},
   "outputs": [
    {
     "data": {
      "image/png": "[encoded data removed]",
      "text/latex": [
       "$\\displaystyle \\left[\\begin{matrix}-0.25 & 0.25 & 0.25 & 0.25 & 0.25 & -0.25 & -0.25 & -0.25\\\\0.25 & -0.25 & 0.25 & 0.25 & -0.25 & 0.25 & -0.25 & -0.25\\\\0.25 & 0.25 & -0.25 & 0.25 & -0.25 & -0.25 & 0.25 & -0.25\\\\0.25 & 0.25 & 0.25 & -0.25 & -0.25 & -0.25 & -0.25 & 0.25\\\\0.25 & -0.25 & -0.25 & -0.25 & -0.25 & 0.25 & 0.25 & 0.25\\\\-0.25 & 0.25 & -0.25 & -0.25 & 0.25 & -0.25 & 0.25 & 0.25\\\\-0.25 & -0.25 & 0.25 & -0.25 & 0.25 & 0.25 & -0.25 & 0.25\\\\-0.25 & -0.25 & -0.25 & 0.25 & 0.25 & 0.25 & 0.25 & -0.25\\end{matrix}\\right]$"
      ],
      "text/plain": [
       "⎡-0.25  0.25   0.25   0.25   0.25   -0.25  -0.25  -0.25⎤\n",
       "⎢                                                      ⎥\n",
       "⎢0.25   -0.25  0.25   0.25   -0.25  0.25   -0.25  -0.25⎥\n",
       "⎢                                                      ⎥\n",
       "⎢0.25   0.25   -0.25  0.25   -0.25  -0.25  0.25   -0.25⎥\n",
       "⎢                                                      ⎥\n",
       "⎢0.25   0.25   0.25   -0.25  -0.25  -0.25  -0.25  0.25 ⎥\n",
       "⎢                                                      ⎥\n",
       "⎢0.25   -0.25  -0.25  -0.25  -0.25  0.25   0.25   0.25 ⎥\n",
       "⎢                                                      ⎥\n",
       "⎢-0.25  0.25   -0.25  -0.25  0.25   -0.25  0.25   0.25 ⎥\n",
       "⎢                                                      ⎥\n",
       "⎢-0.25  -0.25  0.25   -0.25  0.25   0.25   -0.25  0.25 ⎥\n",
       "⎢                                                      ⎥\n",
       "⎣-0.25  -0.25  -0.25  0.25   0.25   0.25   0.25   -0.25⎦"
      ]
     },
     "execution_count": 17,
     "metadata": {},
     "output_type": "execute_result"
    }
   ],
   "source": [
    "R*V.pinv()"
   ]
  },
  {
   "cell_type": "code",
   "execution_count": 18,
   "id": "07bf0806-6310-4edc-91d6-56e059f5b616",
   "metadata": {},
   "outputs": [
    {
     "data": {
      "image/png": "[encoded data removed]",
      "text/latex": [
       "$\\displaystyle \\left[\\begin{matrix}0 & 0 & 0 & 0\\\\0 & 0 & 0 & 0\\\\0 & 0 & 0 & 0\\\\0 & 0 & 0 & 0\\\\0 & 0 & 0 & 0\\\\0 & 0 & 0 & 0\\\\0 & 0 & 0 & 0\\\\0 & 0 & 0 & 0\\end{matrix}\\right]$"
      ],
      "text/plain": [
       "⎡0  0  0  0⎤\n",
       "⎢          ⎥\n",
       "⎢0  0  0  0⎥\n",
       "⎢          ⎥\n",
       "⎢0  0  0  0⎥\n",
       "⎢          ⎥\n",
       "⎢0  0  0  0⎥\n",
       "⎢          ⎥\n",
       "⎢0  0  0  0⎥\n",
       "⎢          ⎥\n",
       "⎢0  0  0  0⎥\n",
       "⎢          ⎥\n",
       "⎢0  0  0  0⎥\n",
       "⎢          ⎥\n",
       "⎣0  0  0  0⎦"
      ]
     },
     "execution_count": 18,
     "metadata": {},
     "output_type": "execute_result"
    }
   ],
   "source": [
    "A*V-R"
   ]
  },
  {
   "cell_type": "code",
   "execution_count": 19,
   "id": "0e2ce65d-3543-40a0-99ea-673246e9690f",
   "metadata": {},
   "outputs": [
    {
     "name": "stdout",
     "output_type": "stream",
     "text": [
      "Matrix([[-0.250000000000000, 0.250000000000000, 0.250000000000000, 0.250000000000000, 0.250000000000000, -0.250000000000000, -0.250000000000000, -0.250000000000000], [0.250000000000000, -0.250000000000000, 0.250000000000000, 0.250000000000000, -0.250000000000000, 0.250000000000000, -0.250000000000000, -0.250000000000000], [0.250000000000000, 0.250000000000000, -0.250000000000000, 0.250000000000000, -0.250000000000000, -0.250000000000000, 0.250000000000000, -0.250000000000000], [0.250000000000000, 0.250000000000000, 0.250000000000000, -0.250000000000000, -0.250000000000000, -0.250000000000000, -0.250000000000000, 0.250000000000000], [0.250000000000000, -0.250000000000000, -0.250000000000000, -0.250000000000000, -0.250000000000000, 0.250000000000000, 0.250000000000000, 0.250000000000000], [-0.250000000000000, 0.250000000000000, -0.250000000000000, -0.250000000000000, 0.250000000000000, -0.250000000000000, 0.250000000000000, 0.250000000000000], [-0.250000000000000, -0.250000000000000, 0.250000000000000, -0.250000000000000, 0.250000000000000, 0.250000000000000, -0.250000000000000, 0.250000000000000], [-0.250000000000000, -0.250000000000000, -0.250000000000000, 0.250000000000000, 0.250000000000000, 0.250000000000000, 0.250000000000000, -0.250000000000000]])\n"
     ]
    }
   ],
   "source": [
    "print (R*V.pinv())"
   ]
  },
  {
   "cell_type": "code",
   "execution_count": 57,
   "id": "0aed8f5b-43c7-4d55-a9eb-4b35c9f2ed9f",
   "metadata": {},
   "outputs": [
    {
     "data": {
      "image/png": "[encoded data removed]",
      "text/plain": [
       "<Figure size 700x300 with 1 Axes>"
      ]
     },
     "metadata": {},
     "output_type": "display_data"
    }
   ],
   "source": [
    "from sympy.physics.quantum.circuitplot import CircuitPlot\n",
    "from sympy.physics.quantum.gate import CNOT, H, SWAP, CGate, S, T\n",
    "from sympy.physics.quantum.circuitplot import labeller\n",
    "c = CircuitPlot(SWAP(0,2)*\\\n",
    "                H(0)*\\\n",
    "                CGate((0,),S(1)) *\\\n",
    "                H(1)*\\\n",
    "                CGate((0,),T(2))*\\\n",
    "                CGate((1,),S(2))*\\\n",
    "                H(2),\n",
    "                3,\n",
    "                labels=['0', '1', '2'])"
   ]
  },
  {
   "cell_type": "code",
   "execution_count": 59,
   "id": "a07923d9-5d15-41d9-bf0f-d06e9774a388",
   "metadata": {},
   "outputs": [
    {
     "ename": "AttributeError",
     "evalue": "'list' object has no attribute 'args'",
     "output_type": "error",
     "traceback": [
      "\u001b[0;31m---------------------------------------------------------------------------\u001b[0m",
      "\u001b[0;31mAttributeError\u001b[0m                            Traceback (most recent call last)",
      "Cell \u001b[0;32mIn[59], line 13\u001b[0m\n\u001b[1;32m     10\u001b[0m gates \u001b[38;5;241m=\u001b[39m [H(i) \u001b[38;5;28;01mfor\u001b[39;00m i \u001b[38;5;129;01min\u001b[39;00m \u001b[38;5;28mrange\u001b[39m(n_qubits)]\n\u001b[1;32m     12\u001b[0m \u001b[38;5;66;03m# Affichage du circuit\u001b[39;00m\n\u001b[0;32m---> 13\u001b[0m \u001b[43mCircuitPlot\u001b[49m\u001b[43m(\u001b[49m\u001b[43mgates\u001b[49m\u001b[43m,\u001b[49m\u001b[43m \u001b[49m\u001b[43mnqubits\u001b[49m\u001b[38;5;241;43m=\u001b[39;49m\u001b[43mn_qubits\u001b[49m\u001b[43m)\u001b[49m\u001b[38;5;241m.\u001b[39mshow()\n",
      "File \u001b[0;32m/opt/conda/lib/python3.11/site-packages/sympy/physics/quantum/circuitplot.py:64\u001b[0m, in \u001b[0;36mCircuitPlot.__init__\u001b[0;34m(self, c, nqubits, **kwargs)\u001b[0m\n\u001b[1;32m     62\u001b[0m     \u001b[38;5;28;01mraise\u001b[39;00m \u001b[38;5;167;01mImportError\u001b[39;00m(\u001b[38;5;124m'\u001b[39m\u001b[38;5;124mnumpy or matplotlib not available.\u001b[39m\u001b[38;5;124m'\u001b[39m)\n\u001b[1;32m     63\u001b[0m \u001b[38;5;28mself\u001b[39m\u001b[38;5;241m.\u001b[39mcircuit \u001b[38;5;241m=\u001b[39m c\n\u001b[0;32m---> 64\u001b[0m \u001b[38;5;28mself\u001b[39m\u001b[38;5;241m.\u001b[39mngates \u001b[38;5;241m=\u001b[39m \u001b[38;5;28mlen\u001b[39m(\u001b[38;5;28;43mself\u001b[39;49m\u001b[38;5;241;43m.\u001b[39;49m\u001b[43mcircuit\u001b[49m\u001b[38;5;241;43m.\u001b[39;49m\u001b[43margs\u001b[49m)\n\u001b[1;32m     65\u001b[0m \u001b[38;5;28mself\u001b[39m\u001b[38;5;241m.\u001b[39mnqubits \u001b[38;5;241m=\u001b[39m nqubits\n\u001b[1;32m     66\u001b[0m \u001b[38;5;28mself\u001b[39m\u001b[38;5;241m.\u001b[39mupdate(kwargs)\n",
      "\u001b[0;31mAttributeError\u001b[0m: 'list' object has no attribute 'args'"
     ]
    }
   ],
   "source": [
    "from sympy.physics.quantum import qapply, Dagger\n",
    "from sympy.physics.quantum.qubit import Qubit\n",
    "from sympy.physics.quantum.gate import H\n",
    "from sympy.physics.quantum.circuitplot import CircuitPlot\n",
    "\n",
    "# Définition du nombre de qubits\n",
    "n_qubits = 3  # Vous pouvez ajuster ce nombre\n",
    "\n",
    "# Création du circuit avec des portes de Hadamard en parallèle\n",
    "gates = [H(i) for i in range(n_qubits)]\n",
    "\n",
    "# Affichage du circuit\n",
    "CircuitPlot(gates, nqubits=n_qubits).show()"
   ]
  },
  {
   "cell_type": "code",
   "execution_count": 20,
   "id": "801f41ba-9191-4934-87db-b6d7ead4804a",
   "metadata": {},
   "outputs": [
    {
     "data": {
      "image/png": "[encoded data removed]",
      "text/latex": [
       "$\\displaystyle \\left[\\begin{matrix}\\frac{\\sqrt{2}}{4}\\\\- \\frac{\\sqrt{2}}{4}\\\\- \\frac{\\sqrt{2}}{4}\\\\- \\frac{\\sqrt{2}}{4}\\\\- \\frac{\\sqrt{2}}{4}\\\\\\frac{\\sqrt{2}}{4}\\\\\\frac{\\sqrt{2}}{4}\\\\\\frac{\\sqrt{2}}{4}\\end{matrix}\\right]$"
      ],
      "text/plain": [
       "⎡ √2 ⎤\n",
       "⎢ ── ⎥\n",
       "⎢ 4  ⎥\n",
       "⎢    ⎥\n",
       "⎢-√2 ⎥\n",
       "⎢────⎥\n",
       "⎢ 4  ⎥\n",
       "⎢    ⎥\n",
       "⎢-√2 ⎥\n",
       "⎢────⎥\n",
       "⎢ 4  ⎥\n",
       "⎢    ⎥\n",
       "⎢-√2 ⎥\n",
       "⎢────⎥\n",
       "⎢ 4  ⎥\n",
       "⎢    ⎥\n",
       "⎢-√2 ⎥\n",
       "⎢────⎥\n",
       "⎢ 4  ⎥\n",
       "⎢    ⎥\n",
       "⎢ √2 ⎥\n",
       "⎢ ── ⎥\n",
       "⎢ 4  ⎥\n",
       "⎢    ⎥\n",
       "⎢ √2 ⎥\n",
       "⎢ ── ⎥\n",
       "⎢ 4  ⎥\n",
       "⎢    ⎥\n",
       "⎢ √2 ⎥\n",
       "⎢ ── ⎥\n",
       "⎣ 4  ⎦"
      ]
     },
     "execution_count": 20,
     "metadata": {},
     "output_type": "execute_result"
    }
   ],
   "source": [
    "# TensorProduct(minus, \n",
    "TensorProduct(I,H,H)*Uf_00*TensorProduct(H*ket1,H*ket0,H*ket0)"
   ]
  },
  {
   "cell_type": "markdown",
   "id": "1eee7a1b-77f8-42d9-a85a-3906cfa91f66",
   "metadata": {},
   "source": [
    "# Kraus-Cirac decomposition\n"
   ]
  },
  {
   "cell_type": "markdown",
   "id": "1ac6ec49-1669-451b-8305-0d48bf43e89f",
   "metadata": {},
   "source": [
    "$$\n",
    "fd = -1\\times\\vert0\\rangle\\langle0\\vert + \\vert0\\rangle\\langle1\\vert + \\vert1\\rangle\\langle0\\vert - 1\\times \\vert1\\rangle\\langle1\\vert\n",
    "$$"
   ]
  },
  {
   "cell_type": "code",
   "execution_count": 21,
   "id": "108002f6-c812-4aa3-a835-b4164d2886d9",
   "metadata": {},
   "outputs": [
    {
     "data": {
      "image/png": "[encoded data removed]",
      "text/latex": [
       "$\\displaystyle \\left[\\begin{matrix}-1 & 1\\\\1 & -1\\end{matrix}\\right]$"
      ],
      "text/plain": [
       "⎡-1  1 ⎤\n",
       "⎢      ⎥\n",
       "⎣1   -1⎦"
      ]
     },
     "execution_count": 21,
     "metadata": {},
     "output_type": "execute_result"
    }
   ],
   "source": [
    "fd = -1*ket0*ket0.T+1*ket0*ket1.T+1*ket1*ket0.T-1*ket1*ket1.T\n",
    "fd"
   ]
  },
  {
   "cell_type": "markdown",
   "id": "65d1c529-e275-4410-ac16-38210742e6eb",
   "metadata": {},
   "source": [
    "$$\n",
    "I \\oplus fd\n",
    "$$"
   ]
  },
  {
   "cell_type": "code",
   "execution_count": 22,
   "id": "4bbc0e1b-71af-4b9b-96f8-698c30dd67aa",
   "metadata": {},
   "outputs": [
    {
     "data": {
      "image/png": "[encoded data removed]",
      "text/latex": [
       "$\\displaystyle \\left[\\begin{matrix}-1 & 1 & 0 & 0\\\\1 & -1 & 0 & 0\\\\0 & 0 & -1 & 1\\\\0 & 0 & 1 & -1\\end{matrix}\\right]$"
      ],
      "text/plain": [
       "⎡-1  1   0   0 ⎤\n",
       "⎢              ⎥\n",
       "⎢1   -1  0   0 ⎥\n",
       "⎢              ⎥\n",
       "⎢0   0   -1  1 ⎥\n",
       "⎢              ⎥\n",
       "⎣0   0   1   -1⎦"
      ]
     },
     "execution_count": 22,
     "metadata": {},
     "output_type": "execute_result"
    }
   ],
   "source": [
    "TensorProduct(I,fd)"
   ]
  },
  {
   "cell_type": "markdown",
   "id": "a878273c-59f2-4991-bfad-fefdbc666cc6",
   "metadata": {},
   "source": [
    "$$\n",
    "sd = \\vert0\\rangle\\langle0\\vert + \\vert0\\rangle\\langle1\\vert + \\vert1\\rangle\\langle0\\vert + \\vert1\\rangle\\langle1\\vert\n",
    "$$"
   ]
  },
  {
   "cell_type": "code",
   "execution_count": 23,
   "id": "5d966115-af44-4e82-b02d-238ba8860662",
   "metadata": {},
   "outputs": [
    {
     "data": {
      "image/png": "[encoded data removed]",
      "text/latex": [
       "$\\displaystyle \\left[\\begin{matrix}1 & 1\\\\1 & 1\\end{matrix}\\right]$"
      ],
      "text/plain": [
       "⎡1  1⎤\n",
       "⎢    ⎥\n",
       "⎣1  1⎦"
      ]
     },
     "execution_count": 23,
     "metadata": {},
     "output_type": "execute_result"
    }
   ],
   "source": [
    "sd = 1*ket0*ket0.T+1*ket0*ket1.T+1*ket1*ket0.T+1*ket1*ket1.T\n",
    "sd"
   ]
  },
  {
   "cell_type": "markdown",
   "id": "9b7a06cc-f1a4-497c-ad44-1f04a3f7a67e",
   "metadata": {},
   "source": [
    "$$\n",
    "NOT \\oplus sd\n",
    "$$"
   ]
  },
  {
   "cell_type": "code",
   "execution_count": 24,
   "id": "787e31bb-1f35-4822-af27-48d624ed007a",
   "metadata": {},
   "outputs": [
    {
     "data": {
      "image/png": "[encoded data removed]",
      "text/latex": [
       "$\\displaystyle \\left[\\begin{matrix}0 & 0 & 1 & 1\\\\0 & 0 & 1 & 1\\\\1 & 1 & 0 & 0\\\\1 & 1 & 0 & 0\\end{matrix}\\right]$"
      ],
      "text/plain": [
       "⎡0  0  1  1⎤\n",
       "⎢          ⎥\n",
       "⎢0  0  1  1⎥\n",
       "⎢          ⎥\n",
       "⎢1  1  0  0⎥\n",
       "⎢          ⎥\n",
       "⎣1  1  0  0⎦"
      ]
     },
     "execution_count": 24,
     "metadata": {},
     "output_type": "execute_result"
    }
   ],
   "source": [
    "TensorProduct(X,sd)"
   ]
  },
  {
   "cell_type": "markdown",
   "id": "78c5153a-7f35-42d5-b90a-79a2cccb4612",
   "metadata": {},
   "source": [
    "$$\n",
    "U = \\frac{1}{2}*(I \\oplus fd + NOT \\oplus sd)\n",
    "$$"
   ]
  },
  {
   "cell_type": "code",
   "execution_count": 25,
   "id": "abeac535-243c-4863-af0c-825de76678e4",
   "metadata": {},
   "outputs": [
    {
     "data": {
      "image/png": "[encoded data removed]",
      "text/latex": [
       "$\\displaystyle \\left[\\begin{matrix}-0.5 & 0.5 & 0.5 & 0.5\\\\0.5 & -0.5 & 0.5 & 0.5\\\\0.5 & 0.5 & -0.5 & 0.5\\\\0.5 & 0.5 & 0.5 & -0.5\\end{matrix}\\right]$"
      ],
      "text/plain": [
       "⎡-0.5  0.5   0.5   0.5 ⎤\n",
       "⎢                      ⎥\n",
       "⎢0.5   -0.5  0.5   0.5 ⎥\n",
       "⎢                      ⎥\n",
       "⎢0.5   0.5   -0.5  0.5 ⎥\n",
       "⎢                      ⎥\n",
       "⎣0.5   0.5   0.5   -0.5⎦"
      ]
     },
     "execution_count": 25,
     "metadata": {},
     "output_type": "execute_result"
    }
   ],
   "source": [
    "(1/2)*(TensorProduct(I,fd) + TensorProduct(X,sd))"
   ]
  },
  {
   "cell_type": "code",
   "execution_count": 26,
   "id": "9db66907-fd1e-4b56-82c2-54112abef99c",
   "metadata": {},
   "outputs": [],
   "source": [
    "def Controlled(U):\n",
    "    return TensorProduct(ket0*ket0.T, I) + TensorProduct(ket1*ket1.T, U)"
   ]
  },
  {
   "cell_type": "code",
   "execution_count": 27,
   "id": "a283ce32-5040-407d-9287-511ca59aa1ab",
   "metadata": {},
   "outputs": [
    {
     "data": {
      "image/png": "[encoded data removed]",
      "text/latex": [
       "$\\displaystyle \\left[\\begin{matrix}- \\frac{1}{2} & \\frac{1}{2} & \\frac{1}{2} & \\frac{1}{2}\\\\\\frac{1}{2} & - \\frac{1}{2} & \\frac{1}{2} & \\frac{1}{2}\\\\\\frac{1}{2} & \\frac{1}{2} & - \\frac{1}{2} & \\frac{1}{2}\\\\\\frac{1}{2} & \\frac{1}{2} & \\frac{1}{2} & - \\frac{1}{2}\\end{matrix}\\right]$"
      ],
      "text/plain": [
       "⎡-1/2  1/2   1/2   1/2 ⎤\n",
       "⎢                      ⎥\n",
       "⎢1/2   -1/2  1/2   1/2 ⎥\n",
       "⎢                      ⎥\n",
       "⎢1/2   1/2   -1/2  1/2 ⎥\n",
       "⎢                      ⎥\n",
       "⎣1/2   1/2   1/2   -1/2⎦"
      ]
     },
     "execution_count": 27,
     "metadata": {},
     "output_type": "execute_result"
    }
   ],
   "source": [
    "\n",
    "TensorProduct(H,I)*Controlled(X)*TensorProduct(H,I)*TensorProduct(X,X)"
   ]
  },
  {
   "cell_type": "markdown",
   "id": "14602f22-d5ef-4dae-ad3e-a6ac36f123b3",
   "metadata": {},
   "source": [
    "Et voici la [solution dans Quirk](https://algassert.com/quirk#circuit={%22cols%22:[[%22H%22,%22H%22,%22H%22],[%22~gnbm%22],[%22H%22,%22H%22],[%22H%22],[%22%E2%80%A2%22,%22X%22],[%22H%22],[%22X%22,%22X%22]],%22gates%22:[{%22id%22:%22~diut%22,%22name%22:%22F00C%22,%22circuit%22:{%22cols%22:[[%22%E2%97%A6%22,%22%E2%97%A6%22,%22X%22]]}},{%22id%22:%22~7gpq%22,%22name%22:%22F01C%22,%22circuit%22:{%22cols%22:[[%22%E2%80%A2%22,%22%E2%97%A6%22,%22X%22]]}},{%22id%22:%22~gnbm%22,%22name%22:%22F10C%22,%22circuit%22:{%22cols%22:[[%22%E2%97%A6%22,%22%E2%80%A2%22,%22X%22]]}},{%22id%22:%22~6r1f%22,%22name%22:%22F11C%22,%22circuit%22:{%22cols%22:[[%22%E2%80%A2%22,%22%E2%80%A2%22,%22X%22]]}},{%22id%22:%22~niml%22,%22name%22:%22F00M%22,%22matrix%22:%22{{0,0,0,0,1,0,0,0},{0,1,0,0,0,0,0,0},{0,0,1,0,0,0,0,0},{0,0,0,1,0,0,0,0},{1,0,0,0,0,0,0,0},{0,0,0,0,0,1,0,0},{0,0,0,0,0,0,1,0},{0,0,0,0,0,0,0,1}}%22},{%22id%22:%22~9sh2%22,%22name%22:%22F01M%22,%22matrix%22:%22{{1,0,0,0,0,0,0,0},{0,0,0,0,0,1,0,0},{0,0,1,0,0,0,0,0},{0,0,0,1,0,0,0,0},{0,0,0,0,1,0,0,0},{0,1,0,0,0,0,0,0},{0,0,0,0,0,0,1,0},{0,0,0,0,0,0,0,1}}%22},{%22id%22:%22~dogi%22,%22name%22:%22F10M%22,%22matrix%22:%22{{1,0,0,0,0,0,0,0},{0,1,0,0,0,0,0,0},{0,0,0,0,0,0,1,0},{0,0,0,1,0,0,0,0},{0,0,0,0,1,0,0,0},{0,0,0,0,0,1,0,0},{0,0,1,0,0,0,0,0},{0,0,0,0,0,0,0,1}}%22},{%22id%22:%22~viov%22,%22name%22:%22F11M%22,%22matrix%22:%22{{1,0,0,0,0,0,0,0},{0,1,0,0,0,0,0,0},{0,0,1,0,0,0,0,0},{0,0,0,0,0,0,0,1},{0,0,0,0,1,0,0,0},{0,0,0,0,0,1,0,0},{0,0,0,0,0,0,1,0},{0,0,0,1,0,0,0,0}}%22},{%22id%22:%22~5lr9%22,%22name%22:%22U%22,%22matrix%22:%22{{-%C2%BD,%C2%BD,%C2%BD,%C2%BD},{%C2%BD,-%C2%BD,%C2%BD,%C2%BD},{%C2%BD,%C2%BD,-%C2%BD,%C2%BD},{%C2%BD,%C2%BD,%C2%BD,-%C2%BD}}%22},{%22id%22:%22~rssu%22,%22name%22:%22myU%22,%22matrix%22:%22{{0.0826902,0.4760478,0.5266797,0.1419818,0.5826902,-0.0239522,0.0266797,-0.3580182},{0.1763118,-0.0221848,0.3215547,0.6830707,-0.3236882,0.4778152,-0.1784453,0.1830707},{0.1710094,-0.0559056,0.1280949,0.3350088,-0.3289906,-0.5559056,0.6280949,-0.1649912},{0.6072783,0.0188629,0.0907125,-0.0413008,0.1072783,-0.4811371,-0.4092875,0.4586992},{0.5826902,-0.0239522,0.0266797,-0.3580182,0.0826902,0.4760478,0.5266797,0.1419818},{-0.3236882,0.4778152,-0.1784453,0.1830707,0.1763118,-0.0221848,0.3215547,0.6830707},{-0.3289906,-0.5559056,0.6280949,-0.1649912,0.1710094,-0.0559056,0.1280949,0.3350088},{0.1072783,-0.4811371,-0.4092875,0.4586992,0.6072783,0.0188629,0.0907125,-0.0413008}}%22}],%22init%22:[0,0,1]})"
   ]
  },
  {
   "cell_type": "code",
   "execution_count": 28,
   "id": "cb86ea95-47ef-4e30-817d-f5548d28dfa0",
   "metadata": {},
   "outputs": [],
   "source": [
    "α1 = sp.Symbol(\"α1\", complex=True)\n",
    "β1 = sp.Symbol(\"β1\", complex=True)\n",
    "ϕ1 = α1 * ket0 + β1 * ket1 # Matrix([α,β])\n",
    "\n",
    "α2 = sp.Symbol(\"α2\", complex=True)\n",
    "β2 = sp.Symbol(\"β2\", complex=True)\n",
    "ϕ2 = α2 * ket0 + β2 * ket1 # Matrix([α,β])\n",
    "\n",
    "α3 = sp.Symbol(\"α3\", complex=True)\n",
    "β3 = sp.Symbol(\"β3\", complex=True)\n",
    "ϕ3 = α3 * ket0 + β3 * ket1 # Matrix([α,β])\n"
   ]
  },
  {
   "cell_type": "code",
   "execution_count": 29,
   "id": "e040774b-6b65-4012-b2a4-803fd45dc722",
   "metadata": {},
   "outputs": [
    {
     "data": {
      "text/latex": [
       "$\\displaystyle \\left[\\begin{matrix}\\frac{\\sqrt{2} \\cdot \\left(2 α_{1} α_{2} α_{3} + α_{2} α_{3} β_{1} + α_{2} β_{1} β_{3} - α_{3} β_{1} β_{2} + β_{1} β_{2} β_{3}\\right)}{4}\\\\\\frac{\\sqrt{2} \\cdot \\left(2 α_{1} α_{2} β_{3} + α_{2} α_{3} β_{1} + α_{2} β_{1} β_{3} + α_{3} β_{1} β_{2} - β_{1} β_{2} β_{3}\\right)}{4}\\\\\\frac{\\sqrt{2} \\cdot \\left(2 α_{1} α_{3} β_{2} - α_{2} α_{3} β_{1} + α_{2} β_{1} β_{3} + α_{3} β_{1} β_{2} + β_{1} β_{2} β_{3}\\right)}{4}\\\\\\frac{\\sqrt{2} \\cdot \\left(2 α_{1} β_{2} β_{3} + α_{2} α_{3} β_{1} - α_{2} β_{1} β_{3} + α_{3} β_{1} β_{2} + β_{1} β_{2} β_{3}\\right)}{4}\\\\\\frac{\\sqrt{2} \\cdot \\left(2 α_{1} α_{2} α_{3} - α_{2} α_{3} β_{1} - α_{2} β_{1} β_{3} + α_{3} β_{1} β_{2} - β_{1} β_{2} β_{3}\\right)}{4}\\\\\\frac{\\sqrt{2} \\cdot \\left(2 α_{1} α_{2} β_{3} - α_{2} α_{3} β_{1} - α_{2} β_{1} β_{3} - α_{3} β_{1} β_{2} + β_{1} β_{2} β_{3}\\right)}{4}\\\\\\frac{\\sqrt{2} \\cdot \\left(2 α_{1} α_{3} β_{2} + α_{2} α_{3} β_{1} - α_{2} β_{1} β_{3} - α_{3} β_{1} β_{2} - β_{1} β_{2} β_{3}\\right)}{4}\\\\\\frac{\\sqrt{2} \\cdot \\left(2 α_{1} β_{2} β_{3} - α_{2} α_{3} β_{1} + α_{2} β_{1} β_{3} - α_{3} β_{1} β_{2} - β_{1} β_{2} β_{3}\\right)}{4}\\end{matrix}\\right]$"
      ],
      "text/plain": [
       "⎡√2⋅(2⋅α₁⋅α₂⋅α₃ + α₂⋅α₃⋅β₁ + α₂⋅β₁⋅β₃ - α₃⋅β₁⋅β₂ + β₁⋅β₂⋅β₃)⎤\n",
       "⎢───────────────────────────────────────────────────────────⎥\n",
       "⎢                             4                             ⎥\n",
       "⎢                                                           ⎥\n",
       "⎢√2⋅(2⋅α₁⋅α₂⋅β₃ + α₂⋅α₃⋅β₁ + α₂⋅β₁⋅β₃ + α₃⋅β₁⋅β₂ - β₁⋅β₂⋅β₃)⎥\n",
       "⎢───────────────────────────────────────────────────────────⎥\n",
       "⎢                             4                             ⎥\n",
       "⎢                                                           ⎥\n",
       "⎢√2⋅(2⋅α₁⋅α₃⋅β₂ - α₂⋅α₃⋅β₁ + α₂⋅β₁⋅β₃ + α₃⋅β₁⋅β₂ + β₁⋅β₂⋅β₃)⎥\n",
       "⎢───────────────────────────────────────────────────────────⎥\n",
       "⎢                             4                             ⎥\n",
       "⎢                                                           ⎥\n",
       "⎢√2⋅(2⋅α₁⋅β₂⋅β₃ + α₂⋅α₃⋅β₁ - α₂⋅β₁⋅β₃ + α₃⋅β₁⋅β₂ + β₁⋅β₂⋅β₃)⎥\n",
       "⎢───────────────────────────────────────────────────────────⎥\n",
       "⎢                             4                             ⎥\n",
       "⎢                                                           ⎥\n",
       "⎢√2⋅(2⋅α₁⋅α₂⋅α₃ - α₂⋅α₃⋅β₁ - α₂⋅β₁⋅β₃ + α₃⋅β₁⋅β₂ - β₁⋅β₂⋅β₃)⎥\n",
       "⎢───────────────────────────────────────────────────────────⎥\n",
       "⎢                             4                             ⎥\n",
       "⎢                                                           ⎥\n",
       "⎢√2⋅(2⋅α₁⋅α₂⋅β₃ - α₂⋅α₃⋅β₁ - α₂⋅β₁⋅β₃ - α₃⋅β₁⋅β₂ + β₁⋅β₂⋅β₃)⎥\n",
       "⎢───────────────────────────────────────────────────────────⎥\n",
       "⎢                             4                             ⎥\n",
       "⎢                                                           ⎥\n",
       "⎢√2⋅(2⋅α₁⋅α₃⋅β₂ + α₂⋅α₃⋅β₁ - α₂⋅β₁⋅β₃ - α₃⋅β₁⋅β₂ - β₁⋅β₂⋅β₃)⎥\n",
       "⎢───────────────────────────────────────────────────────────⎥\n",
       "⎢                             4                             ⎥\n",
       "⎢                                                           ⎥\n",
       "⎢√2⋅(2⋅α₁⋅β₂⋅β₃ - α₂⋅α₃⋅β₁ + α₂⋅β₁⋅β₃ - α₃⋅β₁⋅β₂ - β₁⋅β₂⋅β₃)⎥\n",
       "⎢───────────────────────────────────────────────────────────⎥\n",
       "⎣                             4                             ⎦"
      ]
     },
     "execution_count": 29,
     "metadata": {},
     "output_type": "execute_result"
    }
   ],
   "source": [
    "\n",
    "sp.simplify(TensorProduct(I,H,H)*Uf_01*TensorProduct(H,H,H)*TensorProduct(ϕ1, ϕ2, ϕ3))"
   ]
  },
  {
   "cell_type": "code",
   "execution_count": 30,
   "id": "948314f3-aea2-463c-badb-47d628383438",
   "metadata": {},
   "outputs": [
    {
     "data": {
      "image/png": "[encoded data removed]",
      "text/latex": [
       "$\\displaystyle \\left[\\begin{matrix}\\frac{1}{2}\\\\\\frac{1}{2}\\\\\\frac{1}{2}\\\\- \\frac{1}{2}\\end{matrix}\\right]$"
      ],
      "text/plain": [
       "⎡1/2 ⎤\n",
       "⎢    ⎥\n",
       "⎢1/2 ⎥\n",
       "⎢    ⎥\n",
       "⎢1/2 ⎥\n",
       "⎢    ⎥\n",
       "⎣-1/2⎦"
      ]
     },
     "execution_count": 30,
     "metadata": {},
     "output_type": "execute_result"
    }
   ],
   "source": [
    "sp.Matrix([[ 1, 0, 0, 0, 1, 0, 0, 0],\n",
    "        [ 0, 1, 0, 0, 0, 1, 0, 0],\n",
    "        [ 0, 0, 1, 0, 0, 0, 1, 0],\n",
    "        [ 0, 0, 0, 1, 0, 0, 0, 1]])*TensorProduct(H,H,H)*Uf_11*TensorProduct(H,H,H)*TensorProduct(ket1, ket0, ket0)"
   ]
  },
  {
   "cell_type": "code",
   "execution_count": 31,
   "id": "1fab2995-8e8b-4c7a-8418-6c69a8c483cb",
   "metadata": {},
   "outputs": [],
   "source": [
    "def buildUinput(Uf):\n",
    "    return sp.Matrix([[ 1, 0, 0, 0, 1, 0, 0, 0],\n",
    "        [ 0, 1, 0, 0, 0, 1, 0, 0],\n",
    "        [ 0, 0, 1, 0, 0, 0, 1, 0],\n",
    "        [ 0, 0, 0, 1, 0, 0, 0, 1]])*TensorProduct(H,H,H)*Uf*TensorProduct(H,H,H)*TensorProduct(ket1, ket0, ket0)\n",
    "    "
   ]
  },
  {
   "cell_type": "code",
   "execution_count": 32,
   "id": "a281f9a1-c745-4d8a-b1bd-c6da39af3213",
   "metadata": {},
   "outputs": [
    {
     "data": {
      "image/png": "[encoded data removed]",
      "text/latex": [
       "$\\displaystyle \\left[\\begin{matrix}\\frac{1}{2}\\\\\\frac{1}{2}\\\\\\frac{1}{2}\\\\- \\frac{1}{2}\\end{matrix}\\right]$"
      ],
      "text/plain": [
       "⎡1/2 ⎤\n",
       "⎢    ⎥\n",
       "⎢1/2 ⎥\n",
       "⎢    ⎥\n",
       "⎢1/2 ⎥\n",
       "⎢    ⎥\n",
       "⎣-1/2⎦"
      ]
     },
     "execution_count": 32,
     "metadata": {},
     "output_type": "execute_result"
    }
   ],
   "source": [
    "buildUinput(Uf_11)\n"
   ]
  },
  {
   "cell_type": "code",
   "execution_count": 40,
   "id": "d2639cdc-836a-4ff5-a435-7839529d2ad4",
   "metadata": {
    "scrolled": true
   },
   "outputs": [
    {
     "data": {
      "image/png": "[encoded data removed]",
      "text/latex": [
       "$\\displaystyle \\left[\\begin{matrix}\\frac{1}{2} & \\frac{1}{2} & \\frac{1}{2} & \\frac{1}{2}\\\\- \\frac{1}{2} & \\frac{1}{2} & - \\frac{1}{2} & \\frac{1}{2}\\\\- \\frac{1}{2} & - \\frac{1}{2} & \\frac{1}{2} & \\frac{1}{2}\\\\- \\frac{1}{2} & \\frac{1}{2} & \\frac{1}{2} & - \\frac{1}{2}\\end{matrix}\\right]$"
      ],
      "text/plain": [
       "⎡1/2   1/2   1/2   1/2 ⎤\n",
       "⎢                      ⎥\n",
       "⎢-1/2  1/2   -1/2  1/2 ⎥\n",
       "⎢                      ⎥\n",
       "⎢-1/2  -1/2  1/2   1/2 ⎥\n",
       "⎢                      ⎥\n",
       "⎣-1/2  1/2   1/2   -1/2⎦"
      ]
     },
     "execution_count": 40,
     "metadata": {},
     "output_type": "execute_result"
    }
   ],
   "source": [
    "V=Matrix([\n",
    "    Matrix(buildUinput(Uf_00)).T,\n",
    "    Matrix(buildUinput(Uf_01)).T,\n",
    "    Matrix(buildUinput(Uf_10)).T,\n",
    "    Matrix(buildUinput(Uf_11)).T\n",
    "       ]).T\n",
    "V2=Matrix([\n",
    "    Matrix(buildUinput(Uf_00)).T,\n",
    "    Matrix(buildUinput(Uf_10)).T,\n",
    "    Matrix(buildUinput(Uf_01)).T,\n",
    "    Matrix(buildUinput(Uf_11)).T\n",
    "       ]).T\n",
    "V"
   ]
  },
  {
   "cell_type": "code",
   "execution_count": 41,
   "id": "92ae6c96-2ac7-4e48-8178-b4af7824088f",
   "metadata": {},
   "outputs": [
    {
     "name": "stdout",
     "output_type": "stream",
     "text": [
      "Matrix([[1/2, -1/2, -1/2, -1/2], [1/2, -1/2, 1/2, 1/2], [1/2, 1/2, -1/2, 1/2], [1/2, 1/2, 1/2, -1/2]])\n"
     ]
    }
   ],
   "source": [
    "V.inv()\n",
    "print (V2.inv())\n",
    "# 0.5, -0.5, -0.5, -0.5, \n",
    "# 0.5, 0.5, -0.5, 0.5,\n",
    "# 0.5, -0.5, 0.5, 0.5,\n",
    "# 0.5, 0.5, 0.5, -0.5\n",
    "\n",
    "# 0.5, -0.5, -0.5, -0.5\n",
    "# 0.5, -0.5, 0.5, 0.5\n",
    "# 0.5, 0.5, -0.5, 0.5\n",
    "# 0.5, 0.5, 0.5, -0.5"
   ]
  },
  {
   "cell_type": "code",
   "execution_count": 35,
   "id": "b341019e-2283-4c7e-aa75-92827b312fc2",
   "metadata": {},
   "outputs": [
    {
     "data": {
      "image/png": "[encoded data removed]",
      "text/latex": [
       "$\\displaystyle \\left[\\begin{matrix}1 & 0 & 0 & 0\\\\0 & 1 & 0 & 0\\\\0 & 0 & 1 & 0\\\\0 & 0 & 0 & 1\\end{matrix}\\right]$"
      ],
      "text/plain": [
       "⎡1  0  0  0⎤\n",
       "⎢          ⎥\n",
       "⎢0  1  0  0⎥\n",
       "⎢          ⎥\n",
       "⎢0  0  1  0⎥\n",
       "⎢          ⎥\n",
       "⎣0  0  0  1⎦"
      ]
     },
     "execution_count": 35,
     "metadata": {},
     "output_type": "execute_result"
    }
   ],
   "source": [
    "V.inv()*V\n"
   ]
  },
  {
   "cell_type": "code",
   "execution_count": 36,
   "id": "e1b0e36b-f927-4b37-9bb1-96b6eb9ba8a9",
   "metadata": {},
   "outputs": [
    {
     "data": {
      "image/png": "[encoded data removed]",
      "text/latex": [
       "$\\displaystyle \\left[\\begin{matrix}0\\\\0\\\\1\\\\0\\end{matrix}\\right]$"
      ],
      "text/plain": [
       "⎡0⎤\n",
       "⎢ ⎥\n",
       "⎢0⎥\n",
       "⎢ ⎥\n",
       "⎢1⎥\n",
       "⎢ ⎥\n",
       "⎣0⎦"
      ]
     },
     "execution_count": 36,
     "metadata": {},
     "output_type": "execute_result"
    }
   ],
   "source": [
    "V.inv()*buildUinput(Uf_10)"
   ]
  },
  {
   "cell_type": "code",
   "execution_count": null,
   "id": "41c88552-7f96-47f6-9a97-9cdebb6cee9e",
   "metadata": {},
   "outputs": [],
   "source": []
  },
  {
   "cell_type": "code",
   "execution_count": null,
   "id": "60ed2be3-cc1f-4a7c-b0e7-84feffc3d8b1",
   "metadata": {},
   "outputs": [],
   "source": []
  },
  {
   "cell_type": "code",
   "execution_count": null,
   "id": "66842018-2bba-4676-a3cd-bf5760fe5327",
   "metadata": {},
   "outputs": [],
   "source": []
  },
  {
   "cell_type": "code",
   "execution_count": null,
   "id": "f8d8bbbd-d6f5-43fa-a1f9-351706ee63cf",
   "metadata": {},
   "outputs": [],
   "source": []
  }
 ],
 "metadata": {
  "kernelspec": {
   "display_name": "Python 3 (ipykernel)",
   "language": "python",
   "name": "python3"
  },
  "language_info": {
   "codemirror_mode": {
    "name": "ipython",
    "version": 3
   },
   "file_extension": ".py",
   "mimetype": "text/x-python",
   "name": "python",
   "nbconvert_exporter": "python",
   "pygments_lexer": "ipython3",
   "version": "3.11.6"
  }
 },
 "nbformat": 4,
 "nbformat_minor": 5
}
