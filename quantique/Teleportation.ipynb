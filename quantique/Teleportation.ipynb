{
 "cells": [
  {
   "cell_type": "code",
   "execution_count": 1,
   "id": "aa9d06ca",
   "metadata": {},
   "outputs": [],
   "source": [
    "import sympy\n",
    "# from qiskit import QuantumCircuit\n",
    "# start the pretty-printer to get nicely typeset math\n",
    "sympy.init_printing()"
   ]
  },
  {
   "cell_type": "code",
   "execution_count": 2,
   "id": "fb6f4309",
   "metadata": {},
   "outputs": [],
   "source": [
    "from sympy.physics.quantum import Bra, Ket\n",
    "from sympy import Matrix\n",
    "from sympy.physics.quantum import TensorProduct\n",
    "from sympy.physics.quantum.gate import HadamardGate,CNotGate, IdentityGate\n",
    "from sympy.physics.quantum.qapply import qapply\n",
    "from sympy import eye\n",
    "\n",
    "from sympy.physics.quantum import Ket\n",
    "from sympy import sqrt"
   ]
  },
  {
   "cell_type": "code",
   "execution_count": 3,
   "id": "1de46ce5",
   "metadata": {
    "scrolled": true
   },
   "outputs": [],
   "source": [
    "#definition des états\n",
    "ket0 = Matrix([1,0])\n",
    "ket1 = Matrix([0,1])\n",
    "\n",
    "α = sympy.Symbol(\"α\")\n",
    "β = sympy.Symbol(\"β\")\n",
    "ϕ = α * ket0 + β * ket1 # Matrix([α,β])\n",
    "\n",
    "Φp = Matrix([1/sqrt(2),0,0,1/sqrt(2)])\n",
    "\n"
   ]
  },
  {
   "cell_type": "code",
   "execution_count": 14,
   "id": "05770efc",
   "metadata": {},
   "outputs": [],
   "source": [
    "#definition des opérations unitaires\n",
    "I=eye(2)\n",
    "notgate=Matrix([[0,1], [1,0]])\n",
    "hadamardgate = Matrix([[1/sqrt(2),1/sqrt(2)], [1/sqrt(2),-1/sqrt(2)]])\n",
    "Zgate=Matrix([[1,0], [0,-1]])"
   ]
  },
  {
   "cell_type": "code",
   "execution_count": 5,
   "id": "6b158c7e",
   "metadata": {},
   "outputs": [
    {
     "data": {
      "text/latex": [
       "$\\displaystyle \\left[\\begin{matrix}\\frac{\\sqrt{2} α}{2}\\\\\\frac{\\sqrt{2} β}{2}\\\\0\\\\0\\\\0\\\\0\\\\\\frac{\\sqrt{2} α}{2}\\\\\\frac{\\sqrt{2} β}{2}\\end{matrix}\\right]$"
      ],
      "text/plain": [
       "⎡√2⋅α⎤\n",
       "⎢────⎥\n",
       "⎢ 2  ⎥\n",
       "⎢    ⎥\n",
       "⎢√2⋅β⎥\n",
       "⎢────⎥\n",
       "⎢ 2  ⎥\n",
       "⎢    ⎥\n",
       "⎢ 0  ⎥\n",
       "⎢    ⎥\n",
       "⎢ 0  ⎥\n",
       "⎢    ⎥\n",
       "⎢ 0  ⎥\n",
       "⎢    ⎥\n",
       "⎢ 0  ⎥\n",
       "⎢    ⎥\n",
       "⎢√2⋅α⎥\n",
       "⎢────⎥\n",
       "⎢ 2  ⎥\n",
       "⎢    ⎥\n",
       "⎢√2⋅β⎥\n",
       "⎢────⎥\n",
       "⎣ 2  ⎦"
      ]
     },
     "execution_count": 5,
     "metadata": {},
     "output_type": "execute_result"
    }
   ],
   "source": [
    "# Etat au départ\n",
    "π0 = TensorProduct(Φp,ϕ)\n",
    "π0"
   ]
  },
  {
   "cell_type": "code",
   "execution_count": 6,
   "id": "7c8ae5de",
   "metadata": {},
   "outputs": [
    {
     "data": {
      "text/latex": [
       "$\\displaystyle \\left[\\begin{matrix}\\frac{\\sqrt{2}}{2} & \\frac{\\sqrt{2}}{2} & 0 & 0 & 0 & 0 & 0 & 0\\\\\\frac{\\sqrt{2}}{2} & - \\frac{\\sqrt{2}}{2} & 0 & 0 & 0 & 0 & 0 & 0\\\\0 & 0 & \\frac{\\sqrt{2}}{2} & \\frac{\\sqrt{2}}{2} & 0 & 0 & 0 & 0\\\\0 & 0 & \\frac{\\sqrt{2}}{2} & - \\frac{\\sqrt{2}}{2} & 0 & 0 & 0 & 0\\\\0 & 0 & 0 & 0 & \\frac{\\sqrt{2}}{2} & \\frac{\\sqrt{2}}{2} & 0 & 0\\\\0 & 0 & 0 & 0 & \\frac{\\sqrt{2}}{2} & - \\frac{\\sqrt{2}}{2} & 0 & 0\\\\0 & 0 & 0 & 0 & 0 & 0 & \\frac{\\sqrt{2}}{2} & \\frac{\\sqrt{2}}{2}\\\\0 & 0 & 0 & 0 & 0 & 0 & \\frac{\\sqrt{2}}{2} & - \\frac{\\sqrt{2}}{2}\\end{matrix}\\right]$"
      ],
      "text/plain": [
       "⎡√2   √2                               ⎤\n",
       "⎢──   ──   0    0    0    0    0    0  ⎥\n",
       "⎢2    2                                ⎥\n",
       "⎢                                      ⎥\n",
       "⎢√2  -√2                               ⎥\n",
       "⎢──  ────  0    0    0    0    0    0  ⎥\n",
       "⎢2    2                                ⎥\n",
       "⎢                                      ⎥\n",
       "⎢          √2   √2                     ⎥\n",
       "⎢0    0    ──   ──   0    0    0    0  ⎥\n",
       "⎢          2    2                      ⎥\n",
       "⎢                                      ⎥\n",
       "⎢          √2  -√2                     ⎥\n",
       "⎢0    0    ──  ────  0    0    0    0  ⎥\n",
       "⎢          2    2                      ⎥\n",
       "⎢                                      ⎥\n",
       "⎢                    √2   √2           ⎥\n",
       "⎢0    0    0    0    ──   ──   0    0  ⎥\n",
       "⎢                    2    2            ⎥\n",
       "⎢                                      ⎥\n",
       "⎢                    √2  -√2           ⎥\n",
       "⎢0    0    0    0    ──  ────  0    0  ⎥\n",
       "⎢                    2    2            ⎥\n",
       "⎢                                      ⎥\n",
       "⎢                              √2   √2 ⎥\n",
       "⎢0    0    0    0    0    0    ──   ── ⎥\n",
       "⎢                              2    2  ⎥\n",
       "⎢                                      ⎥\n",
       "⎢                              √2  -√2 ⎥\n",
       "⎢0    0    0    0    0    0    ──  ────⎥\n",
       "⎣                              2    2  ⎦"
      ]
     },
     "execution_count": 6,
     "metadata": {},
     "output_type": "execute_result"
    }
   ],
   "source": [
    "# Operation unitaire du premier niveau\n",
    "\n",
    "#cnotgate = TensorProduct(ket0*ket0.T, I) + TensorProduct(ket1*ket1.T, notgate) # first qubit is the control\n",
    "cnotgate = TensorProduct(I,ket0*ket0.T) + TensorProduct(notgate, ket1*ket1.T) # second qubit is the control\n",
    "firststage = TensorProduct (I, cnotgate)\n",
    "secondstage = TensorProduct (I, I, hadamardgate)\n",
    "secondstage"
   ]
  },
  {
   "cell_type": "code",
   "execution_count": 7,
   "id": "6fa72cd1",
   "metadata": {},
   "outputs": [
    {
     "data": {
      "text/latex": [
       "$\\displaystyle \\left[\\begin{matrix}\\frac{\\sqrt{2} α}{2}\\\\0\\\\0\\\\\\frac{\\sqrt{2} β}{2}\\\\0\\\\\\frac{\\sqrt{2} β}{2}\\\\\\frac{\\sqrt{2} α}{2}\\\\0\\end{matrix}\\right]$"
      ],
      "text/plain": [
       "⎡√2⋅α⎤\n",
       "⎢────⎥\n",
       "⎢ 2  ⎥\n",
       "⎢    ⎥\n",
       "⎢ 0  ⎥\n",
       "⎢    ⎥\n",
       "⎢ 0  ⎥\n",
       "⎢    ⎥\n",
       "⎢√2⋅β⎥\n",
       "⎢────⎥\n",
       "⎢ 2  ⎥\n",
       "⎢    ⎥\n",
       "⎢ 0  ⎥\n",
       "⎢    ⎥\n",
       "⎢√2⋅β⎥\n",
       "⎢────⎥\n",
       "⎢ 2  ⎥\n",
       "⎢    ⎥\n",
       "⎢√2⋅α⎥\n",
       "⎢────⎥\n",
       "⎢ 2  ⎥\n",
       "⎢    ⎥\n",
       "⎣ 0  ⎦"
      ]
     },
     "execution_count": 7,
     "metadata": {},
     "output_type": "execute_result"
    }
   ],
   "source": [
    "firststage * π0\n"
   ]
  },
  {
   "cell_type": "code",
   "execution_count": 8,
   "id": "91c9ff8c",
   "metadata": {},
   "outputs": [
    {
     "data": {
      "text/latex": [
       "$\\displaystyle \\left[\\begin{matrix}\\frac{α}{2}\\\\\\frac{α}{2}\\\\\\frac{β}{2}\\\\- \\frac{β}{2}\\\\\\frac{β}{2}\\\\- \\frac{β}{2}\\\\\\frac{α}{2}\\\\\\frac{α}{2}\\end{matrix}\\right]$"
      ],
      "text/plain": [
       "⎡ α ⎤\n",
       "⎢ ─ ⎥\n",
       "⎢ 2 ⎥\n",
       "⎢   ⎥\n",
       "⎢ α ⎥\n",
       "⎢ ─ ⎥\n",
       "⎢ 2 ⎥\n",
       "⎢   ⎥\n",
       "⎢ β ⎥\n",
       "⎢ ─ ⎥\n",
       "⎢ 2 ⎥\n",
       "⎢   ⎥\n",
       "⎢-β ⎥\n",
       "⎢───⎥\n",
       "⎢ 2 ⎥\n",
       "⎢   ⎥\n",
       "⎢ β ⎥\n",
       "⎢ ─ ⎥\n",
       "⎢ 2 ⎥\n",
       "⎢   ⎥\n",
       "⎢-β ⎥\n",
       "⎢───⎥\n",
       "⎢ 2 ⎥\n",
       "⎢   ⎥\n",
       "⎢ α ⎥\n",
       "⎢ ─ ⎥\n",
       "⎢ 2 ⎥\n",
       "⎢   ⎥\n",
       "⎢ α ⎥\n",
       "⎢ ─ ⎥\n",
       "⎣ 2 ⎦"
      ]
     },
     "execution_count": 8,
     "metadata": {},
     "output_type": "execute_result"
    }
   ],
   "source": [
    "π1 = secondstage*firststage*π0\n",
    "π1"
   ]
  },
  {
   "cell_type": "code",
   "execution_count": 13,
   "id": "a06644a5",
   "metadata": {},
   "outputs": [
    {
     "data": {
      "text/latex": [
       "$\\displaystyle \\left[\\begin{matrix}\\frac{1}{4}\\\\\\frac{1}{4}\\\\\\frac{1}{4}\\\\\\frac{1}{4}\\end{matrix}\\right]$"
      ],
      "text/plain": [
       "⎡1/4⎤\n",
       "⎢   ⎥\n",
       "⎢1/4⎥\n",
       "⎢   ⎥\n",
       "⎢1/4⎥\n",
       "⎢   ⎥\n",
       "⎣1/4⎦"
      ]
     },
     "execution_count": 13,
     "metadata": {},
     "output_type": "execute_result"
    }
   ],
   "source": [
    "from sympy import *\n",
    "expr = Matrix(factor([(π1[0]+π1[4])**2,(π1[1]+π1[5])**2, (π1[2]+π1[6])**2, (π1[3]+π1[7])**2]))\n",
    "expr.subs((α+β)**2, 1).subs((α-β)**2, 1)"
   ]
  },
  {
   "cell_type": "code",
   "execution_count": 10,
   "id": "aabbb3e2",
   "metadata": {},
   "outputs": [
    {
     "data": {
      "image/png": "[encoded data removed]",
      "text/latex": [
       "$\\displaystyle \\cos{\\left(y \\right)} + 1$"
      ],
      "text/plain": [
       "cos(y) + 1"
      ]
     },
     "execution_count": 10,
     "metadata": {},
     "output_type": "execute_result"
    }
   ],
   "source": [
    "x, y, z = symbols(\"x y z\")\n",
    "expr = cos(x) + 1\n",
    "\n",
    "expr.subs(x, y)"
   ]
  },
  {
   "cell_type": "code",
   "execution_count": null,
   "id": "ecd54958",
   "metadata": {},
   "outputs": [],
   "source": []
  }
 ],
 "metadata": {
  "kernelspec": {
   "display_name": "Python 3 (ipykernel)",
   "language": "python",
   "name": "python3"
  },
  "language_info": {
   "codemirror_mode": {
    "name": "ipython",
    "version": 3
   },
   "file_extension": ".py",
   "mimetype": "text/x-python",
   "name": "python",
   "nbconvert_exporter": "python",
   "pygments_lexer": "ipython3",
   "version": "3.11.3"
  }
 },
 "nbformat": 4,
 "nbformat_minor": 5
}
