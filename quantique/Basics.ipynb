{
 "cells": [
  {
   "cell_type": "code",
   "execution_count": 5,
   "id": "ba314b4e",
   "metadata": {},
   "outputs": [],
   "source": [
    "import sympy\n",
    "from sympy import Matrix\n",
    "\n",
    "from sympy import eye\n",
    "from sympy import sqrt\n",
    "\n",
    "from sympy import re, im, I, E, symbols, sin, cos, Abs, conjugate\n",
    "\n",
    "sympy.init_printing()"
   ]
  },
  {
   "cell_type": "code",
   "execution_count": 6,
   "id": "3ba5554a",
   "metadata": {},
   "outputs": [],
   "source": [
    "#definition des états\n",
    "ket0 = Matrix([1,0])\n",
    "ket1 = Matrix([0,1])\n",
    "\n",
    "α = sympy.Symbol(\"α\")\n",
    "β = sympy.Symbol(\"β\")\n",
    "θ = sympy.Symbol(\"θ\")\n",
    "ϕ = α * ket0 + β * ket1 # Matrix([α,β])\n",
    "\n",
    "x=sympy.Symbol(\"x\")"
   ]
  },
  {
   "cell_type": "code",
   "execution_count": 12,
   "id": "f465d159",
   "metadata": {},
   "outputs": [
    {
     "data": {
      "text/latex": [
       "$\\displaystyle \\left[\\begin{matrix}1 & 0\\\\0 & e^{i θ}\\end{matrix}\\right]$"
      ],
      "text/plain": [
       "⎡1   0  ⎤\n",
       "⎢       ⎥\n",
       "⎢    ⅈ⋅θ⎥\n",
       "⎣0  ℯ   ⎦"
      ]
     },
     "execution_count": 12,
     "metadata": {},
     "output_type": "execute_result"
    }
   ],
   "source": [
    "#definition des transformations\n",
    "# hadamardgate\n",
    "H = Matrix([[1/sqrt(2),1/sqrt(2)], [1/sqrt(2),-1/sqrt(2)]])\n",
    "# Phase\n",
    "T =Matrix([[1,0], [0,E**(I*θ)]])\n",
    "# Pauli\n",
    "σx=Matrix([[0,1], [1,0]])\n",
    "σy=Matrix([[0,-I], [I,0]])\n",
    "σz=Matrix([[1,0], [0,-1]])\n",
    "TGate"
   ]
  },
  {
   "cell_type": "code",
   "execution_count": 14,
   "id": "d7786992",
   "metadata": {},
   "outputs": [
    {
     "data": {
      "text/latex": [
       "$\\displaystyle \\left[\\begin{matrix}\\frac{e^{i θ}}{2} + \\frac{1}{2}\\\\\\frac{1}{2} - \\frac{e^{i θ}}{2}\\end{matrix}\\right]$"
      ],
      "text/plain": [
       "⎡ ⅈ⋅θ    ⎤\n",
       "⎢ℯ      1⎥\n",
       "⎢──── + ─⎥\n",
       "⎢ 2     2⎥\n",
       "⎢        ⎥\n",
       "⎢     ⅈ⋅θ⎥\n",
       "⎢1   ℯ   ⎥\n",
       "⎢─ - ────⎥\n",
       "⎣2    2  ⎦"
      ]
     },
     "execution_count": 14,
     "metadata": {},
     "output_type": "execute_result"
    }
   ],
   "source": [
    "H*T*H*ket0"
   ]
  },
  {
   "cell_type": "code",
   "execution_count": 31,
   "id": "3e509948",
   "metadata": {},
   "outputs": [
    {
     "data": {
      "image/png": "[encoded data removed]",
      "text/latex": [
       "$\\displaystyle i \\sin{\\left(x \\right)} + \\cos{\\left(x \\right)}$"
      ],
      "text/plain": [
       "ⅈ⋅sin(x) + cos(x)"
      ]
     },
     "execution_count": 31,
     "metadata": {},
     "output_type": "execute_result"
    }
   ],
   "source": [
    "v=(1+E**(I*x))/2\n",
    "v=cos(x)  + I*sin(x)\n",
    "v"
   ]
  },
  {
   "cell_type": "code",
   "execution_count": 32,
   "id": "1278e394",
   "metadata": {},
   "outputs": [
    {
     "data": {
      "image/png": "[encoded data removed]",
      "text/latex": [
       "$\\displaystyle \\left|{i \\sin{\\left(x \\right)} + \\cos{\\left(x \\right)}}\\right|$"
      ],
      "text/plain": [
       "│ⅈ⋅sin(x) + cos(x)│"
      ]
     },
     "execution_count": 32,
     "metadata": {},
     "output_type": "execute_result"
    }
   ],
   "source": [
    "Abs(v)"
   ]
  },
  {
   "cell_type": "code",
   "execution_count": 35,
   "id": "7fae3244",
   "metadata": {},
   "outputs": [
    {
     "data": {
      "image/png": "[encoded data removed]",
      "text/latex": [
       "$\\displaystyle \\left(i \\sin{\\left(x \\right)} + \\cos{\\left(x \\right)} + 1\\right) \\left(- i \\sin{\\left(\\overline{x} \\right)} + \\cos{\\left(\\overline{x} \\right)} + 1\\right)$"
      ],
      "text/plain": [
       "                        ⎛       ⎛_⎞      ⎛_⎞    ⎞\n",
       "(ⅈ⋅sin(x) + cos(x) + 1)⋅⎝- ⅈ⋅sin⎝x⎠ + cos⎝x⎠ + 1⎠"
      ]
     },
     "execution_count": 35,
     "metadata": {},
     "output_type": "execute_result"
    }
   ],
   "source": [
    "module = (1+v)*conjugate(1+v)\n",
    "module"
   ]
  },
  {
   "cell_type": "code",
   "execution_count": 36,
   "id": "2ad3a917",
   "metadata": {},
   "outputs": [
    {
     "data": {
      "image/png": "[encoded data removed]",
      "text/latex": [
       "$\\displaystyle \\left(i \\sin{\\left(x \\right)} + \\cos{\\left(x \\right)} + 1\\right) \\left(- i \\sin{\\left(\\overline{x} \\right)} + \\cos{\\left(\\overline{x} \\right)} + 1\\right)$"
      ],
      "text/plain": [
       "                        ⎛       ⎛_⎞      ⎛_⎞    ⎞\n",
       "(ⅈ⋅sin(x) + cos(x) + 1)⋅⎝- ⅈ⋅sin⎝x⎠ + cos⎝x⎠ + 1⎠"
      ]
     },
     "execution_count": 36,
     "metadata": {},
     "output_type": "execute_result"
    }
   ],
   "source": [
    "module.simplify()\n",
    "module"
   ]
  },
  {
   "cell_type": "code",
   "execution_count": null,
   "id": "1d965b89",
   "metadata": {},
   "outputs": [],
   "source": []
  }
 ],
 "metadata": {
  "kernelspec": {
   "display_name": "Python 3 (ipykernel)",
   "language": "python",
   "name": "python3"
  },
  "language_info": {
   "codemirror_mode": {
    "name": "ipython",
    "version": 3
   },
   "file_extension": ".py",
   "mimetype": "text/x-python",
   "name": "python",
   "nbconvert_exporter": "python",
   "pygments_lexer": "ipython3",
   "version": "3.11.3"
  }
 },
 "nbformat": 4,
 "nbformat_minor": 5
}
