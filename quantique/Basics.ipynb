{
 "cells": [
  {
   "cell_type": "code",
   "execution_count": 2,
   "id": "ba314b4e",
   "metadata": {},
   "outputs": [],
   "source": [
    "import sympy\n",
    "import sympy as sp\n",
    "from sympy import Matrix\n",
    "\n",
    "from sympy import eye\n",
    "from sympy import sqrt\n",
    "\n",
    "from sympy import re, im, I, E, symbols, sin, cos, Abs, conjugate\n",
    "\n",
    "sympy.init_printing()"
   ]
  },
  {
   "cell_type": "code",
   "execution_count": 40,
   "id": "3ba5554a",
   "metadata": {},
   "outputs": [],
   "source": [
    "#definition des états\n",
    "ket0 = Matrix([1,0])\n",
    "ket1 = Matrix([0,1])\n",
    "\n",
    "α = sympy.Symbol(\"α\", complex=True)\n",
    "β = sympy.Symbol(\"β\", complex=True)\n",
    "θ = sympy.Symbol(\"θ\")\n",
    "ϕ = α * ket0 + β * ket1 # Matrix([α,β])\n",
    "z = sp.Symbol('z', complex=True)\n",
    "x=sympy.Symbol(\"x\")"
   ]
  },
  {
   "cell_type": "code",
   "execution_count": 41,
   "id": "f465d159",
   "metadata": {},
   "outputs": [],
   "source": [
    "#definition des transformations\n",
    "# hadamardgate\n",
    "H = Matrix([[1/sqrt(2),1/sqrt(2)], [1/sqrt(2),-1/sqrt(2)]])\n",
    "# Phase\n",
    "T =Matrix([[1,0], [0,E**(I*θ)]])\n",
    "# Pauli\n",
    "σx=Matrix([[0,1], [1,0]])\n",
    "σy=Matrix([[0,-I], [I,0]])\n",
    "σz=Matrix([[1,0], [0,-1]])"
   ]
  },
  {
   "cell_type": "code",
   "execution_count": 42,
   "id": "c7d9db17-f03c-4621-bd6f-e145d201087b",
   "metadata": {},
   "outputs": [
    {
     "name": "stdout",
     "output_type": "stream",
     "text": [
      "Expression développée : 11 + 2*I\n",
      "Partie réelle : 11\n",
      "Partie imaginaire : 2\n"
     ]
    }
   ],
   "source": [
    "expr = (1 + 2*sp.I) * (3 - 4*sp.I)\n",
    "simplified_expr = sp.simplify(expr)\n",
    "\n",
    "print(\"Expression développée :\", simplified_expr)\n",
    "\n",
    "# Extraction des parties réelle et imaginaire\n",
    "real_part = sp.re(expr)\n",
    "imag_part = sp.im(expr)\n",
    "\n",
    "print(\"Partie réelle :\", real_part)\n",
    "print(\"Partie imaginaire :\", imag_part)\n",
    "\n"
   ]
  },
  {
   "cell_type": "code",
   "execution_count": 43,
   "id": "7876d394-3c49-4ebe-a0b1-c90d98617a7d",
   "metadata": {},
   "outputs": [
    {
     "name": "stdout",
     "output_type": "stream",
     "text": [
      "Conjugué : 11 - 2*I\n",
      "Module : 5*sqrt(5)\n"
     ]
    }
   ],
   "source": [
    "# Conjugué d'un nombre complexe\n",
    "conjugate_expr = sp.conjugate(simplified_expr)\n",
    "\n",
    "# Module d'un nombre complexe\n",
    "modulus_expr = sp.Abs(simplified_expr)\n",
    "\n",
    "print(\"Conjugué :\", conjugate_expr)\n",
    "print(\"Module :\", modulus_expr)\n",
    "\n"
   ]
  },
  {
   "cell_type": "code",
   "execution_count": 44,
   "id": "b93d8ca0-8a93-4d0b-aae9-b13ccbc46e30",
   "metadata": {},
   "outputs": [
    {
     "name": "stdout",
     "output_type": "stream",
     "text": [
      "Solutions : [-I, I]\n"
     ]
    }
   ],
   "source": [
    "eq = sp.Eq(z**2 + 1, 0)\n",
    "\n",
    "solutions = sp.solve(eq, z)\n",
    "print(\"Solutions :\", solutions)"
   ]
  },
  {
   "cell_type": "code",
   "execution_count": 45,
   "id": "c88f4de3-b54b-4ee6-819e-272062952c58",
   "metadata": {},
   "outputs": [
    {
     "name": "stdout",
     "output_type": "stream",
     "text": [
      "Forme exponentielle : sqrt(2)*exp(I*pi/4)\n"
     ]
    }
   ],
   "source": [
    "z_value = 1 + sp.I\n",
    "r_value = sp.Abs(z_value)  # √2\n",
    "theta_value = sp.arg(z_value)  # π/4\n",
    "\n",
    "z_exp_value = r_value * sp.exp(sp.I * theta_value)\n",
    "print(\"Forme exponentielle :\", z_exp_value)"
   ]
  },
  {
   "cell_type": "code",
   "execution_count": 3,
   "id": "c3adc4a1-cf5f-4836-a00e-7672ed99d8a2",
   "metadata": {},
   "outputs": [
    {
     "data": {
      "image/png": "[encoded data removed]",
      "text/latex": [
       "$\\displaystyle \\sqrt{2}$"
      ],
      "text/plain": [
       "√2"
      ]
     },
     "execution_count": 3,
     "metadata": {},
     "output_type": "execute_result"
    }
   ],
   "source": [
    "sp.Abs(1 + sp.I)"
   ]
  },
  {
   "cell_type": "code",
   "execution_count": 46,
   "id": "d7786992",
   "metadata": {},
   "outputs": [
    {
     "data": {
      "text/latex": [
       "$\\displaystyle \\left[\\begin{matrix}\\frac{e^{i θ}}{2} + \\frac{1}{2}\\\\\\frac{1}{2} - \\frac{e^{i θ}}{2}\\end{matrix}\\right]$"
      ],
      "text/plain": [
       "⎡ ⅈ⋅θ    ⎤\n",
       "⎢ℯ      1⎥\n",
       "⎢──── + ─⎥\n",
       "⎢ 2     2⎥\n",
       "⎢        ⎥\n",
       "⎢     ⅈ⋅θ⎥\n",
       "⎢1   ℯ   ⎥\n",
       "⎢─ - ────⎥\n",
       "⎣2    2  ⎦"
      ]
     },
     "execution_count": 46,
     "metadata": {},
     "output_type": "execute_result"
    }
   ],
   "source": [
    "H*T*H*ket0"
   ]
  },
  {
   "cell_type": "code",
   "execution_count": 25,
   "id": "3e509948",
   "metadata": {},
   "outputs": [
    {
     "data": {
      "image/png": "[encoded data removed]",
      "text/latex": [
       "$\\displaystyle \\frac{e^{i x}}{2} + \\frac{1}{2}$"
      ],
      "text/plain": [
       " ⅈ⋅x    \n",
       "ℯ      1\n",
       "──── + ─\n",
       " 2     2"
      ]
     },
     "execution_count": 25,
     "metadata": {},
     "output_type": "execute_result"
    }
   ],
   "source": [
    "v=(1+E**(I*x))/2\n",
    "#v=cos(x)  + I*sin(x)\n",
    "v"
   ]
  },
  {
   "cell_type": "code",
   "execution_count": 17,
   "id": "1278e394",
   "metadata": {},
   "outputs": [
    {
     "data": {
      "image/png": "[encoded data removed]",
      "text/latex": [
       "$\\displaystyle \\left|{\\frac{e^{i x}}{2} + \\frac{1}{2}}\\right|$"
      ],
      "text/plain": [
       "│ ⅈ⋅x    │\n",
       "│ℯ      1│\n",
       "│──── + ─│\n",
       "│ 2     2│"
      ]
     },
     "execution_count": 17,
     "metadata": {},
     "output_type": "execute_result"
    }
   ],
   "source": [
    "Abs(v)"
   ]
  },
  {
   "cell_type": "code",
   "execution_count": 18,
   "id": "7fae3244",
   "metadata": {},
   "outputs": [
    {
     "data": {
      "image/png": "[encoded data removed]",
      "text/latex": [
       "$\\displaystyle \\left(\\frac{3}{2} + \\frac{e^{- i \\overline{x}}}{2}\\right) \\left(\\frac{e^{i x}}{2} + \\frac{3}{2}\\right)$"
      ],
      "text/plain": [
       "⎛        _⎞           \n",
       "⎜     -ⅈ⋅x⎟ ⎛ ⅈ⋅x    ⎞\n",
       "⎜3   ℯ    ⎟ ⎜ℯ      3⎟\n",
       "⎜─ + ─────⎟⋅⎜──── + ─⎟\n",
       "⎝2     2  ⎠ ⎝ 2     2⎠"
      ]
     },
     "execution_count": 18,
     "metadata": {},
     "output_type": "execute_result"
    }
   ],
   "source": [
    "module = (1+v)*conjugate(1+v)\n",
    "module"
   ]
  },
  {
   "cell_type": "code",
   "execution_count": 19,
   "id": "2ad3a917",
   "metadata": {},
   "outputs": [
    {
     "data": {
      "image/png": "[encoded data removed]",
      "text/latex": [
       "$\\displaystyle \\left(\\frac{3}{2} + \\frac{e^{- i \\overline{x}}}{2}\\right) \\left(\\frac{e^{i x}}{2} + \\frac{3}{2}\\right)$"
      ],
      "text/plain": [
       "⎛        _⎞           \n",
       "⎜     -ⅈ⋅x⎟ ⎛ ⅈ⋅x    ⎞\n",
       "⎜3   ℯ    ⎟ ⎜ℯ      3⎟\n",
       "⎜─ + ─────⎟⋅⎜──── + ─⎟\n",
       "⎝2     2  ⎠ ⎝ 2     2⎠"
      ]
     },
     "execution_count": 19,
     "metadata": {},
     "output_type": "execute_result"
    }
   ],
   "source": [
    "module.simplify()\n",
    "module"
   ]
  },
  {
   "cell_type": "code",
   "execution_count": null,
   "id": "1d965b89",
   "metadata": {},
   "outputs": [],
   "source": []
  }
 ],
 "metadata": {
  "kernelspec": {
   "display_name": "Python 3 (ipykernel)",
   "language": "python",
   "name": "python3"
  },
  "language_info": {
   "codemirror_mode": {
    "name": "ipython",
    "version": 3
   },
   "file_extension": ".py",
   "mimetype": "text/x-python",
   "name": "python",
   "nbconvert_exporter": "python",
   "pygments_lexer": "ipython3",
   "version": "3.11.6"
  }
 },
 "nbformat": 4,
 "nbformat_minor": 5
}
