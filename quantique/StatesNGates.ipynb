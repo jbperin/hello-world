{
 "cells": [
  {
   "cell_type": "code",
   "execution_count": 259,
   "id": "07eb428d-0b1c-40b0-aac4-5fe6bf263ef5",
   "metadata": {},
   "outputs": [],
   "source": [
    "import sympy as sp\n",
    "from sympy.physics.quantum import Bra, Ket\n",
    "from sympy import Matrix\n",
    "from sympy.physics.quantum import TensorProduct\n",
    "from sympy.physics.quantum.gate import HadamardGate,CNotGate, IdentityGate\n",
    "from sympy.physics.quantum.qapply import qapply\n",
    "from sympy import eye\n",
    "from sympy import Abs\n",
    "from sympy import sqrt\n",
    "from UnitaryFunction import buildUnitaryMatrix, format_matrice\n",
    "sp.init_printing()"
   ]
  },
  {
   "cell_type": "code",
   "execution_count": 260,
   "id": "a97a945c-8f3e-447c-bec4-2f8fa28cf55b",
   "metadata": {},
   "outputs": [],
   "source": [
    "#definition des états\n",
    "ket0 = Matrix([1,0])\n",
    "ket1 = Matrix([0,1])\n",
    "plus = Matrix([1/sqrt(2),1/sqrt(2)])\n",
    "minus = Matrix([1/sqrt(2),-1/sqrt(2)])\n",
    "\n",
    "α = sp.Symbol(\"α\")\n",
    "β = sp.Symbol(\"β\")\n",
    "ϕ = α * ket0 + β * ket1 # Matrix([α,β])\n",
    "\n",
    "α1 = sp.Symbol(\"α1\", complex=True)\n",
    "β1 = sp.Symbol(\"β1\", complex=True)\n",
    "ψ1 = α1 * ket0 + β1 * ket1 # Matrix([α,β])\n",
    "\n",
    "α2 = sp.Symbol(\"α2\", complex=True)\n",
    "β2 = sp.Symbol(\"β2\", complex=True)\n",
    "ψ2 = α2 * ket0 + β2 * ket1 # Matrix([α,β])\n",
    "\n",
    "α3 = sp.Symbol(\"α3\", complex=True)\n",
    "β3 = sp.Symbol(\"β3\", complex=True)\n",
    "ψ3 = α3 * ket0 + β3 * ket1 # Matrix([α,β])"
   ]
  },
  {
   "cell_type": "code",
   "execution_count": 261,
   "id": "eb64368f-0b93-48d9-a21f-09fe29b58a99",
   "metadata": {},
   "outputs": [],
   "source": [
    "I=sp.eye(2)\n",
    "π=sp.pi\n",
    "i=sp.I\n",
    "X=sp.Matrix([[0,1], [1,0]]) #Pauli\n",
    "σx=X\n",
    "Y=sp.Matrix([[0,-i], [i,0]])\n",
    "Z=sp.Matrix([[1,0], [0,-1]])\n",
    "\n",
    "H=sp.Matrix([[1/sp.sqrt(2),1/sp.sqrt(2)], [1/sp.sqrt(2),-1/sp.sqrt(2)]])\n",
    "\n",
    "S=sp.Matrix([[1,0], [0,-i]])\n",
    "T=sp.Matrix([[1,0], [0,sp.exp(-i*π/4)]])\n",
    "\n",
    "\n",
    "# rotation by theta around y\n",
    "def Ry(θ):\n",
    "    return sp.Matrix([[sp.cos(θ/2),sp.sin(θ/2)], [-sp.sin(θ/2),sp.cos(θ/2)]])\n",
    "\n",
    "# rotation by alpha around z\n",
    "def Rz(α):\n",
    "    return sp.Matrix([[sp.exp(i*α/2),0], [0,sp.exp(-i*α/2)]]) \n",
    "\n",
    "# Phase Shift with respect to delta\n",
    "def Ph(δ):\n",
    "    return sp.Matrix([[sp.exp(i*δ),0], [0,sp.exp(i*δ)]]) \n",
    "\n",
    "# Operation on two Qubits\n",
    "\n",
    "SWAP = sp.Matrix ([[1,0,0,0],[0,0,1,0],[0,1,0,0],[0,0,0,1]])\n",
    "CNOT = TensorProduct(I,ket0*ket0.T) + TensorProduct(X, ket1*ket1.T) # second qubit is the control"
   ]
  },
  {
   "cell_type": "code",
   "execution_count": 262,
   "id": "2577386e-4160-4fed-8a61-dff12eba3441",
   "metadata": {},
   "outputs": [
    {
     "data": {
      "text/latex": [
       "$\\displaystyle \\left[\\begin{matrix}α_{1} α_{2}\\\\α_{1} β_{2}\\\\α_{2} β_{1}\\\\β_{1} β_{2}\\end{matrix}\\right]$"
      ],
      "text/plain": [
       "⎡α₁⋅α₂⎤\n",
       "⎢     ⎥\n",
       "⎢α₁⋅β₂⎥\n",
       "⎢     ⎥\n",
       "⎢α₂⋅β₁⎥\n",
       "⎢     ⎥\n",
       "⎣β₁⋅β₂⎦"
      ]
     },
     "execution_count": 262,
     "metadata": {},
     "output_type": "execute_result"
    }
   ],
   "source": [
    "TensorProduct(ψ1, ψ2)"
   ]
  },
  {
   "cell_type": "code",
   "execution_count": 263,
   "id": "1df6c32e-adeb-4510-8c86-ba7879c42c41",
   "metadata": {},
   "outputs": [
    {
     "data": {
      "text/latex": [
       "$\\displaystyle \\left[\\begin{matrix}\\frac{\\left(α_{1} + β_{1}\\right) \\left(α_{2} + β_{2}\\right)}{2}\\\\\\frac{\\left(α_{1} + β_{1}\\right) \\left(α_{2} - β_{2}\\right)}{2}\\\\\\frac{\\left(α_{1} - β_{1}\\right) \\left(α_{2} + β_{2}\\right)}{2}\\\\\\frac{\\left(α_{1} - β_{1}\\right) \\left(α_{2} - β_{2}\\right)}{2}\\end{matrix}\\right]$"
      ],
      "text/plain": [
       "⎡(α₁ + β₁)⋅(α₂ + β₂)⎤\n",
       "⎢───────────────────⎥\n",
       "⎢         2         ⎥\n",
       "⎢                   ⎥\n",
       "⎢(α₁ + β₁)⋅(α₂ - β₂)⎥\n",
       "⎢───────────────────⎥\n",
       "⎢         2         ⎥\n",
       "⎢                   ⎥\n",
       "⎢(α₁ - β₁)⋅(α₂ + β₂)⎥\n",
       "⎢───────────────────⎥\n",
       "⎢         2         ⎥\n",
       "⎢                   ⎥\n",
       "⎢(α₁ - β₁)⋅(α₂ - β₂)⎥\n",
       "⎢───────────────────⎥\n",
       "⎣         2         ⎦"
      ]
     },
     "execution_count": 263,
     "metadata": {},
     "output_type": "execute_result"
    }
   ],
   "source": [
    "start_state = TensorProduct(H*ψ1, H*ψ2)\n",
    "sp.simplify(start_state)"
   ]
  },
  {
   "cell_type": "code",
   "execution_count": 264,
   "id": "5b75a164-c127-4b31-b910-0936f0ab5d68",
   "metadata": {},
   "outputs": [
    {
     "data": {
      "image/png": "[encoded data removed]",
      "text/latex": [
       "$\\displaystyle \\left[\\begin{matrix}\\frac{1}{2}\\\\\\frac{1}{2}\\\\- \\frac{1}{2}\\\\- \\frac{1}{2}\\end{matrix}\\right]$"
      ],
      "text/plain": [
       "⎡1/2 ⎤\n",
       "⎢    ⎥\n",
       "⎢1/2 ⎥\n",
       "⎢    ⎥\n",
       "⎢-1/2⎥\n",
       "⎢    ⎥\n",
       "⎣-1/2⎦"
      ]
     },
     "execution_count": 264,
     "metadata": {},
     "output_type": "execute_result"
    }
   ],
   "source": [
    "start_state.subs({α1:0, β1:1, α2:1, β2:0})"
   ]
  },
  {
   "cell_type": "code",
   "execution_count": null,
   "id": "57b17fbb-dfae-4a93-945a-7b4f21bfacbd",
   "metadata": {},
   "outputs": [],
   "source": []
  },
  {
   "cell_type": "code",
   "execution_count": null,
   "id": "ed01ec77-fa4c-4c57-8f79-ee4e07e3a64a",
   "metadata": {},
   "outputs": [],
   "source": []
  },
  {
   "cell_type": "code",
   "execution_count": null,
   "id": "8ea47e8f-f88b-4296-a122-7a70afb35c1b",
   "metadata": {},
   "outputs": [],
   "source": []
  },
  {
   "cell_type": "code",
   "execution_count": null,
   "id": "fd48868c-5f4d-4022-bbc1-43727982743d",
   "metadata": {},
   "outputs": [],
   "source": []
  },
  {
   "cell_type": "code",
   "execution_count": null,
   "id": "97d69b4b-3799-46cf-b125-b2e98adac231",
   "metadata": {},
   "outputs": [],
   "source": []
  },
  {
   "cell_type": "code",
   "execution_count": null,
   "id": "0b741dc9-6017-4c36-947e-9ff2b1c0512c",
   "metadata": {},
   "outputs": [],
   "source": []
  },
  {
   "cell_type": "code",
   "execution_count": null,
   "id": "41d221c4-6ba9-48bd-86b0-b2d56deb9c1c",
   "metadata": {},
   "outputs": [],
   "source": []
  },
  {
   "cell_type": "code",
   "execution_count": null,
   "id": "6bdd2f01-2e5e-4c04-8d54-3f40efd80037",
   "metadata": {},
   "outputs": [],
   "source": []
  },
  {
   "cell_type": "code",
   "execution_count": 265,
   "id": "52b036ce-e3d6-42d3-90b5-d51c28d92c77",
   "metadata": {},
   "outputs": [
    {
     "name": "stdout",
     "output_type": "stream",
     "text": [
      "Uf_1 =\n",
      "1, 0, 0, 0,\n",
      "0, 1, 0, 0,\n",
      "0, 0, 1, 0,\n",
      "0, 0, 0, 1\n",
      "Uf_2 =\n",
      "0, 0, 1, 0,\n",
      "0, 1, 0, 0,\n",
      "1, 0, 0, 0,\n",
      "0, 0, 0, 1\n",
      "Uf_3 =\n",
      "1, 0, 0, 0,\n",
      "0, 0, 0, 1,\n",
      "0, 0, 1, 0,\n",
      "0, 1, 0, 0\n",
      "Uf_4 =\n",
      "0, 0, 1, 0,\n",
      "0, 0, 0, 1,\n",
      "1, 0, 0, 0,\n",
      "0, 1, 0, 0\n"
     ]
    }
   ],
   "source": [
    "from UnitaryFunction import buildUnitaryMatrix, format_matrice\n",
    "def f1(a): return False\n",
    "def f2(a): return not a\n",
    "def f3(a): return a\n",
    "def f4(a): return True\n",
    "Uf_1 = buildUnitaryMatrix(f1)\n",
    "print(format_matrice(Uf_1))\n",
    "Uf_2 = buildUnitaryMatrix(f2)\n",
    "print(format_matrice(Uf_2))\n",
    "Uf_3 = buildUnitaryMatrix(f3)\n",
    "print(format_matrice(Uf_3))\n",
    "Uf_4 = buildUnitaryMatrix(f4)\n",
    "print(format_matrice(Uf_4))\n"
   ]
  },
  {
   "cell_type": "code",
   "execution_count": 266,
   "id": "7b5de56c-746b-4772-a007-df4bfb5d98b7",
   "metadata": {},
   "outputs": [],
   "source": [
    "end_state =TensorProduct(I,H)*Uf_1*TensorProduct(H*ψ1, H*ψ2)"
   ]
  },
  {
   "cell_type": "code",
   "execution_count": 267,
   "id": "d3cda47e-ae70-4ba4-8e47-f575de93b7c5",
   "metadata": {},
   "outputs": [
    {
     "data": {
      "text/latex": [
       "$\\displaystyle \\left[\\begin{matrix}\\frac{\\sqrt{2} α_{2} \\left(α_{1} + β_{1}\\right)}{2}\\\\\\frac{\\sqrt{2} β_{2} \\left(α_{1} + β_{1}\\right)}{2}\\\\\\frac{\\sqrt{2} α_{2} \\left(α_{1} - β_{1}\\right)}{2}\\\\\\frac{\\sqrt{2} β_{2} \\left(α_{1} - β_{1}\\right)}{2}\\end{matrix}\\right]$"
      ],
      "text/plain": [
       "⎡√2⋅α₂⋅(α₁ + β₁)⎤\n",
       "⎢───────────────⎥\n",
       "⎢       2       ⎥\n",
       "⎢               ⎥\n",
       "⎢√2⋅β₂⋅(α₁ + β₁)⎥\n",
       "⎢───────────────⎥\n",
       "⎢       2       ⎥\n",
       "⎢               ⎥\n",
       "⎢√2⋅α₂⋅(α₁ - β₁)⎥\n",
       "⎢───────────────⎥\n",
       "⎢       2       ⎥\n",
       "⎢               ⎥\n",
       "⎢√2⋅β₂⋅(α₁ - β₁)⎥\n",
       "⎢───────────────⎥\n",
       "⎣       2       ⎦"
      ]
     },
     "execution_count": 267,
     "metadata": {},
     "output_type": "execute_result"
    }
   ],
   "source": [
    "sp.simplify(end_state) #.subs({α1:0, β1:1, α2:1, β2:0})"
   ]
  },
  {
   "cell_type": "code",
   "execution_count": 268,
   "id": "2e9c47af-72c0-4990-9982-450c7eeb9f05",
   "metadata": {},
   "outputs": [
    {
     "data": {
      "image/png": "[encoded data removed]",
      "text/latex": [
       "$\\displaystyle \\left[\\begin{matrix}1 & 0 & 1 & 0\\\\0 & 1 & 0 & 1\\end{matrix}\\right]$"
      ],
      "text/plain": [
       "⎡1  0  1  0⎤\n",
       "⎢          ⎥\n",
       "⎣0  1  0  1⎦"
      ]
     },
     "execution_count": 268,
     "metadata": {},
     "output_type": "execute_result"
    }
   ],
   "source": [
    "from sympy.physics.quantum.dagger import Dagger\n",
    "Measure1over2=Dagger(TensorProduct(Matrix([1, 1]), I))\n",
    "Measure2over2=Dagger(TensorProduct(I, Matrix([1, 1])))\n",
    "Measure1over2"
   ]
  },
  {
   "cell_type": "code",
   "execution_count": 269,
   "id": "6a981c00-6571-43d5-b533-72cc2e957fa3",
   "metadata": {},
   "outputs": [
    {
     "data": {
      "text/latex": [
       "$\\displaystyle \\left[\\begin{matrix}\\frac{\\sqrt{2} α_{2} \\left(α_{1} + β_{1}\\right)}{2}\\\\\\frac{\\sqrt{2} β_{2} \\left(α_{1} + β_{1}\\right)}{2}\\\\\\frac{\\sqrt{2} α_{2} \\left(α_{1} - β_{1}\\right)}{2}\\\\\\frac{\\sqrt{2} β_{2} \\left(α_{1} - β_{1}\\right)}{2}\\end{matrix}\\right]$"
      ],
      "text/plain": [
       "⎡√2⋅α₂⋅(α₁ + β₁)⎤\n",
       "⎢───────────────⎥\n",
       "⎢       2       ⎥\n",
       "⎢               ⎥\n",
       "⎢√2⋅β₂⋅(α₁ + β₁)⎥\n",
       "⎢───────────────⎥\n",
       "⎢       2       ⎥\n",
       "⎢               ⎥\n",
       "⎢√2⋅α₂⋅(α₁ - β₁)⎥\n",
       "⎢───────────────⎥\n",
       "⎢       2       ⎥\n",
       "⎢               ⎥\n",
       "⎢√2⋅β₂⋅(α₁ - β₁)⎥\n",
       "⎢───────────────⎥\n",
       "⎣       2       ⎦"
      ]
     },
     "execution_count": 269,
     "metadata": {},
     "output_type": "execute_result"
    }
   ],
   "source": [
    "#Matrix([[ 1, 0, 1, 0],\n",
    "#              [ 0, 1, 0, 1]])*\n",
    "Res = TensorProduct(I,H)*Uf_1*TensorProduct(H*ψ1, H*ψ2)\n",
    "sp.simplify(Res)# .subs({α1:0, β1:1, α2:1, β2:0})\n"
   ]
  },
  {
   "cell_type": "code",
   "execution_count": 257,
   "id": "baeae2df-6ba9-40e4-aaa0-2cf127f4ce7d",
   "metadata": {},
   "outputs": [],
   "source": [
    "def measureAmongst2(idx, vect):\n",
    "    if (idx==1) : projection = Dagger(TensorProduct(Matrix([1, 1]), I))\n",
    "    if (idx==2) : projection = Dagger(TensorProduct(I, Matrix([1, 1])))\n",
    "    M=projection*sp.Abs(vect)\n",
    "    return sp.simplify((1/M.norm())*(M))"
   ]
  },
  {
   "cell_type": "code",
   "execution_count": 273,
   "id": "64248cc8-7bba-4081-b8ac-594d62ec8bd4",
   "metadata": {},
   "outputs": [
    {
     "data": {
      "image/png": "[encoded data removed]",
      "text/latex": [
       "$\\displaystyle \\left[\\begin{matrix}\\frac{\\sqrt{2}}{2}\\\\\\frac{\\sqrt{2}}{2}\\end{matrix}\\right]$"
      ],
      "text/plain": [
       "⎡√2⎤\n",
       "⎢──⎥\n",
       "⎢2 ⎥\n",
       "⎢  ⎥\n",
       "⎢√2⎥\n",
       "⎢──⎥\n",
       "⎣2 ⎦"
      ]
     },
     "execution_count": 273,
     "metadata": {},
     "output_type": "execute_result"
    }
   ],
   "source": [
    "measureAmongst2(2, TensorProduct(I,H)*Uf_2*TensorProduct(H*ψ1, H*ψ2)).subs({α1:0, β1:1, α2:1, β2:0})"
   ]
  },
  {
   "cell_type": "code",
   "execution_count": 227,
   "id": "ee6853a1-3d3a-47e6-be80-6923f1614afb",
   "metadata": {},
   "outputs": [
    {
     "data": {
      "text/latex": [
       "$\\displaystyle \\left[\\begin{matrix}\\frac{\\sqrt{2} \\left|{α_{2} \\left(α_{1} + β_{1}\\right)}\\right|}{2}\\\\\\frac{\\sqrt{2} \\left|{β_{2} \\left(α_{1} + β_{1}\\right)}\\right|}{2}\\\\\\frac{\\sqrt{2} \\left|{α_{2} \\left(α_{1} - β_{1}\\right)}\\right|}{2}\\\\\\frac{\\sqrt{2} \\left|{β_{2} \\left(α_{1} - β_{1}\\right)}\\right|}{2}\\end{matrix}\\right]$"
      ],
      "text/plain": [
       "⎡√2⋅│α₂⋅(α₁ + β₁)│⎤\n",
       "⎢─────────────────⎥\n",
       "⎢        2        ⎥\n",
       "⎢                 ⎥\n",
       "⎢√2⋅│β₂⋅(α₁ + β₁)│⎥\n",
       "⎢─────────────────⎥\n",
       "⎢        2        ⎥\n",
       "⎢                 ⎥\n",
       "⎢√2⋅│α₂⋅(α₁ - β₁)│⎥\n",
       "⎢─────────────────⎥\n",
       "⎢        2        ⎥\n",
       "⎢                 ⎥\n",
       "⎢√2⋅│β₂⋅(α₁ - β₁)│⎥\n",
       "⎢─────────────────⎥\n",
       "⎣        2        ⎦"
      ]
     },
     "execution_count": 227,
     "metadata": {},
     "output_type": "execute_result"
    }
   ],
   "source": [
    "\n",
    "sp.simplify(Abs(Res))"
   ]
  },
  {
   "cell_type": "code",
   "execution_count": 238,
   "id": "32bd2980-326a-4dc7-a581-3d89ced2824c",
   "metadata": {},
   "outputs": [
    {
     "data": {
      "text/latex": [
       "$\\displaystyle \\left[\\begin{matrix}\\frac{\\sqrt{2} \\left(\\left|{α_{2} \\left(α_{1} - β_{1}\\right)}\\right| + \\left|{α_{2} \\left(α_{1} + β_{1}\\right)}\\right|\\right)}{2}\\\\\\frac{\\sqrt{2} \\left(\\left|{β_{2} \\left(α_{1} - β_{1}\\right)}\\right| + \\left|{β_{2} \\left(α_{1} + β_{1}\\right)}\\right|\\right)}{2}\\end{matrix}\\right]$"
      ],
      "text/plain": [
       "⎡√2⋅(│α₂⋅(α₁ - β₁)│ + │α₂⋅(α₁ + β₁)│)⎤\n",
       "⎢────────────────────────────────────⎥\n",
       "⎢                 2                  ⎥\n",
       "⎢                                    ⎥\n",
       "⎢√2⋅(│β₂⋅(α₁ - β₁)│ + │β₂⋅(α₁ + β₁)│)⎥\n",
       "⎢────────────────────────────────────⎥\n",
       "⎣                 2                  ⎦"
      ]
     },
     "execution_count": 238,
     "metadata": {},
     "output_type": "execute_result"
    }
   ],
   "source": [
    "M=Measure1over2*Abs(Res)\n",
    "sp.simplify(M)"
   ]
  },
  {
   "cell_type": "code",
   "execution_count": 239,
   "id": "28e601e8-5cc7-4d21-a0bc-c38d0db26a74",
   "metadata": {},
   "outputs": [
    {
     "data": {
      "text/latex": [
       "$\\displaystyle \\left[\\begin{matrix}\\frac{\\left|{α_{2} \\left(α_{1} - β_{1}\\right)}\\right| + \\left|{α_{2} \\left(α_{1} + β_{1}\\right)}\\right|}{\\sqrt{\\left(\\left|{α_{2} \\left(α_{1} - β_{1}\\right)}\\right| + \\left|{α_{2} \\left(α_{1} + β_{1}\\right)}\\right|\\right)^{2} + \\left(\\left|{β_{2} \\left(α_{1} - β_{1}\\right)}\\right| + \\left|{β_{2} \\left(α_{1} + β_{1}\\right)}\\right|\\right)^{2}}}\\\\\\frac{\\left|{β_{2} \\left(α_{1} - β_{1}\\right)}\\right| + \\left|{β_{2} \\left(α_{1} + β_{1}\\right)}\\right|}{\\sqrt{\\left(\\left|{α_{2} \\left(α_{1} - β_{1}\\right)}\\right| + \\left|{α_{2} \\left(α_{1} + β_{1}\\right)}\\right|\\right)^{2} + \\left(\\left|{β_{2} \\left(α_{1} - β_{1}\\right)}\\right| + \\left|{β_{2} \\left(α_{1} + β_{1}\\right)}\\right|\\right)^{2}}}\\end{matrix}\\right]$"
      ],
      "text/plain": [
       "⎡                      │α₂⋅(α₁ - β₁)│ + │α₂⋅(α₁ + β₁)│                       ⎤\n",
       "⎢────────────────────────────────────────────────────────────────────────────⎥\n",
       "⎢   _________________________________________________________________________⎥\n",
       "⎢  ╱                                  2                                    2 ⎥\n",
       "⎢╲╱  (│α₂⋅(α₁ - β₁)│ + │α₂⋅(α₁ + β₁)│)  + (│β₂⋅(α₁ - β₁)│ + │β₂⋅(α₁ + β₁)│)  ⎥\n",
       "⎢                                                                            ⎥\n",
       "⎢                      │β₂⋅(α₁ - β₁)│ + │β₂⋅(α₁ + β₁)│                       ⎥\n",
       "⎢────────────────────────────────────────────────────────────────────────────⎥\n",
       "⎢   _________________________________________________________________________⎥\n",
       "⎢  ╱                                  2                                    2 ⎥\n",
       "⎣╲╱  (│α₂⋅(α₁ - β₁)│ + │α₂⋅(α₁ + β₁)│)  + (│β₂⋅(α₁ - β₁)│ + │β₂⋅(α₁ + β₁)│)  ⎦"
      ]
     },
     "execution_count": 239,
     "metadata": {},
     "output_type": "execute_result"
    }
   ],
   "source": [
    "sp.simplify((1/M.norm())*(M))#.subs({α1:0, β1:1, α2:1, β2:0})"
   ]
  },
  {
   "cell_type": "code",
   "execution_count": 195,
   "id": "3323ad9e-bc69-46fe-9667-aa07355ab0a9",
   "metadata": {},
   "outputs": [
    {
     "data": {
      "image/png": "[encoded data removed]",
      "text/latex": [
       "$\\displaystyle \\left[\\begin{matrix}\\frac{\\sqrt{2}}{2}\\\\0\\\\- \\frac{\\sqrt{2}}{2}\\\\0\\end{matrix}\\right]$"
      ],
      "text/plain": [
       "⎡ √2 ⎤\n",
       "⎢ ── ⎥\n",
       "⎢ 2  ⎥\n",
       "⎢    ⎥\n",
       "⎢ 0  ⎥\n",
       "⎢    ⎥\n",
       "⎢-√2 ⎥\n",
       "⎢────⎥\n",
       "⎢ 2  ⎥\n",
       "⎢    ⎥\n",
       "⎣ 0  ⎦"
      ]
     },
     "execution_count": 195,
     "metadata": {},
     "output_type": "execute_result"
    }
   ],
   "source": [
    "ResN=Res.subs({α1:0, β1:1, α2:1, β2:0})\n",
    "ResN"
   ]
  },
  {
   "cell_type": "code",
   "execution_count": 200,
   "id": "abc22de8-7741-4272-834e-220d8ae745f1",
   "metadata": {},
   "outputs": [
    {
     "data": {
      "image/png": "[encoded data removed]",
      "text/latex": [
       "$\\displaystyle \\left[\\begin{matrix}0\\\\0\\end{matrix}\\right]$"
      ],
      "text/plain": [
       "⎡0⎤\n",
       "⎢ ⎥\n",
       "⎣0⎦"
      ]
     },
     "execution_count": 200,
     "metadata": {},
     "output_type": "execute_result"
    }
   ],
   "source": [
    "Measure1over2=Matrix([[ 1, 0, 1, 0],\n",
    "                      [ 0, 1, 0, 1]])\n",
    "Measure1over2*ResN"
   ]
  },
  {
   "cell_type": "code",
   "execution_count": 189,
   "id": "5b7a0676-ca16-40c8-85cf-c060face7e91",
   "metadata": {},
   "outputs": [
    {
     "data": {
      "text/latex": [
       "$\\displaystyle \\left[\\begin{matrix}\\sqrt{2} α_{1} α_{2}\\\\\\sqrt{2} α_{1} β_{2}\\end{matrix}\\right]$"
      ],
      "text/plain": [
       "⎡√2⋅α₁⋅α₂⎤\n",
       "⎢        ⎥\n",
       "⎣√2⋅α₁⋅β₂⎦"
      ]
     },
     "execution_count": 189,
     "metadata": {},
     "output_type": "execute_result"
    }
   ],
   "source": [
    "sp.simplify(Measure1over2*TensorProduct(I,H)*Uf_2*TensorProduct(H*ψ1, H*ψ2))# .subs({α1:0, β1:1, α2:1, β2:0})"
   ]
  },
  {
   "cell_type": "code",
   "execution_count": 180,
   "id": "da1f5a41-0dfd-4489-975e-908dd9cccebb",
   "metadata": {},
   "outputs": [
    {
     "data": {
      "text/latex": [
       "$\\displaystyle \\left[\\begin{matrix}\\frac{\\sqrt{2} α_{2} \\left(α_{1} + β_{1}\\right)}{2} & \\frac{\\sqrt{2} \\left(α_{1} α_{2} - β_{1} β_{2}\\right)}{2} & \\frac{\\sqrt{2} \\left(α_{1} α_{2} + β_{1} β_{2}\\right)}{2} & \\frac{\\sqrt{2} α_{2} \\left(α_{1} - β_{1}\\right)}{2}\\\\\\frac{\\sqrt{2} β_{2} \\left(α_{1} + β_{1}\\right)}{2} & \\frac{\\sqrt{2} \\left(α_{1} β_{2} - α_{2} β_{1}\\right)}{2} & \\frac{\\sqrt{2} \\left(α_{1} β_{2} + α_{2} β_{1}\\right)}{2} & \\frac{\\sqrt{2} β_{2} \\left(α_{1} - β_{1}\\right)}{2}\\\\\\frac{\\sqrt{2} α_{2} \\left(α_{1} - β_{1}\\right)}{2} & \\frac{\\sqrt{2} \\left(α_{1} α_{2} + β_{1} β_{2}\\right)}{2} & \\frac{\\sqrt{2} \\left(α_{1} α_{2} - β_{1} β_{2}\\right)}{2} & \\frac{\\sqrt{2} α_{2} \\left(α_{1} + β_{1}\\right)}{2}\\\\\\frac{\\sqrt{2} β_{2} \\left(α_{1} - β_{1}\\right)}{2} & \\frac{\\sqrt{2} \\left(α_{1} β_{2} + α_{2} β_{1}\\right)}{2} & \\frac{\\sqrt{2} \\left(α_{1} β_{2} - α_{2} β_{1}\\right)}{2} & \\frac{\\sqrt{2} β_{2} \\left(α_{1} + β_{1}\\right)}{2}\\end{matrix}\\right]$"
      ],
      "text/plain": [
       "⎡√2⋅α₂⋅(α₁ + β₁)  √2⋅(α₁⋅α₂ - β₁⋅β₂)  √2⋅(α₁⋅α₂ + β₁⋅β₂)  √2⋅α₂⋅(α₁ - β₁)⎤\n",
       "⎢───────────────  ──────────────────  ──────────────────  ───────────────⎥\n",
       "⎢       2                 2                   2                  2       ⎥\n",
       "⎢                                                                        ⎥\n",
       "⎢√2⋅β₂⋅(α₁ + β₁)  √2⋅(α₁⋅β₂ - α₂⋅β₁)  √2⋅(α₁⋅β₂ + α₂⋅β₁)  √2⋅β₂⋅(α₁ - β₁)⎥\n",
       "⎢───────────────  ──────────────────  ──────────────────  ───────────────⎥\n",
       "⎢       2                 2                   2                  2       ⎥\n",
       "⎢                                                                        ⎥\n",
       "⎢√2⋅α₂⋅(α₁ - β₁)  √2⋅(α₁⋅α₂ + β₁⋅β₂)  √2⋅(α₁⋅α₂ - β₁⋅β₂)  √2⋅α₂⋅(α₁ + β₁)⎥\n",
       "⎢───────────────  ──────────────────  ──────────────────  ───────────────⎥\n",
       "⎢       2                 2                   2                  2       ⎥\n",
       "⎢                                                                        ⎥\n",
       "⎢√2⋅β₂⋅(α₁ - β₁)  √2⋅(α₁⋅β₂ + α₂⋅β₁)  √2⋅(α₁⋅β₂ - α₂⋅β₁)  √2⋅β₂⋅(α₁ + β₁)⎥\n",
       "⎢───────────────  ──────────────────  ──────────────────  ───────────────⎥\n",
       "⎣       2                 2                   2                  2       ⎦"
      ]
     },
     "execution_count": 180,
     "metadata": {},
     "output_type": "execute_result"
    }
   ],
   "source": [
    "V=sp.simplify(Matrix([\n",
    "    Matrix([TensorProduct(I,H)*Uf_1*TensorProduct(H*ψ1, H*ψ2)]).T,\n",
    "    Matrix([TensorProduct(I,H)*Uf_2*TensorProduct(H*ψ1, H*ψ2)]).T,\n",
    "    Matrix([TensorProduct(I,H)*Uf_3*TensorProduct(H*ψ1, H*ψ2)]).T,\n",
    "    Matrix([TensorProduct(I,H)*Uf_4*TensorProduct(H*ψ1, H*ψ2)]).T,\n",
    "]).T)\n",
    "sp.simplify(V)# .subs({α1:0, β1:1, α2:1, β2:0})"
   ]
  },
  {
   "cell_type": "code",
   "execution_count": 99,
   "id": "e51918a5-73b9-49e1-a3e2-2983b131a3a7",
   "metadata": {},
   "outputs": [
    {
     "data": {
      "image/png": "[encoded data removed]",
      "text/latex": [
       "$\\displaystyle \\left[\\begin{matrix}1 & 1 & 0 & 0\\\\0 & 0 & 1 & 1\\end{matrix}\\right]$"
      ],
      "text/plain": [
       "⎡1  1  0  0⎤\n",
       "⎢          ⎥\n",
       "⎣0  0  1  1⎦"
      ]
     },
     "execution_count": 99,
     "metadata": {},
     "output_type": "execute_result"
    }
   ],
   "source": [
    "Matrix([[ 1, 1, 0, 0],\n",
    "        [ 0, 0, 1, 1]])"
   ]
  },
  {
   "cell_type": "code",
   "execution_count": 88,
   "id": "b07daae1-f923-4635-b74c-34715c7a1a2e",
   "metadata": {},
   "outputs": [
    {
     "data": {
      "image/png": "[encoded data removed]",
      "text/latex": [
       "$\\displaystyle \\left[\\begin{matrix}1 & 0 & 1 & 0\\\\0 & 1 & 0 & 1\\end{matrix}\\right]$"
      ],
      "text/plain": [
       "⎡1  0  1  0⎤\n",
       "⎢          ⎥\n",
       "⎣0  1  0  1⎦"
      ]
     },
     "execution_count": 88,
     "metadata": {},
     "output_type": "execute_result"
    }
   ],
   "source": [
    "Matrix([[ 1, 0, 1, 0],\n",
    "        [ 0, 1, 0, 1]])"
   ]
  },
  {
   "cell_type": "code",
   "execution_count": null,
   "id": "d4064961-559a-4b48-b179-a40aa5636451",
   "metadata": {},
   "outputs": [],
   "source": []
  }
 ],
 "metadata": {
  "kernelspec": {
   "display_name": "Python 3 (ipykernel)",
   "language": "python",
   "name": "python3"
  },
  "language_info": {
   "codemirror_mode": {
    "name": "ipython",
    "version": 3
   },
   "file_extension": ".py",
   "mimetype": "text/x-python",
   "name": "python",
   "nbconvert_exporter": "python",
   "pygments_lexer": "ipython3",
   "version": "3.11.6"
  }
 },
 "nbformat": 4,
 "nbformat_minor": 5
}
