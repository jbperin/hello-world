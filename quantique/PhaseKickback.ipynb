{
 "cells": [
  {
   "cell_type": "code",
   "execution_count": 2,
   "id": "eaacd12b",
   "metadata": {},
   "outputs": [],
   "source": [
    "import sympy\n",
    "# from qiskit import QuantumCircuit\n",
    "# start the pretty-printer to get nicely typeset math\n",
    "sympy.init_printing()\n",
    "\n",
    "from sympy.physics.quantum import Bra, Ket\n",
    "from sympy import Matrix\n",
    "from sympy.physics.quantum import TensorProduct\n",
    "from sympy.physics.quantum.gate import HadamardGate,CNotGate, IdentityGate\n",
    "from sympy.physics.quantum.qapply import qapply\n",
    "from sympy import eye\n",
    "\n",
    "from sympy.physics.quantum import Ket\n",
    "from sympy import sqrt"
   ]
  },
  {
   "cell_type": "code",
   "execution_count": 3,
   "id": "1bd001de",
   "metadata": {},
   "outputs": [],
   "source": [
    "#definition des états\n",
    "ket0 = Matrix([1,0])\n",
    "ket1 = Matrix([0,1])\n",
    "\n",
    "α = sympy.Symbol(\"α\")\n",
    "β = sympy.Symbol(\"β\")\n",
    "ϕ = α * ket0 + β * ket1 # Matrix([α,β])\n"
   ]
  },
  {
   "cell_type": "code",
   "execution_count": 4,
   "id": "0b869ace",
   "metadata": {},
   "outputs": [],
   "source": [
    "notgate=Matrix([[0,1], [1,0]])\n",
    "hadamardgate = Matrix([[1/sqrt(2),1/sqrt(2)], [1/sqrt(2),-1/sqrt(2)]])\n",
    "Zgate=Matrix([[1,0], [0,-1]])\n",
    "\n",
    "SWAP = Matrix ([[1,0,0,0],[0,0,1,0],[0,1,0,0],[0,0,0,1]])\n",
    "cnotgate = TensorProduct(eye(2),ket0*ket0.T) + TensorProduct(notgate, ket1*ket1.T) "
   ]
  },
  {
   "cell_type": "code",
   "execution_count": 5,
   "id": "c08594a0",
   "metadata": {},
   "outputs": [],
   "source": [
    "ps = hadamardgate*ket0\n",
    "ms = hadamardgate*ket1"
   ]
  },
  {
   "cell_type": "code",
   "execution_count": 6,
   "id": "e60cce37",
   "metadata": {},
   "outputs": [
    {
     "data": {
      "text/latex": [
       "$\\displaystyle \\left[\\begin{matrix}α\\\\0\\\\β\\\\0\\end{matrix}\\right]$"
      ],
      "text/plain": [
       "⎡α⎤\n",
       "⎢ ⎥\n",
       "⎢0⎥\n",
       "⎢ ⎥\n",
       "⎢β⎥\n",
       "⎢ ⎥\n",
       "⎣0⎦"
      ]
     },
     "execution_count": 6,
     "metadata": {},
     "output_type": "execute_result"
    }
   ],
   "source": [
    "π0 = TensorProduct(ϕ, ket0)\n",
    "π0 "
   ]
  },
  {
   "cell_type": "code",
   "execution_count": 7,
   "id": "489002f1",
   "metadata": {},
   "outputs": [
    {
     "data": {
      "text/latex": [
       "$\\displaystyle \\left[\\begin{matrix}\\frac{\\sqrt{2} α}{2}\\\\\\frac{\\sqrt{2} α}{2}\\\\\\frac{\\sqrt{2} β}{2}\\\\\\frac{\\sqrt{2} β}{2}\\end{matrix}\\right]$"
      ],
      "text/plain": [
       "⎡√2⋅α⎤\n",
       "⎢────⎥\n",
       "⎢ 2  ⎥\n",
       "⎢    ⎥\n",
       "⎢√2⋅α⎥\n",
       "⎢────⎥\n",
       "⎢ 2  ⎥\n",
       "⎢    ⎥\n",
       "⎢√2⋅β⎥\n",
       "⎢────⎥\n",
       "⎢ 2  ⎥\n",
       "⎢    ⎥\n",
       "⎢√2⋅β⎥\n",
       "⎢────⎥\n",
       "⎣ 2  ⎦"
      ]
     },
     "execution_count": 7,
     "metadata": {},
     "output_type": "execute_result"
    }
   ],
   "source": [
    "π1 = TensorProduct(eye(2), hadamardgate)*π0\n",
    "π1"
   ]
  },
  {
   "cell_type": "code",
   "execution_count": 8,
   "id": "eb854372",
   "metadata": {},
   "outputs": [
    {
     "data": {
      "text/latex": [
       "$\\displaystyle \\left[\\begin{matrix}\\frac{\\sqrt{2} α}{2}\\\\\\frac{\\sqrt{2} β}{2}\\\\\\frac{\\sqrt{2} β}{2}\\\\\\frac{\\sqrt{2} α}{2}\\end{matrix}\\right]$"
      ],
      "text/plain": [
       "⎡√2⋅α⎤\n",
       "⎢────⎥\n",
       "⎢ 2  ⎥\n",
       "⎢    ⎥\n",
       "⎢√2⋅β⎥\n",
       "⎢────⎥\n",
       "⎢ 2  ⎥\n",
       "⎢    ⎥\n",
       "⎢√2⋅β⎥\n",
       "⎢────⎥\n",
       "⎢ 2  ⎥\n",
       "⎢    ⎥\n",
       "⎢√2⋅α⎥\n",
       "⎢────⎥\n",
       "⎣ 2  ⎦"
      ]
     },
     "execution_count": 8,
     "metadata": {},
     "output_type": "execute_result"
    }
   ],
   "source": [
    "π2 = cnotgate*π1\n",
    "π2"
   ]
  },
  {
   "cell_type": "code",
   "execution_count": 9,
   "id": "c6d7300c",
   "metadata": {},
   "outputs": [
    {
     "data": {
      "text/latex": [
       "$\\displaystyle \\left[\\begin{matrix}U_{00} & U_{01}\\\\U_{10} & U_{11}\\end{matrix}\\right]$"
      ],
      "text/plain": [
       "⎡U₀₀  U₀₁⎤\n",
       "⎢        ⎥\n",
       "⎣U₁₀  U₁₁⎦"
      ]
     },
     "execution_count": 9,
     "metadata": {},
     "output_type": "execute_result"
    }
   ],
   "source": [
    "U00 = sympy.Symbol(\"U00\")\n",
    "U01 = sympy.Symbol(\"U01\")\n",
    "U10 = sympy.Symbol(\"U10\")\n",
    "U11 = sympy.Symbol(\"U11\")\n",
    "U = Matrix([[U00, U01], [U10, U11]])\n",
    "U"
   ]
  },
  {
   "cell_type": "code",
   "execution_count": 10,
   "id": "b4996e82",
   "metadata": {},
   "outputs": [
    {
     "data": {
      "text/latex": [
       "$\\displaystyle \\left[\\begin{matrix}1 & 0 & 0 & 0\\\\0 & U_{00} & 0 & U_{01}\\\\0 & 0 & 1 & 0\\\\0 & U_{10} & 0 & U_{11}\\end{matrix}\\right]$"
      ],
      "text/plain": [
       "⎡1   0   0   0 ⎤\n",
       "⎢              ⎥\n",
       "⎢0  U₀₀  0  U₀₁⎥\n",
       "⎢              ⎥\n",
       "⎢0   0   1   0 ⎥\n",
       "⎢              ⎥\n",
       "⎣0  U₁₀  0  U₁₁⎦"
      ]
     },
     "execution_count": 10,
     "metadata": {},
     "output_type": "execute_result"
    }
   ],
   "source": [
    "ControlledU = TensorProduct(eye(2),ket0*ket0.T) + TensorProduct(U, ket1*ket1.T)\n",
    "ControlledU"
   ]
  },
  {
   "cell_type": "code",
   "execution_count": 11,
   "id": "e24dbcda",
   "metadata": {},
   "outputs": [
    {
     "data": {
      "text/latex": [
       "$\\displaystyle \\left[\\begin{matrix}\\frac{\\sqrt{2} α}{2}\\\\\\frac{\\sqrt{2} U_{00} α}{2} + \\frac{\\sqrt{2} U_{01} β}{2}\\\\\\frac{\\sqrt{2} β}{2}\\\\\\frac{\\sqrt{2} U_{10} α}{2} + \\frac{\\sqrt{2} U_{11} β}{2}\\end{matrix}\\right]$"
      ],
      "text/plain": [
       "⎡       √2⋅α        ⎤\n",
       "⎢       ────        ⎥\n",
       "⎢        2          ⎥\n",
       "⎢                   ⎥\n",
       "⎢√2⋅U₀₀⋅α   √2⋅U₀₁⋅β⎥\n",
       "⎢──────── + ────────⎥\n",
       "⎢   2          2    ⎥\n",
       "⎢                   ⎥\n",
       "⎢       √2⋅β        ⎥\n",
       "⎢       ────        ⎥\n",
       "⎢        2          ⎥\n",
       "⎢                   ⎥\n",
       "⎢√2⋅U₁₀⋅α   √2⋅U₁₁⋅β⎥\n",
       "⎢──────── + ────────⎥\n",
       "⎣   2          2    ⎦"
      ]
     },
     "execution_count": 11,
     "metadata": {},
     "output_type": "execute_result"
    }
   ],
   "source": [
    "ControlledU*π1"
   ]
  },
  {
   "cell_type": "code",
   "execution_count": 12,
   "id": "12011fa4",
   "metadata": {},
   "outputs": [
    {
     "data": {
      "text/latex": [
       "$\\displaystyle \\left[\\begin{matrix}\\frac{\\sqrt{2} α}{2}\\\\\\frac{\\sqrt{2} α}{2}\\\\\\frac{\\sqrt{2} β}{2}\\\\\\frac{\\sqrt{2} β}{2}\\end{matrix}\\right]$"
      ],
      "text/plain": [
       "⎡√2⋅α⎤\n",
       "⎢────⎥\n",
       "⎢ 2  ⎥\n",
       "⎢    ⎥\n",
       "⎢√2⋅α⎥\n",
       "⎢────⎥\n",
       "⎢ 2  ⎥\n",
       "⎢    ⎥\n",
       "⎢√2⋅β⎥\n",
       "⎢────⎥\n",
       "⎢ 2  ⎥\n",
       "⎢    ⎥\n",
       "⎢√2⋅β⎥\n",
       "⎢────⎥\n",
       "⎣ 2  ⎦"
      ]
     },
     "execution_count": 12,
     "metadata": {},
     "output_type": "execute_result"
    }
   ],
   "source": [
    "TensorProduct(ϕ,ket0+ket1)/sqrt(2)"
   ]
  },
  {
   "cell_type": "code",
   "execution_count": 13,
   "id": "037fc841",
   "metadata": {},
   "outputs": [
    {
     "data": {
      "text/latex": [
       "$\\displaystyle \\left[\\begin{matrix}\\frac{\\sqrt{2} α}{2}\\\\\\frac{\\sqrt{2} α}{2}\\\\\\frac{\\sqrt{2} β}{2}\\\\\\frac{\\sqrt{2} β}{2}\\end{matrix}\\right]$"
      ],
      "text/plain": [
       "⎡√2⋅α⎤\n",
       "⎢────⎥\n",
       "⎢ 2  ⎥\n",
       "⎢    ⎥\n",
       "⎢√2⋅α⎥\n",
       "⎢────⎥\n",
       "⎢ 2  ⎥\n",
       "⎢    ⎥\n",
       "⎢√2⋅β⎥\n",
       "⎢────⎥\n",
       "⎢ 2  ⎥\n",
       "⎢    ⎥\n",
       "⎢√2⋅β⎥\n",
       "⎢────⎥\n",
       "⎣ 2  ⎦"
      ]
     },
     "execution_count": 13,
     "metadata": {},
     "output_type": "execute_result"
    }
   ],
   "source": [
    "(TensorProduct(ϕ,ket0)+TensorProduct(ϕ,ket1))/sqrt(2)"
   ]
  },
  {
   "cell_type": "code",
   "execution_count": 14,
   "id": "2c7ac85f",
   "metadata": {},
   "outputs": [
    {
     "data": {
      "text/latex": [
       "$\\displaystyle \\left[\\begin{matrix}\\frac{\\sqrt{2} α}{2}\\\\\\frac{\\sqrt{2} \\left(U_{00} α + U_{01} β\\right)}{2}\\\\\\frac{\\sqrt{2} β}{2}\\\\\\frac{\\sqrt{2} \\left(U_{10} α + U_{11} β\\right)}{2}\\end{matrix}\\right]$"
      ],
      "text/plain": [
       "⎡       √2⋅α       ⎤\n",
       "⎢       ────       ⎥\n",
       "⎢        2         ⎥\n",
       "⎢                  ⎥\n",
       "⎢√2⋅(U₀₀⋅α + U₀₁⋅β)⎥\n",
       "⎢──────────────────⎥\n",
       "⎢        2         ⎥\n",
       "⎢                  ⎥\n",
       "⎢       √2⋅β       ⎥\n",
       "⎢       ────       ⎥\n",
       "⎢        2         ⎥\n",
       "⎢                  ⎥\n",
       "⎢√2⋅(U₁₀⋅α + U₁₁⋅β)⎥\n",
       "⎢──────────────────⎥\n",
       "⎣        2         ⎦"
      ]
     },
     "execution_count": 14,
     "metadata": {},
     "output_type": "execute_result"
    }
   ],
   "source": [
    "R1=(TensorProduct(ϕ,ket0)+TensorProduct(U*ϕ, ket1))/sqrt(2)\n",
    "R1"
   ]
  },
  {
   "cell_type": "code",
   "execution_count": 15,
   "id": "d193d303",
   "metadata": {},
   "outputs": [
    {
     "data": {
      "text/latex": [
       "$\\displaystyle \\left[\\begin{matrix}\\frac{\\sqrt{2} α}{2}\\\\\\frac{\\sqrt{2} U_{00} α}{2} + \\frac{\\sqrt{2} U_{01} β}{2}\\\\\\frac{\\sqrt{2} β}{2}\\\\\\frac{\\sqrt{2} U_{10} α}{2} + \\frac{\\sqrt{2} U_{11} β}{2}\\end{matrix}\\right]$"
      ],
      "text/plain": [
       "⎡       √2⋅α        ⎤\n",
       "⎢       ────        ⎥\n",
       "⎢        2          ⎥\n",
       "⎢                   ⎥\n",
       "⎢√2⋅U₀₀⋅α   √2⋅U₀₁⋅β⎥\n",
       "⎢──────── + ────────⎥\n",
       "⎢   2          2    ⎥\n",
       "⎢                   ⎥\n",
       "⎢       √2⋅β        ⎥\n",
       "⎢       ────        ⎥\n",
       "⎢        2          ⎥\n",
       "⎢                   ⎥\n",
       "⎢√2⋅U₁₀⋅α   √2⋅U₁₁⋅β⎥\n",
       "⎢──────── + ────────⎥\n",
       "⎣   2          2    ⎦"
      ]
     },
     "execution_count": 15,
     "metadata": {},
     "output_type": "execute_result"
    }
   ],
   "source": [
    "R2=(TensorProduct(eye(2),ket0*ket0.T)+TensorProduct(U,ket1*ket1.T))*π1\n",
    "R2"
   ]
  },
  {
   "cell_type": "code",
   "execution_count": 16,
   "id": "ab78f413",
   "metadata": {},
   "outputs": [],
   "source": [
    "expr=R2-R1\n",
    "expr.simplify()"
   ]
  },
  {
   "cell_type": "code",
   "execution_count": 17,
   "id": "b62a0337",
   "metadata": {},
   "outputs": [
    {
     "data": {
      "text/latex": [
       "$\\displaystyle \\left[\\begin{matrix}0\\\\0\\\\0\\\\0\\end{matrix}\\right]$"
      ],
      "text/plain": [
       "⎡0⎤\n",
       "⎢ ⎥\n",
       "⎢0⎥\n",
       "⎢ ⎥\n",
       "⎢0⎥\n",
       "⎢ ⎥\n",
       "⎣0⎦"
      ]
     },
     "execution_count": 17,
     "metadata": {},
     "output_type": "execute_result"
    }
   ],
   "source": [
    "expr"
   ]
  },
  {
   "cell_type": "code",
   "execution_count": 18,
   "id": "1e5ef338",
   "metadata": {},
   "outputs": [
    {
     "data": {
      "text/latex": [
       "$\\displaystyle \\left[ \\left( -1, \\  1, \\  \\left[ \\left[\\begin{matrix}0\\\\-1\\\\0\\\\1\\end{matrix}\\right]\\right]\\right), \\  \\left( 1, \\  3, \\  \\left[ \\left[\\begin{matrix}1\\\\0\\\\0\\\\0\\end{matrix}\\right], \\  \\left[\\begin{matrix}0\\\\0\\\\1\\\\0\\end{matrix}\\right], \\  \\left[\\begin{matrix}0\\\\1\\\\0\\\\1\\end{matrix}\\right]\\right]\\right)\\right]$"
      ],
      "text/plain": [
       "⎡⎛       ⎡⎡0 ⎤⎤⎞  ⎛      ⎡⎡1⎤  ⎡0⎤  ⎡0⎤⎤⎞⎤\n",
       "⎢⎜       ⎢⎢  ⎥⎥⎟  ⎜      ⎢⎢ ⎥  ⎢ ⎥  ⎢ ⎥⎥⎟⎥\n",
       "⎢⎜       ⎢⎢-1⎥⎥⎟  ⎜      ⎢⎢0⎥  ⎢0⎥  ⎢1⎥⎥⎟⎥\n",
       "⎢⎜-1, 1, ⎢⎢  ⎥⎥⎟, ⎜1, 3, ⎢⎢ ⎥, ⎢ ⎥, ⎢ ⎥⎥⎟⎥\n",
       "⎢⎜       ⎢⎢0 ⎥⎥⎟  ⎜      ⎢⎢0⎥  ⎢1⎥  ⎢0⎥⎥⎟⎥\n",
       "⎢⎜       ⎢⎢  ⎥⎥⎟  ⎜      ⎢⎢ ⎥  ⎢ ⎥  ⎢ ⎥⎥⎟⎥\n",
       "⎣⎝       ⎣⎣1 ⎦⎦⎠  ⎝      ⎣⎣0⎦  ⎣0⎦  ⎣1⎦⎦⎠⎦"
      ]
     },
     "execution_count": 18,
     "metadata": {},
     "output_type": "execute_result"
    }
   ],
   "source": [
    "cnotgate.eigenvects()\n"
   ]
  },
  {
   "cell_type": "code",
   "execution_count": 19,
   "id": "e3d3d4a9",
   "metadata": {},
   "outputs": [
    {
     "name": "stdout",
     "output_type": "stream",
     "text": [
      "1 [Matrix([\n",
      "[1],\n",
      "[0]]), Matrix([\n",
      "[0],\n",
      "[1]])]\n"
     ]
    }
   ],
   "source": [
    "eigentuples = eye(2).eigenvects()\n",
    "eigentuples\n",
    "for eigenvalue, nb, eigenvecs in eigentuples:\n",
    "    print (eigenvalue, [v for v in eigenvecs])\n"
   ]
  },
  {
   "cell_type": "code",
   "execution_count": 20,
   "id": "ec627d7f",
   "metadata": {},
   "outputs": [
    {
     "data": {
      "text/latex": [
       "$\\displaystyle \\left[ \\left( 1, \\  2, \\  \\left[ \\left[\\begin{matrix}1\\\\0\\end{matrix}\\right], \\  \\left[\\begin{matrix}0\\\\1\\end{matrix}\\right]\\right]\\right)\\right]$"
      ],
      "text/plain": [
       "⎡⎛      ⎡⎡1⎤  ⎡0⎤⎤⎞⎤\n",
       "⎢⎜1, 2, ⎢⎢ ⎥, ⎢ ⎥⎥⎟⎥\n",
       "⎣⎝      ⎣⎣0⎦  ⎣1⎦⎦⎠⎦"
      ]
     },
     "execution_count": 20,
     "metadata": {},
     "output_type": "execute_result"
    }
   ],
   "source": [
    "eye(2).eigenvects()\n"
   ]
  },
  {
   "cell_type": "code",
   "execution_count": 21,
   "id": "2bac9e11",
   "metadata": {},
   "outputs": [
    {
     "data": {
      "text/latex": [
       "$\\displaystyle \\left[\\begin{matrix}-1\\\\1\\end{matrix}\\right]$"
      ],
      "text/plain": [
       "⎡-1⎤\n",
       "⎢  ⎥\n",
       "⎣1 ⎦"
      ]
     },
     "execution_count": 21,
     "metadata": {},
     "output_type": "execute_result"
    }
   ],
   "source": [
    "notgate.eigenvects()[0][2][0]\n"
   ]
  },
  {
   "cell_type": "code",
   "execution_count": 22,
   "id": "3fce52f7",
   "metadata": {},
   "outputs": [
    {
     "data": {
      "image/png": "[encoded data removed]",
      "text/latex": [
       "$\\displaystyle -1$"
      ],
      "text/plain": [
       "-1"
      ]
     },
     "execution_count": 22,
     "metadata": {},
     "output_type": "execute_result"
    }
   ],
   "source": [
    "notgate.det()"
   ]
  },
  {
   "cell_type": "code",
   "execution_count": 23,
   "id": "b841aed7",
   "metadata": {},
   "outputs": [
    {
     "data": {
      "image/png": "[encoded data removed]",
      "text/latex": [
       "$\\displaystyle U_{00} U_{11} - U_{01} U_{10}$"
      ],
      "text/plain": [
       "U₀₀⋅U₁₁ - U₀₁⋅U₁₀"
      ]
     },
     "execution_count": 23,
     "metadata": {},
     "output_type": "execute_result"
    }
   ],
   "source": [
    "U.det()"
   ]
  },
  {
   "cell_type": "code",
   "execution_count": 24,
   "id": "d45e5c0e",
   "metadata": {},
   "outputs": [
    {
     "data": {
      "text/latex": [
       "$\\displaystyle \\left[ \\left( \\frac{U_{00}}{2} + \\frac{U_{11}}{2} - \\frac{\\sqrt{U_{00}^{2} - 2 U_{00} U_{11} + 4 U_{01} U_{10} + U_{11}^{2}}}{2}, \\  1, \\  \\left[ \\left[\\begin{matrix}- \\frac{U_{11}}{U_{10}} + \\frac{\\frac{U_{00}}{2} + \\frac{U_{11}}{2} - \\frac{\\sqrt{U_{00}^{2} - 2 U_{00} U_{11} + 4 U_{01} U_{10} + U_{11}^{2}}}{2}}{U_{10}}\\\\1\\end{matrix}\\right]\\right]\\right), \\  \\left( \\frac{U_{00}}{2} + \\frac{U_{11}}{2} + \\frac{\\sqrt{U_{00}^{2} - 2 U_{00} U_{11} + 4 U_{01} U_{10} + U_{11}^{2}}}{2}, \\  1, \\  \\left[ \\left[\\begin{matrix}- \\frac{U_{11}}{U_{10}} + \\frac{\\frac{U_{00}}{2} + \\frac{U_{11}}{2} + \\frac{\\sqrt{U_{00}^{2} - 2 U_{00} U_{11} + 4 U_{01} U_{10} + U_{11}^{2}}}{2}}{U_{10}}\\\\1\\end{matrix}\\right]\\right]\\right)\\right]$"
      ],
      "text/plain": [
       "⎡⎛                                                         ⎡⎡                 \n",
       "⎢⎜               _____________________________________     ⎢⎢                 \n",
       "⎢⎜              ╱    2                              2      ⎢⎢        U₀₀   U₁₁\n",
       "⎢⎜U₀₀   U₁₁   ╲╱  U₀₀  - 2⋅U₀₀⋅U₁₁ + 4⋅U₀₁⋅U₁₀ + U₁₁       ⎢⎢        ─── + ───\n",
       "⎢⎜─── + ─── - ────────────────────────────────────────, 1, ⎢⎢  U₁₁    2     2 \n",
       "⎢⎜ 2     2                       2                         ⎢⎢- ─── + ─────────\n",
       "⎢⎜                                                         ⎢⎢  U₁₀            \n",
       "⎢⎜                                                         ⎢⎢                 \n",
       "⎣⎝                                                         ⎣⎣                 \n",
       "\n",
       "      _____________________________________⎤⎤⎞  ⎛                             \n",
       "     ╱    2                              2 ⎥⎥⎟  ⎜               ______________\n",
       "   ╲╱  U₀₀  - 2⋅U₀₀⋅U₁₁ + 4⋅U₀₁⋅U₁₀ + U₁₁  ⎥⎥⎟  ⎜              ╱    2         \n",
       " - ────────────────────────────────────────⎥⎥⎟  ⎜U₀₀   U₁₁   ╲╱  U₀₀  - 2⋅U₀₀⋅\n",
       "                      2                    ⎥⎥⎟, ⎜─── + ─── + ─────────────────\n",
       "───────────────────────────────────────────⎥⎥⎟  ⎜ 2     2                     \n",
       "               U₁₀                         ⎥⎥⎟  ⎜                             \n",
       "                                           ⎥⎥⎟  ⎜                             \n",
       "            1                              ⎦⎦⎠  ⎝                             \n",
       "\n",
       "                            ⎡⎡                       _________________________\n",
       "_______________________     ⎢⎢                      ╱    2                    \n",
       "                     2      ⎢⎢        U₀₀   U₁₁   ╲╱  U₀₀  - 2⋅U₀₀⋅U₁₁ + 4⋅U₀₁\n",
       "U₁₁ + 4⋅U₀₁⋅U₁₀ + U₁₁       ⎢⎢        ─── + ─── + ────────────────────────────\n",
       "───────────────────────, 1, ⎢⎢  U₁₁    2     2                       2        \n",
       "  2                         ⎢⎢- ─── + ────────────────────────────────────────\n",
       "                            ⎢⎢  U₁₀                           U₁₀             \n",
       "                            ⎢⎢                                                \n",
       "                            ⎣⎣                             1                  \n",
       "\n",
       "____________⎤⎤⎞⎤\n",
       "          2 ⎥⎥⎟⎥\n",
       "⋅U₁₀ + U₁₁  ⎥⎥⎟⎥\n",
       "────────────⎥⎥⎟⎥\n",
       "            ⎥⎥⎟⎥\n",
       "────────────⎥⎥⎟⎥\n",
       "            ⎥⎥⎟⎥\n",
       "            ⎥⎥⎟⎥\n",
       "            ⎦⎦⎠⎦"
      ]
     },
     "execution_count": 24,
     "metadata": {},
     "output_type": "execute_result"
    }
   ],
   "source": [
    "U.eigenvects()"
   ]
  },
  {
   "cell_type": "code",
   "execution_count": 25,
   "id": "e02d0a75",
   "metadata": {},
   "outputs": [
    {
     "data": {
      "text/latex": [
       "$\\displaystyle \\left[ \\left( 1, \\  2, \\  \\left[ \\left[\\begin{matrix}1\\\\0\\\\0\\\\0\\end{matrix}\\right], \\  \\left[\\begin{matrix}0\\\\0\\\\1\\\\0\\end{matrix}\\right]\\right]\\right), \\  \\left( \\frac{U_{00}}{2} + \\frac{U_{11}}{2} - \\frac{\\sqrt{U_{00}^{2} - 2 U_{00} U_{11} + 4 U_{01} U_{10} + U_{11}^{2}}}{2}, \\  1, \\  \\left[ \\left[\\begin{matrix}0\\\\- \\frac{U_{11}}{U_{10}} + \\frac{\\frac{U_{00}}{2} + \\frac{U_{11}}{2} - \\frac{\\sqrt{U_{00}^{2} - 2 U_{00} U_{11} + 4 U_{01} U_{10} + U_{11}^{2}}}{2}}{U_{10}}\\\\0\\\\1\\end{matrix}\\right]\\right]\\right), \\  \\left( \\frac{U_{00}}{2} + \\frac{U_{11}}{2} + \\frac{\\sqrt{U_{00}^{2} - 2 U_{00} U_{11} + 4 U_{01} U_{10} + U_{11}^{2}}}{2}, \\  1, \\  \\left[ \\left[\\begin{matrix}0\\\\- \\frac{U_{11}}{U_{10}} + \\frac{\\frac{U_{00}}{2} + \\frac{U_{11}}{2} + \\frac{\\sqrt{U_{00}^{2} - 2 U_{00} U_{11} + 4 U_{01} U_{10} + U_{11}^{2}}}{2}}{U_{10}}\\\\0\\\\1\\end{matrix}\\right]\\right]\\right)\\right]$"
      ],
      "text/plain": [
       "⎡                    ⎛                                                        \n",
       "⎢                    ⎜                                                        \n",
       "⎢                    ⎜                                                        \n",
       "⎢⎛      ⎡⎡1⎤  ⎡0⎤⎤⎞  ⎜               _____________________________________    \n",
       "⎢⎜      ⎢⎢ ⎥  ⎢ ⎥⎥⎟  ⎜              ╱    2                              2     \n",
       "⎢⎜      ⎢⎢0⎥  ⎢0⎥⎥⎟  ⎜U₀₀   U₁₁   ╲╱  U₀₀  - 2⋅U₀₀⋅U₁₁ + 4⋅U₀₁⋅U₁₀ + U₁₁      \n",
       "⎢⎜1, 2, ⎢⎢ ⎥, ⎢ ⎥⎥⎟, ⎜─── + ─── - ────────────────────────────────────────, 1,\n",
       "⎢⎜      ⎢⎢0⎥  ⎢1⎥⎥⎟  ⎜ 2     2                       2                        \n",
       "⎢⎜      ⎢⎢ ⎥  ⎢ ⎥⎥⎟  ⎜                                                        \n",
       "⎢⎝      ⎣⎣0⎦  ⎣0⎦⎦⎠  ⎜                                                        \n",
       "⎢                    ⎜                                                        \n",
       "⎢                    ⎜                                                        \n",
       "⎣                    ⎝                                                        \n",
       "\n",
       " ⎡⎡                             0                              ⎤⎤⎞  ⎛         \n",
       " ⎢⎢                                                            ⎥⎥⎟  ⎜         \n",
       " ⎢⎢                       _____________________________________⎥⎥⎟  ⎜         \n",
       " ⎢⎢                      ╱    2                              2 ⎥⎥⎟  ⎜         \n",
       " ⎢⎢        U₀₀   U₁₁   ╲╱  U₀₀  - 2⋅U₀₀⋅U₁₁ + 4⋅U₀₁⋅U₁₀ + U₁₁  ⎥⎥⎟  ⎜         \n",
       " ⎢⎢        ─── + ─── - ────────────────────────────────────────⎥⎥⎟  ⎜U₀₀   U₁₁\n",
       " ⎢⎢  U₁₁    2     2                       2                    ⎥⎥⎟, ⎜─── + ───\n",
       " ⎢⎢- ─── + ────────────────────────────────────────────────────⎥⎥⎟  ⎜ 2     2 \n",
       " ⎢⎢  U₁₀                           U₁₀                         ⎥⎥⎟  ⎜         \n",
       " ⎢⎢                                                            ⎥⎥⎟  ⎜         \n",
       " ⎢⎢                             0                              ⎥⎥⎟  ⎜         \n",
       " ⎢⎢                                                            ⎥⎥⎟  ⎜         \n",
       " ⎣⎣                             1                              ⎦⎦⎠  ⎝         \n",
       "\n",
       "                                                ⎡⎡                            \n",
       "                                                ⎢⎢                            \n",
       "                                                ⎢⎢                       _____\n",
       "      _____________________________________     ⎢⎢                      ╱    2\n",
       "     ╱    2                              2      ⎢⎢        U₀₀   U₁₁   ╲╱  U₀₀ \n",
       "   ╲╱  U₀₀  - 2⋅U₀₀⋅U₁₁ + 4⋅U₀₁⋅U₁₀ + U₁₁       ⎢⎢        ─── + ─── + ────────\n",
       " + ────────────────────────────────────────, 1, ⎢⎢  U₁₁    2     2            \n",
       "                      2                         ⎢⎢- ─── + ────────────────────\n",
       "                                                ⎢⎢  U₁₀                       \n",
       "                                                ⎢⎢                            \n",
       "                                                ⎢⎢                            \n",
       "                                                ⎢⎢                            \n",
       "                                                ⎣⎣                            \n",
       "\n",
       " 0                              ⎤⎤⎞⎤\n",
       "                                ⎥⎥⎟⎥\n",
       "________________________________⎥⎥⎟⎥\n",
       "                              2 ⎥⎥⎟⎥\n",
       " - 2⋅U₀₀⋅U₁₁ + 4⋅U₀₁⋅U₁₀ + U₁₁  ⎥⎥⎟⎥\n",
       "────────────────────────────────⎥⎥⎟⎥\n",
       "           2                    ⎥⎥⎟⎥\n",
       "────────────────────────────────⎥⎥⎟⎥\n",
       "    U₁₀                         ⎥⎥⎟⎥\n",
       "                                ⎥⎥⎟⎥\n",
       " 0                              ⎥⎥⎟⎥\n",
       "                                ⎥⎥⎟⎥\n",
       " 1                              ⎦⎦⎠⎦"
      ]
     },
     "execution_count": 25,
     "metadata": {},
     "output_type": "execute_result"
    }
   ],
   "source": [
    "ControlledU.eigenvects()"
   ]
  },
  {
   "cell_type": "code",
   "execution_count": 3,
   "id": "33716e40",
   "metadata": {},
   "outputs": [
    {
     "data": {
      "text/latex": [
       "$\\displaystyle \\text{SWAP}_{0,2} H_{0} C_{0}{\\left(S_{1}\\right)} H_{1} C_{0}{\\left(T_{2}\\right)} C_{1}{\\left(S_{2}\\right)} H_{2}$"
      ],
      "text/plain": [
       "SWAP(0,2)*H(0)*C((0),S(1))*H(1)*C((0),T(2))*C((1),S(2))*H(2)"
      ]
     },
     "execution_count": 3,
     "metadata": {},
     "output_type": "execute_result"
    }
   ],
   "source": [
    "from sympy.physics.quantum.qft import QFT\n",
    "fourier = QFT(0,3).decompose()\n",
    "fourier"
   ]
  },
  {
   "cell_type": "code",
   "execution_count": 27,
   "id": "beacd1b2",
   "metadata": {},
   "outputs": [
    {
     "ename": "NameError",
     "evalue": "name 'QFT' is not defined",
     "output_type": "error",
     "traceback": [
      "\u001b[1;31m---------------------------------------------------------------------------\u001b[0m",
      "\u001b[1;31mNameError\u001b[0m                                 Traceback (most recent call last)",
      "Cell \u001b[1;32mIn[27], line 1\u001b[0m\n\u001b[1;32m----> 1\u001b[0m \u001b[43mQFT\u001b[49m(\u001b[38;5;241m0\u001b[39m,\u001b[38;5;241m3\u001b[39m)\n\u001b[0;32m      2\u001b[0m \u001b[38;5;28mprint\u001b[39m (\u001b[38;5;28mdir\u001b[39m(QFT))\n",
      "\u001b[1;31mNameError\u001b[0m: name 'QFT' is not defined"
     ]
    }
   ],
   "source": [
    "QFT(0,3)\n",
    "print (dir(QFT))"
   ]
  },
  {
   "cell_type": "code",
   "execution_count": 5,
   "id": "a562c6d7",
   "metadata": {},
   "outputs": [
    {
     "data": {
      "text/plain": [
       "<sympy.physics.quantum.circuitplot.CircuitPlot at 0x28b0e178610>"
      ]
     },
     "execution_count": 5,
     "metadata": {},
     "output_type": "execute_result"
    },
    {
     "data": {
      "image/png": "[encoded data removed]",
      "text/plain": [
       "<Figure size 700x300 with 1 Axes>"
      ]
     },
     "metadata": {},
     "output_type": "display_data"
    }
   ],
   "source": [
    "from sympy.physics.quantum.circuitplot import circuit_plot\n",
    "circuit_plot(fourier, nqubits=3)\n",
    "# %mkdir -p './images' plt.savefig('./images/fig1-circuitplot-qft.pdf', format='pdf')"
   ]
  },
  {
   "cell_type": "code",
   "execution_count": null,
   "id": "aa448d99",
   "metadata": {},
   "outputs": [],
   "source": []
  }
 ],
 "metadata": {
  "kernelspec": {
   "display_name": "Python 3 (ipykernel)",
   "language": "python",
   "name": "python3"
  },
  "language_info": {
   "codemirror_mode": {
    "name": "ipython",
    "version": 3
   },
   "file_extension": ".py",
   "mimetype": "text/x-python",
   "name": "python",
   "nbconvert_exporter": "python",
   "pygments_lexer": "ipython3",
   "version": "3.11.3"
  }
 },
 "nbformat": 4,
 "nbformat_minor": 5
}
