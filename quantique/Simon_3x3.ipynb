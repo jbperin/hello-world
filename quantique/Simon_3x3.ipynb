{
 "cells": [
  {
   "cell_type": "code",
   "execution_count": null,
   "id": "79c46cca-5964-490f-811a-a72c4f551d4f",
   "metadata": {},
   "outputs": [],
   "source": []
  },
  {
   "cell_type": "code",
   "execution_count": 1,
   "id": "ad9f4c1c-1119-4a7f-b5e8-26f6328268a3",
   "metadata": {},
   "outputs": [],
   "source": [
    "import sympy as sp\n",
    "from sympy.physics.quantum import Bra, Ket\n",
    "from sympy import Matrix\n",
    "from sympy.physics.quantum import TensorProduct\n",
    "from sympy.physics.quantum.gate import HadamardGate,CNotGate, IdentityGate\n",
    "from sympy.physics.quantum.qapply import qapply\n",
    "from sympy import eye\n",
    "from sympy import Abs\n",
    "from sympy import sqrt\n",
    "from UnitaryFunction import buildUnitaryMatrix, buildUnitaryMatrixFromSimonFunction, format_matrice\n",
    "from sympy.physics.quantum.dagger import Dagger\n",
    "sp.init_printing()"
   ]
  },
  {
   "cell_type": "code",
   "execution_count": 2,
   "id": "670caa7b-d513-4b04-bdf1-1f3cf13c438b",
   "metadata": {},
   "outputs": [],
   "source": [
    "#definition des états\n",
    "ket0 = Matrix([1,0])\n",
    "ket1 = Matrix([0,1])\n",
    "plus = Matrix([1/sqrt(2),1/sqrt(2)])\n",
    "minus = Matrix([1/sqrt(2),-1/sqrt(2)])\n",
    "\n",
    "α = sp.Symbol(\"α\")\n",
    "β = sp.Symbol(\"β\")\n",
    "ϕ = α * ket0 + β * ket1 # Matrix([α,β])\n",
    "\n",
    "α1 = sp.Symbol(\"α1\", complex=True)\n",
    "β1 = sp.Symbol(\"β1\", complex=True)\n",
    "ψ1 = α1 * ket0 + β1 * ket1 # Matrix([α,β])\n",
    "\n",
    "α2 = sp.Symbol(\"α2\", complex=True)\n",
    "β2 = sp.Symbol(\"β2\", complex=True)\n",
    "ψ2 = α2 * ket0 + β2 * ket1 # Matrix([α,β])\n",
    "\n",
    "α3 = sp.Symbol(\"α3\", complex=True)\n",
    "β3 = sp.Symbol(\"β3\", complex=True)\n",
    "ψ3 = α3 * ket0 + β3 * ket1 # Matrix([α,β])\n",
    "\n",
    "α4 = sp.Symbol(\"α4\", complex=True)\n",
    "β4 = sp.Symbol(\"β4\", complex=True)\n",
    "ψ4 = α4 * ket0 + β4 * ket1 # Matrix([α,β])\n",
    "\n",
    "α5 = sp.Symbol(\"α5\", complex=True)\n",
    "β5 = sp.Symbol(\"β5\", complex=True)\n",
    "ψ5 = α5 * ket0 + β5 * ket1 # Matrix([α,β])\n",
    "\n",
    "α6 = sp.Symbol(\"α6\", complex=True)\n",
    "β6 = sp.Symbol(\"β6\", complex=True)\n",
    "ψ6 = α6 * ket0 + β6 * ket1 # Matrix([α,β])"
   ]
  },
  {
   "cell_type": "code",
   "execution_count": 3,
   "id": "353dc7f2-95e5-4702-95ff-50490288cfbb",
   "metadata": {},
   "outputs": [],
   "source": [
    "I=sp.eye(2)\n",
    "π=sp.pi\n",
    "i=sp.I\n",
    "X=sp.Matrix([[0,1], [1,0]]) #Pauli\n",
    "σx=X\n",
    "Y=sp.Matrix([[0,-i], [i,0]])\n",
    "Z=sp.Matrix([[1,0], [0,-1]])\n",
    "\n",
    "H=sp.Matrix([[1/sp.sqrt(2),1/sp.sqrt(2)], [1/sp.sqrt(2),-1/sp.sqrt(2)]])\n",
    "\n",
    "S=sp.Matrix([[1,0], [0,-i]])\n",
    "T=sp.Matrix([[1,0], [0,sp.exp(-i*π/4)]])\n",
    "\n",
    "\n",
    "# rotation by theta around y\n",
    "def Ry(θ):\n",
    "    return sp.Matrix([[sp.cos(θ/2),sp.sin(θ/2)], [-sp.sin(θ/2),sp.cos(θ/2)]])\n",
    "\n",
    "# rotation by alpha around z\n",
    "def Rz(α):\n",
    "    return sp.Matrix([[sp.exp(i*α/2),0], [0,sp.exp(-i*α/2)]]) \n",
    "\n",
    "# Phase Shift with respect to delta\n",
    "def Ph(δ):\n",
    "    return sp.Matrix([[sp.exp(i*δ),0], [0,sp.exp(i*δ)]]) \n",
    "\n",
    "# Operation on two Qubits\n",
    "\n",
    "SWAP = sp.Matrix ([[1,0,0,0],[0,0,1,0],[0,1,0,0],[0,0,0,1]])\n",
    "CNOT = TensorProduct(I,ket0*ket0.T) + TensorProduct(X, ket1*ket1.T) # second qubit is the control"
   ]
  },
  {
   "cell_type": "code",
   "execution_count": null,
   "id": "5f6e956d-cbda-4ec0-b2e8-101f1c6f5c76",
   "metadata": {},
   "outputs": [],
   "source": []
  },
  {
   "cell_type": "code",
   "execution_count": 4,
   "id": "7594be52-062c-4c10-8107-b8310bf5cb69",
   "metadata": {},
   "outputs": [],
   "source": [
    "def isolateQubits(idx_start, idx_end, vector):\n",
    "    \"\"\" renvoie une matrice permettant d'isoler des qubits [idx_start .. idx_end] dans vector.\n",
    "    Les qubits sont numérotés du bas vers le haut.\n",
    "    idx_end > idx_start et idx_end <= len(vector)\n",
    "    \"\"\"\n",
    "    len(vector)/2\n",
    "    if idx_start != 0:\n",
    "        res = TensorProduct(Matrix([1, 1]))\n",
    "        for idx in range (1, idx_start):\n",
    "            res = TensorProduct(res, Matrix([1, 1]))\n",
    "        for idx in range(idx_start, idx_end+1):\n",
    "            res = TensorProduct(res, I)\n",
    "    projection = Dagger(res)\n",
    "    M=projection*sp.Abs(vector)\n",
    "    return sp.simplify((1/M.norm())*(M))\n"
   ]
  },
  {
   "cell_type": "code",
   "execution_count": null,
   "id": "720617d4-7574-4878-9ec4-2603e18ca1f8",
   "metadata": {},
   "outputs": [],
   "source": []
  },
  {
   "cell_type": "code",
   "execution_count": null,
   "id": "7d2321b2-c2c6-4392-bff8-9821f300d4ab",
   "metadata": {},
   "outputs": [],
   "source": [
    "\n"
   ]
  },
  {
   "cell_type": "code",
   "execution_count": null,
   "id": "119e5c35-8697-4294-bcbd-f731eecc1344",
   "metadata": {},
   "outputs": [],
   "source": []
  },
  {
   "cell_type": "code",
   "execution_count": 5,
   "id": "ffa55a2c-e3d2-4253-96d0-282d616e0d5a",
   "metadata": {},
   "outputs": [],
   "source": [
    "def uneFonction3x3(param1, param2, param3):\n",
    "    table1={\n",
    "        \"000\": \"011\",\n",
    "        \"001\": \"101\",    \n",
    "        \"010\": \"000\",    \n",
    "        \"011\": \"010\",    \n",
    "        \"100\": \"101\",\n",
    "        \"101\": \"011\",\n",
    "        \"110\": \"010\",\n",
    "        \"111\": \"000\",\n",
    "    } # s = 101\n",
    "    # Convertir les paramètres booléens en une chaîne de caractères\n",
    "    key = f\"{int(param1)}{int(param2)}{int(param3)}\"\n",
    "\n",
    "    # Obtenir la valeur correspondante dans le dictionnaire\n",
    "    value = table1.get(key, \"\")\n",
    "\n",
    "    # Convertir la valeur en un tableau de booléens\n",
    "    result = [char == '1' for char in value]\n",
    "\n",
    "    return result\n",
    "\n",
    "Uf33=buildUnitaryMatrixFromSimonFunction(uneFonction3x3)\n",
    "\n",
    "# print (format_matrice(Uf33))"
   ]
  },
  {
   "cell_type": "code",
   "execution_count": null,
   "id": "9a772022-0894-4494-971b-e3becf38ec9c",
   "metadata": {},
   "outputs": [],
   "source": [
    "\n"
   ]
  },
  {
   "cell_type": "code",
   "execution_count": 6,
   "id": "f096f663-6483-480a-9468-aa922921b15d",
   "metadata": {},
   "outputs": [
    {
     "data": {
      "image/png": "[encoded data removed]",
      "text/latex": [
       "$\\displaystyle 64$"
      ],
      "text/plain": [
       "64"
      ]
     },
     "execution_count": 6,
     "metadata": {},
     "output_type": "execute_result"
    }
   ],
   "source": [
    "Uf33.rank()"
   ]
  },
  {
   "cell_type": "code",
   "execution_count": 7,
   "id": "20e8d268-d921-4ca1-8665-b7cb31bf6564",
   "metadata": {},
   "outputs": [
    {
     "data": {
      "image/png": "[encoded data removed]",
      "text/latex": [
       "$\\displaystyle \\left( 64, \\  64\\right)$"
      ],
      "text/plain": [
       "(64, 64)"
      ]
     },
     "execution_count": 7,
     "metadata": {},
     "output_type": "execute_result"
    }
   ],
   "source": [
    "sp.shape(Uf33)"
   ]
  },
  {
   "cell_type": "code",
   "execution_count": null,
   "id": "13bb9fa7-1eee-4cd9-924a-f4ea982562a2",
   "metadata": {},
   "outputs": [],
   "source": []
  },
  {
   "cell_type": "code",
   "execution_count": 8,
   "id": "62991fe1-7038-4699-8ce4-cd188d02c30e",
   "metadata": {
    "scrolled": true
   },
   "outputs": [],
   "source": [
    "vect33 = (TensorProduct(I, I, I, H, H, H)*Uf33*TensorProduct(I, I, I, H, H, H) * TensorProduct(ψ1, ψ2, ψ3, ψ4, ψ5, ψ6))"
   ]
  },
  {
   "cell_type": "code",
   "execution_count": 19,
   "id": "af2b1438-ead7-4eb6-9d42-0c657d3e344e",
   "metadata": {},
   "outputs": [],
   "source": [
    "import math\n",
    "def indices_non_nuls(vecteur):\n",
    "    return [i for i in range(vecteur.rows) if vecteur[i, 0] != 0]\n",
    "def indices_non_nuls_binaires_formates(vecteur):\n",
    "    n_bits = int(math.log2(vecteur.rows))  # N tel que 2^N = nombre d’éléments du vecteur\n",
    "    return [format(i, f'0{n_bits}b') for i in range(vecteur.rows) if vecteur[i, 0] != 0]    "
   ]
  },
  {
   "cell_type": "code",
   "execution_count": 20,
   "id": "af121778-898c-462b-8c49-7dcef63c5dab",
   "metadata": {},
   "outputs": [
    {
     "name": "stdout",
     "output_type": "stream",
     "text": [
      "Matrix([[1/4], [0], [-1/4], [0], [0], [1/4], [0], [-1/4], [0], [0], [0], [0], [0], [0], [0], [0], [1/4], [0], [-1/4], [0], [0], [-1/4], [0], [1/4], [1/4], [0], [1/4], [0], [0], [1/4], [0], [1/4], [0], [0], [0], [0], [0], [0], [0], [0], [1/4], [0], [1/4], [0], [0], [-1/4], [0], [-1/4], [0], [0], [0], [0], [0], [0], [0], [0], [0], [0], [0], [0], [0], [0], [0], [0]])\n"
     ]
    }
   ],
   "source": [
    "R=vect33.subs({α1:1, β1:0, α2:1, β2:0, α3:1, β3:0, α4:1, β4:0, α5:1, β5:0, α6:1, β6:0})\n",
    "print (R)"
   ]
  },
  {
   "cell_type": "code",
   "execution_count": 21,
   "id": "0a4b1dbb-390a-4ac4-a7b3-17a68425eb8a",
   "metadata": {},
   "outputs": [
    {
     "data": {
      "image/png": "[encoded data removed]",
      "text/latex": [
       "$\\displaystyle \\left[ 0, \\  2, \\  5, \\  7, \\  16, \\  18, \\  21, \\  23, \\  24, \\  26, \\  29, \\  31, \\  40, \\  42, \\  45, \\  47\\right]$"
      ],
      "text/plain": [
       "[0, 2, 5, 7, 16, 18, 21, 23, 24, 26, 29, 31, 40, 42, 45, 47]"
      ]
     },
     "execution_count": 21,
     "metadata": {},
     "output_type": "execute_result"
    }
   ],
   "source": [
    "indices_non_nuls(R)"
   ]
  },
  {
   "cell_type": "code",
   "execution_count": 25,
   "id": "d590d733-a06d-4f76-8ed1-4f85c66cc9a1",
   "metadata": {},
   "outputs": [
    {
     "data": {
      "text/plain": [
       "['000000',\n",
       " '000010',\n",
       " '000101',\n",
       " '000111',\n",
       " '010000',\n",
       " '010010',\n",
       " '010101',\n",
       " '010111',\n",
       " '011000',\n",
       " '011010',\n",
       " '011101',\n",
       " '011111',\n",
       " '101000',\n",
       " '101010',\n",
       " '101101',\n",
       " '101111']"
      ]
     },
     "execution_count": 25,
     "metadata": {},
     "output_type": "execute_result"
    }
   ],
   "source": [
    "indices_non_nuls_binaires_formates(R)"
   ]
  },
  {
   "cell_type": "code",
   "execution_count": 22,
   "id": "0faa1bd3-2351-4b5b-bfc7-c81bdecc5af8",
   "metadata": {},
   "outputs": [
    {
     "data": {
      "image/png": "[encoded data removed]",
      "text/latex": [
       "$\\displaystyle \\left[\\begin{matrix}\\frac{1}{2}\\\\0\\\\\\frac{1}{2}\\\\0\\\\0\\\\\\frac{1}{2}\\\\0\\\\\\frac{1}{2}\\end{matrix}\\right]$"
      ],
      "text/plain": [
       "⎡1/2⎤\n",
       "⎢   ⎥\n",
       "⎢ 0 ⎥\n",
       "⎢   ⎥\n",
       "⎢1/2⎥\n",
       "⎢   ⎥\n",
       "⎢ 0 ⎥\n",
       "⎢   ⎥\n",
       "⎢ 0 ⎥\n",
       "⎢   ⎥\n",
       "⎢1/2⎥\n",
       "⎢   ⎥\n",
       "⎢ 0 ⎥\n",
       "⎢   ⎥\n",
       "⎣1/2⎦"
      ]
     },
     "execution_count": 22,
     "metadata": {},
     "output_type": "execute_result"
    }
   ],
   "source": [
    "R1= isolateQubits(3, 5, R)\n",
    "R1# .subs({α1:1, β1:0, α2:1, β2:0, α3:1, β3:0, α4:1, β4:0})"
   ]
  },
  {
   "cell_type": "code",
   "execution_count": 23,
   "id": "f9a32acc-424b-44a6-a6cd-156a69bcb417",
   "metadata": {},
   "outputs": [
    {
     "data": {
      "image/png": "[encoded data removed]",
      "text/latex": [
       "$\\displaystyle \\left[ 0, \\  2, \\  5, \\  7\\right]$"
      ],
      "text/plain": [
       "[0, 2, 5, 7]"
      ]
     },
     "execution_count": 23,
     "metadata": {},
     "output_type": "execute_result"
    }
   ],
   "source": [
    "indices_non_nuls(R1)"
   ]
  },
  {
   "cell_type": "code",
   "execution_count": 24,
   "id": "b2592a7a-7c6f-4dc3-af5d-ef68b65bd215",
   "metadata": {},
   "outputs": [
    {
     "data": {
      "text/plain": [
       "['000', '010', '101', '111']"
      ]
     },
     "execution_count": 24,
     "metadata": {},
     "output_type": "execute_result"
    }
   ],
   "source": [
    "indices_non_nuls_binaires_formates(R1)"
   ]
  },
  {
   "cell_type": "code",
   "execution_count": null,
   "id": "010c0091-6e92-4029-840e-caf5949af2aa",
   "metadata": {},
   "outputs": [],
   "source": []
  },
  {
   "cell_type": "code",
   "execution_count": null,
   "id": "79ba7015-3fc6-4366-85f9-a2cfcab8f232",
   "metadata": {},
   "outputs": [],
   "source": []
  },
  {
   "cell_type": "code",
   "execution_count": null,
   "id": "9e957a1e-8b0a-4e03-b185-a5ab76c81a12",
   "metadata": {},
   "outputs": [],
   "source": []
  },
  {
   "cell_type": "code",
   "execution_count": null,
   "id": "60d50401-b7be-4223-afa2-d1bad51aa6fc",
   "metadata": {},
   "outputs": [],
   "source": []
  },
  {
   "cell_type": "code",
   "execution_count": null,
   "id": "12e205c3-91a3-4629-86b2-5c646ee3970f",
   "metadata": {},
   "outputs": [],
   "source": []
  },
  {
   "cell_type": "code",
   "execution_count": null,
   "id": "250777a2-8ad2-4664-a7e1-cb292362468f",
   "metadata": {},
   "outputs": [],
   "source": []
  },
  {
   "cell_type": "code",
   "execution_count": null,
   "id": "734b3287-f243-48f0-b357-44b98647c416",
   "metadata": {},
   "outputs": [],
   "source": []
  }
 ],
 "metadata": {
  "kernelspec": {
   "display_name": "Python 3 (ipykernel)",
   "language": "python",
   "name": "python3"
  },
  "language_info": {
   "codemirror_mode": {
    "name": "ipython",
    "version": 3
   },
   "file_extension": ".py",
   "mimetype": "text/x-python",
   "name": "python",
   "nbconvert_exporter": "python",
   "pygments_lexer": "ipython3",
   "version": "3.11.6"
  }
 },
 "nbformat": 4,
 "nbformat_minor": 5
}
