{
 "cells": [
  {
   "cell_type": "code",
   "execution_count": 4,
   "id": "477eb0f7",
   "metadata": {},
   "outputs": [],
   "source": [
    "import sympy\n",
    "from sympy.physics.quantum import Bra, Ket\n",
    "from sympy import Matrix\n",
    "from sympy.physics.quantum import TensorProduct\n",
    "from sympy.physics.quantum.gate import HadamardGate,CNotGate, IdentityGate\n",
    "from sympy.physics.quantum.qapply import qapply\n",
    "from sympy import eye\n",
    "\n",
    "from sympy.physics.quantum import Ket\n",
    "from sympy import sqrt\n",
    "\n",
    "sympy.init_printing()"
   ]
  },
  {
   "cell_type": "code",
   "execution_count": null,
   "id": "01659fae",
   "metadata": {},
   "outputs": [],
   "source": []
  },
  {
   "cell_type": "code",
   "execution_count": 5,
   "id": "d78583e5",
   "metadata": {},
   "outputs": [],
   "source": [
    "U00 = sympy.Symbol(\"U00\")\n",
    "U01 = sympy.Symbol(\"U01\")\n",
    "U10 = sympy.Symbol(\"U10\")\n",
    "U11 = sympy.Symbol(\"U11\")\n",
    "U = Matrix([[U00, U01], [U10, U11]])\n",
    "\n",
    "\n"
   ]
  },
  {
   "cell_type": "code",
   "execution_count": 6,
   "id": "44d670de",
   "metadata": {},
   "outputs": [
    {
     "data": {
      "text/latex": [
       "$\\displaystyle \\left[ \\left( \\frac{U_{00}}{2} + \\frac{U_{11}}{2} - \\frac{\\sqrt{U_{00}^{2} - 2 U_{00} U_{11} + 4 U_{01} U_{10} + U_{11}^{2}}}{2}, \\  1, \\  \\left[ \\left[\\begin{matrix}- \\frac{U_{11}}{U_{10}} + \\frac{\\frac{U_{00}}{2} + \\frac{U_{11}}{2} - \\frac{\\sqrt{U_{00}^{2} - 2 U_{00} U_{11} + 4 U_{01} U_{10} + U_{11}^{2}}}{2}}{U_{10}}\\\\1\\end{matrix}\\right]\\right]\\right), \\  \\left( \\frac{U_{00}}{2} + \\frac{U_{11}}{2} + \\frac{\\sqrt{U_{00}^{2} - 2 U_{00} U_{11} + 4 U_{01} U_{10} + U_{11}^{2}}}{2}, \\  1, \\  \\left[ \\left[\\begin{matrix}- \\frac{U_{11}}{U_{10}} + \\frac{\\frac{U_{00}}{2} + \\frac{U_{11}}{2} + \\frac{\\sqrt{U_{00}^{2} - 2 U_{00} U_{11} + 4 U_{01} U_{10} + U_{11}^{2}}}{2}}{U_{10}}\\\\1\\end{matrix}\\right]\\right]\\right)\\right]$"
      ],
      "text/plain": [
       "⎡⎛                                                         ⎡⎡                 \n",
       "⎢⎜               _____________________________________     ⎢⎢                 \n",
       "⎢⎜              ╱    2                              2      ⎢⎢        U₀₀   U₁₁\n",
       "⎢⎜U₀₀   U₁₁   ╲╱  U₀₀  - 2⋅U₀₀⋅U₁₁ + 4⋅U₀₁⋅U₁₀ + U₁₁       ⎢⎢        ─── + ───\n",
       "⎢⎜─── + ─── - ────────────────────────────────────────, 1, ⎢⎢  U₁₁    2     2 \n",
       "⎢⎜ 2     2                       2                         ⎢⎢- ─── + ─────────\n",
       "⎢⎜                                                         ⎢⎢  U₁₀            \n",
       "⎢⎜                                                         ⎢⎢                 \n",
       "⎣⎝                                                         ⎣⎣                 \n",
       "\n",
       "      _____________________________________⎤⎤⎞  ⎛                             \n",
       "     ╱    2                              2 ⎥⎥⎟  ⎜               ______________\n",
       "   ╲╱  U₀₀  - 2⋅U₀₀⋅U₁₁ + 4⋅U₀₁⋅U₁₀ + U₁₁  ⎥⎥⎟  ⎜              ╱    2         \n",
       " - ────────────────────────────────────────⎥⎥⎟  ⎜U₀₀   U₁₁   ╲╱  U₀₀  - 2⋅U₀₀⋅\n",
       "                      2                    ⎥⎥⎟, ⎜─── + ─── + ─────────────────\n",
       "───────────────────────────────────────────⎥⎥⎟  ⎜ 2     2                     \n",
       "               U₁₀                         ⎥⎥⎟  ⎜                             \n",
       "                                           ⎥⎥⎟  ⎜                             \n",
       "            1                              ⎦⎦⎠  ⎝                             \n",
       "\n",
       "                            ⎡⎡                       _________________________\n",
       "_______________________     ⎢⎢                      ╱    2                    \n",
       "                     2      ⎢⎢        U₀₀   U₁₁   ╲╱  U₀₀  - 2⋅U₀₀⋅U₁₁ + 4⋅U₀₁\n",
       "U₁₁ + 4⋅U₀₁⋅U₁₀ + U₁₁       ⎢⎢        ─── + ─── + ────────────────────────────\n",
       "───────────────────────, 1, ⎢⎢  U₁₁    2     2                       2        \n",
       "  2                         ⎢⎢- ─── + ────────────────────────────────────────\n",
       "                            ⎢⎢  U₁₀                           U₁₀             \n",
       "                            ⎢⎢                                                \n",
       "                            ⎣⎣                             1                  \n",
       "\n",
       "____________⎤⎤⎞⎤\n",
       "          2 ⎥⎥⎟⎥\n",
       "⋅U₁₀ + U₁₁  ⎥⎥⎟⎥\n",
       "────────────⎥⎥⎟⎥\n",
       "            ⎥⎥⎟⎥\n",
       "────────────⎥⎥⎟⎥\n",
       "            ⎥⎥⎟⎥\n",
       "            ⎥⎥⎟⎥\n",
       "            ⎦⎦⎠⎦"
      ]
     },
     "execution_count": 6,
     "metadata": {},
     "output_type": "execute_result"
    }
   ],
   "source": [
    "U.eigenvects()"
   ]
  },
  {
   "cell_type": "code",
   "execution_count": 7,
   "id": "3c9c337f",
   "metadata": {},
   "outputs": [],
   "source": [
    "Uf1 = Matrix([[1, 0, 0, 0],[0, 1, 0, 0],[0, 0, 1, 0],[0, 0, 0, 1]]) # = eye(4)\n",
    "Uf2 = Matrix([[1, 0, 0, 0],[0, 0, 0, 1],[0, 0, 1, 0],[0, 1, 0, 0]])\n",
    "Uf3 = Matrix([[0, 0, 1, 0],[0, 1, 0, 0],[1, 0, 0, 0],[0, 0, 0, 1]])\n",
    "Uf4 = Matrix([[0, 0, 1, 0],[0, 0, 0, 1],[1, 0, 0, 0],[0, 1, 0, 0]])\n",
    "\n"
   ]
  },
  {
   "cell_type": "code",
   "execution_count": 8,
   "id": "7b927bdd",
   "metadata": {},
   "outputs": [
    {
     "data": {
      "text/latex": [
       "$\\displaystyle \\left[ \\left( 1, \\  4, \\  \\left[ \\left[\\begin{matrix}1\\\\0\\\\0\\\\0\\end{matrix}\\right], \\  \\left[\\begin{matrix}0\\\\1\\\\0\\\\0\\end{matrix}\\right], \\  \\left[\\begin{matrix}0\\\\0\\\\1\\\\0\\end{matrix}\\right], \\  \\left[\\begin{matrix}0\\\\0\\\\0\\\\1\\end{matrix}\\right]\\right]\\right)\\right]$"
      ],
      "text/plain": [
       "⎡⎛      ⎡⎡1⎤  ⎡0⎤  ⎡0⎤  ⎡0⎤⎤⎞⎤\n",
       "⎢⎜      ⎢⎢ ⎥  ⎢ ⎥  ⎢ ⎥  ⎢ ⎥⎥⎟⎥\n",
       "⎢⎜      ⎢⎢0⎥  ⎢1⎥  ⎢0⎥  ⎢0⎥⎥⎟⎥\n",
       "⎢⎜1, 4, ⎢⎢ ⎥, ⎢ ⎥, ⎢ ⎥, ⎢ ⎥⎥⎟⎥\n",
       "⎢⎜      ⎢⎢0⎥  ⎢0⎥  ⎢1⎥  ⎢0⎥⎥⎟⎥\n",
       "⎢⎜      ⎢⎢ ⎥  ⎢ ⎥  ⎢ ⎥  ⎢ ⎥⎥⎟⎥\n",
       "⎣⎝      ⎣⎣0⎦  ⎣0⎦  ⎣0⎦  ⎣1⎦⎦⎠⎦"
      ]
     },
     "execution_count": 8,
     "metadata": {},
     "output_type": "execute_result"
    }
   ],
   "source": [
    "Uf1.eigenvects()"
   ]
  },
  {
   "cell_type": "code",
   "execution_count": 9,
   "id": "9169762c",
   "metadata": {},
   "outputs": [
    {
     "data": {
      "text/latex": [
       "$\\displaystyle \\left[ \\left( -1, \\  1, \\  \\left[ \\left[\\begin{matrix}0\\\\-1\\\\0\\\\1\\end{matrix}\\right]\\right]\\right), \\  \\left( 1, \\  3, \\  \\left[ \\left[\\begin{matrix}1\\\\0\\\\0\\\\0\\end{matrix}\\right], \\  \\left[\\begin{matrix}0\\\\0\\\\1\\\\0\\end{matrix}\\right], \\  \\left[\\begin{matrix}0\\\\1\\\\0\\\\1\\end{matrix}\\right]\\right]\\right)\\right]$"
      ],
      "text/plain": [
       "⎡⎛       ⎡⎡0 ⎤⎤⎞  ⎛      ⎡⎡1⎤  ⎡0⎤  ⎡0⎤⎤⎞⎤\n",
       "⎢⎜       ⎢⎢  ⎥⎥⎟  ⎜      ⎢⎢ ⎥  ⎢ ⎥  ⎢ ⎥⎥⎟⎥\n",
       "⎢⎜       ⎢⎢-1⎥⎥⎟  ⎜      ⎢⎢0⎥  ⎢0⎥  ⎢1⎥⎥⎟⎥\n",
       "⎢⎜-1, 1, ⎢⎢  ⎥⎥⎟, ⎜1, 3, ⎢⎢ ⎥, ⎢ ⎥, ⎢ ⎥⎥⎟⎥\n",
       "⎢⎜       ⎢⎢0 ⎥⎥⎟  ⎜      ⎢⎢0⎥  ⎢1⎥  ⎢0⎥⎥⎟⎥\n",
       "⎢⎜       ⎢⎢  ⎥⎥⎟  ⎜      ⎢⎢ ⎥  ⎢ ⎥  ⎢ ⎥⎥⎟⎥\n",
       "⎣⎝       ⎣⎣1 ⎦⎦⎠  ⎝      ⎣⎣0⎦  ⎣0⎦  ⎣1⎦⎦⎠⎦"
      ]
     },
     "execution_count": 9,
     "metadata": {},
     "output_type": "execute_result"
    }
   ],
   "source": [
    "Uf2.eigenvects()"
   ]
  },
  {
   "cell_type": "code",
   "execution_count": 10,
   "id": "9071f6a3",
   "metadata": {},
   "outputs": [
    {
     "data": {
      "text/latex": [
       "$\\displaystyle \\left[ \\left( -1, \\  1, \\  \\left[ \\left[\\begin{matrix}-1\\\\0\\\\1\\\\0\\end{matrix}\\right]\\right]\\right), \\  \\left( 1, \\  3, \\  \\left[ \\left[\\begin{matrix}0\\\\1\\\\0\\\\0\\end{matrix}\\right], \\  \\left[\\begin{matrix}1\\\\0\\\\1\\\\0\\end{matrix}\\right], \\  \\left[\\begin{matrix}0\\\\0\\\\0\\\\1\\end{matrix}\\right]\\right]\\right)\\right]$"
      ],
      "text/plain": [
       "⎡⎛       ⎡⎡-1⎤⎤⎞  ⎛      ⎡⎡0⎤  ⎡1⎤  ⎡0⎤⎤⎞⎤\n",
       "⎢⎜       ⎢⎢  ⎥⎥⎟  ⎜      ⎢⎢ ⎥  ⎢ ⎥  ⎢ ⎥⎥⎟⎥\n",
       "⎢⎜       ⎢⎢0 ⎥⎥⎟  ⎜      ⎢⎢1⎥  ⎢0⎥  ⎢0⎥⎥⎟⎥\n",
       "⎢⎜-1, 1, ⎢⎢  ⎥⎥⎟, ⎜1, 3, ⎢⎢ ⎥, ⎢ ⎥, ⎢ ⎥⎥⎟⎥\n",
       "⎢⎜       ⎢⎢1 ⎥⎥⎟  ⎜      ⎢⎢0⎥  ⎢1⎥  ⎢0⎥⎥⎟⎥\n",
       "⎢⎜       ⎢⎢  ⎥⎥⎟  ⎜      ⎢⎢ ⎥  ⎢ ⎥  ⎢ ⎥⎥⎟⎥\n",
       "⎣⎝       ⎣⎣0 ⎦⎦⎠  ⎝      ⎣⎣0⎦  ⎣0⎦  ⎣1⎦⎦⎠⎦"
      ]
     },
     "execution_count": 10,
     "metadata": {},
     "output_type": "execute_result"
    }
   ],
   "source": [
    "Uf3.eigenvects()"
   ]
  },
  {
   "cell_type": "code",
   "execution_count": 11,
   "id": "9211b39c",
   "metadata": {},
   "outputs": [
    {
     "data": {
      "text/latex": [
       "$\\displaystyle \\left[ \\left( -1, \\  2, \\  \\left[ \\left[\\begin{matrix}-1\\\\0\\\\1\\\\0\\end{matrix}\\right], \\  \\left[\\begin{matrix}0\\\\-1\\\\0\\\\1\\end{matrix}\\right]\\right]\\right), \\  \\left( 1, \\  2, \\  \\left[ \\left[\\begin{matrix}1\\\\0\\\\1\\\\0\\end{matrix}\\right], \\  \\left[\\begin{matrix}0\\\\1\\\\0\\\\1\\end{matrix}\\right]\\right]\\right)\\right]$"
      ],
      "text/plain": [
       "⎡⎛       ⎡⎡-1⎤  ⎡0 ⎤⎤⎞  ⎛      ⎡⎡1⎤  ⎡0⎤⎤⎞⎤\n",
       "⎢⎜       ⎢⎢  ⎥  ⎢  ⎥⎥⎟  ⎜      ⎢⎢ ⎥  ⎢ ⎥⎥⎟⎥\n",
       "⎢⎜       ⎢⎢0 ⎥  ⎢-1⎥⎥⎟  ⎜      ⎢⎢0⎥  ⎢1⎥⎥⎟⎥\n",
       "⎢⎜-1, 2, ⎢⎢  ⎥, ⎢  ⎥⎥⎟, ⎜1, 2, ⎢⎢ ⎥, ⎢ ⎥⎥⎟⎥\n",
       "⎢⎜       ⎢⎢1 ⎥  ⎢0 ⎥⎥⎟  ⎜      ⎢⎢1⎥  ⎢0⎥⎥⎟⎥\n",
       "⎢⎜       ⎢⎢  ⎥  ⎢  ⎥⎥⎟  ⎜      ⎢⎢ ⎥  ⎢ ⎥⎥⎟⎥\n",
       "⎣⎝       ⎣⎣0 ⎦  ⎣1 ⎦⎦⎠  ⎝      ⎣⎣0⎦  ⎣1⎦⎦⎠⎦"
      ]
     },
     "execution_count": 11,
     "metadata": {},
     "output_type": "execute_result"
    }
   ],
   "source": [
    "Uf4.eigenvects()"
   ]
  },
  {
   "cell_type": "code",
   "execution_count": 12,
   "id": "be7448e8",
   "metadata": {},
   "outputs": [
    {
     "data": {
      "text/latex": [
       "$\\displaystyle \\left[ \\left( 0, \\  1, \\  \\left[ \\left[\\begin{matrix}-1\\\\1\\end{matrix}\\right]\\right]\\right), \\  \\left( 1, \\  1, \\  \\left[ \\left[\\begin{matrix}1\\\\0\\end{matrix}\\right]\\right]\\right)\\right]$"
      ],
      "text/plain": [
       "⎡⎛      ⎡⎡-1⎤⎤⎞  ⎛      ⎡⎡1⎤⎤⎞⎤\n",
       "⎢⎜0, 1, ⎢⎢  ⎥⎥⎟, ⎜1, 1, ⎢⎢ ⎥⎥⎟⎥\n",
       "⎣⎝      ⎣⎣1 ⎦⎦⎠  ⎝      ⎣⎣0⎦⎦⎠⎦"
      ]
     },
     "execution_count": 12,
     "metadata": {},
     "output_type": "execute_result"
    }
   ],
   "source": [
    "Matrix([[1, 1],[0, 0]]).eigenvects()\n"
   ]
  },
  {
   "cell_type": "code",
   "execution_count": 12,
   "id": "73357415",
   "metadata": {},
   "outputs": [
    {
     "data": {
      "text/latex": [
       "$\\displaystyle \\left[ \\left( 1, \\  2, \\  \\left[ \\left[\\begin{matrix}1\\\\0\\end{matrix}\\right], \\  \\left[\\begin{matrix}0\\\\1\\end{matrix}\\right]\\right]\\right)\\right]$"
      ],
      "text/plain": [
       "⎡⎛      ⎡⎡1⎤  ⎡0⎤⎤⎞⎤\n",
       "⎢⎜1, 2, ⎢⎢ ⎥, ⎢ ⎥⎥⎟⎥\n",
       "⎣⎝      ⎣⎣0⎦  ⎣1⎦⎦⎠⎦"
      ]
     },
     "execution_count": 12,
     "metadata": {},
     "output_type": "execute_result"
    }
   ],
   "source": [
    "Matrix([[1, 0],[0, 1]]).eigenvects()"
   ]
  },
  {
   "cell_type": "code",
   "execution_count": 13,
   "id": "64dd22a2",
   "metadata": {},
   "outputs": [
    {
     "data": {
      "text/latex": [
       "$\\displaystyle \\left[ \\left( -1, \\  1, \\  \\left[ \\left[\\begin{matrix}-1\\\\1\\end{matrix}\\right]\\right]\\right), \\  \\left( 1, \\  1, \\  \\left[ \\left[\\begin{matrix}1\\\\1\\end{matrix}\\right]\\right]\\right)\\right]$"
      ],
      "text/plain": [
       "⎡⎛       ⎡⎡-1⎤⎤⎞  ⎛      ⎡⎡1⎤⎤⎞⎤\n",
       "⎢⎜-1, 1, ⎢⎢  ⎥⎥⎟, ⎜1, 1, ⎢⎢ ⎥⎥⎟⎥\n",
       "⎣⎝       ⎣⎣1 ⎦⎦⎠  ⎝      ⎣⎣1⎦⎦⎠⎦"
      ]
     },
     "execution_count": 13,
     "metadata": {},
     "output_type": "execute_result"
    }
   ],
   "source": [
    "Matrix([[0, 1],[1, 0]]).eigenvects()"
   ]
  },
  {
   "cell_type": "code",
   "execution_count": 14,
   "id": "f2dbd010",
   "metadata": {},
   "outputs": [
    {
     "data": {
      "text/latex": [
       "$\\displaystyle \\left[ \\left( 0, \\  1, \\  \\left[ \\left[\\begin{matrix}-1\\\\1\\end{matrix}\\right]\\right]\\right), \\  \\left( 1, \\  1, \\  \\left[ \\left[\\begin{matrix}0\\\\1\\end{matrix}\\right]\\right]\\right)\\right]$"
      ],
      "text/plain": [
       "⎡⎛      ⎡⎡-1⎤⎤⎞  ⎛      ⎡⎡0⎤⎤⎞⎤\n",
       "⎢⎜0, 1, ⎢⎢  ⎥⎥⎟, ⎜1, 1, ⎢⎢ ⎥⎥⎟⎥\n",
       "⎣⎝      ⎣⎣1 ⎦⎦⎠  ⎝      ⎣⎣1⎦⎦⎠⎦"
      ]
     },
     "execution_count": 14,
     "metadata": {},
     "output_type": "execute_result"
    }
   ],
   "source": [
    "Matrix([[0, 0],[1, 1]]).eigenvects()"
   ]
  },
  {
   "cell_type": "code",
   "execution_count": null,
   "id": "ddcaec53",
   "metadata": {},
   "outputs": [],
   "source": []
  }
 ],
 "metadata": {
  "kernelspec": {
   "display_name": "Python 3 (ipykernel)",
   "language": "python",
   "name": "python3"
  },
  "language_info": {
   "codemirror_mode": {
    "name": "ipython",
    "version": 3
   },
   "file_extension": ".py",
   "mimetype": "text/x-python",
   "name": "python",
   "nbconvert_exporter": "python",
   "pygments_lexer": "ipython3",
   "version": "3.11.3"
  }
 },
 "nbformat": 4,
 "nbformat_minor": 5
}
