{
 "cells": [
  {
   "cell_type": "code",
   "execution_count": 1,
   "id": "bfe37d03",
   "metadata": {},
   "outputs": [],
   "source": [
    "import sympy\n",
    "# from qiskit import QuantumCircuit\n",
    "# start the pretty-printer to get nicely typeset math\n",
    "sympy.init_printing()"
   ]
  },
  {
   "cell_type": "code",
   "execution_count": 2,
   "id": "f9e09d68",
   "metadata": {},
   "outputs": [],
   "source": [
    "from sympy.physics.quantum import Bra, Ket\n",
    "from sympy import Matrix\n",
    "from sympy.physics.quantum import TensorProduct\n",
    "from sympy.physics.quantum.gate import HadamardGate,CNotGate, IdentityGate\n",
    "from sympy.physics.quantum.qapply import qapply\n",
    "from sympy import eye\n",
    "\n",
    "from sympy.physics.quantum import Ket\n",
    "from sympy import sqrt"
   ]
  },
  {
   "cell_type": "code",
   "execution_count": 3,
   "id": "cbb9b322",
   "metadata": {},
   "outputs": [],
   "source": [
    "#definition des états\n",
    "ket0 = Matrix([1,0])\n",
    "ket1 = Matrix([0,1])\n",
    "\n",
    "α = sympy.Symbol(\"α\")\n",
    "β = sympy.Symbol(\"β\")\n",
    "ϕ = α * ket0 + β * ket1 # Matrix([α,β])\n",
    "\n",
    "Φp = Matrix([1/sqrt(2),0,0,1/sqrt(2)])\n"
   ]
  },
  {
   "cell_type": "code",
   "execution_count": 4,
   "id": "0e724d56",
   "metadata": {},
   "outputs": [],
   "source": [
    "#definition des operations\n",
    "\n",
    "I=eye(2)\n",
    "notgate=Matrix([[0,1], [1,0]])\n",
    "hadamardgate = Matrix([[1/sqrt(2),1/sqrt(2)], [1/sqrt(2),-1/sqrt(2)]])\n",
    "Zgate=Matrix([[1,0], [0,-1]])\n",
    "\n",
    "SWAP = Matrix ([[1,0,0,0],[0,0,1,0],[0,1,0,0],[0,0,0,1]])\n",
    "cnotgate = TensorProduct(I,ket0*ket0.T) + TensorProduct(notgate, ket1*ket1.T) # second qubit is the control\n",
    "secondstage = TensorProduct (I, I, hadamardgate)\n"
   ]
  },
  {
   "cell_type": "code",
   "execution_count": 5,
   "id": "9048c02a",
   "metadata": {},
   "outputs": [
    {
     "data": {
      "text/latex": [
       "$\\displaystyle \\left[\\begin{matrix}\\frac{\\sqrt{2}}{2} & \\frac{\\sqrt{2}}{2} & 0 & 0 & 0 & 0 & 0 & 0\\\\\\frac{\\sqrt{2}}{2} & - \\frac{\\sqrt{2}}{2} & 0 & 0 & 0 & 0 & 0 & 0\\\\0 & 0 & \\frac{\\sqrt{2}}{2} & \\frac{\\sqrt{2}}{2} & 0 & 0 & 0 & 0\\\\0 & 0 & \\frac{\\sqrt{2}}{2} & - \\frac{\\sqrt{2}}{2} & 0 & 0 & 0 & 0\\\\0 & 0 & 0 & 0 & \\frac{\\sqrt{2}}{2} & \\frac{\\sqrt{2}}{2} & 0 & 0\\\\0 & 0 & 0 & 0 & \\frac{\\sqrt{2}}{2} & - \\frac{\\sqrt{2}}{2} & 0 & 0\\\\0 & 0 & 0 & 0 & 0 & 0 & \\frac{\\sqrt{2}}{2} & \\frac{\\sqrt{2}}{2}\\\\0 & 0 & 0 & 0 & 0 & 0 & \\frac{\\sqrt{2}}{2} & - \\frac{\\sqrt{2}}{2}\\end{matrix}\\right]$"
      ],
      "text/plain": [
       "⎡√2   √2                               ⎤\n",
       "⎢──   ──   0    0    0    0    0    0  ⎥\n",
       "⎢2    2                                ⎥\n",
       "⎢                                      ⎥\n",
       "⎢√2  -√2                               ⎥\n",
       "⎢──  ────  0    0    0    0    0    0  ⎥\n",
       "⎢2    2                                ⎥\n",
       "⎢                                      ⎥\n",
       "⎢          √2   √2                     ⎥\n",
       "⎢0    0    ──   ──   0    0    0    0  ⎥\n",
       "⎢          2    2                      ⎥\n",
       "⎢                                      ⎥\n",
       "⎢          √2  -√2                     ⎥\n",
       "⎢0    0    ──  ────  0    0    0    0  ⎥\n",
       "⎢          2    2                      ⎥\n",
       "⎢                                      ⎥\n",
       "⎢                    √2   √2           ⎥\n",
       "⎢0    0    0    0    ──   ──   0    0  ⎥\n",
       "⎢                    2    2            ⎥\n",
       "⎢                                      ⎥\n",
       "⎢                    √2  -√2           ⎥\n",
       "⎢0    0    0    0    ──  ────  0    0  ⎥\n",
       "⎢                    2    2            ⎥\n",
       "⎢                                      ⎥\n",
       "⎢                              √2   √2 ⎥\n",
       "⎢0    0    0    0    0    0    ──   ── ⎥\n",
       "⎢                              2    2  ⎥\n",
       "⎢                                      ⎥\n",
       "⎢                              √2  -√2 ⎥\n",
       "⎢0    0    0    0    0    0    ──  ────⎥\n",
       "⎣                              2    2  ⎦"
      ]
     },
     "execution_count": 5,
     "metadata": {},
     "output_type": "execute_result"
    }
   ],
   "source": [
    "secondstage"
   ]
  },
  {
   "cell_type": "code",
   "execution_count": 6,
   "id": "44a9e78e",
   "metadata": {},
   "outputs": [
    {
     "data": {
      "text/latex": [
       "$\\displaystyle \\left[\\begin{matrix}1 & 0 & 0 & 0\\\\0 & 0 & 0 & 1\\\\0 & 0 & 1 & 0\\\\0 & 1 & 0 & 0\\end{matrix}\\right]$"
      ],
      "text/plain": [
       "⎡1  0  0  0⎤\n",
       "⎢          ⎥\n",
       "⎢0  0  0  1⎥\n",
       "⎢          ⎥\n",
       "⎢0  0  1  0⎥\n",
       "⎢          ⎥\n",
       "⎣0  1  0  0⎦"
      ]
     },
     "execution_count": 6,
     "metadata": {},
     "output_type": "execute_result"
    }
   ],
   "source": [
    "cnotgate"
   ]
  },
  {
   "cell_type": "code",
   "execution_count": 7,
   "id": "4b70c0d1",
   "metadata": {},
   "outputs": [
    {
     "data": {
      "text/latex": [
       "$\\displaystyle \\left[\\begin{matrix}1 & 0 & 0 & 0\\\\0 & 0 & 0 & 0\\\\0 & 0 & 1 & 0\\\\0 & 0 & 0 & 0\\end{matrix}\\right]$"
      ],
      "text/plain": [
       "⎡1  0  0  0⎤\n",
       "⎢          ⎥\n",
       "⎢0  0  0  0⎥\n",
       "⎢          ⎥\n",
       "⎢0  0  1  0⎥\n",
       "⎢          ⎥\n",
       "⎣0  0  0  0⎦"
      ]
     },
     "execution_count": 7,
     "metadata": {},
     "output_type": "execute_result"
    }
   ],
   "source": [
    "TensorProduct(I,ket0*ket0.T)\n"
   ]
  },
  {
   "cell_type": "code",
   "execution_count": 8,
   "id": "12d8e5ae",
   "metadata": {},
   "outputs": [
    {
     "data": {
      "text/latex": [
       "$\\displaystyle \\left[\\begin{matrix}0 & 0 & 1 & 0\\\\0 & 1 & 0 & 0\\\\1 & 0 & 0 & 0\\\\0 & 0 & 0 & 1\\end{matrix}\\right]$"
      ],
      "text/plain": [
       "⎡0  0  1  0⎤\n",
       "⎢          ⎥\n",
       "⎢0  1  0  0⎥\n",
       "⎢          ⎥\n",
       "⎢1  0  0  0⎥\n",
       "⎢          ⎥\n",
       "⎣0  0  0  1⎦"
      ]
     },
     "execution_count": 8,
     "metadata": {},
     "output_type": "execute_result"
    }
   ],
   "source": [
    "TensorProduct(I,ket1*ket1.T)+TensorProduct(notgate,ket0*ket0.T)"
   ]
  },
  {
   "cell_type": "code",
   "execution_count": 9,
   "id": "04856f25",
   "metadata": {},
   "outputs": [
    {
     "data": {
      "text/latex": [
       "$\\displaystyle \\left[\\begin{matrix}1 & 0 & 0 & 0 & 0 & 0 & 0 & 0\\\\0 & 1 & 0 & 0 & 0 & 0 & 0 & 0\\\\0 & 0 & 1 & 0 & 0 & 0 & 0 & 0\\\\0 & 0 & 0 & 1 & 0 & 0 & 0 & 0\\\\0 & 0 & 0 & 0 & 0 & 1 & 0 & 0\\\\0 & 0 & 0 & 0 & 1 & 0 & 0 & 0\\\\0 & 0 & 0 & 0 & 0 & 0 & 0 & 1\\\\0 & 0 & 0 & 0 & 0 & 0 & 1 & 0\\end{matrix}\\right]$"
      ],
      "text/plain": [
       "⎡1  0  0  0  0  0  0  0⎤\n",
       "⎢                      ⎥\n",
       "⎢0  1  0  0  0  0  0  0⎥\n",
       "⎢                      ⎥\n",
       "⎢0  0  1  0  0  0  0  0⎥\n",
       "⎢                      ⎥\n",
       "⎢0  0  0  1  0  0  0  0⎥\n",
       "⎢                      ⎥\n",
       "⎢0  0  0  0  0  1  0  0⎥\n",
       "⎢                      ⎥\n",
       "⎢0  0  0  0  1  0  0  0⎥\n",
       "⎢                      ⎥\n",
       "⎢0  0  0  0  0  0  0  1⎥\n",
       "⎢                      ⎥\n",
       "⎣0  0  0  0  0  0  1  0⎦"
      ]
     },
     "execution_count": 9,
     "metadata": {},
     "output_type": "execute_result"
    }
   ],
   "source": [
    "TensorProduct(ket1*ket1.T,eye(2), notgate) + TensorProduct(ket0*ket0.T,eye(2),eye(2) )"
   ]
  },
  {
   "cell_type": "code",
   "execution_count": 10,
   "id": "3fe3357d",
   "metadata": {},
   "outputs": [
    {
     "data": {
      "text/latex": [
       "$\\displaystyle \\left[\\begin{matrix}1 & 0 & 0 & 0 & 0 & 0 & 0 & 0\\\\0 & 0 & 0 & 0 & 0 & 1 & 0 & 0\\\\0 & 0 & 1 & 0 & 0 & 0 & 0 & 0\\\\0 & 0 & 0 & 0 & 0 & 0 & 0 & 1\\\\0 & 0 & 0 & 0 & 1 & 0 & 0 & 0\\\\0 & 1 & 0 & 0 & 0 & 0 & 0 & 0\\\\0 & 0 & 0 & 0 & 0 & 0 & 1 & 0\\\\0 & 0 & 0 & 1 & 0 & 0 & 0 & 0\\end{matrix}\\right]$"
      ],
      "text/plain": [
       "⎡1  0  0  0  0  0  0  0⎤\n",
       "⎢                      ⎥\n",
       "⎢0  0  0  0  0  1  0  0⎥\n",
       "⎢                      ⎥\n",
       "⎢0  0  1  0  0  0  0  0⎥\n",
       "⎢                      ⎥\n",
       "⎢0  0  0  0  0  0  0  1⎥\n",
       "⎢                      ⎥\n",
       "⎢0  0  0  0  1  0  0  0⎥\n",
       "⎢                      ⎥\n",
       "⎢0  1  0  0  0  0  0  0⎥\n",
       "⎢                      ⎥\n",
       "⎢0  0  0  0  0  0  1  0⎥\n",
       "⎢                      ⎥\n",
       "⎣0  0  0  1  0  0  0  0⎦"
      ]
     },
     "execution_count": 10,
     "metadata": {},
     "output_type": "execute_result"
    }
   ],
   "source": [
    "TensorProduct(notgate, eye(2), ket1*ket1.T) + TensorProduct(eye(2), eye(2), ket0*ket0.T)"
   ]
  },
  {
   "cell_type": "code",
   "execution_count": 11,
   "id": "7ee0550c",
   "metadata": {},
   "outputs": [
    {
     "data": {
      "text/latex": [
       "$\\displaystyle \\left[\\begin{matrix}0 & 0 & 0 & 0 & 1 & 0 & 0 & 0\\\\0 & 1 & 0 & 0 & 0 & 0 & 0 & 0\\\\0 & 0 & 0 & 0 & 0 & 0 & 1 & 0\\\\0 & 0 & 0 & 1 & 0 & 0 & 0 & 0\\\\1 & 0 & 0 & 0 & 0 & 0 & 0 & 0\\\\0 & 0 & 0 & 0 & 0 & 1 & 0 & 0\\\\0 & 0 & 1 & 0 & 0 & 0 & 0 & 0\\\\0 & 0 & 0 & 0 & 0 & 0 & 0 & 1\\end{matrix}\\right]$"
      ],
      "text/plain": [
       "⎡0  0  0  0  1  0  0  0⎤\n",
       "⎢                      ⎥\n",
       "⎢0  1  0  0  0  0  0  0⎥\n",
       "⎢                      ⎥\n",
       "⎢0  0  0  0  0  0  1  0⎥\n",
       "⎢                      ⎥\n",
       "⎢0  0  0  1  0  0  0  0⎥\n",
       "⎢                      ⎥\n",
       "⎢1  0  0  0  0  0  0  0⎥\n",
       "⎢                      ⎥\n",
       "⎢0  0  0  0  0  1  0  0⎥\n",
       "⎢                      ⎥\n",
       "⎢0  0  1  0  0  0  0  0⎥\n",
       "⎢                      ⎥\n",
       "⎣0  0  0  0  0  0  0  1⎦"
      ]
     },
     "execution_count": 11,
     "metadata": {},
     "output_type": "execute_result"
    }
   ],
   "source": [
    "TensorProduct(notgate,eye(2),ket0*ket0.T) + TensorProduct(eye(2),eye(2),ket1*ket1.T)\n"
   ]
  },
  {
   "cell_type": "code",
   "execution_count": 12,
   "id": "89f51e0c",
   "metadata": {},
   "outputs": [],
   "source": [
    "XorGate = TensorProduct(ket0*ket0.T, TensorProduct(ket0*ket0.T,eye(2)) + TensorProduct(ket1*ket1.T,notgate))+\\\n",
    "TensorProduct(ket1*ket1.T, TensorProduct(ket0*ket0.T,notgate) + TensorProduct(ket1*ket1.T,eye(2)))"
   ]
  },
  {
   "cell_type": "code",
   "execution_count": 13,
   "id": "693ecdce",
   "metadata": {},
   "outputs": [
    {
     "data": {
      "image/png": "[encoded data removed]",
      "text/latex": [
       "$\\displaystyle 1$"
      ],
      "text/plain": [
       "1"
      ]
     },
     "execution_count": 13,
     "metadata": {},
     "output_type": "execute_result"
    }
   ],
   "source": [
    "XorGate.det()"
   ]
  },
  {
   "cell_type": "code",
   "execution_count": 113,
   "id": "fc5ef10e",
   "metadata": {},
   "outputs": [
    {
     "data": {
      "text/latex": [
       "$\\displaystyle \\left[\\begin{matrix}0\\\\0\\\\1\\\\0\\end{matrix}\\right]$"
      ],
      "text/plain": [
       "⎡0⎤\n",
       "⎢ ⎥\n",
       "⎢0⎥\n",
       "⎢ ⎥\n",
       "⎢1⎥\n",
       "⎢ ⎥\n",
       "⎣0⎦"
      ]
     },
     "execution_count": 113,
     "metadata": {},
     "output_type": "execute_result"
    }
   ],
   "source": [
    "TensorProduct(ket1, ket0)"
   ]
  },
  {
   "cell_type": "code",
   "execution_count": 115,
   "id": "ed1cf279",
   "metadata": {},
   "outputs": [
    {
     "data": {
      "text/latex": [
       "$\\displaystyle \\left[\\begin{matrix}0.166666666666667\\\\0.0833333333333333\\\\0.5\\\\0.25\\end{matrix}\\right]$"
      ],
      "text/plain": [
       "⎡0.166666666666667 ⎤\n",
       "⎢                  ⎥\n",
       "⎢0.0833333333333333⎥\n",
       "⎢                  ⎥\n",
       "⎢       0.5        ⎥\n",
       "⎢                  ⎥\n",
       "⎣       0.25       ⎦"
      ]
     },
     "execution_count": 115,
     "metadata": {},
     "output_type": "execute_result"
    }
   ],
   "source": [
    "TensorProduct(Matrix([1/4, 3/4]),Matrix([2/3, 1/3]))"
   ]
  },
  {
   "cell_type": "code",
   "execution_count": 21,
   "id": "a2771daa",
   "metadata": {},
   "outputs": [
    {
     "data": {
      "text/latex": [
       "$\\displaystyle \\left[\\begin{matrix}\\frac{\\sqrt{2}}{2}\\\\- \\frac{\\sqrt{2}}{2}\\end{matrix}\\right]$"
      ],
      "text/plain": [
       "⎡ √2 ⎤\n",
       "⎢ ── ⎥\n",
       "⎢ 2  ⎥\n",
       "⎢    ⎥\n",
       "⎢-√2 ⎥\n",
       "⎢────⎥\n",
       "⎣ 2  ⎦"
      ]
     },
     "execution_count": 21,
     "metadata": {},
     "output_type": "execute_result"
    }
   ],
   "source": [
    "hadamardgate*ket1"
   ]
  },
  {
   "cell_type": "code",
   "execution_count": 22,
   "id": "6ae2dc56",
   "metadata": {},
   "outputs": [
    {
     "data": {
      "text/latex": [
       "$\\displaystyle \\left[\\begin{matrix}\\frac{1}{2} & \\frac{1}{2} & \\frac{1}{2} & \\frac{1}{2}\\\\\\frac{1}{2} & - \\frac{1}{2} & \\frac{1}{2} & - \\frac{1}{2}\\\\\\frac{1}{2} & \\frac{1}{2} & - \\frac{1}{2} & - \\frac{1}{2}\\\\\\frac{1}{2} & - \\frac{1}{2} & - \\frac{1}{2} & \\frac{1}{2}\\end{matrix}\\right]$"
      ],
      "text/plain": [
       "⎡1/2  1/2   1/2   1/2 ⎤\n",
       "⎢                     ⎥\n",
       "⎢1/2  -1/2  1/2   -1/2⎥\n",
       "⎢                     ⎥\n",
       "⎢1/2  1/2   -1/2  -1/2⎥\n",
       "⎢                     ⎥\n",
       "⎣1/2  -1/2  -1/2  1/2 ⎦"
      ]
     },
     "execution_count": 22,
     "metadata": {},
     "output_type": "execute_result"
    }
   ],
   "source": [
    "TensorProduct (hadamardgate, hadamardgate)"
   ]
  },
  {
   "cell_type": "code",
   "execution_count": 29,
   "id": "83800e93",
   "metadata": {},
   "outputs": [
    {
     "data": {
      "text/latex": [
       "$\\displaystyle \\left[\\begin{matrix}\\frac{1}{2}\\\\\\frac{1}{2}\\\\- \\frac{1}{2}\\\\- \\frac{1}{2}\\end{matrix}\\right]$"
      ],
      "text/plain": [
       "⎡1/2 ⎤\n",
       "⎢    ⎥\n",
       "⎢1/2 ⎥\n",
       "⎢    ⎥\n",
       "⎢-1/2⎥\n",
       "⎢    ⎥\n",
       "⎣-1/2⎦"
      ]
     },
     "execution_count": 29,
     "metadata": {},
     "output_type": "execute_result"
    }
   ],
   "source": [
    "TensorProduct (hadamardgate, hadamardgate)*TensorProduct (ket1, ket0)"
   ]
  },
  {
   "cell_type": "code",
   "execution_count": 24,
   "id": "c70d08c6",
   "metadata": {},
   "outputs": [
    {
     "data": {
      "text/latex": [
       "$\\displaystyle \\left[\\begin{matrix}1\\\\-1\\end{matrix}\\right]$"
      ],
      "text/plain": [
       "⎡1 ⎤\n",
       "⎢  ⎥\n",
       "⎣-1⎦"
      ]
     },
     "execution_count": 24,
     "metadata": {},
     "output_type": "execute_result"
    }
   ],
   "source": [
    "ket0-ket1"
   ]
  },
  {
   "cell_type": "code",
   "execution_count": 28,
   "id": "209f3662",
   "metadata": {},
   "outputs": [
    {
     "data": {
      "text/latex": [
       "$\\displaystyle \\left[\\begin{matrix}\\frac{1}{2}\\\\\\frac{1}{2}\\\\- \\frac{1}{2}\\\\- \\frac{1}{2}\\end{matrix}\\right]$"
      ],
      "text/plain": [
       "⎡1/2 ⎤\n",
       "⎢    ⎥\n",
       "⎢1/2 ⎥\n",
       "⎢    ⎥\n",
       "⎢-1/2⎥\n",
       "⎢    ⎥\n",
       "⎣-1/2⎦"
      ]
     },
     "execution_count": 28,
     "metadata": {},
     "output_type": "execute_result"
    }
   ],
   "source": [
    "TensorProduct(ket0-ket1, ket0)/2+TensorProduct(ket0-ket1, ket1)/2"
   ]
  },
  {
   "cell_type": "code",
   "execution_count": 12,
   "id": "2c8ffb4e",
   "metadata": {},
   "outputs": [
    {
     "data": {
      "text/latex": [
       "$\\displaystyle \\left[\\begin{matrix}\\frac{1}{2}\\\\\\frac{1}{2}\\\\- \\frac{1}{2}\\\\- \\frac{1}{2}\\end{matrix}\\right]$"
      ],
      "text/plain": [
       "⎡1/2 ⎤\n",
       "⎢    ⎥\n",
       "⎢1/2 ⎥\n",
       "⎢    ⎥\n",
       "⎢-1/2⎥\n",
       "⎢    ⎥\n",
       "⎣-1/2⎦"
      ]
     },
     "execution_count": 12,
     "metadata": {},
     "output_type": "execute_result"
    }
   ],
   "source": [
    "ps=Matrix([1/sqrt(2), 1/sqrt(2)])\n",
    "ms=Matrix([1/sqrt(2), -1/sqrt(2)])\n",
    "TensorProduct(ms, ps)"
   ]
  },
  {
   "cell_type": "code",
   "execution_count": 13,
   "id": "8bca4e94",
   "metadata": {},
   "outputs": [
    {
     "data": {
      "text/latex": [
       "$\\displaystyle \\left[\\begin{matrix}\\frac{1}{2}\\\\\\frac{1}{2}\\\\- \\frac{1}{2}\\\\- \\frac{1}{2}\\end{matrix}\\right]$"
      ],
      "text/plain": [
       "⎡1/2 ⎤\n",
       "⎢    ⎥\n",
       "⎢1/2 ⎥\n",
       "⎢    ⎥\n",
       "⎢-1/2⎥\n",
       "⎢    ⎥\n",
       "⎣-1/2⎦"
      ]
     },
     "execution_count": 13,
     "metadata": {},
     "output_type": "execute_result"
    }
   ],
   "source": [
    "TensorProduct(hadamardgate*ket1,hadamardgate*ket0)"
   ]
  },
  {
   "cell_type": "code",
   "execution_count": 14,
   "id": "b9209c31",
   "metadata": {},
   "outputs": [],
   "source": [
    "α0 = sympy.Symbol(\"α0\")\n",
    "β0 = sympy.Symbol(\"β0\")\n",
    "α1 = sympy.Symbol(\"α1\")\n",
    "β1 = sympy.Symbol(\"β1\")\n",
    "\n",
    "U00 = sympy.Symbol(\"U00\")\n",
    "U01 = sympy.Symbol(\"U01\")\n",
    "U10 = sympy.Symbol(\"U10\")\n",
    "U11 = sympy.Symbol(\"U11\")\n",
    "\n",
    "V00 = sympy.Symbol(\"V00\")\n",
    "V01 = sympy.Symbol(\"V01\")\n",
    "V10 = sympy.Symbol(\"V10\")\n",
    "V11 = sympy.Symbol(\"V11\")\n",
    "\n",
    "ψ0 = Matrix([α0, β0]) \n",
    "ψ1 = Matrix([α1, β1])\n",
    "U = Matrix([[U00, U01], [U10, U11]])\n",
    "V = Matrix([[V00, V01], [V10, V11]])"
   ]
  },
  {
   "cell_type": "code",
   "execution_count": 15,
   "id": "23ba631d",
   "metadata": {},
   "outputs": [
    {
     "data": {
      "text/latex": [
       "$\\displaystyle \\left[\\begin{matrix}α_{0} α_{1}\\\\α_{1} β_{0}\\\\α_{0} β_{1}\\\\β_{0} β_{1}\\end{matrix}\\right]$"
      ],
      "text/plain": [
       "⎡α₀⋅α₁⎤\n",
       "⎢     ⎥\n",
       "⎢α₁⋅β₀⎥\n",
       "⎢     ⎥\n",
       "⎢α₀⋅β₁⎥\n",
       "⎢     ⎥\n",
       "⎣β₀⋅β₁⎦"
      ]
     },
     "execution_count": 15,
     "metadata": {},
     "output_type": "execute_result"
    }
   ],
   "source": [
    "TensorProduct(ψ1, ψ0)"
   ]
  },
  {
   "cell_type": "code",
   "execution_count": 16,
   "id": "325fbb13",
   "metadata": {},
   "outputs": [
    {
     "data": {
      "text/latex": [
       "$\\displaystyle \\left[\\begin{matrix}U_{00} V_{00} & U_{01} V_{00} & U_{00} V_{01} & U_{01} V_{01}\\\\U_{10} V_{00} & U_{11} V_{00} & U_{10} V_{01} & U_{11} V_{01}\\\\U_{00} V_{10} & U_{01} V_{10} & U_{00} V_{11} & U_{01} V_{11}\\\\U_{10} V_{10} & U_{11} V_{10} & U_{10} V_{11} & U_{11} V_{11}\\end{matrix}\\right]$"
      ],
      "text/plain": [
       "⎡U₀₀⋅V₀₀  U₀₁⋅V₀₀  U₀₀⋅V₀₁  U₀₁⋅V₀₁⎤\n",
       "⎢                                  ⎥\n",
       "⎢U₁₀⋅V₀₀  U₁₁⋅V₀₀  U₁₀⋅V₀₁  U₁₁⋅V₀₁⎥\n",
       "⎢                                  ⎥\n",
       "⎢U₀₀⋅V₁₀  U₀₁⋅V₁₀  U₀₀⋅V₁₁  U₀₁⋅V₁₁⎥\n",
       "⎢                                  ⎥\n",
       "⎣U₁₀⋅V₁₀  U₁₁⋅V₁₀  U₁₀⋅V₁₁  U₁₁⋅V₁₁⎦"
      ]
     },
     "execution_count": 16,
     "metadata": {},
     "output_type": "execute_result"
    }
   ],
   "source": [
    "TensorProduct(V,U)"
   ]
  },
  {
   "cell_type": "code",
   "execution_count": 17,
   "id": "1145207a",
   "metadata": {},
   "outputs": [
    {
     "data": {
      "text/latex": [
       "$\\displaystyle \\left[\\begin{matrix}U_{00} V_{00} α_{0} α_{1} + U_{00} V_{01} α_{0} β_{1} + U_{01} V_{00} α_{1} β_{0} + U_{01} V_{01} β_{0} β_{1}\\\\U_{10} V_{00} α_{0} α_{1} + U_{10} V_{01} α_{0} β_{1} + U_{11} V_{00} α_{1} β_{0} + U_{11} V_{01} β_{0} β_{1}\\\\U_{00} V_{10} α_{0} α_{1} + U_{00} V_{11} α_{0} β_{1} + U_{01} V_{10} α_{1} β_{0} + U_{01} V_{11} β_{0} β_{1}\\\\U_{10} V_{10} α_{0} α_{1} + U_{10} V_{11} α_{0} β_{1} + U_{11} V_{10} α_{1} β_{0} + U_{11} V_{11} β_{0} β_{1}\\end{matrix}\\right]$"
      ],
      "text/plain": [
       "⎡U₀₀⋅V₀₀⋅α₀⋅α₁ + U₀₀⋅V₀₁⋅α₀⋅β₁ + U₀₁⋅V₀₀⋅α₁⋅β₀ + U₀₁⋅V₀₁⋅β₀⋅β₁⎤\n",
       "⎢                                                             ⎥\n",
       "⎢U₁₀⋅V₀₀⋅α₀⋅α₁ + U₁₀⋅V₀₁⋅α₀⋅β₁ + U₁₁⋅V₀₀⋅α₁⋅β₀ + U₁₁⋅V₀₁⋅β₀⋅β₁⎥\n",
       "⎢                                                             ⎥\n",
       "⎢U₀₀⋅V₁₀⋅α₀⋅α₁ + U₀₀⋅V₁₁⋅α₀⋅β₁ + U₀₁⋅V₁₀⋅α₁⋅β₀ + U₀₁⋅V₁₁⋅β₀⋅β₁⎥\n",
       "⎢                                                             ⎥\n",
       "⎣U₁₀⋅V₁₀⋅α₀⋅α₁ + U₁₀⋅V₁₁⋅α₀⋅β₁ + U₁₁⋅V₁₀⋅α₁⋅β₀ + U₁₁⋅V₁₁⋅β₀⋅β₁⎦"
      ]
     },
     "execution_count": 17,
     "metadata": {},
     "output_type": "execute_result"
    }
   ],
   "source": [
    "TensorProduct(V,U)*TensorProduct(ψ1, ψ0)"
   ]
  },
  {
   "cell_type": "code",
   "execution_count": 18,
   "id": "7f2aafd2",
   "metadata": {},
   "outputs": [
    {
     "data": {
      "text/latex": [
       "$\\displaystyle \\left[\\begin{matrix}\\left(U_{00} α_{0} + U_{01} β_{0}\\right) \\left(V_{00} α_{1} + V_{01} β_{1}\\right)\\\\\\left(U_{10} α_{0} + U_{11} β_{0}\\right) \\left(V_{00} α_{1} + V_{01} β_{1}\\right)\\\\\\left(U_{00} α_{0} + U_{01} β_{0}\\right) \\left(V_{10} α_{1} + V_{11} β_{1}\\right)\\\\\\left(U_{10} α_{0} + U_{11} β_{0}\\right) \\left(V_{10} α_{1} + V_{11} β_{1}\\right)\\end{matrix}\\right]$"
      ],
      "text/plain": [
       "⎡(U₀₀⋅α₀ + U₀₁⋅β₀)⋅(V₀₀⋅α₁ + V₀₁⋅β₁)⎤\n",
       "⎢                                   ⎥\n",
       "⎢(U₁₀⋅α₀ + U₁₁⋅β₀)⋅(V₀₀⋅α₁ + V₀₁⋅β₁)⎥\n",
       "⎢                                   ⎥\n",
       "⎢(U₀₀⋅α₀ + U₀₁⋅β₀)⋅(V₁₀⋅α₁ + V₁₁⋅β₁)⎥\n",
       "⎢                                   ⎥\n",
       "⎣(U₁₀⋅α₀ + U₁₁⋅β₀)⋅(V₁₀⋅α₁ + V₁₁⋅β₁)⎦"
      ]
     },
     "execution_count": 18,
     "metadata": {},
     "output_type": "execute_result"
    }
   ],
   "source": [
    "TensorProduct(V*ψ1,U*ψ0)"
   ]
  },
  {
   "cell_type": "code",
   "execution_count": 19,
   "id": "df4f0629",
   "metadata": {},
   "outputs": [
    {
     "data": {
      "text/latex": [
       "$\\displaystyle \\left[\\begin{matrix}- U_{00} V_{00} α_{0} α_{1} - U_{00} V_{01} α_{0} β_{1} - U_{01} V_{00} α_{1} β_{0} - U_{01} V_{01} β_{0} β_{1} + \\left(U_{00} α_{0} + U_{01} β_{0}\\right) \\left(V_{00} α_{1} + V_{01} β_{1}\\right)\\\\- U_{10} V_{00} α_{0} α_{1} - U_{10} V_{01} α_{0} β_{1} - U_{11} V_{00} α_{1} β_{0} - U_{11} V_{01} β_{0} β_{1} + \\left(U_{10} α_{0} + U_{11} β_{0}\\right) \\left(V_{00} α_{1} + V_{01} β_{1}\\right)\\\\- U_{00} V_{10} α_{0} α_{1} - U_{00} V_{11} α_{0} β_{1} - U_{01} V_{10} α_{1} β_{0} - U_{01} V_{11} β_{0} β_{1} + \\left(U_{00} α_{0} + U_{01} β_{0}\\right) \\left(V_{10} α_{1} + V_{11} β_{1}\\right)\\\\- U_{10} V_{10} α_{0} α_{1} - U_{10} V_{11} α_{0} β_{1} - U_{11} V_{10} α_{1} β_{0} - U_{11} V_{11} β_{0} β_{1} + \\left(U_{10} α_{0} + U_{11} β_{0}\\right) \\left(V_{10} α_{1} + V_{11} β_{1}\\right)\\end{matrix}\\right]$"
      ],
      "text/plain": [
       "⎡-U₀₀⋅V₀₀⋅α₀⋅α₁ - U₀₀⋅V₀₁⋅α₀⋅β₁ - U₀₁⋅V₀₀⋅α₁⋅β₀ - U₀₁⋅V₀₁⋅β₀⋅β₁ + (U₀₀⋅α₀ + U₀\n",
       "⎢                                                                             \n",
       "⎢-U₁₀⋅V₀₀⋅α₀⋅α₁ - U₁₀⋅V₀₁⋅α₀⋅β₁ - U₁₁⋅V₀₀⋅α₁⋅β₀ - U₁₁⋅V₀₁⋅β₀⋅β₁ + (U₁₀⋅α₀ + U₁\n",
       "⎢                                                                             \n",
       "⎢-U₀₀⋅V₁₀⋅α₀⋅α₁ - U₀₀⋅V₁₁⋅α₀⋅β₁ - U₀₁⋅V₁₀⋅α₁⋅β₀ - U₀₁⋅V₁₁⋅β₀⋅β₁ + (U₀₀⋅α₀ + U₀\n",
       "⎢                                                                             \n",
       "⎣-U₁₀⋅V₁₀⋅α₀⋅α₁ - U₁₀⋅V₁₁⋅α₀⋅β₁ - U₁₁⋅V₁₀⋅α₁⋅β₀ - U₁₁⋅V₁₁⋅β₀⋅β₁ + (U₁₀⋅α₀ + U₁\n",
       "\n",
       "₁⋅β₀)⋅(V₀₀⋅α₁ + V₀₁⋅β₁)⎤\n",
       "                       ⎥\n",
       "₁⋅β₀)⋅(V₀₀⋅α₁ + V₀₁⋅β₁)⎥\n",
       "                       ⎥\n",
       "₁⋅β₀)⋅(V₁₀⋅α₁ + V₁₁⋅β₁)⎥\n",
       "                       ⎥\n",
       "₁⋅β₀)⋅(V₁₀⋅α₁ + V₁₁⋅β₁)⎦"
      ]
     },
     "execution_count": 19,
     "metadata": {},
     "output_type": "execute_result"
    }
   ],
   "source": [
    "D=TensorProduct(V*ψ1,U*ψ0)-TensorProduct(V,U)*TensorProduct(ψ1, ψ0)\n",
    "D"
   ]
  },
  {
   "cell_type": "code",
   "execution_count": 20,
   "id": "84c65673",
   "metadata": {},
   "outputs": [],
   "source": [
    "D.simplify()"
   ]
  },
  {
   "cell_type": "code",
   "execution_count": 21,
   "id": "b4791df1",
   "metadata": {},
   "outputs": [
    {
     "data": {
      "text/latex": [
       "$\\displaystyle \\left[\\begin{matrix}0\\\\0\\\\0\\\\0\\end{matrix}\\right]$"
      ],
      "text/plain": [
       "⎡0⎤\n",
       "⎢ ⎥\n",
       "⎢0⎥\n",
       "⎢ ⎥\n",
       "⎢0⎥\n",
       "⎢ ⎥\n",
       "⎣0⎦"
      ]
     },
     "execution_count": 21,
     "metadata": {},
     "output_type": "execute_result"
    }
   ],
   "source": [
    "D"
   ]
  },
  {
   "cell_type": "code",
   "execution_count": 123,
   "id": "474aeff4",
   "metadata": {},
   "outputs": [],
   "source": [
    "Uf1=eye(4)\n",
    "Uf2=TensorProduct(ket0*ket0.T,eye(2)) + TensorProduct( ket1*ket1.T, notgate)\n",
    "Uf3=TensorProduct(ket0*ket0.T,notgate) + TensorProduct( ket1*ket1.T, eye(2))\n",
    "Uf4=TensorProduct(ket0*ket0.T,notgate) + TensorProduct( ket1*ket1.T, notgate)\n",
    "Uf = Matrix([[1,0, 0, 0],[0,0, 0, 1],[0,1, 0, 0],[0,0, 1, 0]])"
   ]
  },
  {
   "cell_type": "code",
   "execution_count": 124,
   "id": "607a1e97",
   "metadata": {},
   "outputs": [
    {
     "data": {
      "text/latex": [
       "$\\displaystyle \\left[\\begin{matrix}1 & 0 & 0 & 0\\\\0 & 0 & 0 & 1\\\\0 & 1 & 0 & 0\\\\0 & 0 & 1 & 0\\end{matrix}\\right]$"
      ],
      "text/plain": [
       "⎡1  0  0  0⎤\n",
       "⎢          ⎥\n",
       "⎢0  0  0  1⎥\n",
       "⎢          ⎥\n",
       "⎢0  1  0  0⎥\n",
       "⎢          ⎥\n",
       "⎣0  0  1  0⎦"
      ]
     },
     "execution_count": 124,
     "metadata": {},
     "output_type": "execute_result"
    }
   ],
   "source": [
    "Uf"
   ]
  },
  {
   "cell_type": "code",
   "execution_count": 125,
   "id": "27a19dd6",
   "metadata": {},
   "outputs": [
    {
     "data": {
      "image/png": "[encoded data removed]",
      "text/latex": [
       "$\\displaystyle 1$"
      ],
      "text/plain": [
       "1"
      ]
     },
     "execution_count": 125,
     "metadata": {},
     "output_type": "execute_result"
    }
   ],
   "source": [
    "Uf.det()"
   ]
  },
  {
   "cell_type": "code",
   "execution_count": 126,
   "id": "2fb28dcb",
   "metadata": {},
   "outputs": [
    {
     "data": {
      "text/latex": [
       "$\\displaystyle \\left[\\begin{matrix}\\frac{1}{2}\\\\- \\frac{1}{2}\\\\- \\frac{1}{2}\\\\\\frac{1}{2}\\end{matrix}\\right]$"
      ],
      "text/plain": [
       "⎡1/2 ⎤\n",
       "⎢    ⎥\n",
       "⎢-1/2⎥\n",
       "⎢    ⎥\n",
       "⎢-1/2⎥\n",
       "⎢    ⎥\n",
       "⎣1/2 ⎦"
      ]
     },
     "execution_count": 126,
     "metadata": {},
     "output_type": "execute_result"
    }
   ],
   "source": [
    "#TensorProduct (eye(2), hadamardgate)*Uf2*\n",
    "Uf*TensorProduct (hadamardgate, hadamardgate)*TensorProduct (ket0, ket1)"
   ]
  },
  {
   "cell_type": "code",
   "execution_count": 72,
   "id": "9b45df12",
   "metadata": {},
   "outputs": [
    {
     "data": {
      "text/latex": [
       "$\\displaystyle \\left[\\begin{matrix}\\frac{\\sqrt{2}}{2} & \\frac{\\sqrt{2}}{2} & 0 & 0\\\\\\frac{\\sqrt{2}}{2} & - \\frac{\\sqrt{2}}{2} & 0 & 0\\\\0 & 0 & \\frac{\\sqrt{2}}{2} & \\frac{\\sqrt{2}}{2}\\\\0 & 0 & \\frac{\\sqrt{2}}{2} & - \\frac{\\sqrt{2}}{2}\\end{matrix}\\right]$"
      ],
      "text/plain": [
       "⎡√2   √2           ⎤\n",
       "⎢──   ──   0    0  ⎥\n",
       "⎢2    2            ⎥\n",
       "⎢                  ⎥\n",
       "⎢√2  -√2           ⎥\n",
       "⎢──  ────  0    0  ⎥\n",
       "⎢2    2            ⎥\n",
       "⎢                  ⎥\n",
       "⎢          √2   √2 ⎥\n",
       "⎢0    0    ──   ── ⎥\n",
       "⎢          2    2  ⎥\n",
       "⎢                  ⎥\n",
       "⎢          √2  -√2 ⎥\n",
       "⎢0    0    ──  ────⎥\n",
       "⎣          2    2  ⎦"
      ]
     },
     "execution_count": 72,
     "metadata": {},
     "output_type": "execute_result"
    }
   ],
   "source": [
    "TensorProduct (eye(2), hadamardgate)"
   ]
  },
  {
   "cell_type": "code",
   "execution_count": 127,
   "id": "51ba3449",
   "metadata": {},
   "outputs": [
    {
     "data": {
      "text/latex": [
       "$\\displaystyle \\left[\\begin{matrix}0\\\\\\frac{\\sqrt{2}}{2}\\\\0\\\\- \\frac{\\sqrt{2}}{2}\\end{matrix}\\right]$"
      ],
      "text/plain": [
       "⎡ 0  ⎤\n",
       "⎢    ⎥\n",
       "⎢ √2 ⎥\n",
       "⎢ ── ⎥\n",
       "⎢ 2  ⎥\n",
       "⎢    ⎥\n",
       "⎢ 0  ⎥\n",
       "⎢    ⎥\n",
       "⎢-√2 ⎥\n",
       "⎢────⎥\n",
       "⎣ 2  ⎦"
      ]
     },
     "execution_count": 127,
     "metadata": {},
     "output_type": "execute_result"
    }
   ],
   "source": [
    "TensorProduct (eye(2), hadamardgate)*Uf*TensorProduct (hadamardgate, hadamardgate)*TensorProduct (ket0, ket1)"
   ]
  },
  {
   "cell_type": "code",
   "execution_count": 107,
   "id": "adaace1a",
   "metadata": {},
   "outputs": [
    {
     "data": {
      "text/latex": [
       "$\\displaystyle \\left[\\begin{matrix}0\\\\\\frac{\\sqrt{2}}{2}\\\\0\\\\- \\frac{\\sqrt{2}}{2}\\end{matrix}\\right]$"
      ],
      "text/plain": [
       "⎡ 0  ⎤\n",
       "⎢    ⎥\n",
       "⎢ √2 ⎥\n",
       "⎢ ── ⎥\n",
       "⎢ 2  ⎥\n",
       "⎢    ⎥\n",
       "⎢ 0  ⎥\n",
       "⎢    ⎥\n",
       "⎢-√2 ⎥\n",
       "⎢────⎥\n",
       "⎣ 2  ⎦"
      ]
     },
     "execution_count": 107,
     "metadata": {},
     "output_type": "execute_result"
    }
   ],
   "source": [
    "TensorProduct (eye(2), hadamardgate)*Uf2*TensorProduct (hadamardgate, hadamardgate)*TensorProduct (ket0, ket1)"
   ]
  },
  {
   "cell_type": "code",
   "execution_count": 108,
   "id": "1470de48",
   "metadata": {},
   "outputs": [
    {
     "data": {
      "text/latex": [
       "$\\displaystyle \\left[\\begin{matrix}0\\\\- \\frac{\\sqrt{2}}{2}\\\\0\\\\\\frac{\\sqrt{2}}{2}\\end{matrix}\\right]$"
      ],
      "text/plain": [
       "⎡ 0  ⎤\n",
       "⎢    ⎥\n",
       "⎢-√2 ⎥\n",
       "⎢────⎥\n",
       "⎢ 2  ⎥\n",
       "⎢    ⎥\n",
       "⎢ 0  ⎥\n",
       "⎢    ⎥\n",
       "⎢ √2 ⎥\n",
       "⎢ ── ⎥\n",
       "⎣ 2  ⎦"
      ]
     },
     "execution_count": 108,
     "metadata": {},
     "output_type": "execute_result"
    }
   ],
   "source": [
    "TensorProduct (eye(2), hadamardgate)*Uf3*TensorProduct (hadamardgate, hadamardgate)*TensorProduct (ket0, ket1)"
   ]
  },
  {
   "cell_type": "code",
   "execution_count": 109,
   "id": "4e12928e",
   "metadata": {},
   "outputs": [
    {
     "data": {
      "text/latex": [
       "$\\displaystyle \\left[\\begin{matrix}0\\\\- \\frac{\\sqrt{2}}{2}\\\\0\\\\- \\frac{\\sqrt{2}}{2}\\end{matrix}\\right]$"
      ],
      "text/plain": [
       "⎡ 0  ⎤\n",
       "⎢    ⎥\n",
       "⎢-√2 ⎥\n",
       "⎢────⎥\n",
       "⎢ 2  ⎥\n",
       "⎢    ⎥\n",
       "⎢ 0  ⎥\n",
       "⎢    ⎥\n",
       "⎢-√2 ⎥\n",
       "⎢────⎥\n",
       "⎣ 2  ⎦"
      ]
     },
     "execution_count": 109,
     "metadata": {},
     "output_type": "execute_result"
    }
   ],
   "source": [
    "TensorProduct (eye(2), hadamardgate)*Uf4*TensorProduct (hadamardgate, hadamardgate)*TensorProduct (ket0, ket1)"
   ]
  },
  {
   "cell_type": "code",
   "execution_count": 116,
   "id": "90091c99",
   "metadata": {},
   "outputs": [],
   "source": [
    "U = Matrix([[1,0, 0, 0],[0,0, 1, 0],[0,1, 0, 0],[0,0, 0, 1]])"
   ]
  },
  {
   "cell_type": "code",
   "execution_count": 117,
   "id": "9a98d56e",
   "metadata": {},
   "outputs": [
    {
     "data": {
      "text/latex": [
       "$\\displaystyle \\left[\\begin{matrix}1 & 0 & 0 & 0\\\\0 & 0 & 1 & 0\\\\0 & 1 & 0 & 0\\\\0 & 0 & 0 & 1\\end{matrix}\\right]$"
      ],
      "text/plain": [
       "⎡1  0  0  0⎤\n",
       "⎢          ⎥\n",
       "⎢0  0  1  0⎥\n",
       "⎢          ⎥\n",
       "⎢0  1  0  0⎥\n",
       "⎢          ⎥\n",
       "⎣0  0  0  1⎦"
      ]
     },
     "execution_count": 117,
     "metadata": {},
     "output_type": "execute_result"
    }
   ],
   "source": [
    "U\n"
   ]
  },
  {
   "cell_type": "code",
   "execution_count": 118,
   "id": "94e9de7a",
   "metadata": {},
   "outputs": [
    {
     "data": {
      "text/latex": [
       "$\\displaystyle \\left[\\begin{matrix}0\\\\1\\\\0\\\\0\\end{matrix}\\right]$"
      ],
      "text/plain": [
       "⎡0⎤\n",
       "⎢ ⎥\n",
       "⎢1⎥\n",
       "⎢ ⎥\n",
       "⎢0⎥\n",
       "⎢ ⎥\n",
       "⎣0⎦"
      ]
     },
     "execution_count": 118,
     "metadata": {},
     "output_type": "execute_result"
    }
   ],
   "source": [
    "U*TensorProduct(ket1, ket0)"
   ]
  },
  {
   "cell_type": "code",
   "execution_count": null,
   "id": "3e701391",
   "metadata": {},
   "outputs": [],
   "source": []
  }
 ],
 "metadata": {
  "kernelspec": {
   "display_name": "Python 3 (ipykernel)",
   "language": "python",
   "name": "python3"
  },
  "language_info": {
   "codemirror_mode": {
    "name": "ipython",
    "version": 3
   },
   "file_extension": ".py",
   "mimetype": "text/x-python",
   "name": "python",
   "nbconvert_exporter": "python",
   "pygments_lexer": "ipython3",
   "version": "3.11.3"
  }
 },
 "nbformat": 4,
 "nbformat_minor": 5
}
