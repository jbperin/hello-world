{
 "cells": [
  {
   "cell_type": "code",
   "execution_count": 2,
   "id": "bfe37d03",
   "metadata": {},
   "outputs": [],
   "source": [
    "import sympy\n",
    "# from qiskit import QuantumCircuit\n",
    "# start the pretty-printer to get nicely typeset math\n",
    "sympy.init_printing()"
   ]
  },
  {
   "cell_type": "code",
   "execution_count": 3,
   "id": "f9e09d68",
   "metadata": {},
   "outputs": [],
   "source": [
    "from sympy.physics.quantum import Bra, Ket\n",
    "from sympy import Matrix\n",
    "from sympy.physics.quantum import TensorProduct\n",
    "from sympy.physics.quantum.gate import HadamardGate,CNotGate, IdentityGate\n",
    "from sympy.physics.quantum.qapply import qapply\n",
    "from sympy import eye\n",
    "\n",
    "from sympy.physics.quantum import Ket\n",
    "from sympy import sqrt"
   ]
  },
  {
   "cell_type": "code",
   "execution_count": 4,
   "id": "cbb9b322",
   "metadata": {},
   "outputs": [],
   "source": [
    "#definition des états\n",
    "ket0 = Matrix([1,0])\n",
    "ket1 = Matrix([0,1])\n",
    "\n",
    "α = sympy.Symbol(\"α\")\n",
    "β = sympy.Symbol(\"β\")\n",
    "ϕ = α * ket0 + β * ket1 # Matrix([α,β])\n",
    "\n",
    "Φp = Matrix([1/sqrt(2),0,0,1/sqrt(2)])\n"
   ]
  },
  {
   "cell_type": "code",
   "execution_count": 5,
   "id": "0e724d56",
   "metadata": {},
   "outputs": [],
   "source": [
    "#definition des operations\n",
    "\n",
    "I=eye(2)\n",
    "notgate=Matrix([[0,1], [1,0]])\n",
    "hadamardgate = Matrix([[1/sqrt(2),1/sqrt(2)], [1/sqrt(2),-1/sqrt(2)]])\n",
    "Zgate=Matrix([[1,0], [0,-1]])\n",
    "\n",
    "SWAP = Matrix ([[1,0,0,0],[0,0,1,0],[0,1,0,0],[0,0,0,1]])\n",
    "cnotgate = TensorProduct(I,ket0*ket0.T) + TensorProduct(notgate, ket1*ket1.T) # second qubit is the control\n",
    "secondstage = TensorProduct (I, I, hadamardgate)\n"
   ]
  },
  {
   "cell_type": "code",
   "execution_count": 6,
   "id": "9048c02a",
   "metadata": {},
   "outputs": [
    {
     "data": {
      "text/latex": [
       "$\\displaystyle \\left[\\begin{matrix}\\frac{\\sqrt{2}}{2} & \\frac{\\sqrt{2}}{2} & 0 & 0 & 0 & 0 & 0 & 0\\\\\\frac{\\sqrt{2}}{2} & - \\frac{\\sqrt{2}}{2} & 0 & 0 & 0 & 0 & 0 & 0\\\\0 & 0 & \\frac{\\sqrt{2}}{2} & \\frac{\\sqrt{2}}{2} & 0 & 0 & 0 & 0\\\\0 & 0 & \\frac{\\sqrt{2}}{2} & - \\frac{\\sqrt{2}}{2} & 0 & 0 & 0 & 0\\\\0 & 0 & 0 & 0 & \\frac{\\sqrt{2}}{2} & \\frac{\\sqrt{2}}{2} & 0 & 0\\\\0 & 0 & 0 & 0 & \\frac{\\sqrt{2}}{2} & - \\frac{\\sqrt{2}}{2} & 0 & 0\\\\0 & 0 & 0 & 0 & 0 & 0 & \\frac{\\sqrt{2}}{2} & \\frac{\\sqrt{2}}{2}\\\\0 & 0 & 0 & 0 & 0 & 0 & \\frac{\\sqrt{2}}{2} & - \\frac{\\sqrt{2}}{2}\\end{matrix}\\right]$"
      ],
      "text/plain": [
       "⎡√2   √2                               ⎤\n",
       "⎢──   ──   0    0    0    0    0    0  ⎥\n",
       "⎢2    2                                ⎥\n",
       "⎢                                      ⎥\n",
       "⎢√2  -√2                               ⎥\n",
       "⎢──  ────  0    0    0    0    0    0  ⎥\n",
       "⎢2    2                                ⎥\n",
       "⎢                                      ⎥\n",
       "⎢          √2   √2                     ⎥\n",
       "⎢0    0    ──   ──   0    0    0    0  ⎥\n",
       "⎢          2    2                      ⎥\n",
       "⎢                                      ⎥\n",
       "⎢          √2  -√2                     ⎥\n",
       "⎢0    0    ──  ────  0    0    0    0  ⎥\n",
       "⎢          2    2                      ⎥\n",
       "⎢                                      ⎥\n",
       "⎢                    √2   √2           ⎥\n",
       "⎢0    0    0    0    ──   ──   0    0  ⎥\n",
       "⎢                    2    2            ⎥\n",
       "⎢                                      ⎥\n",
       "⎢                    √2  -√2           ⎥\n",
       "⎢0    0    0    0    ──  ────  0    0  ⎥\n",
       "⎢                    2    2            ⎥\n",
       "⎢                                      ⎥\n",
       "⎢                              √2   √2 ⎥\n",
       "⎢0    0    0    0    0    0    ──   ── ⎥\n",
       "⎢                              2    2  ⎥\n",
       "⎢                                      ⎥\n",
       "⎢                              √2  -√2 ⎥\n",
       "⎢0    0    0    0    0    0    ──  ────⎥\n",
       "⎣                              2    2  ⎦"
      ]
     },
     "execution_count": 6,
     "metadata": {},
     "output_type": "execute_result"
    }
   ],
   "source": [
    "secondstage"
   ]
  },
  {
   "cell_type": "code",
   "execution_count": 7,
   "id": "44a9e78e",
   "metadata": {},
   "outputs": [
    {
     "data": {
      "text/latex": [
       "$\\displaystyle \\left[\\begin{matrix}1 & 0 & 0 & 0\\\\0 & 0 & 0 & 1\\\\0 & 0 & 1 & 0\\\\0 & 1 & 0 & 0\\end{matrix}\\right]$"
      ],
      "text/plain": [
       "⎡1  0  0  0⎤\n",
       "⎢          ⎥\n",
       "⎢0  0  0  1⎥\n",
       "⎢          ⎥\n",
       "⎢0  0  1  0⎥\n",
       "⎢          ⎥\n",
       "⎣0  1  0  0⎦"
      ]
     },
     "execution_count": 7,
     "metadata": {},
     "output_type": "execute_result"
    }
   ],
   "source": [
    "cnotgate"
   ]
  },
  {
   "cell_type": "code",
   "execution_count": 8,
   "id": "4b70c0d1",
   "metadata": {},
   "outputs": [
    {
     "data": {
      "text/latex": [
       "$\\displaystyle \\left[\\begin{matrix}1 & 0 & 0 & 0\\\\0 & 0 & 0 & 0\\\\0 & 0 & 1 & 0\\\\0 & 0 & 0 & 0\\end{matrix}\\right]$"
      ],
      "text/plain": [
       "⎡1  0  0  0⎤\n",
       "⎢          ⎥\n",
       "⎢0  0  0  0⎥\n",
       "⎢          ⎥\n",
       "⎢0  0  1  0⎥\n",
       "⎢          ⎥\n",
       "⎣0  0  0  0⎦"
      ]
     },
     "execution_count": 8,
     "metadata": {},
     "output_type": "execute_result"
    }
   ],
   "source": [
    "TensorProduct(I,ket0*ket0.T)\n"
   ]
  },
  {
   "cell_type": "code",
   "execution_count": 9,
   "id": "12d8e5ae",
   "metadata": {},
   "outputs": [
    {
     "data": {
      "text/latex": [
       "$\\displaystyle \\left[\\begin{matrix}0 & 0 & 1 & 0\\\\0 & 1 & 0 & 0\\\\1 & 0 & 0 & 0\\\\0 & 0 & 0 & 1\\end{matrix}\\right]$"
      ],
      "text/plain": [
       "⎡0  0  1  0⎤\n",
       "⎢          ⎥\n",
       "⎢0  1  0  0⎥\n",
       "⎢          ⎥\n",
       "⎢1  0  0  0⎥\n",
       "⎢          ⎥\n",
       "⎣0  0  0  1⎦"
      ]
     },
     "execution_count": 9,
     "metadata": {},
     "output_type": "execute_result"
    }
   ],
   "source": [
    "TensorProduct(I,ket1*ket1.T)+TensorProduct(notgate,ket0*ket0.T)"
   ]
  },
  {
   "cell_type": "code",
   "execution_count": 10,
   "id": "04856f25",
   "metadata": {},
   "outputs": [
    {
     "data": {
      "text/latex": [
       "$\\displaystyle \\left[\\begin{matrix}1 & 0 & 0 & 0 & 0 & 0 & 0 & 0\\\\0 & 1 & 0 & 0 & 0 & 0 & 0 & 0\\\\0 & 0 & 1 & 0 & 0 & 0 & 0 & 0\\\\0 & 0 & 0 & 1 & 0 & 0 & 0 & 0\\\\0 & 0 & 0 & 0 & 0 & 1 & 0 & 0\\\\0 & 0 & 0 & 0 & 1 & 0 & 0 & 0\\\\0 & 0 & 0 & 0 & 0 & 0 & 0 & 1\\\\0 & 0 & 0 & 0 & 0 & 0 & 1 & 0\\end{matrix}\\right]$"
      ],
      "text/plain": [
       "⎡1  0  0  0  0  0  0  0⎤\n",
       "⎢                      ⎥\n",
       "⎢0  1  0  0  0  0  0  0⎥\n",
       "⎢                      ⎥\n",
       "⎢0  0  1  0  0  0  0  0⎥\n",
       "⎢                      ⎥\n",
       "⎢0  0  0  1  0  0  0  0⎥\n",
       "⎢                      ⎥\n",
       "⎢0  0  0  0  0  1  0  0⎥\n",
       "⎢                      ⎥\n",
       "⎢0  0  0  0  1  0  0  0⎥\n",
       "⎢                      ⎥\n",
       "⎢0  0  0  0  0  0  0  1⎥\n",
       "⎢                      ⎥\n",
       "⎣0  0  0  0  0  0  1  0⎦"
      ]
     },
     "execution_count": 10,
     "metadata": {},
     "output_type": "execute_result"
    }
   ],
   "source": [
    "TensorProduct(ket1*ket1.T,eye(2), notgate) + TensorProduct(ket0*ket0.T,eye(2),eye(2) )"
   ]
  },
  {
   "cell_type": "code",
   "execution_count": 11,
   "id": "3fe3357d",
   "metadata": {},
   "outputs": [
    {
     "data": {
      "text/latex": [
       "$\\displaystyle \\left[\\begin{matrix}1 & 0 & 0 & 0 & 0 & 0 & 0 & 0\\\\0 & 0 & 0 & 0 & 0 & 1 & 0 & 0\\\\0 & 0 & 1 & 0 & 0 & 0 & 0 & 0\\\\0 & 0 & 0 & 0 & 0 & 0 & 0 & 1\\\\0 & 0 & 0 & 0 & 1 & 0 & 0 & 0\\\\0 & 1 & 0 & 0 & 0 & 0 & 0 & 0\\\\0 & 0 & 0 & 0 & 0 & 0 & 1 & 0\\\\0 & 0 & 0 & 1 & 0 & 0 & 0 & 0\\end{matrix}\\right]$"
      ],
      "text/plain": [
       "⎡1  0  0  0  0  0  0  0⎤\n",
       "⎢                      ⎥\n",
       "⎢0  0  0  0  0  1  0  0⎥\n",
       "⎢                      ⎥\n",
       "⎢0  0  1  0  0  0  0  0⎥\n",
       "⎢                      ⎥\n",
       "⎢0  0  0  0  0  0  0  1⎥\n",
       "⎢                      ⎥\n",
       "⎢0  0  0  0  1  0  0  0⎥\n",
       "⎢                      ⎥\n",
       "⎢0  1  0  0  0  0  0  0⎥\n",
       "⎢                      ⎥\n",
       "⎢0  0  0  0  0  0  1  0⎥\n",
       "⎢                      ⎥\n",
       "⎣0  0  0  1  0  0  0  0⎦"
      ]
     },
     "execution_count": 11,
     "metadata": {},
     "output_type": "execute_result"
    }
   ],
   "source": [
    "TensorProduct(notgate, eye(2), ket1*ket1.T) + TensorProduct(eye(2), eye(2), ket0*ket0.T)"
   ]
  },
  {
   "cell_type": "code",
   "execution_count": 12,
   "id": "7ee0550c",
   "metadata": {},
   "outputs": [
    {
     "data": {
      "text/latex": [
       "$\\displaystyle \\left[\\begin{matrix}0 & 0 & 0 & 0 & 1 & 0 & 0 & 0\\\\0 & 1 & 0 & 0 & 0 & 0 & 0 & 0\\\\0 & 0 & 0 & 0 & 0 & 0 & 1 & 0\\\\0 & 0 & 0 & 1 & 0 & 0 & 0 & 0\\\\1 & 0 & 0 & 0 & 0 & 0 & 0 & 0\\\\0 & 0 & 0 & 0 & 0 & 1 & 0 & 0\\\\0 & 0 & 1 & 0 & 0 & 0 & 0 & 0\\\\0 & 0 & 0 & 0 & 0 & 0 & 0 & 1\\end{matrix}\\right]$"
      ],
      "text/plain": [
       "⎡0  0  0  0  1  0  0  0⎤\n",
       "⎢                      ⎥\n",
       "⎢0  1  0  0  0  0  0  0⎥\n",
       "⎢                      ⎥\n",
       "⎢0  0  0  0  0  0  1  0⎥\n",
       "⎢                      ⎥\n",
       "⎢0  0  0  1  0  0  0  0⎥\n",
       "⎢                      ⎥\n",
       "⎢1  0  0  0  0  0  0  0⎥\n",
       "⎢                      ⎥\n",
       "⎢0  0  0  0  0  1  0  0⎥\n",
       "⎢                      ⎥\n",
       "⎢0  0  1  0  0  0  0  0⎥\n",
       "⎢                      ⎥\n",
       "⎣0  0  0  0  0  0  0  1⎦"
      ]
     },
     "execution_count": 12,
     "metadata": {},
     "output_type": "execute_result"
    }
   ],
   "source": [
    "TensorProduct(notgate,eye(2),ket0*ket0.T) + TensorProduct(eye(2),eye(2),ket1*ket1.T)\n"
   ]
  },
  {
   "cell_type": "code",
   "execution_count": 15,
   "id": "89f51e0c",
   "metadata": {},
   "outputs": [],
   "source": [
    "XorGate = TensorProduct(ket0*ket0.T, TensorProduct(ket0*ket0.T,eye(2)) + TensorProduct(ket1*ket1.T,notgate))+\\\n",
    "TensorProduct(ket1*ket1.T, TensorProduct(ket0*ket0.T,notgate) + TensorProduct(ket1*ket1.T,eye(2)))"
   ]
  },
  {
   "cell_type": "code",
   "execution_count": 18,
   "id": "693ecdce",
   "metadata": {},
   "outputs": [
    {
     "data": {
      "image/png": "[encoded data removed]",
      "text/latex": [
       "$\\displaystyle 1$"
      ],
      "text/plain": [
       "1"
      ]
     },
     "execution_count": 18,
     "metadata": {},
     "output_type": "execute_result"
    }
   ],
   "source": [
    "XorGate.det()"
   ]
  },
  {
   "cell_type": "code",
   "execution_count": null,
   "id": "fc5ef10e",
   "metadata": {},
   "outputs": [],
   "source": []
  }
 ],
 "metadata": {
  "kernelspec": {
   "display_name": "Python 3 (ipykernel)",
   "language": "python",
   "name": "python3"
  },
  "language_info": {
   "codemirror_mode": {
    "name": "ipython",
    "version": 3
   },
   "file_extension": ".py",
   "mimetype": "text/x-python",
   "name": "python",
   "nbconvert_exporter": "python",
   "pygments_lexer": "ipython3",
   "version": "3.11.3"
  }
 },
 "nbformat": 4,
 "nbformat_minor": 5
}
