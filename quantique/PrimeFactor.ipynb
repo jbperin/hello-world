{
 "cells": [
  {
   "cell_type": "code",
   "execution_count": 44,
   "id": "fa0db036-2cd5-4770-b866-4206ea39b99d",
   "metadata": {},
   "outputs": [],
   "source": [
    "import sympy as sp\n",
    "import random\n",
    "#from sympy import sieve, prime"
   ]
  },
  {
   "cell_type": "code",
   "execution_count": 45,
   "id": "44c487bb-db4f-4d71-b37a-1fd658b907f1",
   "metadata": {},
   "outputs": [],
   "source": [
    "def find_multiplicative_inverse(v,m):\n",
    "    \"\"\" finds the element x of set Zm such that v*x=e where e is neutral of operation *\"\"\"\n",
    "    found = None\n",
    "    for x in range(m):\n",
    "        if (v*x)%m == 1:\n",
    "            found = x\n",
    "            break\n",
    "    return found"
   ]
  },
  {
   "cell_type": "code",
   "execution_count": 46,
   "id": "5fd432bc-83eb-4f52-8cc5-9655bc7221bf",
   "metadata": {},
   "outputs": [],
   "source": [
    "def find_coprime(n):\n",
    "    \"\"\" returns all integer i < n / gcd (i, n) = 1\"\"\"\n",
    "    return ([i for i in range(n) if sp.gcd(i,n) == 1])"
   ]
  },
  {
   "cell_type": "code",
   "execution_count": 113,
   "id": "ecaa5ddb-2f87-49eb-b515-a87314759a14",
   "metadata": {},
   "outputs": [
    {
     "name": "stdout",
     "output_type": "stream",
     "text": [
      "\t1 not a generator. breaking on [1]\n",
      "\t2 not a generator. breaking on [1, 2, 4]\n",
      "\t4 not a generator. breaking on [1, 4, 2]\n",
      "\t6 not a generator. breaking on [1, 6]\n"
     ]
    },
    {
     "data": {
      "text/plain": [
       "[(3, [1, 3, 2, 6, 4, 5]), (5, [1, 5, 4, 6, 2, 3])]"
      ]
     },
     "execution_count": 113,
     "metadata": {},
     "output_type": "execute_result"
    }
   ],
   "source": [
    "def find_generators(p):\n",
    "    \"\"\" finds all element g of set Zp* such that Zp* = {(g**n)%p for n in Zpm1} \"\"\"\n",
    "    Zp     = set(range(p))\n",
    "    Zpm1   = set(range(p-1))\n",
    "    generators    = []\n",
    "    for v in list(Zp - {0}):\n",
    "        list_arr = []\n",
    "        for d in list(Zpm1):\n",
    "            \n",
    "            if (v**d) % p not in list_arr:\n",
    "                list_arr.append((v**d) % p)\n",
    "                #print (f\"\\t{v} generated {(v**d) % p}\")\n",
    "            else:\n",
    "                print (f\"\\t{v} not a generator. breaking on {list_arr}\")\n",
    "                break\n",
    "        if set(list_arr) == Zp - {0}:\n",
    "            #print (f\"\\t{v} is a generator. {list_arr}\")\n",
    "            #print(f\"{v}\", list_arr)\n",
    "            generators.append((v, list_arr))\n",
    "    return generators\n",
    "find_generators(7)"
   ]
  },
  {
   "cell_type": "code",
   "execution_count": 48,
   "id": "c1dd06c8-2f9e-4d73-b952-e600abd974cc",
   "metadata": {},
   "outputs": [
    {
     "data": {
      "text/plain": [
       "29"
      ]
     },
     "execution_count": 48,
     "metadata": {},
     "output_type": "execute_result"
    }
   ],
   "source": [
    "sp.prime(10)"
   ]
  },
  {
   "cell_type": "code",
   "execution_count": 49,
   "id": "19ce169b-d9c0-470e-9b11-8a0f852f57d3",
   "metadata": {},
   "outputs": [],
   "source": [
    "[p,q]= [5,7] # random.sample([p for p in sp.primerange(32)], 2)"
   ]
  },
  {
   "cell_type": "code",
   "execution_count": 50,
   "id": "7de698a9-cd95-4d79-855f-7c9bc35a9898",
   "metadata": {},
   "outputs": [],
   "source": [
    "N=p*q"
   ]
  },
  {
   "cell_type": "code",
   "execution_count": 51,
   "id": "385e603c-ddf1-4793-bdee-da2224ffdc37",
   "metadata": {},
   "outputs": [
    {
     "data": {
      "text/plain": [
       "35"
      ]
     },
     "execution_count": 51,
     "metadata": {},
     "output_type": "execute_result"
    }
   ],
   "source": [
    "N"
   ]
  },
  {
   "cell_type": "code",
   "execution_count": 52,
   "id": "137226c2-8310-4a99-b169-9222e2775b59",
   "metadata": {},
   "outputs": [
    {
     "data": {
      "text/plain": [
       "24"
      ]
     },
     "execution_count": 52,
     "metadata": {},
     "output_type": "execute_result"
    }
   ],
   "source": [
    "Φ = (p-1)*(q-1)\n",
    "Φ"
   ]
  },
  {
   "cell_type": "code",
   "execution_count": 53,
   "id": "a7fabc37-74e5-4810-ad37-9da462cfc9bf",
   "metadata": {},
   "outputs": [
    {
     "data": {
      "text/latex": [
       "$\\displaystyle 12$"
      ],
      "text/plain": [
       "12"
      ]
     },
     "execution_count": 53,
     "metadata": {},
     "output_type": "execute_result"
    }
   ],
   "source": [
    "sp.lcm(p-1,q-1)"
   ]
  },
  {
   "cell_type": "code",
   "execution_count": 54,
   "id": "79fdae6f-7128-4746-a72c-ecebc8ff60a2",
   "metadata": {},
   "outputs": [
    {
     "data": {
      "text/plain": [
       "[5, 7]"
      ]
     },
     "execution_count": 54,
     "metadata": {},
     "output_type": "execute_result"
    }
   ],
   "source": [
    "from sympy.ntheory import primefactors\n",
    "primefactors(N)"
   ]
  },
  {
   "cell_type": "code",
   "execution_count": 55,
   "id": "b689814e-d4c3-4964-a3fe-d7ca11cee35c",
   "metadata": {},
   "outputs": [
    {
     "data": {
      "text/plain": [
       "247"
      ]
     },
     "execution_count": 55,
     "metadata": {},
     "output_type": "execute_result"
    }
   ],
   "source": [
    "13*19"
   ]
  },
  {
   "cell_type": "code",
   "execution_count": 61,
   "id": "1ad8f99e-32a5-41a8-b3ad-7078de5230af",
   "metadata": {},
   "outputs": [],
   "source": [
    "ℤ_m=set(range(N))"
   ]
  },
  {
   "cell_type": "code",
   "execution_count": 62,
   "id": "8c0781ef-4573-42ac-97ee-5a614b53ea1c",
   "metadata": {},
   "outputs": [
    {
     "data": {
      "text/plain": [
       "{0,\n",
       " 1,\n",
       " 2,\n",
       " 3,\n",
       " 4,\n",
       " 5,\n",
       " 6,\n",
       " 7,\n",
       " 8,\n",
       " 9,\n",
       " 10,\n",
       " 11,\n",
       " 12,\n",
       " 13,\n",
       " 14,\n",
       " 15,\n",
       " 16,\n",
       " 17,\n",
       " 18,\n",
       " 19,\n",
       " 20,\n",
       " 21,\n",
       " 22,\n",
       " 23,\n",
       " 24,\n",
       " 25,\n",
       " 26,\n",
       " 27,\n",
       " 28,\n",
       " 29,\n",
       " 30,\n",
       " 31,\n",
       " 32,\n",
       " 33,\n",
       " 34}"
      ]
     },
     "execution_count": 62,
     "metadata": {},
     "output_type": "execute_result"
    }
   ],
   "source": []
  },
  {
   "cell_type": "code",
   "execution_count": null,
   "id": "3d3ebd25-05e8-4672-b5ee-f9690067c114",
   "metadata": {},
   "outputs": [],
   "source": []
  },
  {
   "cell_type": "code",
   "execution_count": 63,
   "id": "a1a6c7f9-6385-4c5d-9ba5-bc49523bc762",
   "metadata": {},
   "outputs": [
    {
     "data": {
      "text/plain": [
       "[(0, None),\n",
       " (1, 1),\n",
       " (2, 18),\n",
       " (3, 12),\n",
       " (4, 9),\n",
       " (5, None),\n",
       " (6, 6),\n",
       " (7, None),\n",
       " (8, 22),\n",
       " (9, 4),\n",
       " (10, None),\n",
       " (11, 16),\n",
       " (12, 3),\n",
       " (13, 27),\n",
       " (14, None),\n",
       " (15, None),\n",
       " (16, 11),\n",
       " (17, 33),\n",
       " (18, 2),\n",
       " (19, 24),\n",
       " (20, None),\n",
       " (21, None),\n",
       " (22, 8),\n",
       " (23, 32),\n",
       " (24, 19),\n",
       " (25, None),\n",
       " (26, 31),\n",
       " (27, 13),\n",
       " (28, None),\n",
       " (29, 29),\n",
       " (30, None),\n",
       " (31, 26),\n",
       " (32, 23),\n",
       " (33, 17),\n",
       " (34, 34)]"
      ]
     },
     "execution_count": 63,
     "metadata": {},
     "output_type": "execute_result"
    }
   ],
   "source": [
    "[(v,find_multiplicative_inverse(v,N)) for v in ℤ_m]"
   ]
  },
  {
   "cell_type": "code",
   "execution_count": 64,
   "id": "f9fb5529-fd3e-4fe1-a228-1262ad592f30",
   "metadata": {},
   "outputs": [
    {
     "data": {
      "text/plain": [
       "[1,\n",
       " 2,\n",
       " 3,\n",
       " 4,\n",
       " 6,\n",
       " 8,\n",
       " 9,\n",
       " 11,\n",
       " 12,\n",
       " 13,\n",
       " 16,\n",
       " 17,\n",
       " 18,\n",
       " 19,\n",
       " 22,\n",
       " 23,\n",
       " 24,\n",
       " 26,\n",
       " 27,\n",
       " 29,\n",
       " 31,\n",
       " 32,\n",
       " 33,\n",
       " 34]"
      ]
     },
     "execution_count": 64,
     "metadata": {},
     "output_type": "execute_result"
    }
   ],
   "source": [
    "find_coprime(N)"
   ]
  },
  {
   "cell_type": "markdown",
   "id": "eab20ba9-75c8-4c47-b4a1-a0099d201dc9",
   "metadata": {},
   "source": [
    "Choose a random prime number $$p  \\in \\mathbb{N} / \\frac{p}{x}  \\notin \\mathbb{N}             \\forall x \\in ]1..p[ $$"
   ]
  },
  {
   "cell_type": "code",
   "execution_count": 95,
   "id": "3fc6cec3-4347-4e28-8156-cbac90cf4c1b",
   "metadata": {},
   "outputs": [],
   "source": [
    "p = random.choice([p for p in sp.primerange(32)])"
   ]
  },
  {
   "cell_type": "markdown",
   "id": "75f44755-5643-419e-9038-882a3c9e28e1",
   "metadata": {},
   "source": [
    "$$\\mathbb{Z}_{p} = \\{0, 1,\\cdots, p-1\\}$$"
   ]
  },
  {
   "cell_type": "code",
   "execution_count": 96,
   "id": "08a23ff8-c7a4-4fb0-8cad-33a177d984e0",
   "metadata": {},
   "outputs": [],
   "source": [
    "ℤ_p=set(range(p))"
   ]
  },
  {
   "cell_type": "code",
   "execution_count": null,
   "id": "9de85587-7bbc-4dfb-b4ae-f51e5929abf7",
   "metadata": {},
   "outputs": [],
   "source": []
  },
  {
   "cell_type": "code",
   "execution_count": 97,
   "id": "f2206f49-4088-493e-b5bc-4a9841b6add5",
   "metadata": {},
   "outputs": [],
   "source": [
    "ℤ_pstar = ℤ_p - {0}"
   ]
  },
  {
   "cell_type": "code",
   "execution_count": 98,
   "id": "e509859d-df33-4980-bdd6-c653ca93e026",
   "metadata": {},
   "outputs": [
    {
     "data": {
      "text/plain": [
       "{1, 2, 3, 4, 5, 6, 7, 8, 9, 10, 11, 12, 13, 14, 15, 16}"
      ]
     },
     "execution_count": 98,
     "metadata": {},
     "output_type": "execute_result"
    }
   ],
   "source": [
    "ℤ_pstar\n"
   ]
  },
  {
   "cell_type": "markdown",
   "id": "74f055d2-9f29-40b6-afdd-164ed443f77c",
   "metadata": {},
   "source": [
    "Choisir un générateur $g$ de $\\mathbb{Z}_{p}^{\\star}$ \n",
    "tel que $\\mathbb{Z}_{p}^{\\star} = \\{g^{k}: k \\in \\{0, 1,\\cdots, p-2\\} \\}$"
   ]
  },
  {
   "cell_type": "code",
   "execution_count": 99,
   "id": "1956c46e-3663-442e-a9c5-e4e904270bfb",
   "metadata": {},
   "outputs": [],
   "source": []
  },
  {
   "cell_type": "code",
   "execution_count": 129,
   "id": "58b1ad69-1caf-45ea-8201-5f5ce7f6d3fa",
   "metadata": {},
   "outputs": [
    {
     "name": "stdout",
     "output_type": "stream",
     "text": [
      "\t1 not a generator. breaking on [1]\n",
      "\t2 not a generator. breaking on [1, 2, 4, 8, 16, 15, 13, 9]\n",
      "\t4 not a generator. breaking on [1, 4, 16, 13]\n",
      "\t8 not a generator. breaking on [1, 8, 13, 2, 16, 9, 4, 15]\n",
      "\t9 not a generator. breaking on [1, 9, 13, 15, 16, 8, 4, 2]\n",
      "\t13 not a generator. breaking on [1, 13, 16, 4]\n",
      "\t15 not a generator. breaking on [1, 15, 4, 9, 16, 2, 13, 8]\n",
      "\t16 not a generator. breaking on [1, 16]\n"
     ]
    },
    {
     "data": {
      "text/plain": [
       "(7, [1, 7, 15, 3, 4, 11, 9, 12, 16, 10, 2, 14, 13, 6, 8, 5])"
      ]
     },
     "execution_count": 129,
     "metadata": {},
     "output_type": "execute_result"
    }
   ],
   "source": [
    "(g, esp)=random.choice(find_generators(p))\n",
    "g, esp"
   ]
  },
  {
   "cell_type": "markdown",
   "id": "8190efdf-b83d-4447-b29b-e8b2f6695125",
   "metadata": {},
   "source": [
    "Chosir un élément $s$ de $\\mathbb{Z}_{p}^{\\star}$"
   ]
  },
  {
   "cell_type": "code",
   "execution_count": 154,
   "id": "5f25129f-30ed-43d8-96f1-34366a6d85c1",
   "metadata": {},
   "outputs": [
    {
     "data": {
      "text/plain": [
       "9"
      ]
     },
     "execution_count": 154,
     "metadata": {},
     "output_type": "execute_result"
    }
   ],
   "source": [
    "s = random.choice(list(ℤ_pstar))\n",
    "s"
   ]
  },
  {
   "cell_type": "code",
   "execution_count": 155,
   "id": "69952798-eddc-4387-ad83-ef7a85a60986",
   "metadata": {},
   "outputs": [
    {
     "data": {
      "text/plain": [
       "6"
      ]
     },
     "execution_count": 155,
     "metadata": {},
     "output_type": "execute_result"
    }
   ],
   "source": [
    "[r] = [R for R in range (p-1) if (g**R)%p == s]\n",
    "r"
   ]
  },
  {
   "cell_type": "code",
   "execution_count": 156,
   "id": "d04ee11e-07a7-4c7d-8ddc-4bf0d9fc49cc",
   "metadata": {},
   "outputs": [],
   "source": [
    "def myfun(a1, a2):\n",
    "    return ((g**a1)*(s**a2))%p"
   ]
  },
  {
   "cell_type": "code",
   "execution_count": 157,
   "id": "105f5a83-1f4f-4f5d-b545-18d203ee2358",
   "metadata": {},
   "outputs": [
    {
     "data": {
      "text/plain": [
       "6"
      ]
     },
     "execution_count": 157,
     "metadata": {},
     "output_type": "execute_result"
    }
   ],
   "source": [
    "myfun(1, 2)"
   ]
  },
  {
   "cell_type": "code",
   "execution_count": 158,
   "id": "2b27cce4-0e86-4c59-932b-9e21354ce305",
   "metadata": {},
   "outputs": [
    {
     "data": {
      "text/plain": [
       "[1, 7, 15, 3, 4, 11, 9, 12, 16, 10, 2, 14, 13, 6, 8, 5]"
      ]
     },
     "execution_count": 158,
     "metadata": {},
     "output_type": "execute_result"
    }
   ],
   "source": [
    "esp"
   ]
  },
  {
   "cell_type": "code",
   "execution_count": 159,
   "id": "5154232c-f243-4f56-b8dc-a5431551ff9b",
   "metadata": {},
   "outputs": [
    {
     "name": "stdout",
     "output_type": "stream",
     "text": [
      "\t1 not a generator. breaking on [1]\n",
      "\t2 not a generator. breaking on [1, 2, 4, 8, 16, 15, 13, 9]\n",
      "\t4 not a generator. breaking on [1, 4, 16, 13]\n",
      "\t8 not a generator. breaking on [1, 8, 13, 2, 16, 9, 4, 15]\n",
      "\t9 not a generator. breaking on [1, 9, 13, 15, 16, 8, 4, 2]\n",
      "\t13 not a generator. breaking on [1, 13, 16, 4]\n",
      "\t15 not a generator. breaking on [1, 15, 4, 9, 16, 2, 13, 8]\n",
      "\t16 not a generator. breaking on [1, 16]\n"
     ]
    },
    {
     "data": {
      "text/plain": [
       "[(3, [1, 3, 9, 10, 13, 5, 15, 11, 16, 14, 8, 7, 4, 12, 2, 6]),\n",
       " (5, [1, 5, 8, 6, 13, 14, 2, 10, 16, 12, 9, 11, 4, 3, 15, 7]),\n",
       " (6, [1, 6, 2, 12, 4, 7, 8, 14, 16, 11, 15, 5, 13, 10, 9, 3]),\n",
       " (7, [1, 7, 15, 3, 4, 11, 9, 12, 16, 10, 2, 14, 13, 6, 8, 5]),\n",
       " (10, [1, 10, 15, 14, 4, 6, 9, 5, 16, 7, 2, 3, 13, 11, 8, 12]),\n",
       " (11, [1, 11, 2, 5, 4, 10, 8, 3, 16, 6, 15, 12, 13, 7, 9, 14]),\n",
       " (12, [1, 12, 8, 11, 13, 3, 2, 7, 16, 5, 9, 6, 4, 14, 15, 10]),\n",
       " (14, [1, 14, 9, 7, 13, 12, 15, 6, 16, 3, 8, 10, 4, 5, 2, 11])]"
      ]
     },
     "execution_count": 159,
     "metadata": {},
     "output_type": "execute_result"
    }
   ],
   "source": [
    "find_generators(17)"
   ]
  },
  {
   "cell_type": "code",
   "execution_count": 161,
   "id": "3e32551e-8174-4351-b405-3d988f4ad4d4",
   "metadata": {},
   "outputs": [],
   "source": [
    "import itertools\n",
    "entrees = [range(p-1) for _ in range (2)]\n",
    "preimage = [ [] for _ in range(p) ]\n",
    "for combinaison in itertools.product(*entrees):\n",
    "    v=myfun(combinaison[0], combinaison[1])\n",
    "    #print (combinaison, v)\n",
    "    preimage [v].append(combinaison)\n",
    "    "
   ]
  },
  {
   "cell_type": "code",
   "execution_count": null,
   "id": "d191d205-48a9-4c05-975c-7ffaa4325ef0",
   "metadata": {},
   "outputs": [],
   "source": []
  },
  {
   "cell_type": "code",
   "execution_count": 162,
   "id": "0fc9e93a-b315-460a-b68c-305ce17e2386",
   "metadata": {},
   "outputs": [
    {
     "data": {
      "text/plain": [
       "[(1, 1),\n",
       " (1, 9),\n",
       " (3, 6),\n",
       " (3, 14),\n",
       " (5, 3),\n",
       " (5, 11),\n",
       " (7, 0),\n",
       " (7, 8),\n",
       " (9, 5),\n",
       " (9, 13),\n",
       " (11, 2),\n",
       " (11, 10),\n",
       " (13, 7),\n",
       " (13, 15),\n",
       " (15, 4),\n",
       " (15, 12)]"
      ]
     },
     "execution_count": 162,
     "metadata": {},
     "output_type": "execute_result"
    }
   ],
   "source": [
    "preimage[12]"
   ]
  },
  {
   "cell_type": "code",
   "execution_count": 163,
   "id": "15fcec79-a325-44ff-9714-1e16cd2f9986",
   "metadata": {},
   "outputs": [
    {
     "data": {
      "text/plain": [
       "20"
      ]
     },
     "execution_count": 163,
     "metadata": {},
     "output_type": "execute_result"
    }
   ],
   "source": [
    "(3-1) + 6*(9-6)"
   ]
  },
  {
   "cell_type": "code",
   "execution_count": 170,
   "id": "df0a330a-bb79-4b59-aeda-e1b110fa2c3c",
   "metadata": {},
   "outputs": [
    {
     "data": {
      "text/plain": [
       "12"
      ]
     },
     "execution_count": 170,
     "metadata": {},
     "output_type": "execute_result"
    }
   ],
   "source": [
    "myfun(3, 6)"
   ]
  },
  {
   "cell_type": "code",
   "execution_count": 171,
   "id": "0dddf2fa-98d6-4393-b300-f0af79c54cde",
   "metadata": {},
   "outputs": [
    {
     "data": {
      "text/plain": [
       "12"
      ]
     },
     "execution_count": 171,
     "metadata": {},
     "output_type": "execute_result"
    }
   ],
   "source": [
    "myfun(1, 9)"
   ]
  },
  {
   "cell_type": "code",
   "execution_count": 176,
   "id": "813539f5-9d60-4749-8996-425aa4faf0aa",
   "metadata": {},
   "outputs": [
    {
     "data": {
      "text/plain": [
       "12"
      ]
     },
     "execution_count": 176,
     "metadata": {},
     "output_type": "execute_result"
    }
   ],
   "source": [
    "(g**(3+r*6))%p"
   ]
  },
  {
   "cell_type": "code",
   "execution_count": 177,
   "id": "5fe1c3a1-5347-4a88-a043-03175823802b",
   "metadata": {},
   "outputs": [
    {
     "data": {
      "text/plain": [
       "12"
      ]
     },
     "execution_count": 177,
     "metadata": {},
     "output_type": "execute_result"
    }
   ],
   "source": [
    "(g**(1+r*9))%p"
   ]
  },
  {
   "cell_type": "code",
   "execution_count": null,
   "id": "f11eb771-cfc4-41c6-ba87-ead2a30eeed7",
   "metadata": {},
   "outputs": [],
   "source": []
  }
 ],
 "metadata": {
  "kernelspec": {
   "display_name": "Python 3 (ipykernel)",
   "language": "python",
   "name": "python3"
  },
  "language_info": {
   "codemirror_mode": {
    "name": "ipython",
    "version": 3
   },
   "file_extension": ".py",
   "mimetype": "text/x-python",
   "name": "python",
   "nbconvert_exporter": "python",
   "pygments_lexer": "ipython3",
   "version": "3.11.6"
  }
 },
 "nbformat": 4,
 "nbformat_minor": 5
}
