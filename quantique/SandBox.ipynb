{
 "cells": [
  {
   "cell_type": "markdown",
   "id": "6342c636",
   "metadata": {},
   "source": [
    "## Essai"
   ]
  },
  {
   "cell_type": "markdown",
   "id": "dbecdc30-ee76-4b54-a35e-ff1806b5fd62",
   "metadata": {},
   "source": [
    "$$ν = \\frac{1}{2} $$"
   ]
  },
  {
   "cell_type": "code",
   "execution_count": null,
   "id": "f607e551-7fd9-4fdb-9749-1093c9341720",
   "metadata": {},
   "outputs": [],
   "source": []
  },
  {
   "cell_type": "code",
   "execution_count": 1,
   "id": "ed2ac12b-8e79-48b5-bc03-2ecc36b7570b",
   "metadata": {},
   "outputs": [],
   "source": [
    "import sympy as sp\n",
    "from sympy.physics.quantum import Bra, Ket\n",
    "from sympy import Matrix\n",
    "from sympy.physics.quantum import TensorProduct\n",
    "from sympy.physics.quantum.gate import HadamardGate,CNotGate, IdentityGate\n",
    "from sympy.physics.quantum.qapply import qapply\n",
    "from sympy import eye\n",
    "\n",
    "from sympy.physics.quantum import Ket\n",
    "from sympy import sqrt\n",
    "\n",
    "sp.init_printing()"
   ]
  },
  {
   "cell_type": "code",
   "execution_count": 2,
   "id": "804c0b43-79c1-455e-a0bf-e7b170cebe72",
   "metadata": {},
   "outputs": [
    {
     "data": {
      "image/png": "[encoded data removed]",
      "text/latex": [
       "$\\displaystyle \\left[\\begin{matrix}U_{00} & U_{01}\\\\U_{10} & U_{11}\\end{matrix}\\right]$"
      ],
      "text/plain": [
       "⎡U₀₀  U₀₁⎤\n",
       "⎢        ⎥\n",
       "⎣U₁₀  U₁₁⎦"
      ]
     },
     "execution_count": 2,
     "metadata": {},
     "output_type": "execute_result"
    }
   ],
   "source": [
    "U00 = sp.Symbol(\"U00\", complex=True)\n",
    "U01 = sp.Symbol(\"U01\", complex=True)\n",
    "U10 = sp.Symbol(\"U10\", complex=True)\n",
    "U11 = sp.Symbol(\"U11\", complex=True)\n",
    "U = Matrix([[U00, U01], [U10, U11]])\n",
    "\n",
    "# F1 is Set to 0\n",
    "dF1 = {U00: 1, U01: 1, U10: 0, U11: 0}\n",
    "#F2 is identity\n",
    "dF2 = {U00: 1, U01: 0, U10: 0, U11: 1}\n",
    "# F3 is invert\n",
    "dF3 = {U00: 0, U01: 1, U10: 1, U11: 0}\n",
    "# F4 is set to one\n",
    "dF4 = {U00: 0, U01: 0, U10: 1, U11: 1}\n",
    "\n",
    "U"
   ]
  },
  {
   "cell_type": "code",
   "execution_count": 3,
   "id": "2b2cc8ff-7851-4bfc-978e-d7762e02c6f0",
   "metadata": {},
   "outputs": [],
   "source": [
    "#F1 is Set to 0\n",
    "F1=U.evalf(subs=dF1)\n",
    "# F1.eigenvects()\n",
    "#F2 is identity\n",
    "F2=U.evalf(subs=dF2)\n",
    "# F2.eigenvects()\n",
    "# F3 is invert\n",
    "F3=U.evalf(subs=dF3)\n",
    "# F3.eigenvects()\n",
    "# F4 is set to one\n",
    "F4=U.evalf(subs=dF4)\n",
    "# F4.eigenvects()"
   ]
  },
  {
   "cell_type": "code",
   "execution_count": 4,
   "id": "f833fea5-590c-4b52-bfd3-3759dc9fe198",
   "metadata": {},
   "outputs": [
    {
     "data": {
      "image/png": "[encoded data removed]",
      "text/latex": [
       "$\\displaystyle \\left[ \\left( \\frac{U_{00}}{2} + \\frac{U_{11}}{2} - \\frac{\\sqrt{U_{00}^{2} - 2 U_{00} U_{11} + 4 U_{01} U_{10} + U_{11}^{2}}}{2}, \\  1, \\  \\left[ \\left[\\begin{matrix}- \\frac{U_{11}}{U_{10}} + \\frac{\\frac{U_{00}}{2} + \\frac{U_{11}}{2} - \\frac{\\sqrt{U_{00}^{2} - 2 U_{00} U_{11} + 4 U_{01} U_{10} + U_{11}^{2}}}{2}}{U_{10}}\\\\1\\end{matrix}\\right]\\right]\\right), \\  \\left( \\frac{U_{00}}{2} + \\frac{U_{11}}{2} + \\frac{\\sqrt{U_{00}^{2} - 2 U_{00} U_{11} + 4 U_{01} U_{10} + U_{11}^{2}}}{2}, \\  1, \\  \\left[ \\left[\\begin{matrix}- \\frac{U_{11}}{U_{10}} + \\frac{\\frac{U_{00}}{2} + \\frac{U_{11}}{2} + \\frac{\\sqrt{U_{00}^{2} - 2 U_{00} U_{11} + 4 U_{01} U_{10} + U_{11}^{2}}}{2}}{U_{10}}\\\\1\\end{matrix}\\right]\\right]\\right)\\right]$"
      ],
      "text/plain": [
       "⎡⎛                                                         ⎡⎡                 \n",
       "⎢⎜               _____________________________________     ⎢⎢                 \n",
       "⎢⎜              ╱    2                              2      ⎢⎢        U₀₀   U₁₁\n",
       "⎢⎜U₀₀   U₁₁   ╲╱  U₀₀  - 2⋅U₀₀⋅U₁₁ + 4⋅U₀₁⋅U₁₀ + U₁₁       ⎢⎢        ─── + ───\n",
       "⎢⎜─── + ─── - ────────────────────────────────────────, 1, ⎢⎢  U₁₁    2     2 \n",
       "⎢⎜ 2     2                       2                         ⎢⎢- ─── + ─────────\n",
       "⎢⎜                                                         ⎢⎢  U₁₀            \n",
       "⎢⎜                                                         ⎢⎢                 \n",
       "⎣⎝                                                         ⎣⎣                 \n",
       "\n",
       "      _____________________________________⎤⎤⎞  ⎛                             \n",
       "     ╱    2                              2 ⎥⎥⎟  ⎜               ______________\n",
       "   ╲╱  U₀₀  - 2⋅U₀₀⋅U₁₁ + 4⋅U₀₁⋅U₁₀ + U₁₁  ⎥⎥⎟  ⎜              ╱    2         \n",
       " - ────────────────────────────────────────⎥⎥⎟  ⎜U₀₀   U₁₁   ╲╱  U₀₀  - 2⋅U₀₀⋅\n",
       "                      2                    ⎥⎥⎟, ⎜─── + ─── + ─────────────────\n",
       "───────────────────────────────────────────⎥⎥⎟  ⎜ 2     2                     \n",
       "               U₁₀                         ⎥⎥⎟  ⎜                             \n",
       "                                           ⎥⎥⎟  ⎜                             \n",
       "            1                              ⎦⎦⎠  ⎝                             \n",
       "\n",
       "                            ⎡⎡                       _________________________\n",
       "_______________________     ⎢⎢                      ╱    2                    \n",
       "                     2      ⎢⎢        U₀₀   U₁₁   ╲╱  U₀₀  - 2⋅U₀₀⋅U₁₁ + 4⋅U₀₁\n",
       "U₁₁ + 4⋅U₀₁⋅U₁₀ + U₁₁       ⎢⎢        ─── + ─── + ────────────────────────────\n",
       "───────────────────────, 1, ⎢⎢  U₁₁    2     2                       2        \n",
       "  2                         ⎢⎢- ─── + ────────────────────────────────────────\n",
       "                            ⎢⎢  U₁₀                           U₁₀             \n",
       "                            ⎢⎢                                                \n",
       "                            ⎣⎣                             1                  \n",
       "\n",
       "____________⎤⎤⎞⎤\n",
       "          2 ⎥⎥⎟⎥\n",
       "⋅U₁₀ + U₁₁  ⎥⎥⎟⎥\n",
       "────────────⎥⎥⎟⎥\n",
       "            ⎥⎥⎟⎥\n",
       "────────────⎥⎥⎟⎥\n",
       "            ⎥⎥⎟⎥\n",
       "            ⎥⎥⎟⎥\n",
       "            ⎦⎦⎠⎦"
      ]
     },
     "execution_count": 4,
     "metadata": {},
     "output_type": "execute_result"
    }
   ],
   "source": [
    "U.eigenvects()\n"
   ]
  },
  {
   "cell_type": "code",
   "execution_count": 5,
   "id": "164ce453-cda4-4abc-a6f3-1bd5f670bbf7",
   "metadata": {},
   "outputs": [
    {
     "data": {
      "image/png": "[encoded data removed]",
      "text/latex": [
       "$\\displaystyle \\arg{\\left(U_{00} + U_{11} - \\sqrt{U_{00}^{2} - 2 U_{00} U_{11} + 4 U_{01} U_{10} + U_{11}^{2}} \\right)}$"
      ],
      "text/plain": [
       "   ⎛               _____________________________________⎞\n",
       "   ⎜              ╱    2                              2 ⎟\n",
       "arg⎝U₀₀ + U₁₁ - ╲╱  U₀₀  - 2⋅U₀₀⋅U₁₁ + 4⋅U₀₁⋅U₁₀ + U₁₁  ⎠"
      ]
     },
     "execution_count": 5,
     "metadata": {},
     "output_type": "execute_result"
    }
   ],
   "source": [
    "V=U.eigenvects()[0][0]\n",
    "V\n",
    "phase = sp.arg(V)\n",
    "phase"
   ]
  },
  {
   "cell_type": "code",
   "execution_count": 6,
   "id": "f69ef91c-dd57-4260-9dd7-56399f751946",
   "metadata": {},
   "outputs": [
    {
     "data": {
      "image/png": "[encoded data removed]",
      "text/latex": [
       "$\\displaystyle 3.14159265358979$"
      ],
      "text/plain": [
       "3.14159265358979"
      ]
     },
     "execution_count": 6,
     "metadata": {},
     "output_type": "execute_result"
    }
   ],
   "source": [
    "phase.evalf(subs=dF3)"
   ]
  },
  {
   "cell_type": "code",
   "execution_count": 7,
   "id": "f6e98248-6e5a-4783-9bc2-5a65f04edf87",
   "metadata": {},
   "outputs": [
    {
     "data": {
      "image/png": "[encoded data removed]",
      "text/latex": [
       "$\\displaystyle -1.0$"
      ],
      "text/plain": [
       "-1.00000000000000"
      ]
     },
     "execution_count": 7,
     "metadata": {},
     "output_type": "execute_result"
    }
   ],
   "source": [
    "valeur_propre = V.evalf(subs=dF3)\n",
    "valeur_propre"
   ]
  },
  {
   "cell_type": "code",
   "execution_count": 8,
   "id": "c75876de-e49a-4628-8141-c60a57b251c9",
   "metadata": {},
   "outputs": [
    {
     "data": {
      "image/png": "[encoded data removed]",
      "text/latex": [
       "$\\displaystyle \\pi$"
      ],
      "text/plain": [
       "π"
      ]
     },
     "execution_count": 8,
     "metadata": {},
     "output_type": "execute_result"
    }
   ],
   "source": [
    "theta_value = sp.arg(valeur_propre)\n",
    "theta_value"
   ]
  },
  {
   "cell_type": "code",
   "execution_count": 14,
   "id": "62d71cc4-078a-4a3f-9f8c-3581757c82a8",
   "metadata": {},
   "outputs": [],
   "source": [
    "# 0, 1, 0, 0\n",
    "\n",
    "#definition des états\n",
    "ket0 = sp.Matrix([1,0])\n",
    "ket1 = sp.Matrix([0,1])"
   ]
  },
  {
   "cell_type": "code",
   "execution_count": 15,
   "id": "9544aa34-20e4-403d-9ba2-2dd16c3bc5d4",
   "metadata": {},
   "outputs": [],
   "source": [
    "α1 = sp.Symbol(\"α1\", complex=True)\n",
    "β1 = sp.Symbol(\"β1\", complex=True)\n",
    "ψ1 = α1 * ket0 + β1 * ket1 # Matrix([α,β])\n",
    "\n",
    "α2 = sp.Symbol(\"α2\", complex=True)\n",
    "β2 = sp.Symbol(\"β2\", complex=True)\n",
    "ψ2 = α2 * ket0 + β2 * ket1 # Matrix([α,β])\n",
    "\n",
    "α3 = sp.Symbol(\"α3\", complex=True)\n",
    "β3 = sp.Symbol(\"β3\", complex=True)\n",
    "ψ3 = α3 * ket0 + β3 * ket1 # Matrix([α,β])"
   ]
  },
  {
   "cell_type": "code",
   "execution_count": 19,
   "id": "fe6af4eb-342d-4cd0-b104-5c85be2030b1",
   "metadata": {},
   "outputs": [],
   "source": [
    "I=sp.eye(2)\n",
    "H=sp.Matrix([[1/sp.sqrt(2),1/sp.sqrt(2)], [1/sp.sqrt(2),-1/sp.sqrt(2)]])"
   ]
  },
  {
   "cell_type": "code",
   "execution_count": 28,
   "id": "d1810b59-bed9-4984-b249-0589d596ff3c",
   "metadata": {},
   "outputs": [
    {
     "data": {
      "text/latex": [
       "$\\displaystyle \\left[\\begin{matrix}α_{1} α_{2}\\\\α_{1} β_{2}\\\\α_{2} β_{1}\\\\β_{1} β_{2}\\end{matrix}\\right]$"
      ],
      "text/plain": [
       "⎡α₁⋅α₂⎤\n",
       "⎢     ⎥\n",
       "⎢α₁⋅β₂⎥\n",
       "⎢     ⎥\n",
       "⎢α₂⋅β₁⎥\n",
       "⎢     ⎥\n",
       "⎣β₁⋅β₂⎦"
      ]
     },
     "execution_count": 28,
     "metadata": {},
     "output_type": "execute_result"
    }
   ],
   "source": [
    "# TensorProduct(ψ1, ψ2)\n",
    "TensorProduct(ψ1, ψ2)"
   ]
  },
  {
   "cell_type": "code",
   "execution_count": 83,
   "id": "8a701369-b02f-4131-9448-4a117e6795b7",
   "metadata": {
    "collapsed": true,
    "jupyter": {
     "outputs_hidden": true
    }
   },
   "outputs": [
    {
     "data": {
      "image/png": "[encoded data removed]",
      "text/latex": [
       "$\\displaystyle \\left[\\begin{matrix}1 & 0 & 1 & 0\\\\0 & 1 & 0 & 1\\end{matrix}\\right]$"
      ],
      "text/plain": [
       "⎡1  0  1  0⎤\n",
       "⎢          ⎥\n",
       "⎣0  1  0  1⎦"
      ]
     },
     "execution_count": 83,
     "metadata": {},
     "output_type": "execute_result"
    }
   ],
   "source": [
    "from sympy.physics.quantum.dagger import Dagger\n",
    "Measure1over2=Dagger(TensorProduct(Matrix([1, 1]), I))\n",
    "#Measure1over2 = Matrix([[ 1, 0, 1, 0],\n",
    "#                    [ 0, 1, 0, 1]])\n",
    "Measure1over2"
   ]
  },
  {
   "cell_type": "code",
   "execution_count": 84,
   "id": "299b6bbd-73f4-49fc-ad08-ca33a7666b9b",
   "metadata": {},
   "outputs": [
    {
     "data": {
      "text/latex": [
       "$\\displaystyle \\left[\\begin{matrix}α_{2} \\left(α_{1} + β_{1}\\right)\\\\β_{2} \\left(α_{1} + β_{1}\\right)\\end{matrix}\\right]$"
      ],
      "text/plain": [
       "⎡α₂⋅(α₁ + β₁)⎤\n",
       "⎢            ⎥\n",
       "⎣β₂⋅(α₁ + β₁)⎦"
      ]
     },
     "execution_count": 84,
     "metadata": {},
     "output_type": "execute_result"
    }
   ],
   "source": [
    "sp.simplify(Measure1over2*TensorProduct(ψ1, ψ2))"
   ]
  },
  {
   "cell_type": "code",
   "execution_count": 85,
   "id": "de483939-35a0-43ce-b4b0-3e885a54ba93",
   "metadata": {},
   "outputs": [
    {
     "data": {
      "text/latex": [
       "$\\displaystyle \\left[\\begin{matrix}α_{2}\\\\β_{2}\\end{matrix}\\right]$"
      ],
      "text/plain": [
       "⎡α₂⎤\n",
       "⎢  ⎥\n",
       "⎣β₂⎦"
      ]
     },
     "execution_count": 85,
     "metadata": {},
     "output_type": "execute_result"
    }
   ],
   "source": [
    "sp.simplify((1/sum(ψ1))*Measure1over2*TensorProduct(ψ1, ψ2))"
   ]
  },
  {
   "cell_type": "code",
   "execution_count": 86,
   "id": "4f1ed52c-6049-4ecb-b2e7-c15e9ad267c9",
   "metadata": {},
   "outputs": [
    {
     "data": {
      "text/latex": [
       "$\\displaystyle \\left[\\begin{matrix}\\frac{α_{2} \\left(α_{1} + β_{1}\\right)}{\\sqrt{\\left|{α_{1}}\\right|^{2} + \\left|{β_{1}}\\right|^{2}}}\\\\\\frac{β_{2} \\left(α_{1} + β_{1}\\right)}{\\sqrt{\\left|{α_{1}}\\right|^{2} + \\left|{β_{1}}\\right|^{2}}}\\end{matrix}\\right]$"
      ],
      "text/plain": [
       "⎡   α₂⋅(α₁ + β₁)   ⎤\n",
       "⎢──────────────────⎥\n",
       "⎢   _______________⎥\n",
       "⎢  ╱     2       2 ⎥\n",
       "⎢╲╱  │α₁│  + │β₁│  ⎥\n",
       "⎢                  ⎥\n",
       "⎢   β₂⋅(α₁ + β₁)   ⎥\n",
       "⎢──────────────────⎥\n",
       "⎢   _______________⎥\n",
       "⎢  ╱     2       2 ⎥\n",
       "⎣╲╱  │α₁│  + │β₁│  ⎦"
      ]
     },
     "execution_count": 86,
     "metadata": {},
     "output_type": "execute_result"
    }
   ],
   "source": [
    "Meas1 = sp.simplify((1/ψ1.norm())*Measure1over2*TensorProduct(ψ1, ψ2))\n",
    "Meas1"
   ]
  },
  {
   "cell_type": "code",
   "execution_count": 87,
   "id": "a5aa68eb-6f72-449e-a22b-7d63189cc04d",
   "metadata": {},
   "outputs": [
    {
     "data": {
      "text/latex": [
       "$\\displaystyle \\left[\\begin{matrix}α_{2}\\\\β_{2}\\end{matrix}\\right]$"
      ],
      "text/plain": [
       "⎡α₂⎤\n",
       "⎢  ⎥\n",
       "⎣β₂⎦"
      ]
     },
     "execution_count": 87,
     "metadata": {},
     "output_type": "execute_result"
    }
   ],
   "source": [
    "Meas1.subs({α1: 0,β1: 1})"
   ]
  },
  {
   "cell_type": "code",
   "execution_count": 88,
   "id": "2c144bc6-4b2b-43ee-b37e-79d52255d4bc",
   "metadata": {},
   "outputs": [
    {
     "data": {
      "image/png": "[encoded data removed]",
      "text/latex": [
       "$\\displaystyle \\left[\\begin{matrix}1 & 1 & 0 & 0\\\\0 & 0 & 1 & 1\\end{matrix}\\right]$"
      ],
      "text/plain": [
       "⎡1  1  0  0⎤\n",
       "⎢          ⎥\n",
       "⎣0  0  1  1⎦"
      ]
     },
     "execution_count": 88,
     "metadata": {},
     "output_type": "execute_result"
    }
   ],
   "source": [
    "Measure2over2=Dagger(TensorProduct(I, Matrix([1, 1])))\n",
    "#Measure2over2=Matrix([[ 1, 1, 0, 0],\n",
    "#                    [ 0, 0, 1, 1]])"
   ]
  },
  {
   "cell_type": "code",
   "execution_count": 89,
   "id": "08ba1caf-7b06-4ca0-87d7-ff4196c9817b",
   "metadata": {},
   "outputs": [
    {
     "data": {
      "text/latex": [
       "$\\displaystyle \\left[\\begin{matrix}\\frac{α_{1} \\left(α_{2} + β_{2}\\right)}{\\sqrt{\\left|{α_{2}}\\right|^{2} + \\left|{β_{2}}\\right|^{2}}}\\\\\\frac{β_{1} \\left(α_{2} + β_{2}\\right)}{\\sqrt{\\left|{α_{2}}\\right|^{2} + \\left|{β_{2}}\\right|^{2}}}\\end{matrix}\\right]$"
      ],
      "text/plain": [
       "⎡   α₁⋅(α₂ + β₂)   ⎤\n",
       "⎢──────────────────⎥\n",
       "⎢   _______________⎥\n",
       "⎢  ╱     2       2 ⎥\n",
       "⎢╲╱  │α₂│  + │β₂│  ⎥\n",
       "⎢                  ⎥\n",
       "⎢   β₁⋅(α₂ + β₂)   ⎥\n",
       "⎢──────────────────⎥\n",
       "⎢   _______________⎥\n",
       "⎢  ╱     2       2 ⎥\n",
       "⎣╲╱  │α₂│  + │β₂│  ⎦"
      ]
     },
     "execution_count": 89,
     "metadata": {},
     "output_type": "execute_result"
    }
   ],
   "source": [
    "Meas2 = sp.simplify((1/ψ2.norm())*Measure2over2*TensorProduct(ψ1, ψ2))\n",
    "Meas2"
   ]
  },
  {
   "cell_type": "code",
   "execution_count": 90,
   "id": "2e899248-c826-4302-b6f6-b961027b5521",
   "metadata": {},
   "outputs": [
    {
     "data": {
      "text/latex": [
       "$\\displaystyle \\left[\\begin{matrix}α_{1}\\\\β_{1}\\end{matrix}\\right]$"
      ],
      "text/plain": [
       "⎡α₁⎤\n",
       "⎢  ⎥\n",
       "⎣β₁⎦"
      ]
     },
     "execution_count": 90,
     "metadata": {},
     "output_type": "execute_result"
    }
   ],
   "source": [
    "Meas2.subs({α2: 0,β2: 1})\n"
   ]
  },
  {
   "cell_type": "code",
   "execution_count": 21,
   "id": "7d599fde-6164-4dc4-a33f-48fad2d57f36",
   "metadata": {},
   "outputs": [
    {
     "data": {
      "text/latex": [
       "$\\displaystyle \\left[\\begin{matrix}α_{1} α_{2} α_{3}\\\\α_{1} α_{2} β_{3}\\\\α_{1} α_{3} β_{2}\\\\α_{1} β_{2} β_{3}\\\\α_{2} α_{3} β_{1}\\\\α_{2} β_{1} β_{3}\\\\α_{3} β_{1} β_{2}\\\\β_{1} β_{2} β_{3}\\end{matrix}\\right]$"
      ],
      "text/plain": [
       "⎡α₁⋅α₂⋅α₃⎤\n",
       "⎢        ⎥\n",
       "⎢α₁⋅α₂⋅β₃⎥\n",
       "⎢        ⎥\n",
       "⎢α₁⋅α₃⋅β₂⎥\n",
       "⎢        ⎥\n",
       "⎢α₁⋅β₂⋅β₃⎥\n",
       "⎢        ⎥\n",
       "⎢α₂⋅α₃⋅β₁⎥\n",
       "⎢        ⎥\n",
       "⎢α₂⋅β₁⋅β₃⎥\n",
       "⎢        ⎥\n",
       "⎢α₃⋅β₁⋅β₂⎥\n",
       "⎢        ⎥\n",
       "⎣β₁⋅β₂⋅β₃⎦"
      ]
     },
     "execution_count": 21,
     "metadata": {},
     "output_type": "execute_result"
    }
   ],
   "source": [
    "TensorProduct(ψ1, ψ2, ψ3)"
   ]
  },
  {
   "cell_type": "code",
   "execution_count": 93,
   "id": "ad563514-e746-4fdd-be73-731c0aafa331",
   "metadata": {},
   "outputs": [
    {
     "data": {
      "image/png": "[encoded data removed]",
      "text/latex": [
       "$\\displaystyle \\left[\\begin{matrix}1 & 0 & 0 & 0 & 1 & 0 & 0 & 0\\\\0 & 1 & 0 & 0 & 0 & 1 & 0 & 0\\\\0 & 0 & 1 & 0 & 0 & 0 & 1 & 0\\\\0 & 0 & 0 & 1 & 0 & 0 & 0 & 1\\end{matrix}\\right]$"
      ],
      "text/plain": [
       "⎡1  0  0  0  1  0  0  0⎤\n",
       "⎢                      ⎥\n",
       "⎢0  1  0  0  0  1  0  0⎥\n",
       "⎢                      ⎥\n",
       "⎢0  0  1  0  0  0  1  0⎥\n",
       "⎢                      ⎥\n",
       "⎣0  0  0  1  0  0  0  1⎦"
      ]
     },
     "execution_count": 93,
     "metadata": {},
     "output_type": "execute_result"
    }
   ],
   "source": [
    "Measure1over3=Dagger(TensorProduct(Matrix([1, 1]), I, I))\n",
    "#Measure1over3= Matrix([[ 1, 0, 0, 0, 1, 0, 0, 0],\n",
    "#                    [ 0, 1, 0, 0, 0, 1, 0, 0],\n",
    "#                    [ 0, 0, 1, 0, 0, 0, 1, 0],\n",
    "#                    [ 0, 0, 0, 1, 0, 0, 0, 1]])"
   ]
  },
  {
   "cell_type": "code",
   "execution_count": 94,
   "id": "d4bc7f22-b906-4808-aeec-232413e0651a",
   "metadata": {},
   "outputs": [
    {
     "data": {
      "text/latex": [
       "$\\displaystyle \\left[\\begin{matrix}α_{2} α_{3}\\\\α_{2} β_{3}\\\\α_{3} β_{2}\\\\β_{2} β_{3}\\end{matrix}\\right]$"
      ],
      "text/plain": [
       "⎡α₂⋅α₃⎤\n",
       "⎢     ⎥\n",
       "⎢α₂⋅β₃⎥\n",
       "⎢     ⎥\n",
       "⎢α₃⋅β₂⎥\n",
       "⎢     ⎥\n",
       "⎣β₂⋅β₃⎦"
      ]
     },
     "execution_count": 94,
     "metadata": {},
     "output_type": "execute_result"
    }
   ],
   "source": [
    "sp.simplify((1/sum(ψ1))*Measure1over3*TensorProduct(ψ1, ψ2, ψ3))"
   ]
  },
  {
   "cell_type": "code",
   "execution_count": 95,
   "id": "02610577-52f9-4222-90a0-14404f9912ad",
   "metadata": {},
   "outputs": [
    {
     "data": {
      "image/png": "[encoded data removed]",
      "text/latex": [
       "$\\displaystyle \\left[\\begin{matrix}1 & 0 & 1 & 0 & 0 & 0 & 0 & 0\\\\0 & 1 & 0 & 1 & 0 & 0 & 0 & 0\\\\0 & 0 & 0 & 0 & 1 & 0 & 1 & 0\\\\0 & 0 & 0 & 0 & 0 & 1 & 0 & 1\\end{matrix}\\right]$"
      ],
      "text/plain": [
       "⎡1  0  1  0  0  0  0  0⎤\n",
       "⎢                      ⎥\n",
       "⎢0  1  0  1  0  0  0  0⎥\n",
       "⎢                      ⎥\n",
       "⎢0  0  0  0  1  0  1  0⎥\n",
       "⎢                      ⎥\n",
       "⎣0  0  0  0  0  1  0  1⎦"
      ]
     },
     "execution_count": 95,
     "metadata": {},
     "output_type": "execute_result"
    }
   ],
   "source": [
    "Measure2over3=Dagger(TensorProduct(I,Matrix([1, 1]), I))\n",
    "Measure2over3"
   ]
  },
  {
   "cell_type": "code",
   "execution_count": 110,
   "id": "7c3d80ac-eff6-4dd9-b5e3-4f71e4cdf05d",
   "metadata": {},
   "outputs": [
    {
     "data": {
      "text/latex": [
       "$\\displaystyle \\left[\\begin{matrix}α_{1} α_{3}\\\\α_{1} β_{3}\\\\α_{3} β_{1}\\\\β_{1} β_{3}\\end{matrix}\\right]$"
      ],
      "text/plain": [
       "⎡α₁⋅α₃⎤\n",
       "⎢     ⎥\n",
       "⎢α₁⋅β₃⎥\n",
       "⎢     ⎥\n",
       "⎢α₃⋅β₁⎥\n",
       "⎢     ⎥\n",
       "⎣β₁⋅β₃⎦"
      ]
     },
     "execution_count": 110,
     "metadata": {},
     "output_type": "execute_result"
    }
   ],
   "source": [
    "sp.simplify((1/ψ2.norm())*Measure2over3*TensorProduct(ψ1, ψ2, ψ3)).subs({α2: 0, β2: 1})"
   ]
  },
  {
   "cell_type": "code",
   "execution_count": 101,
   "id": "9a27a66f-e126-477e-b43c-f63120e351af",
   "metadata": {},
   "outputs": [],
   "source": [
    "Measure3over3=Dagger(TensorProduct(I, I, Matrix([1, 1])))\n",
    "#Measure3over3= Matrix([[ 1, 1, 0, 0, 0, 0, 0, 0],\n",
    "#                    [ 0, 0, 1, 1, 0, 0, 0, 0],\n",
    "#                    [ 0, 0, 0, 0, 1, 1, 0, 0],\n",
    "#                    [ 0, 0, 0, 0, 0, 0, 1, 1]])"
   ]
  },
  {
   "cell_type": "code",
   "execution_count": 111,
   "id": "b8d0108d-b8c2-4db2-bd07-58355404dc63",
   "metadata": {},
   "outputs": [
    {
     "data": {
      "text/latex": [
       "$\\displaystyle \\left[\\begin{matrix}\\frac{α_{1} α_{2} \\left(α_{3} + β_{3}\\right)}{\\sqrt{\\left|{α_{3}}\\right|^{2} + \\left|{β_{3}}\\right|^{2}}}\\\\\\frac{α_{1} β_{2} \\left(α_{3} + β_{3}\\right)}{\\sqrt{\\left|{α_{3}}\\right|^{2} + \\left|{β_{3}}\\right|^{2}}}\\\\\\frac{α_{2} β_{1} \\left(α_{3} + β_{3}\\right)}{\\sqrt{\\left|{α_{3}}\\right|^{2} + \\left|{β_{3}}\\right|^{2}}}\\\\\\frac{β_{1} β_{2} \\left(α_{3} + β_{3}\\right)}{\\sqrt{\\left|{α_{3}}\\right|^{2} + \\left|{β_{3}}\\right|^{2}}}\\end{matrix}\\right]$"
      ],
      "text/plain": [
       "⎡ α₁⋅α₂⋅(α₃ + β₃)  ⎤\n",
       "⎢──────────────────⎥\n",
       "⎢   _______________⎥\n",
       "⎢  ╱     2       2 ⎥\n",
       "⎢╲╱  │α₃│  + │β₃│  ⎥\n",
       "⎢                  ⎥\n",
       "⎢ α₁⋅β₂⋅(α₃ + β₃)  ⎥\n",
       "⎢──────────────────⎥\n",
       "⎢   _______________⎥\n",
       "⎢  ╱     2       2 ⎥\n",
       "⎢╲╱  │α₃│  + │β₃│  ⎥\n",
       "⎢                  ⎥\n",
       "⎢ α₂⋅β₁⋅(α₃ + β₃)  ⎥\n",
       "⎢──────────────────⎥\n",
       "⎢   _______________⎥\n",
       "⎢  ╱     2       2 ⎥\n",
       "⎢╲╱  │α₃│  + │β₃│  ⎥\n",
       "⎢                  ⎥\n",
       "⎢ β₁⋅β₂⋅(α₃ + β₃)  ⎥\n",
       "⎢──────────────────⎥\n",
       "⎢   _______________⎥\n",
       "⎢  ╱     2       2 ⎥\n",
       "⎣╲╱  │α₃│  + │β₃│  ⎦"
      ]
     },
     "execution_count": 111,
     "metadata": {},
     "output_type": "execute_result"
    }
   ],
   "source": [
    "sp.simplify((1/ψ3.norm())*Measure3over3*TensorProduct(ψ1, ψ2, ψ3))"
   ]
  },
  {
   "cell_type": "code",
   "execution_count": 112,
   "id": "90abebcf-55fc-49fd-ab8a-1822b639efa4",
   "metadata": {},
   "outputs": [
    {
     "data": {
      "text/latex": [
       "$\\displaystyle \\left[\\begin{matrix}α_{3}\\\\β_{3}\\end{matrix}\\right]$"
      ],
      "text/plain": [
       "⎡α₃⎤\n",
       "⎢  ⎥\n",
       "⎣β₃⎦"
      ]
     },
     "execution_count": 112,
     "metadata": {},
     "output_type": "execute_result"
    }
   ],
   "source": [
    "sp.simplify((1/sum(ψ1))*Measure1over2*(1/sum(ψ2))*Measure2over3*TensorProduct(ψ1, ψ2, ψ3))"
   ]
  },
  {
   "cell_type": "code",
   "execution_count": 131,
   "id": "746e74df-8311-4255-8de6-57dc9e4bdd44",
   "metadata": {},
   "outputs": [
    {
     "data": {
      "text/latex": [
       "$\\displaystyle \\left[\\begin{matrix}\\frac{\\sqrt{2} α_{1}}{2} + \\frac{\\sqrt{2} β_{1}}{2}\\\\\\frac{\\sqrt{2} α_{1}}{2} - \\frac{\\sqrt{2} β_{1}}{2}\\end{matrix}\\right]$"
      ],
      "text/plain": [
       "⎡√2⋅α₁   √2⋅β₁⎤\n",
       "⎢───── + ─────⎥\n",
       "⎢  2       2  ⎥\n",
       "⎢             ⎥\n",
       "⎢√2⋅α₁   √2⋅β₁⎥\n",
       "⎢───── - ─────⎥\n",
       "⎣  2       2  ⎦"
      ]
     },
     "execution_count": 131,
     "metadata": {},
     "output_type": "execute_result"
    }
   ],
   "source": [
    "H*ψ1"
   ]
  },
  {
   "cell_type": "code",
   "execution_count": 143,
   "id": "e2434f2f-78b3-4f02-8d4e-0f8feec8d892",
   "metadata": {},
   "outputs": [
    {
     "data": {
      "text/latex": [
       "$\\displaystyle \\left[\\begin{matrix}\\frac{α_{2}}{2} + \\frac{β_{2}}{2}\\\\\\frac{α_{2}}{2} - \\frac{β_{2}}{2}\\\\- \\frac{α_{2}}{2} - \\frac{β_{2}}{2}\\\\- \\frac{α_{2}}{2} + \\frac{β_{2}}{2}\\end{matrix}\\right]$"
      ],
      "text/plain": [
       "⎡ α₂   β₂ ⎤\n",
       "⎢ ── + ── ⎥\n",
       "⎢ 2    2  ⎥\n",
       "⎢         ⎥\n",
       "⎢ α₂   β₂ ⎥\n",
       "⎢ ── - ── ⎥\n",
       "⎢ 2    2  ⎥\n",
       "⎢         ⎥\n",
       "⎢  α₂   β₂⎥\n",
       "⎢- ── - ──⎥\n",
       "⎢  2    2 ⎥\n",
       "⎢         ⎥\n",
       "⎢  α₂   β₂⎥\n",
       "⎢- ── + ──⎥\n",
       "⎣  2    2 ⎦"
      ]
     },
     "execution_count": 143,
     "metadata": {},
     "output_type": "execute_result"
    }
   ],
   "source": [
    "sp.simplify(TensorProduct(H*ket1, H*ψ2))"
   ]
  },
  {
   "cell_type": "code",
   "execution_count": 146,
   "id": "efe24f8c-eac9-4e40-8d09-b642692636d9",
   "metadata": {},
   "outputs": [
    {
     "data": {
      "text/latex": [
       "$\\displaystyle \\left[\\begin{matrix}\\frac{α_{1} \\left(α_{2} + β_{2}\\right)}{\\sqrt{\\left|{α_{1}}\\right|^{2} + \\left|{β_{1}}\\right|^{2}}}\\\\\\frac{α_{1} \\left(α_{2} - β_{2}\\right)}{\\sqrt{\\left|{α_{1}}\\right|^{2} + \\left|{β_{1}}\\right|^{2}}}\\end{matrix}\\right]$"
      ],
      "text/plain": [
       "⎡   α₁⋅(α₂ + β₂)   ⎤\n",
       "⎢──────────────────⎥\n",
       "⎢   _______________⎥\n",
       "⎢  ╱     2       2 ⎥\n",
       "⎢╲╱  │α₁│  + │β₁│  ⎥\n",
       "⎢                  ⎥\n",
       "⎢   α₁⋅(α₂ - β₂)   ⎥\n",
       "⎢──────────────────⎥\n",
       "⎢   _______________⎥\n",
       "⎢  ╱     2       2 ⎥\n",
       "⎣╲╱  │α₁│  + │β₁│  ⎦"
      ]
     },
     "execution_count": 146,
     "metadata": {},
     "output_type": "execute_result"
    }
   ],
   "source": [
    "sp.simplify((1/ψ1.norm())*Measure1over2*TensorProduct(H*ψ1, H*ψ2))"
   ]
  },
  {
   "cell_type": "code",
   "execution_count": 150,
   "id": "5cfd1e4b-ac1e-4942-9eb1-174d35a58176",
   "metadata": {},
   "outputs": [
    {
     "data": {
      "image/png": "[encoded data removed]",
      "text/latex": [
       "$\\displaystyle \\left[\\begin{matrix}\\frac{1}{2}\\\\\\frac{1}{2}\\\\- \\frac{1}{2}\\\\- \\frac{1}{2}\\end{matrix}\\right]$"
      ],
      "text/plain": [
       "⎡1/2 ⎤\n",
       "⎢    ⎥\n",
       "⎢1/2 ⎥\n",
       "⎢    ⎥\n",
       "⎢-1/2⎥\n",
       "⎢    ⎥\n",
       "⎣-1/2⎦"
      ]
     },
     "execution_count": 150,
     "metadata": {},
     "output_type": "execute_result"
    }
   ],
   "source": [
    "TensorProduct(H*ket1, H*ket0)"
   ]
  },
  {
   "cell_type": "code",
   "execution_count": 158,
   "id": "0fa26840-e355-4503-be15-a4f6bfa37ab3",
   "metadata": {},
   "outputs": [
    {
     "name": "stdout",
     "output_type": "stream",
     "text": [
      "Uf2 =\n",
      "1, 0, 0, 0,\n",
      "0, 0, 0, 1,\n",
      "0, 0, 1, 0,\n",
      "0, 1, 0, 0\n"
     ]
    }
   ],
   "source": [
    "from UnitaryFunction import buildUnitaryMatrix, format_matrice\n",
    "# F1 sets ouput to 0 whatever the input ==> Constant\n",
    "# F2 sets ouput equals to input ==> Balanced\n",
    "# F3 sets ouput to negate input ==> Balanced\n",
    "# F4 sets ouput to 1 whatever the input ==> Constant\n",
    "def f1(a): return False\n",
    "def f2(a): return a\n",
    "def f3(a): return not a\n",
    "def f4(a): return True\n",
    "Uf1 = buildUnitaryMatrix(f1)\n",
    "Uf2 = buildUnitaryMatrix(f2)\n",
    "Uf3 = buildUnitaryMatrix(f3)\n",
    "Uf4 = buildUnitaryMatrix(f4)\n",
    "print(format_matrice(Uf2))"
   ]
  },
  {
   "cell_type": "code",
   "execution_count": 156,
   "id": "3753cb0a-8fc3-4e07-97ca-76a7602694f0",
   "metadata": {},
   "outputs": [
    {
     "data": {
      "image/png": "[encoded data removed]",
      "text/latex": [
       "$\\displaystyle \\left[\\begin{matrix}\\frac{1}{2}\\\\\\frac{1}{2}\\\\- \\frac{1}{2}\\\\- \\frac{1}{2}\\end{matrix}\\right]$"
      ],
      "text/plain": [
       "⎡1/2 ⎤\n",
       "⎢    ⎥\n",
       "⎢1/2 ⎥\n",
       "⎢    ⎥\n",
       "⎢-1/2⎥\n",
       "⎢    ⎥\n",
       "⎣-1/2⎦"
      ]
     },
     "execution_count": 156,
     "metadata": {},
     "output_type": "execute_result"
    }
   ],
   "source": [
    "Uf1*TensorProduct(H*ket1, H*ket0)"
   ]
  },
  {
   "cell_type": "code",
   "execution_count": 183,
   "id": "66c3a2b2-6fa2-445c-bc51-34e4ab46901a",
   "metadata": {},
   "outputs": [
    {
     "data": {
      "image/png": "[encoded data removed]",
      "text/latex": [
       "$\\displaystyle \\left[\\begin{matrix}- \\frac{\\sqrt{2}}{2}\\\\0\\\\\\frac{\\sqrt{2}}{2}\\\\0\\end{matrix}\\right]$"
      ],
      "text/plain": [
       "⎡-√2 ⎤\n",
       "⎢────⎥\n",
       "⎢ 2  ⎥\n",
       "⎢    ⎥\n",
       "⎢ 0  ⎥\n",
       "⎢    ⎥\n",
       "⎢ √2 ⎥\n",
       "⎢ ── ⎥\n",
       "⎢ 2  ⎥\n",
       "⎢    ⎥\n",
       "⎣ 0  ⎦"
      ]
     },
     "execution_count": 183,
     "metadata": {},
     "output_type": "execute_result"
    }
   ],
   "source": [
    "TensorProduct(I, H)*Uf4*TensorProduct(H*ket1, H*ket0)"
   ]
  },
  {
   "cell_type": "code",
   "execution_count": 61,
   "id": "afa94ec3-8ddb-4eb6-b7b9-879a6d8114f7",
   "metadata": {},
   "outputs": [
    {
     "data": {
      "image/png": "[encoded data removed]",
      "text/latex": [
       "$\\displaystyle \\left[\\begin{matrix}\\frac{\\sqrt{2}}{2} & \\frac{\\sqrt{2}}{2} & 0 & 0\\\\\\frac{\\sqrt{2}}{2} & - \\frac{\\sqrt{2}}{2} & 0 & 0\\\\0 & 0 & \\frac{\\sqrt{2}}{2} & \\frac{\\sqrt{2}}{2}\\\\0 & 0 & \\frac{\\sqrt{2}}{2} & - \\frac{\\sqrt{2}}{2}\\end{matrix}\\right]$"
      ],
      "text/plain": [
       "⎡√2   √2           ⎤\n",
       "⎢──   ──   0    0  ⎥\n",
       "⎢2    2            ⎥\n",
       "⎢                  ⎥\n",
       "⎢√2  -√2           ⎥\n",
       "⎢──  ────  0    0  ⎥\n",
       "⎢2    2            ⎥\n",
       "⎢                  ⎥\n",
       "⎢          √2   √2 ⎥\n",
       "⎢0    0    ──   ── ⎥\n",
       "⎢          2    2  ⎥\n",
       "⎢                  ⎥\n",
       "⎢          √2  -√2 ⎥\n",
       "⎢0    0    ──  ────⎥\n",
       "⎣          2    2  ⎦"
      ]
     },
     "execution_count": 61,
     "metadata": {},
     "output_type": "execute_result"
    }
   ],
   "source": [
    "TensorProduct(I, H)"
   ]
  },
  {
   "cell_type": "code",
   "execution_count": 62,
   "id": "05058e88-3fd1-499d-812a-9c7686cbf8d3",
   "metadata": {},
   "outputs": [
    {
     "data": {
      "text/latex": [
       "$\\displaystyle \\left[\\begin{matrix}\\frac{\\sqrt{2} α_{1} α_{2}}{2} + \\frac{\\sqrt{2} α_{1} β_{2}}{2}\\\\\\frac{\\sqrt{2} α_{1} α_{2}}{2} - \\frac{\\sqrt{2} α_{1} β_{2}}{2}\\\\\\frac{\\sqrt{2} α_{2} β_{1}}{2} + \\frac{\\sqrt{2} β_{1} β_{2}}{2}\\\\\\frac{\\sqrt{2} α_{2} β_{1}}{2} - \\frac{\\sqrt{2} β_{1} β_{2}}{2}\\end{matrix}\\right]$"
      ],
      "text/plain": [
       "⎡√2⋅α₁⋅α₂   √2⋅α₁⋅β₂⎤\n",
       "⎢──────── + ────────⎥\n",
       "⎢   2          2    ⎥\n",
       "⎢                   ⎥\n",
       "⎢√2⋅α₁⋅α₂   √2⋅α₁⋅β₂⎥\n",
       "⎢──────── - ────────⎥\n",
       "⎢   2          2    ⎥\n",
       "⎢                   ⎥\n",
       "⎢√2⋅α₂⋅β₁   √2⋅β₁⋅β₂⎥\n",
       "⎢──────── + ────────⎥\n",
       "⎢   2          2    ⎥\n",
       "⎢                   ⎥\n",
       "⎢√2⋅α₂⋅β₁   √2⋅β₁⋅β₂⎥\n",
       "⎢──────── - ────────⎥\n",
       "⎣   2          2    ⎦"
      ]
     },
     "execution_count": 62,
     "metadata": {},
     "output_type": "execute_result"
    }
   ],
   "source": [
    "TensorProduct(I, H)*TensorProduct(ψ1, ψ2)"
   ]
  },
  {
   "cell_type": "code",
   "execution_count": 63,
   "id": "878bae93-b6ec-4fdf-8828-17f3b545cbfc",
   "metadata": {},
   "outputs": [
    {
     "data": {
      "text/latex": [
       "$\\displaystyle \\left[\\begin{matrix}\\frac{\\sqrt{2} \\left(α_{2} + β_{2}\\right)}{2}\\\\\\frac{\\sqrt{2} \\left(α_{2} - β_{2}\\right)}{2}\\end{matrix}\\right]$"
      ],
      "text/plain": [
       "⎡√2⋅(α₂ + β₂)⎤\n",
       "⎢────────────⎥\n",
       "⎢     2      ⎥\n",
       "⎢            ⎥\n",
       "⎢√2⋅(α₂ - β₂)⎥\n",
       "⎢────────────⎥\n",
       "⎣     2      ⎦"
      ]
     },
     "execution_count": 63,
     "metadata": {},
     "output_type": "execute_result"
    }
   ],
   "source": [
    "sp.simplify(H*ψ2)"
   ]
  },
  {
   "cell_type": "code",
   "execution_count": 64,
   "id": "2ced181c-4260-4c84-9eff-c826fc5e8e8e",
   "metadata": {},
   "outputs": [
    {
     "data": {
      "text/latex": [
       "$\\displaystyle \\left[\\begin{matrix}\\frac{\\sqrt{2} α_{1} \\left(α_{2} + β_{2}\\right)}{2}\\\\\\frac{\\sqrt{2} α_{1} \\left(α_{2} - β_{2}\\right)}{2}\\\\\\frac{\\sqrt{2} β_{1} \\left(α_{2} + β_{2}\\right)}{2}\\\\\\frac{\\sqrt{2} β_{1} \\left(α_{2} - β_{2}\\right)}{2}\\end{matrix}\\right]$"
      ],
      "text/plain": [
       "⎡√2⋅α₁⋅(α₂ + β₂)⎤\n",
       "⎢───────────────⎥\n",
       "⎢       2       ⎥\n",
       "⎢               ⎥\n",
       "⎢√2⋅α₁⋅(α₂ - β₂)⎥\n",
       "⎢───────────────⎥\n",
       "⎢       2       ⎥\n",
       "⎢               ⎥\n",
       "⎢√2⋅β₁⋅(α₂ + β₂)⎥\n",
       "⎢───────────────⎥\n",
       "⎢       2       ⎥\n",
       "⎢               ⎥\n",
       "⎢√2⋅β₁⋅(α₂ - β₂)⎥\n",
       "⎢───────────────⎥\n",
       "⎣       2       ⎦"
      ]
     },
     "execution_count": 64,
     "metadata": {},
     "output_type": "execute_result"
    }
   ],
   "source": [
    "sp.simplify(TensorProduct(ψ1, H*ψ2))"
   ]
  },
  {
   "cell_type": "code",
   "execution_count": 65,
   "id": "6f5c49a7-d96a-4f9e-aad8-86289a6b967a",
   "metadata": {},
   "outputs": [
    {
     "data": {
      "image/png": "[encoded data removed]",
      "text/latex": [
       "$\\displaystyle \\left[\\begin{matrix}0\\\\0\\\\0\\\\0\\end{matrix}\\right]$"
      ],
      "text/plain": [
       "⎡0⎤\n",
       "⎢ ⎥\n",
       "⎢0⎥\n",
       "⎢ ⎥\n",
       "⎢0⎥\n",
       "⎢ ⎥\n",
       "⎣0⎦"
      ]
     },
     "execution_count": 65,
     "metadata": {},
     "output_type": "execute_result"
    }
   ],
   "source": [
    "sp.simplify(TensorProduct(ψ1, H*ψ2) - TensorProduct(I, H)*TensorProduct(ψ1, ψ2))"
   ]
  },
  {
   "cell_type": "code",
   "execution_count": 66,
   "id": "1e20dbac-e31e-4bb4-b7c0-fd0c5e35fa53",
   "metadata": {},
   "outputs": [
    {
     "data": {
      "text/latex": [
       "$\\displaystyle \\left[\\begin{matrix}\\frac{\\sqrt{2} \\left(α_{1} + β_{1}\\right) \\left(α_{2} + β_{2}\\right)}{2}\\\\\\frac{\\sqrt{2} \\left(α_{1} + β_{1}\\right) \\left(α_{2} - β_{2}\\right)}{2}\\end{matrix}\\right]$"
      ],
      "text/plain": [
       "⎡√2⋅(α₁ + β₁)⋅(α₂ + β₂)⎤\n",
       "⎢──────────────────────⎥\n",
       "⎢          2           ⎥\n",
       "⎢                      ⎥\n",
       "⎢√2⋅(α₁ + β₁)⋅(α₂ - β₂)⎥\n",
       "⎢──────────────────────⎥\n",
       "⎣          2           ⎦"
      ]
     },
     "execution_count": 66,
     "metadata": {},
     "output_type": "execute_result"
    }
   ],
   "source": [
    "sp.simplify(Matrix([[ 1, 0, 1, 0],\n",
    "                    [ 0, 1, 0, 1]])*TensorProduct(ϕ1, H*ψ2))"
   ]
  },
  {
   "cell_type": "code",
   "execution_count": 67,
   "id": "bfca8296-d9af-4b3f-87eb-d97c7041f03b",
   "metadata": {},
   "outputs": [
    {
     "data": {
      "text/latex": [
       "$\\displaystyle \\left[\\begin{matrix}\\sqrt{2} α_{1} α_{2}\\\\\\sqrt{2} α_{2} β_{1}\\end{matrix}\\right]$"
      ],
      "text/plain": [
       "⎡√2⋅α₁⋅α₂⎤\n",
       "⎢        ⎥\n",
       "⎣√2⋅α₂⋅β₁⎦"
      ]
     },
     "execution_count": 67,
     "metadata": {},
     "output_type": "execute_result"
    }
   ],
   "source": [
    "sp.simplify(Matrix([[ 1, 1, 0, 0],\n",
    "                    [ 0, 0, 1, 1]]) * TensorProduct(ψ1, H*ψ2))   #TensorProduct(I, H)*TensorProduct(ϕ1, ϕ2)\n",
    "\n"
   ]
  },
  {
   "cell_type": "code",
   "execution_count": null,
   "id": "62c3f5af-6e6a-440b-889b-a08a60a4555e",
   "metadata": {},
   "outputs": [],
   "source": [
    "\n"
   ]
  },
  {
   "cell_type": "code",
   "execution_count": 68,
   "id": "1b821e0c-9ac9-4bbd-b41f-c2b3d9da255b",
   "metadata": {},
   "outputs": [
    {
     "data": {
      "text/latex": [
       "$\\displaystyle \\left[\\begin{matrix}α_{1} α_{2} α_{3}\\\\α_{1} α_{2} β_{3}\\\\α_{1} α_{3} β_{2}\\\\α_{1} β_{2} β_{3}\\\\α_{2} α_{3} β_{1}\\\\α_{2} β_{1} β_{3}\\\\α_{3} β_{1} β_{2}\\\\β_{1} β_{2} β_{3}\\end{matrix}\\right]$"
      ],
      "text/plain": [
       "⎡α₁⋅α₂⋅α₃⎤\n",
       "⎢        ⎥\n",
       "⎢α₁⋅α₂⋅β₃⎥\n",
       "⎢        ⎥\n",
       "⎢α₁⋅α₃⋅β₂⎥\n",
       "⎢        ⎥\n",
       "⎢α₁⋅β₂⋅β₃⎥\n",
       "⎢        ⎥\n",
       "⎢α₂⋅α₃⋅β₁⎥\n",
       "⎢        ⎥\n",
       "⎢α₂⋅β₁⋅β₃⎥\n",
       "⎢        ⎥\n",
       "⎢α₃⋅β₁⋅β₂⎥\n",
       "⎢        ⎥\n",
       "⎣β₁⋅β₂⋅β₃⎦"
      ]
     },
     "execution_count": 68,
     "metadata": {},
     "output_type": "execute_result"
    }
   ],
   "source": [
    "TensorProduct(ψ1, ψ2, ψ3)"
   ]
  },
  {
   "cell_type": "code",
   "execution_count": 69,
   "id": "4e1f6b35-8096-40b9-beea-1f2a63ea800a",
   "metadata": {},
   "outputs": [
    {
     "data": {
      "text/latex": [
       "$\\displaystyle \\left[\\begin{matrix}\\frac{α_{1} \\left(α_{2} α_{3} + α_{2} β_{3} + α_{3} β_{2} + β_{2} β_{3}\\right)}{2}\\\\\\frac{α_{1} \\left(α_{2} α_{3} - α_{2} β_{3} + α_{3} β_{2} - β_{2} β_{3}\\right)}{2}\\\\\\frac{α_{1} \\left(α_{2} α_{3} + α_{2} β_{3} - α_{3} β_{2} - β_{2} β_{3}\\right)}{2}\\\\\\frac{α_{1} \\left(α_{2} α_{3} - α_{2} β_{3} - α_{3} β_{2} + β_{2} β_{3}\\right)}{2}\\\\\\frac{β_{1} \\left(α_{2} α_{3} + α_{2} β_{3} + α_{3} β_{2} + β_{2} β_{3}\\right)}{2}\\\\\\frac{β_{1} \\left(α_{2} α_{3} - α_{2} β_{3} + α_{3} β_{2} - β_{2} β_{3}\\right)}{2}\\\\\\frac{β_{1} \\left(α_{2} α_{3} + α_{2} β_{3} - α_{3} β_{2} - β_{2} β_{3}\\right)}{2}\\\\\\frac{β_{1} \\left(α_{2} α_{3} - α_{2} β_{3} - α_{3} β_{2} + β_{2} β_{3}\\right)}{2}\\end{matrix}\\right]$"
      ],
      "text/plain": [
       "⎡α₁⋅(α₂⋅α₃ + α₂⋅β₃ + α₃⋅β₂ + β₂⋅β₃)⎤\n",
       "⎢──────────────────────────────────⎥\n",
       "⎢                2                 ⎥\n",
       "⎢                                  ⎥\n",
       "⎢α₁⋅(α₂⋅α₃ - α₂⋅β₃ + α₃⋅β₂ - β₂⋅β₃)⎥\n",
       "⎢──────────────────────────────────⎥\n",
       "⎢                2                 ⎥\n",
       "⎢                                  ⎥\n",
       "⎢α₁⋅(α₂⋅α₃ + α₂⋅β₃ - α₃⋅β₂ - β₂⋅β₃)⎥\n",
       "⎢──────────────────────────────────⎥\n",
       "⎢                2                 ⎥\n",
       "⎢                                  ⎥\n",
       "⎢α₁⋅(α₂⋅α₃ - α₂⋅β₃ - α₃⋅β₂ + β₂⋅β₃)⎥\n",
       "⎢──────────────────────────────────⎥\n",
       "⎢                2                 ⎥\n",
       "⎢                                  ⎥\n",
       "⎢β₁⋅(α₂⋅α₃ + α₂⋅β₃ + α₃⋅β₂ + β₂⋅β₃)⎥\n",
       "⎢──────────────────────────────────⎥\n",
       "⎢                2                 ⎥\n",
       "⎢                                  ⎥\n",
       "⎢β₁⋅(α₂⋅α₃ - α₂⋅β₃ + α₃⋅β₂ - β₂⋅β₃)⎥\n",
       "⎢──────────────────────────────────⎥\n",
       "⎢                2                 ⎥\n",
       "⎢                                  ⎥\n",
       "⎢β₁⋅(α₂⋅α₃ + α₂⋅β₃ - α₃⋅β₂ - β₂⋅β₃)⎥\n",
       "⎢──────────────────────────────────⎥\n",
       "⎢                2                 ⎥\n",
       "⎢                                  ⎥\n",
       "⎢β₁⋅(α₂⋅α₃ - α₂⋅β₃ - α₃⋅β₂ + β₂⋅β₃)⎥\n",
       "⎢──────────────────────────────────⎥\n",
       "⎣                2                 ⎦"
      ]
     },
     "execution_count": 69,
     "metadata": {},
     "output_type": "execute_result"
    }
   ],
   "source": [
    "sp.simplify(TensorProduct(I,H,H)*TensorProduct(ψ1, ψ2, ψ3))"
   ]
  },
  {
   "cell_type": "code",
   "execution_count": 52,
   "id": "a167f9ea-095c-4317-b13d-ce89efa3b769",
   "metadata": {},
   "outputs": [
    {
     "data": {
      "text/latex": [
       "$\\displaystyle \\left[\\begin{matrix}α_{1} \\left(\\frac{\\sqrt{2} α_{2}}{2} + \\frac{\\sqrt{2} β_{2}}{2}\\right) \\left(\\frac{\\sqrt{2} α_{3}}{2} + \\frac{\\sqrt{2} β_{3}}{2}\\right)\\\\α_{1} \\left(\\frac{\\sqrt{2} α_{2}}{2} + \\frac{\\sqrt{2} β_{2}}{2}\\right) \\left(\\frac{\\sqrt{2} α_{3}}{2} - \\frac{\\sqrt{2} β_{3}}{2}\\right)\\\\α_{1} \\left(\\frac{\\sqrt{2} α_{2}}{2} - \\frac{\\sqrt{2} β_{2}}{2}\\right) \\left(\\frac{\\sqrt{2} α_{3}}{2} + \\frac{\\sqrt{2} β_{3}}{2}\\right)\\\\α_{1} \\left(\\frac{\\sqrt{2} α_{2}}{2} - \\frac{\\sqrt{2} β_{2}}{2}\\right) \\left(\\frac{\\sqrt{2} α_{3}}{2} - \\frac{\\sqrt{2} β_{3}}{2}\\right)\\\\β_{1} \\left(\\frac{\\sqrt{2} α_{2}}{2} + \\frac{\\sqrt{2} β_{2}}{2}\\right) \\left(\\frac{\\sqrt{2} α_{3}}{2} + \\frac{\\sqrt{2} β_{3}}{2}\\right)\\\\β_{1} \\left(\\frac{\\sqrt{2} α_{2}}{2} + \\frac{\\sqrt{2} β_{2}}{2}\\right) \\left(\\frac{\\sqrt{2} α_{3}}{2} - \\frac{\\sqrt{2} β_{3}}{2}\\right)\\\\β_{1} \\left(\\frac{\\sqrt{2} α_{2}}{2} - \\frac{\\sqrt{2} β_{2}}{2}\\right) \\left(\\frac{\\sqrt{2} α_{3}}{2} + \\frac{\\sqrt{2} β_{3}}{2}\\right)\\\\β_{1} \\left(\\frac{\\sqrt{2} α_{2}}{2} - \\frac{\\sqrt{2} β_{2}}{2}\\right) \\left(\\frac{\\sqrt{2} α_{3}}{2} - \\frac{\\sqrt{2} β_{3}}{2}\\right)\\end{matrix}\\right]$"
      ],
      "text/plain": [
       "⎡   ⎛√2⋅α₂   √2⋅β₂⎞ ⎛√2⋅α₃   √2⋅β₃⎞⎤\n",
       "⎢α₁⋅⎜───── + ─────⎟⋅⎜───── + ─────⎟⎥\n",
       "⎢   ⎝  2       2  ⎠ ⎝  2       2  ⎠⎥\n",
       "⎢                                  ⎥\n",
       "⎢   ⎛√2⋅α₂   √2⋅β₂⎞ ⎛√2⋅α₃   √2⋅β₃⎞⎥\n",
       "⎢α₁⋅⎜───── + ─────⎟⋅⎜───── - ─────⎟⎥\n",
       "⎢   ⎝  2       2  ⎠ ⎝  2       2  ⎠⎥\n",
       "⎢                                  ⎥\n",
       "⎢   ⎛√2⋅α₂   √2⋅β₂⎞ ⎛√2⋅α₃   √2⋅β₃⎞⎥\n",
       "⎢α₁⋅⎜───── - ─────⎟⋅⎜───── + ─────⎟⎥\n",
       "⎢   ⎝  2       2  ⎠ ⎝  2       2  ⎠⎥\n",
       "⎢                                  ⎥\n",
       "⎢   ⎛√2⋅α₂   √2⋅β₂⎞ ⎛√2⋅α₃   √2⋅β₃⎞⎥\n",
       "⎢α₁⋅⎜───── - ─────⎟⋅⎜───── - ─────⎟⎥\n",
       "⎢   ⎝  2       2  ⎠ ⎝  2       2  ⎠⎥\n",
       "⎢                                  ⎥\n",
       "⎢   ⎛√2⋅α₂   √2⋅β₂⎞ ⎛√2⋅α₃   √2⋅β₃⎞⎥\n",
       "⎢β₁⋅⎜───── + ─────⎟⋅⎜───── + ─────⎟⎥\n",
       "⎢   ⎝  2       2  ⎠ ⎝  2       2  ⎠⎥\n",
       "⎢                                  ⎥\n",
       "⎢   ⎛√2⋅α₂   √2⋅β₂⎞ ⎛√2⋅α₃   √2⋅β₃⎞⎥\n",
       "⎢β₁⋅⎜───── + ─────⎟⋅⎜───── - ─────⎟⎥\n",
       "⎢   ⎝  2       2  ⎠ ⎝  2       2  ⎠⎥\n",
       "⎢                                  ⎥\n",
       "⎢   ⎛√2⋅α₂   √2⋅β₂⎞ ⎛√2⋅α₃   √2⋅β₃⎞⎥\n",
       "⎢β₁⋅⎜───── - ─────⎟⋅⎜───── + ─────⎟⎥\n",
       "⎢   ⎝  2       2  ⎠ ⎝  2       2  ⎠⎥\n",
       "⎢                                  ⎥\n",
       "⎢   ⎛√2⋅α₂   √2⋅β₂⎞ ⎛√2⋅α₃   √2⋅β₃⎞⎥\n",
       "⎢β₁⋅⎜───── - ─────⎟⋅⎜───── - ─────⎟⎥\n",
       "⎣   ⎝  2       2  ⎠ ⎝  2       2  ⎠⎦"
      ]
     },
     "execution_count": 52,
     "metadata": {},
     "output_type": "execute_result"
    }
   ],
   "source": [
    "TensorProduct(ψ1, H*ψ2, H*ψ3)"
   ]
  },
  {
   "cell_type": "code",
   "execution_count": 53,
   "id": "dd67cc15-25d4-49db-a883-da5c40f68e09",
   "metadata": {},
   "outputs": [
    {
     "data": {
      "image/png": "[encoded data removed]",
      "text/latex": [
       "$\\displaystyle \\left[\\begin{matrix}0\\\\0\\\\0\\\\0\\\\0\\\\0\\\\0\\\\0\\end{matrix}\\right]$"
      ],
      "text/plain": [
       "⎡0⎤\n",
       "⎢ ⎥\n",
       "⎢0⎥\n",
       "⎢ ⎥\n",
       "⎢0⎥\n",
       "⎢ ⎥\n",
       "⎢0⎥\n",
       "⎢ ⎥\n",
       "⎢0⎥\n",
       "⎢ ⎥\n",
       "⎢0⎥\n",
       "⎢ ⎥\n",
       "⎢0⎥\n",
       "⎢ ⎥\n",
       "⎣0⎦"
      ]
     },
     "execution_count": 53,
     "metadata": {},
     "output_type": "execute_result"
    }
   ],
   "source": [
    "sp.simplify(TensorProduct(I,H,H)*TensorProduct(ψ1, ψ2, ψ3) - TensorProduct(ψ1, H*ψ2, H*ψ3))"
   ]
  },
  {
   "cell_type": "code",
   "execution_count": 54,
   "id": "e518223a-a7d6-4f4a-9e51-81e35a6ec0e4",
   "metadata": {},
   "outputs": [
    {
     "data": {
      "text/latex": [
       "$\\displaystyle \\left[\\begin{matrix}2 α_{1} α_{2} α_{3}\\\\2 α_{2} α_{3} β_{1}\\end{matrix}\\right]$"
      ],
      "text/plain": [
       "⎡2⋅α₁⋅α₂⋅α₃⎤\n",
       "⎢          ⎥\n",
       "⎣2⋅α₂⋅α₃⋅β₁⎦"
      ]
     },
     "execution_count": 54,
     "metadata": {},
     "output_type": "execute_result"
    }
   ],
   "source": [
    "sp.simplify(Matrix([[ 1, 1, 1, 1, 0, 0, 0, 0],\n",
    "                    [ 0, 0, 0, 0, 1, 1, 1, 1]\n",
    "                   ])*TensorProduct(ψ1, H*ψ2, H*ψ3))"
   ]
  },
  {
   "cell_type": "code",
   "execution_count": 55,
   "id": "c83b33fa-e2f6-4efb-8e42-a0778449f4fd",
   "metadata": {},
   "outputs": [
    {
     "data": {
      "text/latex": [
       "$\\displaystyle \\left[\\begin{matrix}2 α_{1} α_{2} α_{3}\\\\2 α_{2} α_{3} β_{1}\\end{matrix}\\right]$"
      ],
      "text/plain": [
       "⎡2⋅α₁⋅α₂⋅α₃⎤\n",
       "⎢          ⎥\n",
       "⎣2⋅α₂⋅α₃⋅β₁⎦"
      ]
     },
     "execution_count": 55,
     "metadata": {},
     "output_type": "execute_result"
    }
   ],
   "source": [
    "2*α2*α3*TensorProduct(ψ1)"
   ]
  },
  {
   "cell_type": "code",
   "execution_count": 56,
   "id": "cd6cc04e-27ec-427b-a2cd-041079d26f5c",
   "metadata": {},
   "outputs": [
    {
     "data": {
      "text/latex": [
       "$\\displaystyle \\left[\\begin{matrix}\\frac{\\left(α_{1} + β_{1}\\right) \\left(α_{2} + β_{2}\\right) \\left(α_{3} + β_{3}\\right)}{2}\\\\\\frac{\\left(α_{1} + β_{1}\\right) \\left(α_{2} + β_{2}\\right) \\left(α_{3} - β_{3}\\right)}{2}\\\\\\frac{\\left(α_{1} + β_{1}\\right) \\left(α_{2} - β_{2}\\right) \\left(α_{3} + β_{3}\\right)}{2}\\\\\\frac{\\left(α_{1} + β_{1}\\right) \\left(α_{2} - β_{2}\\right) \\left(α_{3} - β_{3}\\right)}{2}\\end{matrix}\\right]$"
      ],
      "text/plain": [
       "⎡(α₁ + β₁)⋅(α₂ + β₂)⋅(α₃ + β₃)⎤\n",
       "⎢─────────────────────────────⎥\n",
       "⎢              2              ⎥\n",
       "⎢                             ⎥\n",
       "⎢(α₁ + β₁)⋅(α₂ + β₂)⋅(α₃ - β₃)⎥\n",
       "⎢─────────────────────────────⎥\n",
       "⎢              2              ⎥\n",
       "⎢                             ⎥\n",
       "⎢(α₁ + β₁)⋅(α₂ - β₂)⋅(α₃ + β₃)⎥\n",
       "⎢─────────────────────────────⎥\n",
       "⎢              2              ⎥\n",
       "⎢                             ⎥\n",
       "⎢(α₁ + β₁)⋅(α₂ - β₂)⋅(α₃ - β₃)⎥\n",
       "⎢─────────────────────────────⎥\n",
       "⎣              2              ⎦"
      ]
     },
     "execution_count": 56,
     "metadata": {},
     "output_type": "execute_result"
    }
   ],
   "source": [
    "sp.simplify(Matrix([[ 1, 0, 0, 0, 1, 0, 0, 0],\n",
    "                    [ 0, 1, 0, 0, 0, 1, 0, 0],\n",
    "                    [ 0, 0, 1, 0, 0, 0, 1, 0],\n",
    "                    [ 0, 0, 0, 1, 0, 0, 0, 1]])*TensorProduct(ψ1, H*ψ2, H*ψ3))"
   ]
  },
  {
   "cell_type": "code",
   "execution_count": 57,
   "id": "88d32e8d-060b-46ff-935c-d704521e48ed",
   "metadata": {},
   "outputs": [
    {
     "data": {
      "text/latex": [
       "$\\displaystyle \\left[\\begin{matrix}\\left(\\frac{\\sqrt{2} α_{2}}{2} + \\frac{\\sqrt{2} β_{2}}{2}\\right) \\left(\\frac{\\sqrt{2} α_{3}}{2} + \\frac{\\sqrt{2} β_{3}}{2}\\right)\\\\\\left(\\frac{\\sqrt{2} α_{2}}{2} + \\frac{\\sqrt{2} β_{2}}{2}\\right) \\left(\\frac{\\sqrt{2} α_{3}}{2} - \\frac{\\sqrt{2} β_{3}}{2}\\right)\\\\\\left(\\frac{\\sqrt{2} α_{2}}{2} - \\frac{\\sqrt{2} β_{2}}{2}\\right) \\left(\\frac{\\sqrt{2} α_{3}}{2} + \\frac{\\sqrt{2} β_{3}}{2}\\right)\\\\\\left(\\frac{\\sqrt{2} α_{2}}{2} - \\frac{\\sqrt{2} β_{2}}{2}\\right) \\left(\\frac{\\sqrt{2} α_{3}}{2} - \\frac{\\sqrt{2} β_{3}}{2}\\right)\\end{matrix}\\right]$"
      ],
      "text/plain": [
       "⎡⎛√2⋅α₂   √2⋅β₂⎞ ⎛√2⋅α₃   √2⋅β₃⎞⎤\n",
       "⎢⎜───── + ─────⎟⋅⎜───── + ─────⎟⎥\n",
       "⎢⎝  2       2  ⎠ ⎝  2       2  ⎠⎥\n",
       "⎢                               ⎥\n",
       "⎢⎛√2⋅α₂   √2⋅β₂⎞ ⎛√2⋅α₃   √2⋅β₃⎞⎥\n",
       "⎢⎜───── + ─────⎟⋅⎜───── - ─────⎟⎥\n",
       "⎢⎝  2       2  ⎠ ⎝  2       2  ⎠⎥\n",
       "⎢                               ⎥\n",
       "⎢⎛√2⋅α₂   √2⋅β₂⎞ ⎛√2⋅α₃   √2⋅β₃⎞⎥\n",
       "⎢⎜───── - ─────⎟⋅⎜───── + ─────⎟⎥\n",
       "⎢⎝  2       2  ⎠ ⎝  2       2  ⎠⎥\n",
       "⎢                               ⎥\n",
       "⎢⎛√2⋅α₂   √2⋅β₂⎞ ⎛√2⋅α₃   √2⋅β₃⎞⎥\n",
       "⎢⎜───── - ─────⎟⋅⎜───── - ─────⎟⎥\n",
       "⎣⎝  2       2  ⎠ ⎝  2       2  ⎠⎦"
      ]
     },
     "execution_count": 57,
     "metadata": {},
     "output_type": "execute_result"
    }
   ],
   "source": [
    "TensorProduct(H*ψ2, H*ψ3)"
   ]
  },
  {
   "cell_type": "code",
   "execution_count": 58,
   "id": "1a7daa88-e447-48de-93d6-710f7a2330ab",
   "metadata": {},
   "outputs": [
    {
     "data": {
      "text/latex": [
       "$\\displaystyle \\left[\\begin{matrix}\\frac{\\left(α_{1} + β_{1}\\right) \\left(α_{2} + β_{2}\\right) \\left(α_{3} + β_{3}\\right)}{2}\\\\\\frac{\\left(α_{1} + β_{1}\\right) \\left(α_{2} + β_{2}\\right) \\left(α_{3} - β_{3}\\right)}{2}\\\\\\frac{\\left(α_{1} + β_{1}\\right) \\left(α_{2} - β_{2}\\right) \\left(α_{3} + β_{3}\\right)}{2}\\\\\\frac{\\left(α_{1} + β_{1}\\right) \\left(α_{2} - β_{2}\\right) \\left(α_{3} - β_{3}\\right)}{2}\\end{matrix}\\right]$"
      ],
      "text/plain": [
       "⎡(α₁ + β₁)⋅(α₂ + β₂)⋅(α₃ + β₃)⎤\n",
       "⎢─────────────────────────────⎥\n",
       "⎢              2              ⎥\n",
       "⎢                             ⎥\n",
       "⎢(α₁ + β₁)⋅(α₂ + β₂)⋅(α₃ - β₃)⎥\n",
       "⎢─────────────────────────────⎥\n",
       "⎢              2              ⎥\n",
       "⎢                             ⎥\n",
       "⎢(α₁ + β₁)⋅(α₂ - β₂)⋅(α₃ + β₃)⎥\n",
       "⎢─────────────────────────────⎥\n",
       "⎢              2              ⎥\n",
       "⎢                             ⎥\n",
       "⎢(α₁ + β₁)⋅(α₂ - β₂)⋅(α₃ - β₃)⎥\n",
       "⎢─────────────────────────────⎥\n",
       "⎣              2              ⎦"
      ]
     },
     "execution_count": 58,
     "metadata": {},
     "output_type": "execute_result"
    }
   ],
   "source": [
    "sp.simplify(Matrix([[ 1, 0, 0, 0, 1, 0, 0, 0],\n",
    "                    [ 0, 1, 0, 0, 0, 1, 0, 0],\n",
    "                    [ 0, 0, 1, 0, 0, 0, 1, 0],\n",
    "                    [ 0, 0, 0, 1, 0, 0, 0, 1]])*TensorProduct(ψ1, H*ψ2, H*ψ3))"
   ]
  },
  {
   "cell_type": "code",
   "execution_count": null,
   "id": "c15ddb13-2315-41e4-9035-2be48f4d198d",
   "metadata": {},
   "outputs": [],
   "source": []
  },
  {
   "cell_type": "code",
   "execution_count": null,
   "id": "fd6674be-20a7-45de-8372-589f75829253",
   "metadata": {},
   "outputs": [],
   "source": []
  },
  {
   "cell_type": "code",
   "execution_count": null,
   "id": "f4da616a-df17-42e5-8492-232e7a829034",
   "metadata": {},
   "outputs": [],
   "source": []
  },
  {
   "cell_type": "code",
   "execution_count": null,
   "id": "b6b9fabc-7218-4952-b124-078852e1135b",
   "metadata": {},
   "outputs": [],
   "source": []
  }
 ],
 "metadata": {
  "kernelspec": {
   "display_name": "Python 3 (ipykernel)",
   "language": "python",
   "name": "python3"
  },
  "language_info": {
   "codemirror_mode": {
    "name": "ipython",
    "version": 3
   },
   "file_extension": ".py",
   "mimetype": "text/x-python",
   "name": "python",
   "nbconvert_exporter": "python",
   "pygments_lexer": "ipython3",
   "version": "3.11.6"
  }
 },
 "nbformat": 4,
 "nbformat_minor": 5
}
