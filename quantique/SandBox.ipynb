{
 "cells": [
  {
   "cell_type": "markdown",
   "id": "6342c636",
   "metadata": {},
   "source": [
    "## Essai"
   ]
  },
  {
   "cell_type": "markdown",
   "id": "dbecdc30-ee76-4b54-a35e-ff1806b5fd62",
   "metadata": {},
   "source": [
    "$$ν = \\frac{1}{2} $$"
   ]
  },
  {
   "cell_type": "code",
   "execution_count": null,
   "id": "f607e551-7fd9-4fdb-9749-1093c9341720",
   "metadata": {},
   "outputs": [],
   "source": []
  },
  {
   "cell_type": "code",
   "execution_count": 29,
   "id": "ed2ac12b-8e79-48b5-bc03-2ecc36b7570b",
   "metadata": {},
   "outputs": [],
   "source": [
    "import sympy\n",
    "from sympy.physics.quantum import Bra, Ket\n",
    "from sympy import Matrix\n",
    "from sympy.physics.quantum import TensorProduct\n",
    "from sympy.physics.quantum.gate import HadamardGate,CNotGate, IdentityGate\n",
    "from sympy.physics.quantum.qapply import qapply\n",
    "from sympy import eye\n",
    "\n",
    "from sympy.physics.quantum import Ket\n",
    "from sympy import sqrt\n",
    "\n",
    "sympy.init_printing()"
   ]
  },
  {
   "cell_type": "code",
   "execution_count": 19,
   "id": "804c0b43-79c1-455e-a0bf-e7b170cebe72",
   "metadata": {},
   "outputs": [
    {
     "data": {
      "image/png": "[encoded data removed]",
      "text/latex": [
       "$\\displaystyle \\left[\\begin{matrix}U_{00} & U_{01}\\\\U_{10} & U_{11}\\end{matrix}\\right]$"
      ],
      "text/plain": [
       "⎡U₀₀  U₀₁⎤\n",
       "⎢        ⎥\n",
       "⎣U₁₀  U₁₁⎦"
      ]
     },
     "execution_count": 19,
     "metadata": {},
     "output_type": "execute_result"
    }
   ],
   "source": [
    "U00 = sympy.Symbol(\"U00\", complex=True)\n",
    "U01 = sympy.Symbol(\"U01\", complex=True)\n",
    "U10 = sympy.Symbol(\"U10\", complex=True)\n",
    "U11 = sympy.Symbol(\"U11\", complex=True)\n",
    "U = Matrix([[U00, U01], [U10, U11]])\n",
    "\n",
    "# F1 is Set to 0\n",
    "dF1 = {U00: 1, U01: 1, U10: 0, U11: 0}\n",
    "#F2 is identity\n",
    "dF2 = {U00: 1, U01: 0, U10: 0, U11: 1}\n",
    "# F3 is invert\n",
    "dF3 = {U00: 0, U01: 1, U10: 1, U11: 0}\n",
    "# F4 is set to one\n",
    "dF4 = {U00: 0, U01: 0, U10: 1, U11: 1}\n",
    "\n",
    "U"
   ]
  },
  {
   "cell_type": "code",
   "execution_count": 22,
   "id": "2b2cc8ff-7851-4bfc-978e-d7762e02c6f0",
   "metadata": {},
   "outputs": [],
   "source": [
    "#F1 is Set to 0\n",
    "F1=U.evalf(subs=dF1)\n",
    "# F1.eigenvects()\n",
    "#F2 is identity\n",
    "F2=U.evalf(subs=dF2)\n",
    "# F2.eigenvects()\n",
    "# F3 is invert\n",
    "F3=U.evalf(subs=dF3)\n",
    "# F3.eigenvects()\n",
    "# F4 is set to one\n",
    "F4=U.evalf(subs=dF4)\n",
    "# F4.eigenvects()"
   ]
  },
  {
   "cell_type": "code",
   "execution_count": 23,
   "id": "f833fea5-590c-4b52-bfd3-3759dc9fe198",
   "metadata": {},
   "outputs": [
    {
     "data": {
      "image/png": "[encoded data removed]",
      "text/latex": [
       "$\\displaystyle \\left[ \\left( \\frac{U_{00}}{2} + \\frac{U_{11}}{2} - \\frac{\\sqrt{U_{00}^{2} - 2 U_{00} U_{11} + 4 U_{01} U_{10} + U_{11}^{2}}}{2}, \\  1, \\  \\left[ \\left[\\begin{matrix}- \\frac{U_{11}}{U_{10}} + \\frac{\\frac{U_{00}}{2} + \\frac{U_{11}}{2} - \\frac{\\sqrt{U_{00}^{2} - 2 U_{00} U_{11} + 4 U_{01} U_{10} + U_{11}^{2}}}{2}}{U_{10}}\\\\1\\end{matrix}\\right]\\right]\\right), \\  \\left( \\frac{U_{00}}{2} + \\frac{U_{11}}{2} + \\frac{\\sqrt{U_{00}^{2} - 2 U_{00} U_{11} + 4 U_{01} U_{10} + U_{11}^{2}}}{2}, \\  1, \\  \\left[ \\left[\\begin{matrix}- \\frac{U_{11}}{U_{10}} + \\frac{\\frac{U_{00}}{2} + \\frac{U_{11}}{2} + \\frac{\\sqrt{U_{00}^{2} - 2 U_{00} U_{11} + 4 U_{01} U_{10} + U_{11}^{2}}}{2}}{U_{10}}\\\\1\\end{matrix}\\right]\\right]\\right)\\right]$"
      ],
      "text/plain": [
       "⎡⎛                                                         ⎡⎡                 \n",
       "⎢⎜               _____________________________________     ⎢⎢                 \n",
       "⎢⎜              ╱    2                              2      ⎢⎢        U₀₀   U₁₁\n",
       "⎢⎜U₀₀   U₁₁   ╲╱  U₀₀  - 2⋅U₀₀⋅U₁₁ + 4⋅U₀₁⋅U₁₀ + U₁₁       ⎢⎢        ─── + ───\n",
       "⎢⎜─── + ─── - ────────────────────────────────────────, 1, ⎢⎢  U₁₁    2     2 \n",
       "⎢⎜ 2     2                       2                         ⎢⎢- ─── + ─────────\n",
       "⎢⎜                                                         ⎢⎢  U₁₀            \n",
       "⎢⎜                                                         ⎢⎢                 \n",
       "⎣⎝                                                         ⎣⎣                 \n",
       "\n",
       "      _____________________________________⎤⎤⎞  ⎛                             \n",
       "     ╱    2                              2 ⎥⎥⎟  ⎜               ______________\n",
       "   ╲╱  U₀₀  - 2⋅U₀₀⋅U₁₁ + 4⋅U₀₁⋅U₁₀ + U₁₁  ⎥⎥⎟  ⎜              ╱    2         \n",
       " - ────────────────────────────────────────⎥⎥⎟  ⎜U₀₀   U₁₁   ╲╱  U₀₀  - 2⋅U₀₀⋅\n",
       "                      2                    ⎥⎥⎟, ⎜─── + ─── + ─────────────────\n",
       "───────────────────────────────────────────⎥⎥⎟  ⎜ 2     2                     \n",
       "               U₁₀                         ⎥⎥⎟  ⎜                             \n",
       "                                           ⎥⎥⎟  ⎜                             \n",
       "            1                              ⎦⎦⎠  ⎝                             \n",
       "\n",
       "                            ⎡⎡                       _________________________\n",
       "_______________________     ⎢⎢                      ╱    2                    \n",
       "                     2      ⎢⎢        U₀₀   U₁₁   ╲╱  U₀₀  - 2⋅U₀₀⋅U₁₁ + 4⋅U₀₁\n",
       "U₁₁ + 4⋅U₀₁⋅U₁₀ + U₁₁       ⎢⎢        ─── + ─── + ────────────────────────────\n",
       "───────────────────────, 1, ⎢⎢  U₁₁    2     2                       2        \n",
       "  2                         ⎢⎢- ─── + ────────────────────────────────────────\n",
       "                            ⎢⎢  U₁₀                           U₁₀             \n",
       "                            ⎢⎢                                                \n",
       "                            ⎣⎣                             1                  \n",
       "\n",
       "____________⎤⎤⎞⎤\n",
       "          2 ⎥⎥⎟⎥\n",
       "⋅U₁₀ + U₁₁  ⎥⎥⎟⎥\n",
       "────────────⎥⎥⎟⎥\n",
       "            ⎥⎥⎟⎥\n",
       "────────────⎥⎥⎟⎥\n",
       "            ⎥⎥⎟⎥\n",
       "            ⎥⎥⎟⎥\n",
       "            ⎦⎦⎠⎦"
      ]
     },
     "execution_count": 23,
     "metadata": {},
     "output_type": "execute_result"
    }
   ],
   "source": [
    "U.eigenvects()\n"
   ]
  },
  {
   "cell_type": "code",
   "execution_count": 25,
   "id": "164ce453-cda4-4abc-a6f3-1bd5f670bbf7",
   "metadata": {},
   "outputs": [
    {
     "data": {
      "image/png": "[encoded data removed]",
      "text/latex": [
       "$\\displaystyle \\arg{\\left(U_{00} + U_{11} - \\sqrt{U_{00}^{2} - 2 U_{00} U_{11} + 4 U_{01} U_{10} + U_{11}^{2}} \\right)}$"
      ],
      "text/plain": [
       "   ⎛               _____________________________________⎞\n",
       "   ⎜              ╱    2                              2 ⎟\n",
       "arg⎝U₀₀ + U₁₁ - ╲╱  U₀₀  - 2⋅U₀₀⋅U₁₁ + 4⋅U₀₁⋅U₁₀ + U₁₁  ⎠"
      ]
     },
     "execution_count": 25,
     "metadata": {},
     "output_type": "execute_result"
    }
   ],
   "source": [
    "V=U.eigenvects()[0][0]\n",
    "V\n",
    "phase = sympy.arg(V)\n",
    "phase"
   ]
  },
  {
   "cell_type": "code",
   "execution_count": 26,
   "id": "f69ef91c-dd57-4260-9dd7-56399f751946",
   "metadata": {},
   "outputs": [
    {
     "data": {
      "image/png": "[encoded data removed]",
      "text/latex": [
       "$\\displaystyle 3.14159265358979$"
      ],
      "text/plain": [
       "3.14159265358979"
      ]
     },
     "execution_count": 26,
     "metadata": {},
     "output_type": "execute_result"
    }
   ],
   "source": [
    "phase.evalf(subs=dF3)"
   ]
  },
  {
   "cell_type": "code",
   "execution_count": 27,
   "id": "f6e98248-6e5a-4783-9bc2-5a65f04edf87",
   "metadata": {},
   "outputs": [
    {
     "data": {
      "image/png": "[encoded data removed]",
      "text/latex": [
       "$\\displaystyle -1.0$"
      ],
      "text/plain": [
       "-1.00000000000000"
      ]
     },
     "execution_count": 27,
     "metadata": {},
     "output_type": "execute_result"
    }
   ],
   "source": [
    "valeur_propre = V.evalf(subs=dF3)\n",
    "valeur_propre"
   ]
  },
  {
   "cell_type": "code",
   "execution_count": 28,
   "id": "c75876de-e49a-4628-8141-c60a57b251c9",
   "metadata": {},
   "outputs": [
    {
     "data": {
      "image/png": "[encoded data removed]",
      "text/latex": [
       "$\\displaystyle \\pi$"
      ],
      "text/plain": [
       "π"
      ]
     },
     "execution_count": 28,
     "metadata": {},
     "output_type": "execute_result"
    }
   ],
   "source": [
    "theta_value = sympy.arg(valeur_propre)\n",
    "theta_value"
   ]
  },
  {
   "cell_type": "code",
   "execution_count": null,
   "id": "97a2fc1e-a2f6-491a-9606-90f8fa3d07a7",
   "metadata": {},
   "outputs": [],
   "source": [
    "# 0, 1, 0, 0"
   ]
  }
 ],
 "metadata": {
  "kernelspec": {
   "display_name": "Python 3 (ipykernel)",
   "language": "python",
   "name": "python3"
  },
  "language_info": {
   "codemirror_mode": {
    "name": "ipython",
    "version": 3
   },
   "file_extension": ".py",
   "mimetype": "text/x-python",
   "name": "python",
   "nbconvert_exporter": "python",
   "pygments_lexer": "ipython3",
   "version": "3.11.6"
  }
 },
 "nbformat": 4,
 "nbformat_minor": 5
}
