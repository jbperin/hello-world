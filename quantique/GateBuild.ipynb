{
 "cells": [
  {
   "cell_type": "code",
   "execution_count": 2,
   "id": "d9b8b4d3-6054-4f19-b163-0ebc03427308",
   "metadata": {},
   "outputs": [],
   "source": [
    "import sympy as sp\n",
    "# from qiskit import QuantumCircuit\n",
    "# start the pretty-printer to get nicely typeset math\n",
    "from sympy.physics.quantum import TensorProduct\n",
    "\n",
    "sp.init_printing()"
   ]
  },
  {
   "cell_type": "code",
   "execution_count": 3,
   "id": "f21829b0-b020-4b56-b7d4-ba1986f59838",
   "metadata": {},
   "outputs": [],
   "source": [
    "#definition des états\n",
    "ket0 = sp.Matrix([1,0])\n",
    "ket1 = sp.Matrix([0,1])\n",
    "\n",
    "α = sp.Symbol(\"α\")\n",
    "β = sp.Symbol(\"β\")\n",
    "ϕ = α * ket0 + β * ket1 # Matrix([α,β])\n"
   ]
  },
  {
   "cell_type": "markdown",
   "id": "29099052-350d-4bdf-82c9-3c2519c42857",
   "metadata": {},
   "source": [
    "# Common states\n",
    "\n",
    "## On one qubit\n",
    "$$\n",
    "|0\\rangle = \\begin{bmatrix}1 \\\\ 0\\end{bmatrix}, \\quad\n",
    "|1\\rangle = \\begin{bmatrix}0 \\\\ 1\\end{bmatrix}\n",
    "$$\n",
    "$$\n",
    "|\\psi\\rangle = \\alpha|0\\rangle + \\beta|1\\rangle = \\alpha\\begin{bmatrix}1 \\\\ 0\\end{bmatrix} + \\beta\\begin{bmatrix}0 \\\\ 1\\end{bmatrix} = \\begin{bmatrix}\\alpha \\\\ \\beta\\end{bmatrix}\n",
    "$$\n",
    "$$\n",
    "|+\\rangle = \\frac{1}{\\sqrt{2}}(|0\\rangle + |1\\rangle), \\quad\n",
    "|-\\rangle = \\frac{1}{\\sqrt{2}}(|0\\rangle - |1\\rangle)\n",
    "$$\n",
    "\n",
    "## On two qubits\n",
    "\n",
    "\n",
    "$$\n",
    "|\\Phi^+\\rangle = \\frac{1}{\\sqrt{2}}(|00\\rangle + |11\\rangle), \\quad\n",
    "|\\Phi^-\\rangle = \\frac{1}{\\sqrt{2}}(|00\\rangle - |11\\rangle)\n",
    "$$\n",
    "\n",
    "$$\n",
    "|\\Psi^+\\rangle = \\frac{1}{\\sqrt{2}}(|01\\rangle + |10\\rangle), \\quad\n",
    "|\\Psi^-\\rangle = \\frac{1}{\\sqrt{2}}(|01\\rangle - |10\\rangle)\n",
    "$$\n"
   ]
  },
  {
   "cell_type": "markdown",
   "id": "511599cb-6d2a-48e8-a80e-3286456a38d2",
   "metadata": {},
   "source": [
    "# Common operations\n",
    "\n",
    "## On one qubit\n",
    "$$\n",
    "I = \\begin{bmatrix}1 & 0 \\\\ 0 & 1\\end{bmatrix}, \\quad\n",
    "X = \\sigma_{x} = \\begin{bmatrix}0 & 1 \\\\ 1 & 0\\end{bmatrix}, \\quad\n",
    "Y = \\begin{bmatrix}0 & -i \\\\ i & 0\\end{bmatrix}, \\quad\n",
    "Z = \\begin{bmatrix}1 & 0 \\\\ 0 & -1\\end{bmatrix}\n",
    "$$\n",
    "\n",
    "$$\n",
    "H = \\frac{1}{\\sqrt{2}} \\begin{bmatrix}1 & 1 \\\\ 1 & -1\\end{bmatrix}\n",
    "$$\n",
    "\n",
    "$$\n",
    "S = \\begin{bmatrix}1 & 0 \\\\ 0 & i\\end{bmatrix}, \\quad\n",
    "T = \\begin{bmatrix}1 & 0 \\\\ 0 & e^{i\\pi/4}\\end{bmatrix}\n",
    "$$\n",
    "\n",
    "## On two qubits\n",
    "\n",
    "$$\n",
    "\\text{CNOT} =\n",
    "\\begin{bmatrix}\n",
    "1 & 0 & 0 & 0 \\\\\n",
    "0 & 1 & 0 & 0 \\\\\n",
    "0 & 0 & 0 & 1 \\\\\n",
    "0 & 0 & 1 & 0\n",
    "\\end{bmatrix}\n",
    "$$\n"
   ]
  },
  {
   "cell_type": "markdown",
   "id": "924ec301-c0a3-401a-84e8-76efd1413fe6",
   "metadata": {},
   "source": [
    "$$\n",
    "R_y(\\theta)=\\begin{bmatrix}cos(\\frac{\\theta}{2}) & sin(\\frac{\\theta}{2}) \\\\ -sin(\\frac{\\theta}{2}) & -cos(\\frac{\\theta}{2})\\end{bmatrix}\\quad\n",
    "$$\n",
    "$$\n",
    "R_z(\\alpha)=\\begin{bmatrix}e^{\\frac{i\\alpha}{2}} & 0 \\\\ 0 & e^{-\\frac{iα}{2}}\\end{bmatrix}\\quad\n",
    "$$\n",
    "$$\n",
    "Ph(\\delta)=\\begin{bmatrix}e^{i\\delta} & 0 \\\\ 0 & e^{i\\delta}\\end{bmatrix}\\quad\n",
    "$$\n"
   ]
  },
  {
   "cell_type": "code",
   "execution_count": 4,
   "id": "36ba7193-e49a-4954-b040-c1e0c8fcd187",
   "metadata": {},
   "outputs": [],
   "source": [
    "# Operation on one Qubit\n",
    "I=sp.eye(2)\n",
    "π=sp.pi\n",
    "X=sp.Matrix([[0,1], [1,0]]) #Pauli\n",
    "σx=X\n",
    "Y=sp.Matrix([[0,-sp.I], [sp.I,0]])\n",
    "Z=sp.Matrix([[1,0], [0,-1]])\n",
    "\n",
    "H=sp.Matrix([[1/sp.sqrt(2),1/sp.sqrt(2)], [1/sp.sqrt(2),-1/sp.sqrt(2)]])\n",
    "\n",
    "S=sp.Matrix([[1,0], [0,-sp.I]])\n",
    "T=sp.Matrix([[1,0], [0,sp.exp(-sp.I*π/4)]])\n",
    "\n",
    "\n",
    "# rotation by theta around y\n",
    "def Ry(θ):\n",
    "    return sp.Matrix([[sp.cos(θ/2),sp.sin(θ/2)], [-sp.sin(θ/2),sp.cos(θ/2)]])\n",
    "\n",
    "# rotation by alpha around z\n",
    "def Rz(α):\n",
    "    return sp.Matrix([[sp.exp(sp.I*α/2),0], [0,sp.exp(-sp.I*α/2)]]) \n",
    "\n",
    "# Phase Shift with resepct to delta\n",
    "def Ph(δ):\n",
    "    return sp.Matrix([[sp.exp(sp.I*δ),0], [0,sp.exp(sp.I*δ)]]) \n",
    "\n",
    "# Operation on two Qubits\n",
    "\n",
    "SWAP = sp.Matrix ([[1,0,0,0],[0,0,1,0],[0,1,0,0],[0,0,0,1]])\n",
    "CNOT = TensorProduct(I,ket0*ket0.T) + TensorProduct(X, ket1*ket1.T) # second qubit is the control"
   ]
  },
  {
   "cell_type": "code",
   "execution_count": 5,
   "id": "67b950f7-ce1c-4f6b-9cc0-3859190eef86",
   "metadata": {},
   "outputs": [],
   "source": [
    "# https://nbviewer.org/github/twistedhardware/mltutorial/blob/master/notebooks/jupyter/2.%20Markdown%20%26%20LaTeX.ipynb\n",
    "\n"
   ]
  },
  {
   "cell_type": "code",
   "execution_count": 6,
   "id": "50bedbca-23a1-4fdc-96b0-6a4452b4206a",
   "metadata": {},
   "outputs": [
    {
     "data": {
      "text/latex": [
       "$\\displaystyle \\left[\\begin{matrix}e^{\\frac{i \\left(α + β + 2 δ\\right)}{2}} \\cos{\\left(\\frac{θ}{2} \\right)} & e^{\\frac{i \\left(α - β + 2 δ\\right)}{2}} \\sin{\\left(\\frac{θ}{2} \\right)}\\\\- e^{\\frac{i \\left(- α + β + 2 δ\\right)}{2}} \\sin{\\left(\\frac{θ}{2} \\right)} & e^{\\frac{i \\left(- α - β + 2 δ\\right)}{2}} \\cos{\\left(\\frac{θ}{2} \\right)}\\end{matrix}\\right]$"
      ],
      "text/plain": [
       "⎡  ⅈ⋅(α + β + 2⋅δ)           ⅈ⋅(α - β + 2⋅δ)        ⎤\n",
       "⎢  ───────────────           ───────────────        ⎥\n",
       "⎢         2           ⎛θ⎞           2           ⎛θ⎞ ⎥\n",
       "⎢ ℯ               ⋅cos⎜─⎟   ℯ               ⋅sin⎜─⎟ ⎥\n",
       "⎢                     ⎝2⎠                       ⎝2⎠ ⎥\n",
       "⎢                                                   ⎥\n",
       "⎢  ⅈ⋅(-α + β + 2⋅δ)          ⅈ⋅(-α - β + 2⋅δ)       ⎥\n",
       "⎢  ────────────────          ────────────────       ⎥\n",
       "⎢         2            ⎛θ⎞          2            ⎛θ⎞⎥\n",
       "⎢-ℯ                ⋅sin⎜─⎟  ℯ                ⋅cos⎜─⎟⎥\n",
       "⎣                      ⎝2⎠                       ⎝2⎠⎦"
      ]
     },
     "execution_count": 6,
     "metadata": {},
     "output_type": "execute_result"
    }
   ],
   "source": [
    "θ = sp.Symbol(\"θ\")\n",
    "δ = sp.Symbol(\"δ\")\n",
    "W=sp.simplify(Ph(δ)*Rz(α)*Ry(θ)*Rz(β))\n",
    "W"
   ]
  },
  {
   "cell_type": "code",
   "execution_count": 33,
   "id": "09ccd2d8-8a45-45ef-93bb-acc660f8000d",
   "metadata": {},
   "outputs": [
    {
     "data": {
      "text/latex": [
       "$\\displaystyle \\left[\\begin{matrix}e^{\\frac{i \\left(α + β\\right)}{2}} \\cos{\\left(\\frac{θ}{2} \\right)} & e^{\\frac{i \\left(α - β\\right)}{2}} \\sin{\\left(\\frac{θ}{2} \\right)}\\\\- e^{- \\frac{i \\left(α - β\\right)}{2}} \\sin{\\left(\\frac{θ}{2} \\right)} & e^{- \\frac{i \\left(α + β\\right)}{2}} \\cos{\\left(\\frac{θ}{2} \\right)}\\end{matrix}\\right]$"
      ],
      "text/plain": [
       "⎡  ⅈ⋅(α + β)             ⅈ⋅(α - β)        ⎤\n",
       "⎢  ─────────             ─────────        ⎥\n",
       "⎢      2        ⎛θ⎞          2        ⎛θ⎞ ⎥\n",
       "⎢ ℯ         ⋅cos⎜─⎟     ℯ         ⋅sin⎜─⎟ ⎥\n",
       "⎢               ⎝2⎠                   ⎝2⎠ ⎥\n",
       "⎢                                         ⎥\n",
       "⎢  -ⅈ⋅(α - β)           -ⅈ⋅(α + β)        ⎥\n",
       "⎢  ───────────          ───────────       ⎥\n",
       "⎢       2         ⎛θ⎞        2         ⎛θ⎞⎥\n",
       "⎢-ℯ           ⋅sin⎜─⎟  ℯ           ⋅cos⎜─⎟⎥\n",
       "⎣                 ⎝2⎠                  ⎝2⎠⎦"
      ]
     },
     "execution_count": 33,
     "metadata": {},
     "output_type": "execute_result"
    }
   ],
   "source": [
    "W=sp.simplify(Rz(α)*Ry(θ)*Rz(β))\n",
    "W"
   ]
  },
  {
   "cell_type": "code",
   "execution_count": 63,
   "id": "808e4500-e66e-4b80-b75c-76a6ab07c7fd",
   "metadata": {},
   "outputs": [
    {
     "data": {
      "image/png": "[encoded data removed]",
      "text/latex": [
       "$\\displaystyle \\left[\\begin{matrix}- \\frac{\\sqrt{2}}{2} & - \\frac{\\sqrt{2}}{2}\\\\\\frac{\\sqrt{2}}{2} & - \\frac{\\sqrt{2}}{2}\\end{matrix}\\right]$"
      ],
      "text/plain": [
       "⎡-√2   -√2 ⎤\n",
       "⎢────  ────⎥\n",
       "⎢ 2     2  ⎥\n",
       "⎢          ⎥\n",
       "⎢ √2   -√2 ⎥\n",
       "⎢ ──   ────⎥\n",
       "⎣ 2     2  ⎦"
      ]
     },
     "execution_count": 63,
     "metadata": {},
     "output_type": "execute_result"
    }
   ],
   "source": [
    "W.subs({θ: -π/2, α: -π, β: -π})"
   ]
  },
  {
   "cell_type": "code",
   "execution_count": 48,
   "id": "72d3de88-e630-4211-aa2a-b973b5fcf3ad",
   "metadata": {},
   "outputs": [
    {
     "data": {
      "text/latex": [
       "$\\displaystyle \\left[\\begin{matrix}e^{\\frac{i \\left(α + β\\right)}{2}} \\cos{\\left(\\frac{θ}{2} \\right)} & e^{\\frac{i \\left(α - β\\right)}{2}} \\sin{\\left(\\frac{θ}{2} \\right)}\\\\- e^{- \\frac{i \\left(α - β\\right)}{2}} \\sin{\\left(\\frac{θ}{2} \\right)} & e^{- \\frac{i \\left(α + β\\right)}{2}} \\cos{\\left(\\frac{θ}{2} \\right)}\\end{matrix}\\right] = \\left[\\begin{matrix}- \\frac{\\sqrt{2}}{2} & \\frac{\\sqrt{2}}{2}\\\\\\frac{\\sqrt{2}}{2} & - \\frac{\\sqrt{2}}{2}\\end{matrix}\\right]$"
      ],
      "text/plain": [
       "⎡  ⅈ⋅(α + β)             ⅈ⋅(α - β)        ⎤               \n",
       "⎢  ─────────             ─────────        ⎥               \n",
       "⎢      2        ⎛θ⎞          2        ⎛θ⎞ ⎥   ⎡-√2    √2 ⎤\n",
       "⎢ ℯ         ⋅cos⎜─⎟     ℯ         ⋅sin⎜─⎟ ⎥   ⎢────   ── ⎥\n",
       "⎢               ⎝2⎠                   ⎝2⎠ ⎥   ⎢ 2     2  ⎥\n",
       "⎢                                         ⎥ = ⎢          ⎥\n",
       "⎢  -ⅈ⋅(α - β)           -ⅈ⋅(α + β)        ⎥   ⎢ √2   -√2 ⎥\n",
       "⎢  ───────────          ───────────       ⎥   ⎢ ──   ────⎥\n",
       "⎢       2         ⎛θ⎞        2         ⎛θ⎞⎥   ⎣ 2     2  ⎦\n",
       "⎢-ℯ           ⋅sin⎜─⎟  ℯ           ⋅cos⎜─⎟⎥               \n",
       "⎣                 ⎝2⎠                  ⎝2⎠⎦               "
      ]
     },
     "execution_count": 48,
     "metadata": {},
     "output_type": "execute_result"
    }
   ],
   "source": [
    "eq = sp.Eq(W, sp.Matrix([[-1/sp.sqrt(2),1/sp.sqrt(2)], [1/sp.sqrt(2),-1/sp.sqrt(2)]]))\n",
    "eq"
   ]
  },
  {
   "cell_type": "code",
   "execution_count": 44,
   "id": "aefd33eb-2ca1-400e-9c65-eb0de4edf38f",
   "metadata": {},
   "outputs": [
    {
     "data": {
      "image/png": "[encoded data removed]",
      "text/latex": [
       "$\\displaystyle \\left[ \\right]$"
      ],
      "text/plain": [
       "[]"
      ]
     },
     "execution_count": 44,
     "metadata": {},
     "output_type": "execute_result"
    }
   ],
   "source": [
    "solutions = sp.solve(eq, α)\n",
    "solutions"
   ]
  },
  {
   "cell_type": "markdown",
   "id": "892891a9-41a7-473e-bb4b-91ddb3a794c1",
   "metadata": {},
   "source": [
    "On définit:\n",
    "- $A = R_z(\\frac{\\alpha}{2}).R_y(\\frac{\\theta}{2})$\n",
    "- $B = R_y(-\\frac{\\theta}{2}).R_z(-\\frac{\\alpha+\\beta}{2})$\n",
    "- $C = R_z(\\frac{\\beta-\\alpha}{2})$"
   ]
  },
  {
   "cell_type": "code",
   "execution_count": 7,
   "id": "f33823fe-ea4e-45a6-a2e9-6450a47abb30",
   "metadata": {},
   "outputs": [],
   "source": [
    "A=Rz(α)*Ry(θ/2)\n",
    "B=Ry(-θ/2)*Rz(-(α+β)/(2))\n",
    "C=Rz((β-α)/2)\n",
    "# sp.pprint(A,use_unicode=True)"
   ]
  },
  {
   "cell_type": "code",
   "execution_count": 8,
   "id": "fa157822-08e4-4a3e-8c34-ef213eebc8e0",
   "metadata": {},
   "outputs": [],
   "source": [
    "# print(sp.latex(sp.Integral(sp.sqrt(1/α), α)))"
   ]
  },
  {
   "cell_type": "markdown",
   "id": "863ba748-aa1a-4c3a-b12f-d656fa050526",
   "metadata": {},
   "source": [
    "On vérifie que $A.B.C = I$"
   ]
  },
  {
   "cell_type": "code",
   "execution_count": 9,
   "id": "b14889c6-b08f-416d-af62-8b84e0bb98a1",
   "metadata": {},
   "outputs": [
    {
     "data": {
      "text/plain": [
       "True"
      ]
     },
     "execution_count": 9,
     "metadata": {},
     "output_type": "execute_result"
    }
   ],
   "source": [
    "I==sp.simplify(A*B*C)"
   ]
  },
  {
   "cell_type": "markdown",
   "id": "040bd8bb-942a-4d2d-85c6-8fbdc72bc7e9",
   "metadata": {},
   "source": [
    "On vérifie que $A.\\sigma_x.B.\\sigma_x.C = R_z(\\alpha).Ry(\\theta).R_z(\\beta)$"
   ]
  },
  {
   "cell_type": "code",
   "execution_count": 10,
   "id": "7eecdf5f-c1dc-4f1e-acaf-fdb39b93bda7",
   "metadata": {},
   "outputs": [
    {
     "data": {
      "text/plain": [
       "True"
      ]
     },
     "execution_count": 10,
     "metadata": {},
     "output_type": "execute_result"
    }
   ],
   "source": [
    "sp.simplify(A*σx*B*σx*C)-sp.simplify(Rz(α)*Ry(θ)*Rz(β)) == sp.Matrix([[0,0], [0,0]])"
   ]
  },
  {
   "cell_type": "markdown",
   "id": "a246068c-dbaa-4a84-a92d-67d9caac4ee1",
   "metadata": {},
   "source": [
    "# Controlled Gates\n",
    "\n",
    "$ Ctrld(U) = |0\\rangle\\langle0| \\otimes I + |1\\rangle\\langle1| \\otimes U$"
   ]
  },
  {
   "cell_type": "code",
   "execution_count": 11,
   "id": "21cdd865-fb20-4d71-8672-15b088da27a0",
   "metadata": {},
   "outputs": [],
   "source": [
    "def Controlled(U):\n",
    "    return TensorProduct(ket0*ket0.T, I) + TensorProduct(ket1*ket1.T, U)"
   ]
  },
  {
   "cell_type": "code",
   "execution_count": 64,
   "id": "e4fdb1f8-ee5d-4766-bd90-c8a5e5ebbe8b",
   "metadata": {},
   "outputs": [
    {
     "data": {
      "image/png": "[encoded data removed]",
      "text/latex": [
       "$\\displaystyle \\left[\\begin{matrix}1 & 0 & 0 & 0\\\\0 & 1 & 0 & 0\\\\0 & 0 & \\frac{\\sqrt{2}}{2} & \\frac{\\sqrt{2}}{2}\\\\0 & 0 & - \\frac{\\sqrt{2}}{2} & \\frac{\\sqrt{2}}{2}\\end{matrix}\\right]$"
      ],
      "text/plain": [
       "⎡1  0   0    0 ⎤\n",
       "⎢              ⎥\n",
       "⎢0  1   0    0 ⎥\n",
       "⎢              ⎥\n",
       "⎢       √2   √2⎥\n",
       "⎢0  0   ──   ──⎥\n",
       "⎢       2    2 ⎥\n",
       "⎢              ⎥\n",
       "⎢      -√2   √2⎥\n",
       "⎢0  0  ────  ──⎥\n",
       "⎣       2    2 ⎦"
      ]
     },
     "execution_count": 64,
     "metadata": {},
     "output_type": "execute_result"
    }
   ],
   "source": [
    "U=Ry(π/2)\n",
    "Controlled(U)"
   ]
  },
  {
   "cell_type": "code",
   "execution_count": 94,
   "id": "7e5ff758-0e04-4999-9d59-7f6d5202b477",
   "metadata": {},
   "outputs": [
    {
     "data": {
      "image/png": "[encoded data removed]",
      "text/latex": [
       "$\\displaystyle \\left[\\begin{matrix}- \\frac{1}{2} & \\frac{1}{2} & \\frac{1}{2} & \\frac{1}{2}\\\\\\frac{1}{2} & - \\frac{1}{2} & \\frac{1}{2} & \\frac{1}{2}\\\\\\frac{1}{2} & \\frac{1}{2} & - \\frac{1}{2} & \\frac{1}{2}\\\\\\frac{1}{2} & \\frac{1}{2} & \\frac{1}{2} & - \\frac{1}{2}\\end{matrix}\\right]$"
      ],
      "text/plain": [
       "⎡-1/2  1/2   1/2   1/2 ⎤\n",
       "⎢                      ⎥\n",
       "⎢1/2   -1/2  1/2   1/2 ⎥\n",
       "⎢                      ⎥\n",
       "⎢1/2   1/2   -1/2  1/2 ⎥\n",
       "⎢                      ⎥\n",
       "⎣1/2   1/2   1/2   -1/2⎦"
      ]
     },
     "execution_count": 94,
     "metadata": {},
     "output_type": "execute_result"
    }
   ],
   "source": [
    "TensorProduct(H,I)*Controlled(X)*TensorProduct(H,I)*TensorProduct(X,X)"
   ]
  },
  {
   "cell_type": "code",
   "execution_count": 90,
   "id": "88257371-b0ba-44b0-aa9d-c232905c0c6e",
   "metadata": {},
   "outputs": [
    {
     "data": {
      "image/png": "[encoded data removed]",
      "text/latex": [
       "$\\displaystyle \\left[\\begin{matrix}\\frac{\\sqrt{2}}{2} & 0 & \\frac{\\sqrt{2}}{2} & 0\\\\0 & \\frac{\\sqrt{2}}{2} & 0 & \\frac{\\sqrt{2}}{2}\\\\0 & \\frac{\\sqrt{2}}{2} & 0 & - \\frac{\\sqrt{2}}{2}\\\\\\frac{\\sqrt{2}}{2} & 0 & - \\frac{\\sqrt{2}}{2} & 0\\end{matrix}\\right]$"
      ],
      "text/plain": [
       "⎡√2       √2       ⎤\n",
       "⎢──  0    ──    0  ⎥\n",
       "⎢2        2        ⎥\n",
       "⎢                  ⎥\n",
       "⎢    √2         √2 ⎥\n",
       "⎢0   ──   0     ── ⎥\n",
       "⎢    2          2  ⎥\n",
       "⎢                  ⎥\n",
       "⎢    √2        -√2 ⎥\n",
       "⎢0   ──   0    ────⎥\n",
       "⎢    2          2  ⎥\n",
       "⎢                  ⎥\n",
       "⎢√2      -√2       ⎥\n",
       "⎢──  0   ────   0  ⎥\n",
       "⎣2        2        ⎦"
      ]
     },
     "execution_count": 90,
     "metadata": {},
     "output_type": "execute_result"
    }
   ],
   "source": [
    "TensorProduct(H,I)*Controlled(X)*TensorProduct(H,I)*TensorProduct(X,X)"
   ]
  },
  {
   "cell_type": "code",
   "execution_count": 81,
   "id": "be35b328-6778-4446-9a06-6b21dce2b476",
   "metadata": {},
   "outputs": [
    {
     "data": {
      "text/latex": [
       "$\\displaystyle \\left[\\begin{matrix}1 & 0 & 0 & 0\\\\0 & 1 & 0 & 0\\\\0 & 0 & e^{\\frac{i \\left(α + β\\right)}{2}} \\cos{\\left(\\frac{θ}{2} \\right)} & e^{\\frac{i \\left(α - β\\right)}{2}} \\sin{\\left(\\frac{θ}{2} \\right)}\\\\0 & 0 & - e^{- \\frac{i \\left(α - β\\right)}{2}} \\sin{\\left(\\frac{θ}{2} \\right)} & e^{- \\frac{i \\left(α + β\\right)}{2}} \\cos{\\left(\\frac{θ}{2} \\right)}\\end{matrix}\\right]$"
      ],
      "text/plain": [
       "⎡1  0           0                     0         ⎤\n",
       "⎢                                               ⎥\n",
       "⎢0  1           0                     0         ⎥\n",
       "⎢                                               ⎥\n",
       "⎢        ⅈ⋅(α + β)             ⅈ⋅(α - β)        ⎥\n",
       "⎢        ─────────             ─────────        ⎥\n",
       "⎢            2        ⎛θ⎞          2        ⎛θ⎞ ⎥\n",
       "⎢0  0   ℯ         ⋅cos⎜─⎟     ℯ         ⋅sin⎜─⎟ ⎥\n",
       "⎢                     ⎝2⎠                   ⎝2⎠ ⎥\n",
       "⎢                                               ⎥\n",
       "⎢        -ⅈ⋅(α - β)           -ⅈ⋅(α + β)        ⎥\n",
       "⎢        ───────────          ───────────       ⎥\n",
       "⎢             2         ⎛θ⎞        2         ⎛θ⎞⎥\n",
       "⎢0  0  -ℯ           ⋅sin⎜─⎟  ℯ           ⋅cos⎜─⎟⎥\n",
       "⎣                       ⎝2⎠                  ⎝2⎠⎦"
      ]
     },
     "execution_count": 81,
     "metadata": {},
     "output_type": "execute_result"
    }
   ],
   "source": [
    "sp.simplify(Controlled(A*σx*B*σx*C))"
   ]
  },
  {
   "cell_type": "code",
   "execution_count": 14,
   "id": "b248bd37-e3b9-43f8-aacf-1428996486ff",
   "metadata": {},
   "outputs": [
    {
     "data": {
      "text/plain": [
       "True"
      ]
     },
     "execution_count": 14,
     "metadata": {},
     "output_type": "execute_result"
    }
   ],
   "source": [
    "sp.simplify(Controlled(A*σx*B*σx*C)) == sp.simplify(TensorProduct(I,A)*Controlled(X)*TensorProduct(I,B)*Controlled(X)*TensorProduct(I,C))"
   ]
  },
  {
   "cell_type": "code",
   "execution_count": null,
   "id": "506ec67f-b9da-449f-8539-ef120d8d08f0",
   "metadata": {},
   "outputs": [],
   "source": []
  },
  {
   "cell_type": "code",
   "execution_count": 15,
   "id": "10efbd17-fbed-49b0-b2ad-fed5d3d5c390",
   "metadata": {},
   "outputs": [
    {
     "data": {
      "text/latex": [
       "$\\displaystyle \\left[\\begin{matrix}1 & 0 & 0 & 0\\\\0 & 1 & 0 & 0\\\\0 & 0 & e^{i δ} & 0\\\\0 & 0 & 0 & e^{i δ}\\end{matrix}\\right]$"
      ],
      "text/plain": [
       "⎡1  0   0     0  ⎤\n",
       "⎢                ⎥\n",
       "⎢0  1   0     0  ⎥\n",
       "⎢                ⎥\n",
       "⎢       ⅈ⋅δ      ⎥\n",
       "⎢0  0  ℯ      0  ⎥\n",
       "⎢                ⎥\n",
       "⎢             ⅈ⋅δ⎥\n",
       "⎣0  0   0    ℯ   ⎦"
      ]
     },
     "execution_count": 15,
     "metadata": {},
     "output_type": "execute_result"
    }
   ],
   "source": [
    "Controlled(Ph(δ))"
   ]
  },
  {
   "cell_type": "code",
   "execution_count": 16,
   "id": "05ea9f80-247a-4c69-9f78-db4f92a03ca1",
   "metadata": {},
   "outputs": [
    {
     "data": {
      "text/latex": [
       "$\\displaystyle \\left[\\begin{matrix}1 & 0\\\\0 & e^{i δ}\\end{matrix}\\right]$"
      ],
      "text/plain": [
       "⎡1   0  ⎤\n",
       "⎢       ⎥\n",
       "⎢    ⅈ⋅δ⎥\n",
       "⎣0  ℯ   ⎦"
      ]
     },
     "execution_count": 16,
     "metadata": {},
     "output_type": "execute_result"
    }
   ],
   "source": [
    "E=Rz(-δ)*Ph(δ/2)\n",
    "E"
   ]
  },
  {
   "cell_type": "code",
   "execution_count": 24,
   "id": "a5749236-25d2-4080-bea3-b06411dda413",
   "metadata": {},
   "outputs": [
    {
     "data": {
      "text/latex": [
       "$\\displaystyle \\left[\\begin{matrix}1 & 0 & 0 & 0\\\\0 & 1 & 0 & 0\\\\0 & 0 & e^{i δ} & 0\\\\0 & 0 & 0 & e^{i δ}\\end{matrix}\\right]$"
      ],
      "text/plain": [
       "⎡1  0   0     0  ⎤\n",
       "⎢                ⎥\n",
       "⎢0  1   0     0  ⎥\n",
       "⎢                ⎥\n",
       "⎢       ⅈ⋅δ      ⎥\n",
       "⎢0  0  ℯ      0  ⎥\n",
       "⎢                ⎥\n",
       "⎢             ⅈ⋅δ⎥\n",
       "⎣0  0   0    ℯ   ⎦"
      ]
     },
     "execution_count": 24,
     "metadata": {},
     "output_type": "execute_result"
    }
   ],
   "source": [
    "TensorProduct(E, I)"
   ]
  },
  {
   "cell_type": "code",
   "execution_count": null,
   "id": "4c36ffe2-01bc-4825-9415-1d1de3c6f6a4",
   "metadata": {},
   "outputs": [],
   "source": []
  },
  {
   "cell_type": "code",
   "execution_count": null,
   "id": "12783ef7-1bdb-4ecf-8614-3890465900a7",
   "metadata": {},
   "outputs": [],
   "source": []
  },
  {
   "cell_type": "code",
   "execution_count": null,
   "id": "e9c13cc3-dcf9-47ab-991e-654ba5e61a0d",
   "metadata": {},
   "outputs": [],
   "source": []
  },
  {
   "cell_type": "code",
   "execution_count": 18,
   "id": "225c831d-42f8-4873-b042-7eb65cf44e1a",
   "metadata": {},
   "outputs": [
    {
     "data": {
      "text/plain": [
       "True"
      ]
     },
     "execution_count": 18,
     "metadata": {},
     "output_type": "execute_result"
    }
   ],
   "source": [
    "Controlled(Ph(δ)) == TensorProduct(Rz(-δ)*Ph(δ/2), I)"
   ]
  },
  {
   "cell_type": "code",
   "execution_count": null,
   "id": "0563ff6e-7099-489c-90f9-754d0fc0ceb1",
   "metadata": {},
   "outputs": [],
   "source": [
    "\n"
   ]
  },
  {
   "cell_type": "code",
   "execution_count": null,
   "id": "be91fc12-2ee8-48a0-8499-7385904913f1",
   "metadata": {},
   "outputs": [],
   "source": []
  }
 ],
 "metadata": {
  "kernelspec": {
   "display_name": "Python 3 (ipykernel)",
   "language": "python",
   "name": "python3"
  },
  "language_info": {
   "codemirror_mode": {
    "name": "ipython",
    "version": 3
   },
   "file_extension": ".py",
   "mimetype": "text/x-python",
   "name": "python",
   "nbconvert_exporter": "python",
   "pygments_lexer": "ipython3",
   "version": "3.11.6"
  }
 },
 "nbformat": 4,
 "nbformat_minor": 5
}
