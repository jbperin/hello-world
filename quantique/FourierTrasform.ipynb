{
 "cells": [
  {
   "cell_type": "code",
   "execution_count": 1,
   "id": "13b16f98",
   "metadata": {},
   "outputs": [],
   "source": [
    "import sympy as sp\n",
    "# from qiskit import QuantumCircuit\n",
    "# start the pretty-printer to get nicely typeset math\n",
    "sp.init_printing()\n",
    "\n",
    "from sympy.physics.quantum import Bra, Ket\n",
    "from sympy import Matrix\n",
    "from sympy.physics.quantum import TensorProduct\n",
    "from sympy.physics.quantum.gate import HadamardGate,CNotGate, IdentityGate\n",
    "from sympy.physics.quantum.qapply import qapply\n",
    "from sympy import eye\n",
    "\n",
    "from sympy.physics.quantum import Ket\n",
    "from sympy import sqrt\n",
    "\n"
   ]
  },
  {
   "cell_type": "code",
   "execution_count": 2,
   "id": "5df9d8ca-9a4c-452e-81ab-9422e7aa5ce2",
   "metadata": {},
   "outputs": [
    {
     "name": "stdout",
     "output_type": "stream",
     "text": [
      "Expression développée : 11 + 2*I\n",
      "Partie réelle : 11\n",
      "Partie imaginaire : 2\n"
     ]
    }
   ],
   "source": [
    "π = sp.pi\n",
    "m = sp.Symbol('m', integer=True, positive=True)\n",
    "\n",
    "expr = (1 + 2*sp.I) * (3 - 4*sp.I)\n",
    "simplified_expr = sp.simplify(expr)\n",
    "\n",
    "print(\"Expression développée :\", simplified_expr)\n",
    "\n",
    "# Extraction des parties réelle et imaginaire\n",
    "real_part = sp.re(expr)\n",
    "imag_part = sp.im(expr)\n",
    "\n",
    "print(\"Partie réelle :\", real_part)\n",
    "print(\"Partie imaginaire :\", imag_part)"
   ]
  },
  {
   "cell_type": "code",
   "execution_count": 3,
   "id": "ef35c3f3-9b36-4a4b-a90b-abdf3df21900",
   "metadata": {},
   "outputs": [
    {
     "name": "stdout",
     "output_type": "stream",
     "text": [
      "Forme exponentielle : sqrt(2)*exp(I*pi/4)\n"
     ]
    }
   ],
   "source": [
    "z_value = 1 + sp.I\n",
    "r_value = sp.Abs(z_value)  # √2\n",
    "theta_value = sp.arg(z_value)  # π/4\n",
    "\n",
    "z_exp_value = r_value * sp.exp(sp.I * theta_value)\n",
    "print(\"Forme exponentielle :\", z_exp_value)"
   ]
  },
  {
   "cell_type": "code",
   "execution_count": 4,
   "id": "d188d308-e6b4-4291-b1af-1c77be1b555a",
   "metadata": {},
   "outputs": [
    {
     "data": {
      "image/png": "[encoded data removed]",
      "text/latex": [
       "$\\displaystyle e^{\\frac{2 i \\pi}{m}}$"
      ],
      "text/plain": [
       " 2⋅ⅈ⋅π\n",
       " ─────\n",
       "   m  \n",
       "ℯ     "
      ]
     },
     "execution_count": 4,
     "metadata": {},
     "output_type": "execute_result"
    }
   ],
   "source": [
    "ω = sp.exp(2*sp.I*π/m)\n",
    "ω"
   ]
  },
  {
   "cell_type": "code",
   "execution_count": 5,
   "id": "5d5e270f-3b12-462c-af4e-1dd218a2356b",
   "metadata": {},
   "outputs": [
    {
     "data": {
      "image/png": "[encoded data removed]",
      "text/latex": [
       "$\\displaystyle 1$"
      ],
      "text/plain": [
       "1"
      ]
     },
     "execution_count": 5,
     "metadata": {},
     "output_type": "execute_result"
    }
   ],
   "source": [
    "sp.Pow(ω,m)"
   ]
  },
  {
   "cell_type": "code",
   "execution_count": 6,
   "id": "33c3dfb4-afe8-4285-8878-b1d895c8755c",
   "metadata": {},
   "outputs": [
    {
     "data": {
      "image/png": "[encoded data removed]",
      "text/latex": [
       "$\\displaystyle 1$"
      ],
      "text/plain": [
       "1"
      ]
     },
     "execution_count": 6,
     "metadata": {},
     "output_type": "execute_result"
    }
   ],
   "source": [
    "sp.powdenest(sp.Pow(ω,m))\n"
   ]
  },
  {
   "cell_type": "code",
   "execution_count": null,
   "id": "825965bd-ddb1-4040-8926-e0d458cab07e",
   "metadata": {},
   "outputs": [],
   "source": []
  },
  {
   "cell_type": "code",
   "execution_count": 7,
   "id": "63a34308-555d-4d9f-a054-632ae41cb6d2",
   "metadata": {},
   "outputs": [
    {
     "data": {
      "image/png": "[encoded data removed]",
      "text/latex": [
       "$\\displaystyle 1$"
      ],
      "text/plain": [
       "1"
      ]
     },
     "execution_count": 7,
     "metadata": {},
     "output_type": "execute_result"
    }
   ],
   "source": [
    "sp.simplify(sp.Pow(ω,m))"
   ]
  },
  {
   "cell_type": "code",
   "execution_count": null,
   "id": "cee6f4ad-1e58-4c47-818f-4c9ea531e61b",
   "metadata": {},
   "outputs": [],
   "source": []
  },
  {
   "cell_type": "code",
   "execution_count": 10,
   "id": "d785e2e9-6468-43f4-871a-6c2e3608b909",
   "metadata": {},
   "outputs": [
    {
     "data": {
      "image/png": "[encoded data removed]",
      "text/latex": [
       "$\\displaystyle 0$"
      ],
      "text/plain": [
       "0"
      ]
     },
     "execution_count": 10,
     "metadata": {},
     "output_type": "execute_result"
    }
   ],
   "source": [
    "somme=0\n",
    "nb_terme = 4\n",
    "for i in range (nb_terme):\n",
    "    #print (i)\n",
    "    somme = somme + ω**i\n",
    "#sp.simplify((ω**0+ω**1+ω**2+ω**3+ω**4).subs({m:4}))\n",
    "#sp.simplify(somme.subs({m:nb_terme-1}))\n",
    "somme.subs({m:nb_terme})"
   ]
  },
  {
   "cell_type": "code",
   "execution_count": 35,
   "id": "18261f26-5869-41a2-966d-d3997c612093",
   "metadata": {},
   "outputs": [],
   "source": [
    "def qft_matrix(N):\n",
    "    \"\"\"Retourne la matrice de la transformée de Fourier quantique de dimension N x N.\"\"\"\n",
    "    omega = sp.exp(2 * π * sp.I / N)\n",
    "    return Matrix(N, N, lambda j, k: omega**(j * k) / sqrt(N))\n",
    "    \n",
    "def rqft_matrix(N):\n",
    "    \"\"\"Retourne la matrice de la transformée de Fourier quantique inverse de dimension N x N.\"\"\"\n",
    "    omega = sp.exp(-2 * π * sp.I / N)\n",
    "    return Matrix(N, N, lambda j, k: omega**(j * k) / sqrt(N))"
   ]
  },
  {
   "cell_type": "code",
   "execution_count": 47,
   "id": "5500b4d6-680c-4e44-b699-98eb1b9ebb4f",
   "metadata": {},
   "outputs": [
    {
     "data": {
      "image/png": "[encoded data removed]",
      "text/latex": [
       "$\\displaystyle \\left[\\begin{matrix}\\frac{1}{2} & \\frac{1}{2} & \\frac{1}{2} & \\frac{1}{2}\\\\\\frac{1}{2} & \\frac{i}{2} & - \\frac{1}{2} & - \\frac{i}{2}\\\\\\frac{1}{2} & - \\frac{1}{2} & \\frac{1}{2} & - \\frac{1}{2}\\\\\\frac{1}{2} & - \\frac{i}{2} & - \\frac{1}{2} & \\frac{i}{2}\\end{matrix}\\right]$"
      ],
      "text/plain": [
       "⎡1/2  1/2   1/2   1/2 ⎤\n",
       "⎢                     ⎥\n",
       "⎢      ⅈ          -ⅈ  ⎥\n",
       "⎢1/2   ─    -1/2  ─── ⎥\n",
       "⎢      2           2  ⎥\n",
       "⎢                     ⎥\n",
       "⎢1/2  -1/2  1/2   -1/2⎥\n",
       "⎢                     ⎥\n",
       "⎢     -ⅈ           ⅈ  ⎥\n",
       "⎢1/2  ───   -1/2   ─  ⎥\n",
       "⎣      2           2  ⎦"
      ]
     },
     "execution_count": 47,
     "metadata": {},
     "output_type": "execute_result"
    }
   ],
   "source": [
    "#from sympy import latex\n",
    "#sp.pprint(qft_matrix(4))\n",
    "\n",
    "qft_matrix(4)"
   ]
  },
  {
   "cell_type": "code",
   "execution_count": 49,
   "id": "e978511f-b5e0-4f02-8430-5827d10da81d",
   "metadata": {},
   "outputs": [
    {
     "data": {
      "image/png": "[encoded data removed]",
      "text/latex": [
       "$\\displaystyle \\left[\\begin{matrix}1 & 0 & 0 & 0\\\\0 & 1 & 0 & 0\\\\0 & 0 & 1 & 0\\\\0 & 0 & 0 & 1\\end{matrix}\\right]$"
      ],
      "text/plain": [
       "⎡1  0  0  0⎤\n",
       "⎢          ⎥\n",
       "⎢0  1  0  0⎥\n",
       "⎢          ⎥\n",
       "⎢0  0  1  0⎥\n",
       "⎢          ⎥\n",
       "⎣0  0  0  1⎦"
      ]
     },
     "execution_count": 49,
     "metadata": {},
     "output_type": "execute_result"
    }
   ],
   "source": [
    "from sympy.physics.quantum.dagger import Dagger\n",
    "qft_matrix(4)*Dagger(qft_matrix(4))"
   ]
  },
  {
   "cell_type": "code",
   "execution_count": 40,
   "id": "7108f032-395e-4c04-a514-f9cba123ae65",
   "metadata": {},
   "outputs": [
    {
     "data": {
      "image/png": "[encoded data removed]",
      "text/latex": [
       "$\\displaystyle \\left[\\begin{matrix}\\frac{1}{2} & \\frac{1}{2} & \\frac{1}{2} & \\frac{1}{2}\\\\\\frac{1}{2} & - \\frac{i}{2} & - \\frac{1}{2} & \\frac{i}{2}\\\\\\frac{1}{2} & - \\frac{1}{2} & \\frac{1}{2} & - \\frac{1}{2}\\\\\\frac{1}{2} & \\frac{i}{2} & - \\frac{1}{2} & - \\frac{i}{2}\\end{matrix}\\right]$"
      ],
      "text/plain": [
       "⎡1/2  1/2   1/2   1/2 ⎤\n",
       "⎢                     ⎥\n",
       "⎢     -ⅈ           ⅈ  ⎥\n",
       "⎢1/2  ───   -1/2   ─  ⎥\n",
       "⎢      2           2  ⎥\n",
       "⎢                     ⎥\n",
       "⎢1/2  -1/2  1/2   -1/2⎥\n",
       "⎢                     ⎥\n",
       "⎢      ⅈ          -ⅈ  ⎥\n",
       "⎢1/2   ─    -1/2  ─── ⎥\n",
       "⎣      2           2  ⎦"
      ]
     },
     "execution_count": 40,
     "metadata": {},
     "output_type": "execute_result"
    }
   ],
   "source": [
    "rqft_matrix(4)"
   ]
  },
  {
   "cell_type": "code",
   "execution_count": 44,
   "id": "52b1cc67-2396-4340-9ff7-d3a1464e40f3",
   "metadata": {},
   "outputs": [
    {
     "data": {
      "image/png": "[encoded data removed]",
      "text/latex": [
       "$\\displaystyle \\left[\\begin{matrix}\\frac{1}{2} & \\frac{1}{2} & \\frac{1}{2} & \\frac{1}{2}\\\\\\frac{1}{2} & - \\frac{1}{2} & \\frac{1}{2} & - \\frac{1}{2}\\\\\\frac{1}{2} & \\frac{1}{2} & - \\frac{1}{2} & - \\frac{1}{2}\\\\\\frac{1}{2} & - \\frac{1}{2} & - \\frac{1}{2} & \\frac{1}{2}\\end{matrix}\\right]$"
      ],
      "text/plain": [
       "⎡1/2  1/2   1/2   1/2 ⎤\n",
       "⎢                     ⎥\n",
       "⎢1/2  -1/2  1/2   -1/2⎥\n",
       "⎢                     ⎥\n",
       "⎢1/2  1/2   -1/2  -1/2⎥\n",
       "⎢                     ⎥\n",
       "⎣1/2  -1/2  -1/2  1/2 ⎦"
      ]
     },
     "execution_count": 44,
     "metadata": {},
     "output_type": "execute_result"
    }
   ],
   "source": [
    "TensorProduct(qft_matrix(2), qft_matrix(2))"
   ]
  },
  {
   "cell_type": "code",
   "execution_count": 43,
   "id": "f6460163-40b3-4d39-9821-b5f777f70595",
   "metadata": {},
   "outputs": [
    {
     "data": {
      "image/png": "[encoded data removed]",
      "text/latex": [
       "$\\displaystyle \\left[\\begin{matrix}\\frac{1}{2} & \\frac{1}{2} & \\frac{1}{2} & \\frac{1}{2}\\\\\\frac{1}{2} & - \\frac{1}{2} & \\frac{1}{2} & - \\frac{1}{2}\\\\\\frac{1}{2} & \\frac{1}{2} & - \\frac{1}{2} & - \\frac{1}{2}\\\\\\frac{1}{2} & - \\frac{1}{2} & - \\frac{1}{2} & \\frac{1}{2}\\end{matrix}\\right]$"
      ],
      "text/plain": [
       "⎡1/2  1/2   1/2   1/2 ⎤\n",
       "⎢                     ⎥\n",
       "⎢1/2  -1/2  1/2   -1/2⎥\n",
       "⎢                     ⎥\n",
       "⎢1/2  1/2   -1/2  -1/2⎥\n",
       "⎢                     ⎥\n",
       "⎣1/2  -1/2  -1/2  1/2 ⎦"
      ]
     },
     "execution_count": 43,
     "metadata": {},
     "output_type": "execute_result"
    }
   ],
   "source": [
    "H=sp.Matrix([[1/sp.sqrt(2),1/sp.sqrt(2)], [1/sp.sqrt(2),-1/sp.sqrt(2)]])\n",
    "TensorProduct(H, H)"
   ]
  },
  {
   "cell_type": "code",
   "execution_count": 50,
   "id": "29ddbfe9-b9b5-46c2-bfa5-0a41082c52cc",
   "metadata": {},
   "outputs": [
    {
     "data": {
      "image/png": "[encoded data removed]",
      "text/latex": [
       "$\\displaystyle QFT_{0,3}$"
      ],
      "text/plain": [
       "QFT   \n",
       "   0,3"
      ]
     },
     "execution_count": 50,
     "metadata": {},
     "output_type": "execute_result"
    }
   ],
   "source": [
    "from sympy.physics.quantum.qft import QFT\n",
    "\n",
    "QFT(0,3)\n"
   ]
  },
  {
   "cell_type": "code",
   "execution_count": 2,
   "id": "67ca0578",
   "metadata": {},
   "outputs": [
    {
     "data": {
      "text/latex": [
       "$\\displaystyle \\text{SWAP}_{0,2} H_{0} C_{0}{\\left(S_{1}\\right)} H_{1} C_{0}{\\left(T_{2}\\right)} C_{1}{\\left(S_{2}\\right)} H_{2}$"
      ],
      "text/plain": [
       "SWAP   ⋅H ⋅C ⎛S ⎞⋅H ⋅C ⎛T ⎞⋅C ⎛S ⎞⋅H \n",
       "    0,2  0  0⎝ 1⎠  1  0⎝ 2⎠  1⎝ 2⎠  2"
      ]
     },
     "execution_count": 2,
     "metadata": {},
     "output_type": "execute_result"
    }
   ],
   "source": [
    "\n",
    "fourier = QFT(0,3).decompose()\n",
    "fourier"
   ]
  },
  {
   "cell_type": "code",
   "execution_count": 3,
   "id": "0457459d",
   "metadata": {},
   "outputs": [
    {
     "data": {
      "text/plain": [
       "<sympy.physics.quantum.circuitplot.CircuitPlot at 0x219f1cf7410>"
      ]
     },
     "execution_count": 3,
     "metadata": {},
     "output_type": "execute_result"
    },
    {
     "data": {
      "image/png": "[encoded data removed]",
      "text/plain": [
       "<Figure size 700x300 with 1 Axes>"
      ]
     },
     "metadata": {},
     "output_type": "display_data"
    }
   ],
   "source": [
    "from sympy.physics.quantum.circuitplot import circuit_plot\n",
    "circuit_plot(fourier, nqubits=3)\n",
    "# %mkdir -p './images' plt.savefig('./images/fig1-circuitplot-qft.pdf', format='pdf')"
   ]
  },
  {
   "cell_type": "code",
   "execution_count": 8,
   "id": "8178b573",
   "metadata": {},
   "outputs": [
    {
     "data": {
      "text/latex": [
       "$\\displaystyle \\text{SWAP}_{1,3} \\text{SWAP}_{0,4} H_{0} C_{0}{\\left(S_{1}\\right)} H_{1} C_{0}{\\left(T_{2}\\right)} C_{1}{\\left(S_{2}\\right)} H_{2} C_{0}{\\left(R_{3,4}\\right)} C_{1}{\\left(T_{3}\\right)} C_{2}{\\left(S_{3}\\right)} H_{3} C_{0}{\\left(R_{4,5}\\right)} C_{1}{\\left(R_{4,4}\\right)} C_{2}{\\left(T_{4}\\right)} C_{3}{\\left(S_{4}\\right)} H_{4}$"
      ],
      "text/plain": [
       "SWAP   ⋅SWAP   ⋅H ⋅C ⎛S ⎞⋅H ⋅C ⎛T ⎞⋅C ⎛S ⎞⋅H ⋅C ⎛Rk   ⎞⋅C ⎛T ⎞⋅C ⎛S ⎞⋅H ⋅C ⎛Rk\n",
       "    1,3     0,4  0  0⎝ 1⎠  1  0⎝ 2⎠  1⎝ 2⎠  2  0⎝  3,4⎠  1⎝ 3⎠  2⎝ 3⎠  3  0⎝  \n",
       "\n",
       "   ⎞⋅C ⎛Rk   ⎞⋅C ⎛T ⎞⋅C ⎛S ⎞⋅H \n",
       "4,5⎠  1⎝  4,4⎠  2⎝ 4⎠  3⎝ 4⎠  4"
      ]
     },
     "execution_count": 8,
     "metadata": {},
     "output_type": "execute_result"
    },
    {
     "data": {
      "image/png": "[encoded data removed]",
      "text/plain": [
       "<Figure size 1700x500 with 1 Axes>"
      ]
     },
     "metadata": {},
     "output_type": "display_data"
    }
   ],
   "source": [
    "from sympy.physics.quantum.qft import QFT\n",
    "nqb = 5\n",
    "fourier = QFT(0,nqb).decompose()\n",
    "circuit_plot(fourier, nqubits=nqb)\n",
    "fourier"
   ]
  },
  {
   "cell_type": "code",
   "execution_count": null,
   "id": "a0ed3a1b",
   "metadata": {},
   "outputs": [],
   "source": []
  }
 ],
 "metadata": {
  "kernelspec": {
   "display_name": "Python 3 (ipykernel)",
   "language": "python",
   "name": "python3"
  },
  "language_info": {
   "codemirror_mode": {
    "name": "ipython",
    "version": 3
   },
   "file_extension": ".py",
   "mimetype": "text/x-python",
   "name": "python",
   "nbconvert_exporter": "python",
   "pygments_lexer": "ipython3",
   "version": "3.11.6"
  }
 },
 "nbformat": 4,
 "nbformat_minor": 5
}
