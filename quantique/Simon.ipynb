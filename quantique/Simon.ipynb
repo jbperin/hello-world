{
 "cells": [
  {
   "cell_type": "code",
   "execution_count": null,
   "id": "79c46cca-5964-490f-811a-a72c4f551d4f",
   "metadata": {},
   "outputs": [],
   "source": []
  },
  {
   "cell_type": "code",
   "execution_count": 1,
   "id": "ad9f4c1c-1119-4a7f-b5e8-26f6328268a3",
   "metadata": {},
   "outputs": [],
   "source": [
    "import sympy as sp\n",
    "from sympy.physics.quantum import Bra, Ket\n",
    "from sympy import Matrix\n",
    "from sympy.physics.quantum import TensorProduct\n",
    "from sympy.physics.quantum.gate import HadamardGate,CNotGate, IdentityGate\n",
    "from sympy.physics.quantum.qapply import qapply\n",
    "from sympy import eye\n",
    "from sympy import Abs\n",
    "from sympy import sqrt\n",
    "from UnitaryFunction import buildUnitaryMatrix, buildUnitaryMatrixFromSimonFunction, format_matrice\n",
    "sp.init_printing()"
   ]
  },
  {
   "cell_type": "code",
   "execution_count": 2,
   "id": "670caa7b-d513-4b04-bdf1-1f3cf13c438b",
   "metadata": {},
   "outputs": [],
   "source": [
    "#definition des états\n",
    "ket0 = Matrix([1,0])\n",
    "ket1 = Matrix([0,1])\n",
    "plus = Matrix([1/sqrt(2),1/sqrt(2)])\n",
    "minus = Matrix([1/sqrt(2),-1/sqrt(2)])\n",
    "\n",
    "α = sp.Symbol(\"α\")\n",
    "β = sp.Symbol(\"β\")\n",
    "ϕ = α * ket0 + β * ket1 # Matrix([α,β])\n",
    "\n",
    "α1 = sp.Symbol(\"α1\", complex=True)\n",
    "β1 = sp.Symbol(\"β1\", complex=True)\n",
    "ψ1 = α1 * ket0 + β1 * ket1 # Matrix([α,β])\n",
    "\n",
    "α2 = sp.Symbol(\"α2\", complex=True)\n",
    "β2 = sp.Symbol(\"β2\", complex=True)\n",
    "ψ2 = α2 * ket0 + β2 * ket1 # Matrix([α,β])\n",
    "\n",
    "α3 = sp.Symbol(\"α3\", complex=True)\n",
    "β3 = sp.Symbol(\"β3\", complex=True)\n",
    "ψ3 = α3 * ket0 + β3 * ket1 # Matrix([α,β])\n",
    "\n",
    "α4 = sp.Symbol(\"α4\", complex=True)\n",
    "β4 = sp.Symbol(\"β4\", complex=True)\n",
    "ψ4 = α4 * ket0 + β4 * ket1 # Matrix([α,β])"
   ]
  },
  {
   "cell_type": "code",
   "execution_count": 3,
   "id": "353dc7f2-95e5-4702-95ff-50490288cfbb",
   "metadata": {},
   "outputs": [],
   "source": [
    "I=sp.eye(2)\n",
    "π=sp.pi\n",
    "i=sp.I\n",
    "X=sp.Matrix([[0,1], [1,0]]) #Pauli\n",
    "σx=X\n",
    "Y=sp.Matrix([[0,-i], [i,0]])\n",
    "Z=sp.Matrix([[1,0], [0,-1]])\n",
    "\n",
    "H=sp.Matrix([[1/sp.sqrt(2),1/sp.sqrt(2)], [1/sp.sqrt(2),-1/sp.sqrt(2)]])\n",
    "\n",
    "S=sp.Matrix([[1,0], [0,-i]])\n",
    "T=sp.Matrix([[1,0], [0,sp.exp(-i*π/4)]])\n",
    "\n",
    "\n",
    "# rotation by theta around y\n",
    "def Ry(θ):\n",
    "    return sp.Matrix([[sp.cos(θ/2),sp.sin(θ/2)], [-sp.sin(θ/2),sp.cos(θ/2)]])\n",
    "\n",
    "# rotation by alpha around z\n",
    "def Rz(α):\n",
    "    return sp.Matrix([[sp.exp(i*α/2),0], [0,sp.exp(-i*α/2)]]) \n",
    "\n",
    "# Phase Shift with respect to delta\n",
    "def Ph(δ):\n",
    "    return sp.Matrix([[sp.exp(i*δ),0], [0,sp.exp(i*δ)]]) \n",
    "\n",
    "# Operation on two Qubits\n",
    "\n",
    "SWAP = sp.Matrix ([[1,0,0,0],[0,0,1,0],[0,1,0,0],[0,0,0,1]])\n",
    "CNOT = TensorProduct(I,ket0*ket0.T) + TensorProduct(X, ket1*ket1.T) # second qubit is the control"
   ]
  },
  {
   "cell_type": "code",
   "execution_count": 4,
   "id": "5f6e956d-cbda-4ec0-b2e8-101f1c6f5c76",
   "metadata": {},
   "outputs": [
    {
     "data": {
      "image/png": "[encoded data removed]",
      "text/latex": [
       "$\\displaystyle 8$"
      ],
      "text/plain": [
       "8"
      ]
     },
     "execution_count": 4,
     "metadata": {},
     "output_type": "execute_result"
    }
   ],
   "source": [
    "M=TensorProduct(H, H, H) #/(sp.sqrt(2)/4)\n",
    "M.rank()"
   ]
  },
  {
   "cell_type": "code",
   "execution_count": 5,
   "id": "720617d4-7574-4878-9ec4-2603e18ca1f8",
   "metadata": {},
   "outputs": [
    {
     "data": {
      "image/png": "[encoded data removed]",
      "text/latex": [
       "$\\displaystyle 1$"
      ],
      "text/plain": [
       "1"
      ]
     },
     "execution_count": 5,
     "metadata": {},
     "output_type": "execute_result"
    }
   ],
   "source": [
    "M.det()"
   ]
  },
  {
   "cell_type": "code",
   "execution_count": 6,
   "id": "7d2321b2-c2c6-4392-bff8-9821f300d4ab",
   "metadata": {},
   "outputs": [],
   "source": [
    "table1={\n",
    "    \"000\": \"10011\",\n",
    "    \"001\": \"00101\",    \n",
    "    \"010\": \"00101\",    \n",
    "    \"011\": \"10011\",    \n",
    "    \"100\": \"11010\",\n",
    "    \"101\": \"00001\",\n",
    "    \"110\": \"00001\",\n",
    "    \"111\": \"11010\",\n",
    "       } # s = 011\n",
    "table2={\n",
    "    \"000\": \"011\",\n",
    "    \"001\": \"101\",    \n",
    "    \"010\": \"000\",    \n",
    "    \"011\": \"010\",    \n",
    "    \"100\": \"101\",\n",
    "    \"101\": \"011\",\n",
    "    \"110\": \"010\",\n",
    "    \"111\": \"000\",\n",
    "} # s = 101\n",
    "\n"
   ]
  },
  {
   "cell_type": "code",
   "execution_count": 10,
   "id": "119e5c35-8697-4294-bcbd-f731eecc1344",
   "metadata": {},
   "outputs": [
    {
     "data": {
      "text/latex": [
       "$\\displaystyle \\left[\\begin{matrix}\\frac{α_{1} α_{2} α_{3} α_{4}}{2} + \\frac{α_{1} α_{2} α_{3} β_{4}}{2} + \\frac{α_{1} α_{2} α_{4} β_{3}}{2} + \\frac{α_{1} α_{2} β_{3} β_{4}}{2}\\\\\\frac{α_{1} α_{2} α_{3} α_{4}}{2} - \\frac{α_{1} α_{2} α_{3} β_{4}}{2} + \\frac{α_{1} α_{2} α_{4} β_{3}}{2} - \\frac{α_{1} α_{2} β_{3} β_{4}}{2}\\\\\\frac{α_{1} α_{2} α_{3} α_{4}}{2} + \\frac{α_{1} α_{2} α_{3} β_{4}}{2} - \\frac{α_{1} α_{2} α_{4} β_{3}}{2} - \\frac{α_{1} α_{2} β_{3} β_{4}}{2}\\\\\\frac{α_{1} α_{2} α_{3} α_{4}}{2} - \\frac{α_{1} α_{2} α_{3} β_{4}}{2} - \\frac{α_{1} α_{2} α_{4} β_{3}}{2} + \\frac{α_{1} α_{2} β_{3} β_{4}}{2}\\\\\\frac{α_{1} α_{3} α_{4} β_{2}}{2} + \\frac{α_{1} α_{3} β_{2} β_{4}}{2} + \\frac{α_{1} α_{4} β_{2} β_{3}}{2} + \\frac{α_{1} β_{2} β_{3} β_{4}}{2}\\\\\\frac{α_{1} α_{3} α_{4} β_{2}}{2} - \\frac{α_{1} α_{3} β_{2} β_{4}}{2} + \\frac{α_{1} α_{4} β_{2} β_{3}}{2} - \\frac{α_{1} β_{2} β_{3} β_{4}}{2}\\\\\\frac{α_{1} α_{3} α_{4} β_{2}}{2} + \\frac{α_{1} α_{3} β_{2} β_{4}}{2} - \\frac{α_{1} α_{4} β_{2} β_{3}}{2} - \\frac{α_{1} β_{2} β_{3} β_{4}}{2}\\\\\\frac{α_{1} α_{3} α_{4} β_{2}}{2} - \\frac{α_{1} α_{3} β_{2} β_{4}}{2} - \\frac{α_{1} α_{4} β_{2} β_{3}}{2} + \\frac{α_{1} β_{2} β_{3} β_{4}}{2}\\\\\\frac{α_{2} α_{3} α_{4} β_{1}}{2} + \\frac{α_{2} α_{3} β_{1} β_{4}}{2} + \\frac{α_{2} α_{4} β_{1} β_{3}}{2} + \\frac{α_{2} β_{1} β_{3} β_{4}}{2}\\\\\\frac{α_{2} α_{3} α_{4} β_{1}}{2} - \\frac{α_{2} α_{3} β_{1} β_{4}}{2} + \\frac{α_{2} α_{4} β_{1} β_{3}}{2} - \\frac{α_{2} β_{1} β_{3} β_{4}}{2}\\\\\\frac{α_{2} α_{3} α_{4} β_{1}}{2} + \\frac{α_{2} α_{3} β_{1} β_{4}}{2} - \\frac{α_{2} α_{4} β_{1} β_{3}}{2} - \\frac{α_{2} β_{1} β_{3} β_{4}}{2}\\\\\\frac{α_{2} α_{3} α_{4} β_{1}}{2} - \\frac{α_{2} α_{3} β_{1} β_{4}}{2} - \\frac{α_{2} α_{4} β_{1} β_{3}}{2} + \\frac{α_{2} β_{1} β_{3} β_{4}}{2}\\\\\\frac{α_{3} α_{4} β_{1} β_{2}}{2} + \\frac{α_{3} β_{1} β_{2} β_{4}}{2} + \\frac{α_{4} β_{1} β_{2} β_{3}}{2} + \\frac{β_{1} β_{2} β_{3} β_{4}}{2}\\\\\\frac{α_{3} α_{4} β_{1} β_{2}}{2} - \\frac{α_{3} β_{1} β_{2} β_{4}}{2} + \\frac{α_{4} β_{1} β_{2} β_{3}}{2} - \\frac{β_{1} β_{2} β_{3} β_{4}}{2}\\\\\\frac{α_{3} α_{4} β_{1} β_{2}}{2} + \\frac{α_{3} β_{1} β_{2} β_{4}}{2} - \\frac{α_{4} β_{1} β_{2} β_{3}}{2} - \\frac{β_{1} β_{2} β_{3} β_{4}}{2}\\\\\\frac{α_{3} α_{4} β_{1} β_{2}}{2} - \\frac{α_{3} β_{1} β_{2} β_{4}}{2} - \\frac{α_{4} β_{1} β_{2} β_{3}}{2} + \\frac{β_{1} β_{2} β_{3} β_{4}}{2}\\end{matrix}\\right]$"
      ],
      "text/plain": [
       "⎡α₁⋅α₂⋅α₃⋅α₄   α₁⋅α₂⋅α₃⋅β₄   α₁⋅α₂⋅α₄⋅β₃   α₁⋅α₂⋅β₃⋅β₄⎤\n",
       "⎢─────────── + ─────────── + ─────────── + ───────────⎥\n",
       "⎢     2             2             2             2     ⎥\n",
       "⎢                                                     ⎥\n",
       "⎢α₁⋅α₂⋅α₃⋅α₄   α₁⋅α₂⋅α₃⋅β₄   α₁⋅α₂⋅α₄⋅β₃   α₁⋅α₂⋅β₃⋅β₄⎥\n",
       "⎢─────────── - ─────────── + ─────────── - ───────────⎥\n",
       "⎢     2             2             2             2     ⎥\n",
       "⎢                                                     ⎥\n",
       "⎢α₁⋅α₂⋅α₃⋅α₄   α₁⋅α₂⋅α₃⋅β₄   α₁⋅α₂⋅α₄⋅β₃   α₁⋅α₂⋅β₃⋅β₄⎥\n",
       "⎢─────────── + ─────────── - ─────────── - ───────────⎥\n",
       "⎢     2             2             2             2     ⎥\n",
       "⎢                                                     ⎥\n",
       "⎢α₁⋅α₂⋅α₃⋅α₄   α₁⋅α₂⋅α₃⋅β₄   α₁⋅α₂⋅α₄⋅β₃   α₁⋅α₂⋅β₃⋅β₄⎥\n",
       "⎢─────────── - ─────────── - ─────────── + ───────────⎥\n",
       "⎢     2             2             2             2     ⎥\n",
       "⎢                                                     ⎥\n",
       "⎢α₁⋅α₃⋅α₄⋅β₂   α₁⋅α₃⋅β₂⋅β₄   α₁⋅α₄⋅β₂⋅β₃   α₁⋅β₂⋅β₃⋅β₄⎥\n",
       "⎢─────────── + ─────────── + ─────────── + ───────────⎥\n",
       "⎢     2             2             2             2     ⎥\n",
       "⎢                                                     ⎥\n",
       "⎢α₁⋅α₃⋅α₄⋅β₂   α₁⋅α₃⋅β₂⋅β₄   α₁⋅α₄⋅β₂⋅β₃   α₁⋅β₂⋅β₃⋅β₄⎥\n",
       "⎢─────────── - ─────────── + ─────────── - ───────────⎥\n",
       "⎢     2             2             2             2     ⎥\n",
       "⎢                                                     ⎥\n",
       "⎢α₁⋅α₃⋅α₄⋅β₂   α₁⋅α₃⋅β₂⋅β₄   α₁⋅α₄⋅β₂⋅β₃   α₁⋅β₂⋅β₃⋅β₄⎥\n",
       "⎢─────────── + ─────────── - ─────────── - ───────────⎥\n",
       "⎢     2             2             2             2     ⎥\n",
       "⎢                                                     ⎥\n",
       "⎢α₁⋅α₃⋅α₄⋅β₂   α₁⋅α₃⋅β₂⋅β₄   α₁⋅α₄⋅β₂⋅β₃   α₁⋅β₂⋅β₃⋅β₄⎥\n",
       "⎢─────────── - ─────────── - ─────────── + ───────────⎥\n",
       "⎢     2             2             2             2     ⎥\n",
       "⎢                                                     ⎥\n",
       "⎢α₂⋅α₃⋅α₄⋅β₁   α₂⋅α₃⋅β₁⋅β₄   α₂⋅α₄⋅β₁⋅β₃   α₂⋅β₁⋅β₃⋅β₄⎥\n",
       "⎢─────────── + ─────────── + ─────────── + ───────────⎥\n",
       "⎢     2             2             2             2     ⎥\n",
       "⎢                                                     ⎥\n",
       "⎢α₂⋅α₃⋅α₄⋅β₁   α₂⋅α₃⋅β₁⋅β₄   α₂⋅α₄⋅β₁⋅β₃   α₂⋅β₁⋅β₃⋅β₄⎥\n",
       "⎢─────────── - ─────────── + ─────────── - ───────────⎥\n",
       "⎢     2             2             2             2     ⎥\n",
       "⎢                                                     ⎥\n",
       "⎢α₂⋅α₃⋅α₄⋅β₁   α₂⋅α₃⋅β₁⋅β₄   α₂⋅α₄⋅β₁⋅β₃   α₂⋅β₁⋅β₃⋅β₄⎥\n",
       "⎢─────────── + ─────────── - ─────────── - ───────────⎥\n",
       "⎢     2             2             2             2     ⎥\n",
       "⎢                                                     ⎥\n",
       "⎢α₂⋅α₃⋅α₄⋅β₁   α₂⋅α₃⋅β₁⋅β₄   α₂⋅α₄⋅β₁⋅β₃   α₂⋅β₁⋅β₃⋅β₄⎥\n",
       "⎢─────────── - ─────────── - ─────────── + ───────────⎥\n",
       "⎢     2             2             2             2     ⎥\n",
       "⎢                                                     ⎥\n",
       "⎢α₃⋅α₄⋅β₁⋅β₂   α₃⋅β₁⋅β₂⋅β₄   α₄⋅β₁⋅β₂⋅β₃   β₁⋅β₂⋅β₃⋅β₄⎥\n",
       "⎢─────────── + ─────────── + ─────────── + ───────────⎥\n",
       "⎢     2             2             2             2     ⎥\n",
       "⎢                                                     ⎥\n",
       "⎢α₃⋅α₄⋅β₁⋅β₂   α₃⋅β₁⋅β₂⋅β₄   α₄⋅β₁⋅β₂⋅β₃   β₁⋅β₂⋅β₃⋅β₄⎥\n",
       "⎢─────────── - ─────────── + ─────────── - ───────────⎥\n",
       "⎢     2             2             2             2     ⎥\n",
       "⎢                                                     ⎥\n",
       "⎢α₃⋅α₄⋅β₁⋅β₂   α₃⋅β₁⋅β₂⋅β₄   α₄⋅β₁⋅β₂⋅β₃   β₁⋅β₂⋅β₃⋅β₄⎥\n",
       "⎢─────────── + ─────────── - ─────────── - ───────────⎥\n",
       "⎢     2             2             2             2     ⎥\n",
       "⎢                                                     ⎥\n",
       "⎢α₃⋅α₄⋅β₁⋅β₂   α₃⋅β₁⋅β₂⋅β₄   α₄⋅β₁⋅β₂⋅β₃   β₁⋅β₂⋅β₃⋅β₄⎥\n",
       "⎢─────────── - ─────────── - ─────────── + ───────────⎥\n",
       "⎣     2             2             2             2     ⎦"
      ]
     },
     "execution_count": 10,
     "metadata": {},
     "output_type": "execute_result"
    }
   ],
   "source": [
    "TensorProduct(I, I, H, H) * TensorProduct(ψ1, ψ2, ψ3, ψ4)"
   ]
  },
  {
   "cell_type": "code",
   "execution_count": 8,
   "id": "ffa55a2c-e3d2-4253-96d0-282d616e0d5a",
   "metadata": {},
   "outputs": [],
   "source": [
    "def uneFonction2x2(param1, param2):\n",
    "    table1={\n",
    "        \"00\": \"11\",\n",
    "        \"01\": \"00\",    \n",
    "        \"10\": \"11\",    \n",
    "        \"11\": \"00\",    \n",
    "    } # s = 10\n",
    "    table2={\n",
    "        \"00\": \"01\",\n",
    "        \"01\": \"10\",    \n",
    "        \"10\": \"01\",    \n",
    "        \"11\": \"10\",    \n",
    "    } # s = 10\n",
    "    # Convertir les paramètres booléens en une chaîne de caractères\n",
    "    key = f\"{int(param1)}{int(param2)}\"\n",
    "\n",
    "    # Obtenir la valeur correspondante dans le dictionnaire\n",
    "    value = table1.get(key, \"\")\n",
    "\n",
    "    # Convertir la valeur en un tableau de booléens\n",
    "    result = [char == '1' for char in value]\n",
    "\n",
    "    return result\n",
    "\n",
    "def uneFonction3x3(param1, param2, param3):\n",
    "    table2={\n",
    "        \"000\": \"011\",\n",
    "        \"001\": \"101\",    \n",
    "        \"010\": \"000\",    \n",
    "        \"011\": \"010\",    \n",
    "        \"100\": \"101\",\n",
    "        \"101\": \"011\",\n",
    "        \"110\": \"010\",\n",
    "        \"111\": \"000\",\n",
    "    } # s = 101\n",
    "    # Convertir les paramètres booléens en une chaîne de caractères\n",
    "    key = f\"{int(param1)}{int(param2)}{int(param3)}\"\n",
    "\n",
    "    # Obtenir la valeur correspondante dans le dictionnaire\n",
    "    value = table2.get(key, \"\")\n",
    "\n",
    "    # Convertir la valeur en un tableau de booléens\n",
    "    result = [char == '1' for char in value]\n",
    "\n",
    "    return result\n",
    "\n",
    "def uneFonction3x4(param1, param2, param3):\n",
    "    table34={\n",
    "        \"000\": \"10011\",\n",
    "        \"001\": \"00101\",    \n",
    "        \"010\": \"00101\",    \n",
    "        \"011\": \"10011\",    \n",
    "        \"100\": \"11010\",\n",
    "        \"101\": \"00001\",\n",
    "        \"110\": \"00001\",\n",
    "        \"111\": \"11010\",\n",
    "    } # s = 101\n",
    "    # Convertir les paramètres booléens en une chaîne de caractères\n",
    "    key = f\"{int(param1)}{int(param2)}{int(param3)}\"\n",
    "\n",
    "    # Obtenir la valeur correspondante dans le dictionnaire\n",
    "    value = table34.get(key, \"\")\n",
    "\n",
    "    # Convertir la valeur en un tableau de booléens\n",
    "    result = [char == '1' for char in value]\n",
    "\n",
    "    return result\n",
    "\n"
   ]
  },
  {
   "cell_type": "code",
   "execution_count": 29,
   "id": "9a772022-0894-4494-971b-e3becf38ec9c",
   "metadata": {},
   "outputs": [
    {
     "name": "stdout",
     "output_type": "stream",
     "text": [
      "Uf =\n",
      "0, 0, 0, 0, 0, 0, 0, 0, 0, 0, 0, 0, 1, 0, 0, 0,\n",
      "0, 1, 0, 0, 0, 0, 0, 0, 0, 0, 0, 0, 0, 0, 0, 0,\n",
      "0, 0, 0, 0, 0, 0, 0, 0, 0, 0, 0, 0, 0, 0, 1, 0,\n",
      "0, 0, 0, 1, 0, 0, 0, 0, 0, 0, 0, 0, 0, 0, 0, 0,\n",
      "0, 0, 0, 0, 0, 0, 0, 0, 1, 0, 0, 0, 0, 0, 0, 0,\n",
      "0, 0, 0, 0, 0, 1, 0, 0, 0, 0, 0, 0, 0, 0, 0, 0,\n",
      "0, 0, 0, 0, 0, 0, 0, 0, 0, 0, 1, 0, 0, 0, 0, 0,\n",
      "0, 0, 0, 0, 0, 0, 0, 1, 0, 0, 0, 0, 0, 0, 0, 0,\n",
      "0, 0, 0, 0, 1, 0, 0, 0, 0, 0, 0, 0, 0, 0, 0, 0,\n",
      "0, 0, 0, 0, 0, 0, 0, 0, 0, 1, 0, 0, 0, 0, 0, 0,\n",
      "0, 0, 0, 0, 0, 0, 1, 0, 0, 0, 0, 0, 0, 0, 0, 0,\n",
      "0, 0, 0, 0, 0, 0, 0, 0, 0, 0, 0, 1, 0, 0, 0, 0,\n",
      "1, 0, 0, 0, 0, 0, 0, 0, 0, 0, 0, 0, 0, 0, 0, 0,\n",
      "0, 0, 0, 0, 0, 0, 0, 0, 0, 0, 0, 0, 0, 1, 0, 0,\n",
      "0, 0, 1, 0, 0, 0, 0, 0, 0, 0, 0, 0, 0, 0, 0, 0,\n",
      "0, 0, 0, 0, 0, 0, 0, 0, 0, 0, 0, 0, 0, 0, 0, 1\n"
     ]
    }
   ],
   "source": [
    "Uf=buildUnitaryMatrixFromSimonFunction(uneFonction2x2)\n",
    "print (format_matrice(Uf))\n"
   ]
  },
  {
   "cell_type": "code",
   "execution_count": 14,
   "id": "f096f663-6483-480a-9468-aa922921b15d",
   "metadata": {},
   "outputs": [
    {
     "data": {
      "image/png": "[encoded data removed]",
      "text/latex": [
       "$\\displaystyle 16$"
      ],
      "text/plain": [
       "16"
      ]
     },
     "execution_count": 14,
     "metadata": {},
     "output_type": "execute_result"
    }
   ],
   "source": [
    "Uf.rank()"
   ]
  },
  {
   "cell_type": "code",
   "execution_count": 15,
   "id": "20e8d268-d921-4ca1-8665-b7cb31bf6564",
   "metadata": {},
   "outputs": [
    {
     "data": {
      "image/png": "[encoded data removed]",
      "text/latex": [
       "$\\displaystyle \\left( 16, \\  16\\right)$"
      ],
      "text/plain": [
       "(16, 16)"
      ]
     },
     "execution_count": 15,
     "metadata": {},
     "output_type": "execute_result"
    }
   ],
   "source": [
    "sp.shape(Uf)"
   ]
  },
  {
   "cell_type": "code",
   "execution_count": null,
   "id": "13bb9fa7-1eee-4cd9-924a-f4ea982562a2",
   "metadata": {},
   "outputs": [],
   "source": []
  },
  {
   "cell_type": "code",
   "execution_count": 15,
   "id": "62991fe1-7038-4699-8ce4-cd188d02c30e",
   "metadata": {},
   "outputs": [
    {
     "data": {
      "image/png": "[encoded data removed]",
      "text/latex": [
       "$\\displaystyle \\left[\\begin{matrix}\\frac{1}{2}\\\\- \\frac{1}{2}\\\\0\\\\0\\\\0\\\\0\\\\0\\\\0\\\\0\\\\0\\\\0\\\\0\\\\\\frac{1}{2}\\\\\\frac{1}{2}\\\\0\\\\0\\end{matrix}\\right]$"
      ],
      "text/plain": [
       "⎡1/2 ⎤\n",
       "⎢    ⎥\n",
       "⎢-1/2⎥\n",
       "⎢    ⎥\n",
       "⎢ 0  ⎥\n",
       "⎢    ⎥\n",
       "⎢ 0  ⎥\n",
       "⎢    ⎥\n",
       "⎢ 0  ⎥\n",
       "⎢    ⎥\n",
       "⎢ 0  ⎥\n",
       "⎢    ⎥\n",
       "⎢ 0  ⎥\n",
       "⎢    ⎥\n",
       "⎢ 0  ⎥\n",
       "⎢    ⎥\n",
       "⎢ 0  ⎥\n",
       "⎢    ⎥\n",
       "⎢ 0  ⎥\n",
       "⎢    ⎥\n",
       "⎢ 0  ⎥\n",
       "⎢    ⎥\n",
       "⎢ 0  ⎥\n",
       "⎢    ⎥\n",
       "⎢1/2 ⎥\n",
       "⎢    ⎥\n",
       "⎢1/2 ⎥\n",
       "⎢    ⎥\n",
       "⎢ 0  ⎥\n",
       "⎢    ⎥\n",
       "⎣ 0  ⎦"
      ]
     },
     "execution_count": 15,
     "metadata": {},
     "output_type": "execute_result"
    }
   ],
   "source": [
    "\n",
    "(TensorProduct(I, I, H, H)*M*TensorProduct(I, I, H, H) * TensorProduct(ψ1, ψ2, ψ3, ψ4)).subs({α1:1, β1:0, α2:1, β2:0, α3:1, β3:0, α4:1, β4:0})"
   ]
  },
  {
   "cell_type": "code",
   "execution_count": 20,
   "id": "af2b1438-ead7-4eb6-9d42-0c657d3e344e",
   "metadata": {},
   "outputs": [],
   "source": [
    "from sympy.physics.quantum.dagger import Dagger"
   ]
  },
  {
   "cell_type": "code",
   "execution_count": 21,
   "id": "af121778-898c-462b-8c49-7dcef63c5dab",
   "metadata": {},
   "outputs": [],
   "source": [
    "def measureAmongst2(idx, vect):\n",
    "    if (idx==1) : projection = Dagger(TensorProduct(Matrix([1, 1]), I))\n",
    "    if (idx==2) : projection = Dagger(TensorProduct(I, Matrix([1, 1])))\n",
    "    M=projection*sp.Abs(vect)\n",
    "    return sp.simplify((1/M.norm())*(M))"
   ]
  },
  {
   "cell_type": "code",
   "execution_count": 22,
   "id": "0a4b1dbb-390a-4ac4-a7b3-17a68425eb8a",
   "metadata": {},
   "outputs": [],
   "source": [
    "def measureAmongst4(idx, vect):\n",
    "    if (idx==1) : projection = Dagger(TensorProduct(Matrix([1, 1]), I, I, I))\n",
    "    if (idx==2) : projection = Dagger(TensorProduct(I, Matrix([1, 1], I, I)))\n",
    "    if (idx==3) : projection = Dagger(TensorProduct(I, I, Matrix([1, 1], I)))\n",
    "    if (idx==4) : projection = Dagger(TensorProduct(I, I, I, Matrix([1, 1])))\n",
    "    M=projection*sp.Abs(vect)\n",
    "    return sp.simplify((1/M.norm())*(M))"
   ]
  },
  {
   "cell_type": "code",
   "execution_count": 37,
   "id": "d590d733-a06d-4f76-8ed1-4f85c66cc9a1",
   "metadata": {},
   "outputs": [
    {
     "data": {
      "image/png": "[encoded data removed]",
      "text/latex": [
       "$\\displaystyle \\left[\\begin{matrix}\\frac{\\sqrt{2}}{2}\\\\\\frac{\\sqrt{2}}{2}\\\\0\\\\0\\end{matrix}\\right]$"
      ],
      "text/plain": [
       "⎡√2⎤\n",
       "⎢──⎥\n",
       "⎢2 ⎥\n",
       "⎢  ⎥\n",
       "⎢√2⎥\n",
       "⎢──⎥\n",
       "⎢2 ⎥\n",
       "⎢  ⎥\n",
       "⎢0 ⎥\n",
       "⎢  ⎥\n",
       "⎣0 ⎦"
      ]
     },
     "execution_count": 37,
     "metadata": {},
     "output_type": "execute_result"
    }
   ],
   "source": [
    "projection = Dagger(TensorProduct(Matrix([1, 1]), Matrix([1, 1]), I, I))\n",
    "vect = TensorProduct(I, I, H, H)*Uf*TensorProduct(I, I, H, H) * TensorProduct(ψ1, ψ2, ψ3, ψ4)\n",
    "M=projection*sp.Abs(vect)\n",
    "sp.simplify((1/M.norm())*(M)).subs({α1:1, β1:0, α2:1, β2:0, α3:1, β3:0, α4:1, β4:0})"
   ]
  },
  {
   "cell_type": "code",
   "execution_count": 16,
   "id": "b2592a7a-7c6f-4dc3-af5d-ef68b65bd215",
   "metadata": {},
   "outputs": [
    {
     "data": {
      "image/png": "[encoded data removed]",
      "text/latex": [
       "$\\displaystyle \\left[\\begin{matrix}1 & 0 & 0 & 0 & 1 & 0 & 0 & 0\\\\0 & 1 & 0 & 0 & 0 & 1 & 0 & 0\\\\0 & 0 & 1 & 0 & 0 & 0 & 1 & 0\\\\0 & 0 & 0 & 1 & 0 & 0 & 0 & 1\\end{matrix}\\right]$"
      ],
      "text/plain": [
       "⎡1  0  0  0  1  0  0  0⎤\n",
       "⎢                      ⎥\n",
       "⎢0  1  0  0  0  1  0  0⎥\n",
       "⎢                      ⎥\n",
       "⎢0  0  1  0  0  0  1  0⎥\n",
       "⎢                      ⎥\n",
       "⎣0  0  0  1  0  0  0  1⎦"
      ]
     },
     "execution_count": 16,
     "metadata": {},
     "output_type": "execute_result"
    }
   ],
   "source": [
    "sp.Matrix([[ 1, 0, 0, 0, 1, 0, 0, 0],\n",
    "        [ 0, 1, 0, 0, 0, 1, 0, 0],\n",
    "        [ 0, 0, 1, 0, 0, 0, 1, 0],\n",
    "        [ 0, 0, 0, 1, 0, 0, 0, 1]])"
   ]
  },
  {
   "cell_type": "code",
   "execution_count": null,
   "id": "010c0091-6e92-4029-840e-caf5949af2aa",
   "metadata": {},
   "outputs": [],
   "source": []
  }
 ],
 "metadata": {
  "kernelspec": {
   "display_name": "Python 3 (ipykernel)",
   "language": "python",
   "name": "python3"
  },
  "language_info": {
   "codemirror_mode": {
    "name": "ipython",
    "version": 3
   },
   "file_extension": ".py",
   "mimetype": "text/x-python",
   "name": "python",
   "nbconvert_exporter": "python",
   "pygments_lexer": "ipython3",
   "version": "3.11.6"
  }
 },
 "nbformat": 4,
 "nbformat_minor": 5
}
