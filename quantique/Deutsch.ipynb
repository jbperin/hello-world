{
 "cells": [
  {
   "cell_type": "code",
   "execution_count": 7,
   "id": "6ce95483",
   "metadata": {},
   "outputs": [],
   "source": [
    "import sympy\n",
    "from sympy.physics.quantum import Bra, Ket\n",
    "from sympy import Matrix\n",
    "from sympy.physics.quantum import TensorProduct\n",
    "from sympy.physics.quantum.gate import HadamardGate,CNotGate, IdentityGate\n",
    "from sympy.physics.quantum.qapply import qapply\n",
    "from sympy import eye\n",
    "\n",
    "from sympy.physics.quantum import Ket\n",
    "from sympy import sqrt\n",
    "\n",
    "sympy.init_printing()"
   ]
  },
  {
   "cell_type": "code",
   "execution_count": 8,
   "id": "b43d9b8a",
   "metadata": {},
   "outputs": [],
   "source": [
    "#definition des états\n",
    "ket0 = Matrix([1,0])\n",
    "ket1 = Matrix([0,1])\n",
    "\n",
    "α = sympy.Symbol(\"α\")\n",
    "β = sympy.Symbol(\"β\")\n",
    "ϕ = α * ket0 + β * ket1 # Matrix([α,β])\n",
    "\n",
    "Φp = Matrix([1/sqrt(2),0,0,1/sqrt(2)])\n"
   ]
  },
  {
   "cell_type": "code",
   "execution_count": 9,
   "id": "441b01cc",
   "metadata": {},
   "outputs": [],
   "source": [
    "notgate=Matrix([[0,1], [1,0]])\n",
    "hadamardgate = Matrix([[1/sqrt(2),1/sqrt(2)], [1/sqrt(2),-1/sqrt(2)]])\n",
    "Zgate=Matrix([[1,0], [0,-1]])\n",
    "\n",
    "SWAP = Matrix ([[1,0,0,0],[0,0,1,0],[0,1,0,0],[0,0,0,1]])\n",
    "cnotgate = TensorProduct(eye(2),ket0*ket0.T) + TensorProduct(notgate, ket1*ket1.T) # second qubit is the control\n"
   ]
  },
  {
   "cell_type": "code",
   "execution_count": 5,
   "id": "96792cfa",
   "metadata": {},
   "outputs": [
    {
     "data": {
      "text/latex": [
       "$\\displaystyle \\left[\\begin{matrix}\\frac{1}{2}\\\\\\frac{1}{2}\\\\- \\frac{1}{2}\\\\- \\frac{1}{2}\\end{matrix}\\right]$"
      ],
      "text/plain": [
       "⎡1/2 ⎤\n",
       "⎢    ⎥\n",
       "⎢1/2 ⎥\n",
       "⎢    ⎥\n",
       "⎢-1/2⎥\n",
       "⎢    ⎥\n",
       "⎣-1/2⎦"
      ]
     },
     "execution_count": 5,
     "metadata": {},
     "output_type": "execute_result"
    }
   ],
   "source": [
    "ps=Matrix([1/sqrt(2), 1/sqrt(2)])\n",
    "ms=Matrix([1/sqrt(2), -1/sqrt(2)])\n",
    "TensorProduct(ms, ps)"
   ]
  },
  {
   "cell_type": "code",
   "execution_count": 52,
   "id": "f5206577",
   "metadata": {},
   "outputs": [
    {
     "data": {
      "text/latex": [
       "$\\displaystyle \\left[\\begin{matrix}\\frac{\\sqrt{2}}{2} & \\frac{\\sqrt{2}}{2} & 0 & 0\\\\\\frac{\\sqrt{2}}{2} & - \\frac{\\sqrt{2}}{2} & 0 & 0\\\\0 & 0 & \\frac{\\sqrt{2}}{2} & \\frac{\\sqrt{2}}{2}\\\\0 & 0 & \\frac{\\sqrt{2}}{2} & - \\frac{\\sqrt{2}}{2}\\end{matrix}\\right]$"
      ],
      "text/plain": [
       "⎡√2   √2           ⎤\n",
       "⎢──   ──   0    0  ⎥\n",
       "⎢2    2            ⎥\n",
       "⎢                  ⎥\n",
       "⎢√2  -√2           ⎥\n",
       "⎢──  ────  0    0  ⎥\n",
       "⎢2    2            ⎥\n",
       "⎢                  ⎥\n",
       "⎢          √2   √2 ⎥\n",
       "⎢0    0    ──   ── ⎥\n",
       "⎢          2    2  ⎥\n",
       "⎢                  ⎥\n",
       "⎢          √2  -√2 ⎥\n",
       "⎢0    0    ──  ────⎥\n",
       "⎣          2    2  ⎦"
      ]
     },
     "execution_count": 52,
     "metadata": {},
     "output_type": "execute_result"
    }
   ],
   "source": [
    "afterU = TensorProduct(eye(2),hadamardgate)\n",
    "afterU"
   ]
  },
  {
   "cell_type": "code",
   "execution_count": 4,
   "id": "406da24a",
   "metadata": {},
   "outputs": [
    {
     "data": {
      "text/latex": [
       "$\\displaystyle \\left[\\begin{matrix}\\frac{1}{2}\\\\\\frac{1}{2}\\\\- \\frac{1}{2}\\\\- \\frac{1}{2}\\end{matrix}\\right]$"
      ],
      "text/plain": [
       "⎡1/2 ⎤\n",
       "⎢    ⎥\n",
       "⎢1/2 ⎥\n",
       "⎢    ⎥\n",
       "⎢-1/2⎥\n",
       "⎢    ⎥\n",
       "⎣-1/2⎦"
      ]
     },
     "execution_count": 4,
     "metadata": {},
     "output_type": "execute_result"
    }
   ],
   "source": [
    "TensorProduct(hadamardgate*ket1,hadamardgate*ket0)"
   ]
  },
  {
   "cell_type": "code",
   "execution_count": 7,
   "id": "a9d50ba6",
   "metadata": {},
   "outputs": [
    {
     "data": {
      "text/latex": [
       "$\\displaystyle \\left[\\begin{matrix}\\frac{1}{2}\\\\\\frac{1}{2}\\\\- \\frac{1}{2}\\\\- \\frac{1}{2}\\end{matrix}\\right]$"
      ],
      "text/plain": [
       "⎡1/2 ⎤\n",
       "⎢    ⎥\n",
       "⎢1/2 ⎥\n",
       "⎢    ⎥\n",
       "⎢-1/2⎥\n",
       "⎢    ⎥\n",
       "⎣-1/2⎦"
      ]
     },
     "execution_count": 7,
     "metadata": {},
     "output_type": "execute_result"
    }
   ],
   "source": [
    "TensorProduct(hadamardgate, hadamardgate)*TensorProduct(ket1,ket0)"
   ]
  },
  {
   "cell_type": "code",
   "execution_count": 12,
   "id": "00a71648",
   "metadata": {},
   "outputs": [
    {
     "data": {
      "text/latex": [
       "$\\displaystyle \\left[\\begin{matrix}\\frac{1}{2}\\\\\\frac{1}{2}\\\\- \\frac{1}{2}\\\\- \\frac{1}{2}\\end{matrix}\\right]$"
      ],
      "text/plain": [
       "⎡1/2 ⎤\n",
       "⎢    ⎥\n",
       "⎢1/2 ⎥\n",
       "⎢    ⎥\n",
       "⎢-1/2⎥\n",
       "⎢    ⎥\n",
       "⎣-1/2⎦"
      ]
     },
     "execution_count": 12,
     "metadata": {},
     "output_type": "execute_result"
    }
   ],
   "source": [
    "TensorProduct(((ket0-ket1)/sqrt(2)), ((ket0+ket1)/sqrt(2)))"
   ]
  },
  {
   "cell_type": "code",
   "execution_count": 14,
   "id": "386d243f",
   "metadata": {},
   "outputs": [
    {
     "data": {
      "text/latex": [
       "$\\displaystyle \\left[\\begin{matrix}\\frac{1}{2}\\\\\\frac{1}{2}\\\\- \\frac{1}{2}\\\\- \\frac{1}{2}\\end{matrix}\\right]$"
      ],
      "text/plain": [
       "⎡1/2 ⎤\n",
       "⎢    ⎥\n",
       "⎢1/2 ⎥\n",
       "⎢    ⎥\n",
       "⎢-1/2⎥\n",
       "⎢    ⎥\n",
       "⎣-1/2⎦"
      ]
     },
     "execution_count": 14,
     "metadata": {},
     "output_type": "execute_result"
    }
   ],
   "source": [
    "TensorProduct((ket0-ket1), (ket0+ket1))/(2)"
   ]
  },
  {
   "cell_type": "code",
   "execution_count": 15,
   "id": "956255b9",
   "metadata": {},
   "outputs": [
    {
     "data": {
      "text/latex": [
       "$\\displaystyle \\left[\\begin{matrix}\\frac{1}{2}\\\\\\frac{1}{2}\\\\- \\frac{1}{2}\\\\- \\frac{1}{2}\\end{matrix}\\right]$"
      ],
      "text/plain": [
       "⎡1/2 ⎤\n",
       "⎢    ⎥\n",
       "⎢1/2 ⎥\n",
       "⎢    ⎥\n",
       "⎢-1/2⎥\n",
       "⎢    ⎥\n",
       "⎣-1/2⎦"
      ]
     },
     "execution_count": 15,
     "metadata": {},
     "output_type": "execute_result"
    }
   ],
   "source": [
    "TensorProduct((ket0-ket1),ket0)/2 + TensorProduct((ket0-ket1),ket1)/2"
   ]
  },
  {
   "cell_type": "code",
   "execution_count": 93,
   "id": "4d302a82",
   "metadata": {},
   "outputs": [],
   "source": [
    "beforeU = TensorProduct(hadamardgate*ket1,hadamardgate*ket0)"
   ]
  },
  {
   "cell_type": "code",
   "execution_count": 159,
   "id": "25a64593",
   "metadata": {},
   "outputs": [],
   "source": [
    "# F1 sets ouput to 0 whatever the input ==> Constant\n",
    "# F2 sets ouput equals to input ==> Balanced\n",
    "# F3 sets ouput to negate input ==> Balanced\n",
    "# F4 sets ouput to 1 whatever the input ==> Constant\n",
    "nF  = 4\n",
    "\n",
    "\n",
    "Uf1 = Matrix([[1, 0, 0, 0],[0, 1, 0, 0],[0, 0, 1, 0],[0, 0, 0, 1]]) # = eye(4)\n",
    "Uf2 = Matrix([[1, 0, 0, 0],[0, 0, 0, 1],[0, 0, 1, 0],[0, 1, 0, 0]])\n",
    "Uf3 = Matrix([[0, 0, 1, 0],[0, 1, 0, 0],[1, 0, 0, 0],[0, 0, 0, 1]])\n",
    "Uf4 = Matrix([[0, 0, 1, 0],[0, 0, 0, 1],[1, 0, 0, 0],[0, 1, 0, 0]])\n",
    "\n",
    "if nF == 1:\n",
    "    f0, f1 = 0, 0\n",
    "    Uf = Uf1\n",
    "elif nF == 2:\n",
    "    f0, f1 = 0, 1\n",
    "    Uf = Uf2\n",
    "elif nF == 3:\n",
    "    f0, f1 = 1, 0\n",
    "    Uf = Uf3\n",
    "elif nF == 4:\n",
    "    f0, f1 = 1, 1\n",
    "    Uf = Uf4\n",
    "else:\n",
    "    print (\"ERROR unknown function\")\n",
    "#Uf = Matrix([[0,0, 1, 0],[0, 0, 0, 1],[0,1, 0, 0],[0,0, 1, 0]])"
   ]
  },
  {
   "cell_type": "code",
   "execution_count": 160,
   "id": "c169266c",
   "metadata": {},
   "outputs": [
    {
     "data": {
      "text/latex": [
       "$\\displaystyle \\left[\\begin{matrix}0 & 0 & 1 & 0\\\\0 & 0 & 0 & 1\\\\1 & 0 & 0 & 0\\\\0 & 1 & 0 & 0\\end{matrix}\\right]$"
      ],
      "text/plain": [
       "⎡0  0  1  0⎤\n",
       "⎢          ⎥\n",
       "⎢0  0  0  1⎥\n",
       "⎢          ⎥\n",
       "⎢1  0  0  0⎥\n",
       "⎢          ⎥\n",
       "⎣0  1  0  0⎦"
      ]
     },
     "execution_count": 160,
     "metadata": {},
     "output_type": "execute_result"
    }
   ],
   "source": [
    "Uf"
   ]
  },
  {
   "cell_type": "code",
   "execution_count": 161,
   "id": "81a217dd",
   "metadata": {},
   "outputs": [
    {
     "data": {
      "text/latex": [
       "$\\displaystyle \\left[\\begin{matrix}- \\frac{1}{2}\\\\- \\frac{1}{2}\\\\\\frac{1}{2}\\\\\\frac{1}{2}\\end{matrix}\\right]$"
      ],
      "text/plain": [
       "⎡-1/2⎤\n",
       "⎢    ⎥\n",
       "⎢-1/2⎥\n",
       "⎢    ⎥\n",
       "⎢1/2 ⎥\n",
       "⎢    ⎥\n",
       "⎣1/2 ⎦"
      ]
     },
     "execution_count": 161,
     "metadata": {},
     "output_type": "execute_result"
    }
   ],
   "source": [
    "Uf*beforeU"
   ]
  },
  {
   "cell_type": "code",
   "execution_count": 162,
   "id": "5c8a5bdf",
   "metadata": {},
   "outputs": [
    {
     "data": {
      "text/latex": [
       "$\\displaystyle \\left[\\begin{matrix}- \\frac{1}{2}\\\\- \\frac{1}{2}\\\\\\frac{1}{2}\\\\\\frac{1}{2}\\end{matrix}\\right]$"
      ],
      "text/plain": [
       "⎡-1/2⎤\n",
       "⎢    ⎥\n",
       "⎢-1/2⎥\n",
       "⎢    ⎥\n",
       "⎢1/2 ⎥\n",
       "⎢    ⎥\n",
       "⎣1/2 ⎦"
      ]
     },
     "execution_count": 162,
     "metadata": {},
     "output_type": "execute_result"
    }
   ],
   "source": [
    "#TensorProduct((0 ^ f0)?ket0:ket1, ((-1**f0)*ket0 + (-1**f1)*ket1)/sqrt(2))\n",
    "P0=(ket1 if (0 ^ f0) else ket0) - (ket1 if (1 ^ f0) else ket0)\n",
    "P1=(ket1 if (0 ^ f1) else ket0) - (ket1 if (1 ^ f1) else ket0)\n",
    "TensorProduct(P0,ket0)/2 + TensorProduct(P1,ket1)/2"
   ]
  },
  {
   "cell_type": "code",
   "execution_count": 163,
   "id": "af137351",
   "metadata": {},
   "outputs": [
    {
     "data": {
      "text/latex": [
       "$\\displaystyle \\left[\\begin{matrix}- \\frac{1}{2}\\\\- \\frac{1}{2}\\\\\\frac{1}{2}\\\\\\frac{1}{2}\\end{matrix}\\right]$"
      ],
      "text/plain": [
       "⎡-1/2⎤\n",
       "⎢    ⎥\n",
       "⎢-1/2⎥\n",
       "⎢    ⎥\n",
       "⎢1/2 ⎥\n",
       "⎢    ⎥\n",
       "⎣1/2 ⎦"
      ]
     },
     "execution_count": 163,
     "metadata": {},
     "output_type": "execute_result"
    }
   ],
   "source": [
    "(((-1)**f0))*TensorProduct(ket0-ket1,ket0)/2 + (((-1)**f1))*TensorProduct(ket0-ket1,ket1)/2"
   ]
  },
  {
   "cell_type": "code",
   "execution_count": 164,
   "id": "7c563eb9",
   "metadata": {},
   "outputs": [
    {
     "data": {
      "text/latex": [
       "$\\displaystyle \\left[\\begin{matrix}- \\frac{1}{2}\\\\- \\frac{1}{2}\\\\\\frac{1}{2}\\\\\\frac{1}{2}\\end{matrix}\\right]$"
      ],
      "text/plain": [
       "⎡-1/2⎤\n",
       "⎢    ⎥\n",
       "⎢-1/2⎥\n",
       "⎢    ⎥\n",
       "⎢1/2 ⎥\n",
       "⎢    ⎥\n",
       "⎣1/2 ⎦"
      ]
     },
     "execution_count": 164,
     "metadata": {},
     "output_type": "execute_result"
    }
   ],
   "source": [
    "TensorProduct(ms, (((-1)**f0)*ket0 + ((-1)**f1)*ket1)/sqrt(2))"
   ]
  },
  {
   "cell_type": "code",
   "execution_count": 165,
   "id": "b6a11d70",
   "metadata": {},
   "outputs": [
    {
     "data": {
      "text/latex": [
       "$\\displaystyle \\left[\\begin{matrix}- \\frac{1}{2}\\\\- \\frac{1}{2}\\\\\\frac{1}{2}\\\\\\frac{1}{2}\\end{matrix}\\right]$"
      ],
      "text/plain": [
       "⎡-1/2⎤\n",
       "⎢    ⎥\n",
       "⎢-1/2⎥\n",
       "⎢    ⎥\n",
       "⎢1/2 ⎥\n",
       "⎢    ⎥\n",
       "⎣1/2 ⎦"
      ]
     },
     "execution_count": 165,
     "metadata": {},
     "output_type": "execute_result"
    }
   ],
   "source": [
    "((-1)**f0)*TensorProduct(ms,((ket0+((-1)**(f0^f1))*ket1)/sqrt(2)))"
   ]
  },
  {
   "cell_type": "code",
   "execution_count": 166,
   "id": "c00cc4a0",
   "metadata": {},
   "outputs": [
    {
     "data": {
      "text/latex": [
       "$\\displaystyle \\left[\\begin{matrix}- \\frac{1}{2}\\\\- \\frac{1}{2}\\\\\\frac{1}{2}\\\\\\frac{1}{2}\\end{matrix}\\right]$"
      ],
      "text/plain": [
       "⎡-1/2⎤\n",
       "⎢    ⎥\n",
       "⎢-1/2⎥\n",
       "⎢    ⎥\n",
       "⎢1/2 ⎥\n",
       "⎢    ⎥\n",
       "⎣1/2 ⎦"
      ]
     },
     "execution_count": 166,
     "metadata": {},
     "output_type": "execute_result"
    }
   ],
   "source": [
    "Uf*beforeU"
   ]
  },
  {
   "cell_type": "code",
   "execution_count": 167,
   "id": "459a2549",
   "metadata": {},
   "outputs": [
    {
     "data": {
      "text/latex": [
       "$\\displaystyle \\left[\\begin{matrix}- \\frac{\\sqrt{2}}{2}\\\\0\\\\\\frac{\\sqrt{2}}{2}\\\\0\\end{matrix}\\right]$"
      ],
      "text/plain": [
       "⎡-√2 ⎤\n",
       "⎢────⎥\n",
       "⎢ 2  ⎥\n",
       "⎢    ⎥\n",
       "⎢ 0  ⎥\n",
       "⎢    ⎥\n",
       "⎢ √2 ⎥\n",
       "⎢ ── ⎥\n",
       "⎢ 2  ⎥\n",
       "⎢    ⎥\n",
       "⎣ 0  ⎦"
      ]
     },
     "execution_count": 167,
     "metadata": {},
     "output_type": "execute_result"
    }
   ],
   "source": [
    "P0xor1 = ket1 if (f0 ^ f1) else ket0\n",
    "((-1)**f0)*TensorProduct(ms,P0xor1)"
   ]
  },
  {
   "cell_type": "code",
   "execution_count": 168,
   "id": "be7acb2d",
   "metadata": {},
   "outputs": [
    {
     "data": {
      "text/latex": [
       "$\\displaystyle \\left[\\begin{matrix}- \\frac{\\sqrt{2}}{2}\\\\0\\\\\\frac{\\sqrt{2}}{2}\\\\0\\end{matrix}\\right]$"
      ],
      "text/plain": [
       "⎡-√2 ⎤\n",
       "⎢────⎥\n",
       "⎢ 2  ⎥\n",
       "⎢    ⎥\n",
       "⎢ 0  ⎥\n",
       "⎢    ⎥\n",
       "⎢ √2 ⎥\n",
       "⎢ ── ⎥\n",
       "⎢ 2  ⎥\n",
       "⎢    ⎥\n",
       "⎣ 0  ⎦"
      ]
     },
     "execution_count": 168,
     "metadata": {},
     "output_type": "execute_result"
    }
   ],
   "source": [
    "afterU*Uf*beforeU"
   ]
  },
  {
   "cell_type": "code",
   "execution_count": 177,
   "id": "dc0a084c",
   "metadata": {},
   "outputs": [
    {
     "data": {
      "text/latex": [
       "$\\displaystyle \\left[\\begin{matrix}0\\\\0\\end{matrix}\\right]$"
      ],
      "text/plain": [
       "⎡0⎤\n",
       "⎢ ⎥\n",
       "⎣0⎦"
      ]
     },
     "execution_count": 177,
     "metadata": {},
     "output_type": "execute_result"
    }
   ],
   "source": [
    "b, c = 0, 1\n",
    "Left = (notgate**c)*(ket1 if (b == 1) else ket0)\n",
    "Right = (ket1 if (b ^ c) else ket0)\n",
    "Left-Right"
   ]
  },
  {
   "cell_type": "code",
   "execution_count": 1,
   "id": "0e743cde",
   "metadata": {},
   "outputs": [],
   "source": [
    "%matplotlib inline"
   ]
  },
  {
   "cell_type": "markdown",
   "id": "3b0c8163",
   "metadata": {},
   "source": [
    "$$\\[\n",
    "\\Qcircuit @C=1em @R=0.7em {\n",
    "    \\lstick{\\ket{0}} & \\gate{H} & \\ctrl{1} & \\gate{H} & \\meter \\\\\n",
    "    \\lstick{\\ket{0}} & \\gate{H} & \\targ    & \\gate{H} & \\meter \\\\\n",
    "    \\lstick{\\ket{1}} & \\gate{H} & \\qw      & \\qw      & \\qw\n",
    "}\n",
    "\\]$$"
   ]
  },
  {
   "cell_type": "code",
   "execution_count": 1,
   "id": "b52318bd",
   "metadata": {},
   "outputs": [
    {
     "ename": "AttributeError",
     "evalue": "'list' object has no attribute 'args'",
     "output_type": "error",
     "traceback": [
      "\u001b[0;31m---------------------------------------------------------------------------\u001b[0m",
      "\u001b[0;31mAttributeError\u001b[0m                            Traceback (most recent call last)",
      "Cell \u001b[0;32mIn[1], line 27\u001b[0m\n\u001b[1;32m     24\u001b[0m     gates\u001b[38;5;241m.\u001b[39mappend(H(q))\n\u001b[1;32m     26\u001b[0m \u001b[38;5;66;03m# Dessin du circuit\u001b[39;00m\n\u001b[0;32m---> 27\u001b[0m \u001b[43mCircuitPlot\u001b[49m\u001b[43m(\u001b[49m\u001b[43mgates\u001b[49m\u001b[43m,\u001b[49m\u001b[43m \u001b[49m\u001b[43mnqubits\u001b[49m\u001b[38;5;241;43m=\u001b[39;49m\u001b[43mn\u001b[49m\u001b[38;5;241;43m+\u001b[39;49m\u001b[38;5;241;43m1\u001b[39;49m\u001b[43m,\u001b[49m\u001b[43m \u001b[49m\u001b[43mlabels\u001b[49m\u001b[38;5;241;43m=\u001b[39;49m\u001b[38;5;28;43;01mTrue\u001b[39;49;00m\u001b[43m)\u001b[49m\n",
      "File \u001b[0;32m/opt/conda/lib/python3.11/site-packages/sympy/physics/quantum/circuitplot.py:64\u001b[0m, in \u001b[0;36mCircuitPlot.__init__\u001b[0;34m(self, c, nqubits, **kwargs)\u001b[0m\n\u001b[1;32m     62\u001b[0m     \u001b[38;5;28;01mraise\u001b[39;00m \u001b[38;5;167;01mImportError\u001b[39;00m(\u001b[38;5;124m'\u001b[39m\u001b[38;5;124mnumpy or matplotlib not available.\u001b[39m\u001b[38;5;124m'\u001b[39m)\n\u001b[1;32m     63\u001b[0m \u001b[38;5;28mself\u001b[39m\u001b[38;5;241m.\u001b[39mcircuit \u001b[38;5;241m=\u001b[39m c\n\u001b[0;32m---> 64\u001b[0m \u001b[38;5;28mself\u001b[39m\u001b[38;5;241m.\u001b[39mngates \u001b[38;5;241m=\u001b[39m \u001b[38;5;28mlen\u001b[39m(\u001b[38;5;28;43mself\u001b[39;49m\u001b[38;5;241;43m.\u001b[39;49m\u001b[43mcircuit\u001b[49m\u001b[38;5;241;43m.\u001b[39;49m\u001b[43margs\u001b[49m)\n\u001b[1;32m     65\u001b[0m \u001b[38;5;28mself\u001b[39m\u001b[38;5;241m.\u001b[39mnqubits \u001b[38;5;241m=\u001b[39m nqubits\n\u001b[1;32m     66\u001b[0m \u001b[38;5;28mself\u001b[39m\u001b[38;5;241m.\u001b[39mupdate(kwargs)\n",
      "\u001b[0;31mAttributeError\u001b[0m: 'list' object has no attribute 'args'"
     ]
    }
   ],
   "source": [
    "from sympy.physics.quantum.qubit import Qubit\n",
    "from sympy.physics.quantum.gate import Gate\n",
    "from sympy.physics.quantum.gate import H, X, CNOT\n",
    "from sympy.physics.quantum.circuitplot import CircuitPlot\n",
    "from sympy import symbols\n",
    "\n",
    "# Définition des qubits\n",
    "n = 2  # Nombre de qubits de travail\n",
    "qubits = list(range(n + 1))  # Inclut le qubit auxiliaire\n",
    "\n",
    "# Étape 1 : Hadamard sur tous les qubits\n",
    "gates = [H(q) for q in qubits]\n",
    "\n",
    "# Étape 2 : Initialisation du dernier qubit en |1⟩ (X + H)\n",
    "gates.append(X(n))\n",
    "gates.append(H(n))\n",
    "\n",
    "# Étape 3 : Application d'un oracle équilibré (ex: CNOT)\n",
    "gates.append(CNOT(0, n))\n",
    "gates.append(CNOT(1, n))\n",
    "\n",
    "# Étape 4 : Hadamard sur les n premiers qubits\n",
    "for q in range(n):\n",
    "    gates.append(H(q))\n",
    "\n",
    "# Dessin du circuit\n",
    "CircuitPlot(gates, nqubits=n+1, labels=True)\n"
   ]
  },
  {
   "cell_type": "code",
   "execution_count": null,
   "id": "507de4f7",
   "metadata": {},
   "outputs": [],
   "source": []
  }
 ],
 "metadata": {
  "kernelspec": {
   "display_name": "Python 3 (ipykernel)",
   "language": "python",
   "name": "python3"
  },
  "language_info": {
   "codemirror_mode": {
    "name": "ipython",
    "version": 3
   },
   "file_extension": ".py",
   "mimetype": "text/x-python",
   "name": "python",
   "nbconvert_exporter": "python",
   "pygments_lexer": "ipython3",
   "version": "3.11.6"
  }
 },
 "nbformat": 4,
 "nbformat_minor": 5
}
