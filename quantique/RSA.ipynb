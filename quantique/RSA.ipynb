{
 "cells": [
  {
   "cell_type": "code",
   "execution_count": 7,
   "id": "cc420d13-dc5d-43dc-b44d-58c18358f771",
   "metadata": {},
   "outputs": [],
   "source": [
    "import sympy as sp\n",
    "import random"
   ]
  },
  {
   "cell_type": "code",
   "execution_count": 8,
   "id": "624bd62c-2e19-450c-ac62-269b818f6a13",
   "metadata": {},
   "outputs": [],
   "source": [
    "p,q=13,17\n",
    "N=p*q\n",
    "T=(p-1)*(q-1)"
   ]
  },
  {
   "cell_type": "code",
   "execution_count": 9,
   "id": "45157372-4646-4f26-aa99-b4c98ebbfff6",
   "metadata": {},
   "outputs": [],
   "source": [
    "e=random.choice([i for i in range(1,T) if sp.gcd(T,i)==1])"
   ]
  },
  {
   "cell_type": "code",
   "execution_count": 10,
   "id": "152fbe56-74e3-403d-b2fd-2be018711cfa",
   "metadata": {},
   "outputs": [],
   "source": [
    "[d]=[i for i in range(1, T) if (i*e)%T == 1]"
   ]
  },
  {
   "cell_type": "code",
   "execution_count": 11,
   "id": "6dd7b6bc-e817-4000-a5f3-357633fb1661",
   "metadata": {},
   "outputs": [
    {
     "data": {
      "text/plain": [
       "(13, 17, 221, 155, 83)"
      ]
     },
     "execution_count": 11,
     "metadata": {},
     "output_type": "execute_result"
    }
   ],
   "source": [
    "p, q, N,e, d"
   ]
  },
  {
   "cell_type": "code",
   "execution_count": 12,
   "id": "c473cf68-a2fd-40d8-a728-df7d101ed2c1",
   "metadata": {},
   "outputs": [],
   "source": [
    "def encyf(m):\n",
    "    return (m**e)%N\n",
    "def decyf(m):\n",
    "    return (m**d)%N"
   ]
  },
  {
   "cell_type": "code",
   "execution_count": 42,
   "id": "2dc13da5-8fb3-4de1-9ee6-09cebc40b6bd",
   "metadata": {},
   "outputs": [],
   "source": [
    "M = random.choice([m for m in range(1,N) if sp.gcd(m, N) == 1])"
   ]
  },
  {
   "cell_type": "code",
   "execution_count": 38,
   "id": "da0d5b41-7184-4442-ba1d-a0f24ab26b51",
   "metadata": {},
   "outputs": [
    {
     "data": {
      "text/plain": [
       "13"
      ]
     },
     "execution_count": 38,
     "metadata": {},
     "output_type": "execute_result"
    }
   ],
   "source": [
    "M\n"
   ]
  },
  {
   "cell_type": "code",
   "execution_count": 39,
   "id": "1a3f3d19-8252-4ad2-9033-a80f984875df",
   "metadata": {},
   "outputs": [
    {
     "data": {
      "text/plain": [
       "True"
      ]
     },
     "execution_count": 39,
     "metadata": {},
     "output_type": "execute_result"
    }
   ],
   "source": [
    "encyf(M)==decyf(M)"
   ]
  },
  {
   "cell_type": "code",
   "execution_count": null,
   "id": "aeb77e1a-c888-4d26-a172-c6add4acd853",
   "metadata": {},
   "outputs": [],
   "source": []
  },
  {
   "cell_type": "code",
   "execution_count": 40,
   "id": "7d8b8708-1851-4b00-ab1f-7c6e164e335b",
   "metadata": {},
   "outputs": [
    {
     "data": {
      "text/plain": [
       "True"
      ]
     },
     "execution_count": 40,
     "metadata": {},
     "output_type": "execute_result"
    }
   ],
   "source": [
    "decyf(encyf(M))==M"
   ]
  },
  {
   "cell_type": "code",
   "execution_count": 41,
   "id": "823c4619-867c-4b11-86fa-82d548095530",
   "metadata": {},
   "outputs": [
    {
     "data": {
      "text/plain": [
       "[1,\n",
       " 2,\n",
       " 3,\n",
       " 4,\n",
       " 5,\n",
       " 6,\n",
       " 7,\n",
       " 8,\n",
       " 9,\n",
       " 10,\n",
       " 11,\n",
       " 12,\n",
       " 14,\n",
       " 15,\n",
       " 16,\n",
       " 18,\n",
       " 19,\n",
       " 20,\n",
       " 21,\n",
       " 22,\n",
       " 23,\n",
       " 24,\n",
       " 25,\n",
       " 27,\n",
       " 28,\n",
       " 29,\n",
       " 30,\n",
       " 31,\n",
       " 32,\n",
       " 33,\n",
       " 35,\n",
       " 36,\n",
       " 37,\n",
       " 38,\n",
       " 40,\n",
       " 41,\n",
       " 42,\n",
       " 43,\n",
       " 44,\n",
       " 45,\n",
       " 46,\n",
       " 47,\n",
       " 48,\n",
       " 49,\n",
       " 50,\n",
       " 53,\n",
       " 54,\n",
       " 55,\n",
       " 56,\n",
       " 57,\n",
       " 58,\n",
       " 59,\n",
       " 60,\n",
       " 61,\n",
       " 62,\n",
       " 63,\n",
       " 64,\n",
       " 66,\n",
       " 67,\n",
       " 69,\n",
       " 70,\n",
       " 71,\n",
       " 72,\n",
       " 73,\n",
       " 74,\n",
       " 75,\n",
       " 76,\n",
       " 77,\n",
       " 79,\n",
       " 80,\n",
       " 81,\n",
       " 82,\n",
       " 83,\n",
       " 84,\n",
       " 86,\n",
       " 87,\n",
       " 88,\n",
       " 89,\n",
       " 90,\n",
       " 92,\n",
       " 93,\n",
       " 94,\n",
       " 95,\n",
       " 96,\n",
       " 97,\n",
       " 98,\n",
       " 99,\n",
       " 100,\n",
       " 101,\n",
       " 103,\n",
       " 105,\n",
       " 106,\n",
       " 107,\n",
       " 108,\n",
       " 109,\n",
       " 110,\n",
       " 111,\n",
       " 112,\n",
       " 113,\n",
       " 114,\n",
       " 115,\n",
       " 116,\n",
       " 118,\n",
       " 120,\n",
       " 121,\n",
       " 122,\n",
       " 123,\n",
       " 124,\n",
       " 125,\n",
       " 126,\n",
       " 127,\n",
       " 128,\n",
       " 129,\n",
       " 131,\n",
       " 132,\n",
       " 133,\n",
       " 134,\n",
       " 135,\n",
       " 137,\n",
       " 138,\n",
       " 139,\n",
       " 140,\n",
       " 141,\n",
       " 142,\n",
       " 144,\n",
       " 145,\n",
       " 146,\n",
       " 147,\n",
       " 148,\n",
       " 149,\n",
       " 150,\n",
       " 151,\n",
       " 152,\n",
       " 154,\n",
       " 155,\n",
       " 157,\n",
       " 158,\n",
       " 159,\n",
       " 160,\n",
       " 161,\n",
       " 162,\n",
       " 163,\n",
       " 164,\n",
       " 165,\n",
       " 166,\n",
       " 167,\n",
       " 168,\n",
       " 171,\n",
       " 172,\n",
       " 173,\n",
       " 174,\n",
       " 175,\n",
       " 176,\n",
       " 177,\n",
       " 178,\n",
       " 179,\n",
       " 180,\n",
       " 181,\n",
       " 183,\n",
       " 184,\n",
       " 185,\n",
       " 186,\n",
       " 188,\n",
       " 189,\n",
       " 190,\n",
       " 191,\n",
       " 192,\n",
       " 193,\n",
       " 194,\n",
       " 196,\n",
       " 197,\n",
       " 198,\n",
       " 199,\n",
       " 200,\n",
       " 201,\n",
       " 202,\n",
       " 203,\n",
       " 205,\n",
       " 206,\n",
       " 207,\n",
       " 209,\n",
       " 210,\n",
       " 211,\n",
       " 212,\n",
       " 213,\n",
       " 214,\n",
       " 215,\n",
       " 216,\n",
       " 217,\n",
       " 218,\n",
       " 219,\n",
       " 220]"
      ]
     },
     "execution_count": 41,
     "metadata": {},
     "output_type": "execute_result"
    }
   ],
   "source": [
    "[m for m in range(1,N) if sp.gcd(m, N) == 1]\n"
   ]
  },
  {
   "cell_type": "code",
   "execution_count": null,
   "id": "8c01c7f7-14e4-4967-9c3d-003f8d6dee2f",
   "metadata": {},
   "outputs": [],
   "source": []
  }
 ],
 "metadata": {
  "kernelspec": {
   "display_name": "Python 3 (ipykernel)",
   "language": "python",
   "name": "python3"
  },
  "language_info": {
   "codemirror_mode": {
    "name": "ipython",
    "version": 3
   },
   "file_extension": ".py",
   "mimetype": "text/x-python",
   "name": "python",
   "nbconvert_exporter": "python",
   "pygments_lexer": "ipython3",
   "version": "3.11.6"
  }
 },
 "nbformat": 4,
 "nbformat_minor": 5
}
