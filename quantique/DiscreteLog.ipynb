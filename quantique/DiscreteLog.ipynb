{
 "cells": [
  {
   "cell_type": "code",
   "execution_count": 24,
   "id": "cecff93b-5bc9-40c4-bc90-d3c79babc0a3",
   "metadata": {},
   "outputs": [],
   "source": [
    "import sympy as sp"
   ]
  },
  {
   "cell_type": "code",
   "execution_count": 25,
   "id": "417966aa-c41b-4d9b-92f8-1760f036db4a",
   "metadata": {},
   "outputs": [
    {
     "data": {
      "text/plain": [
       "{0, 1, 2, 3, 4, 5, 6}"
      ]
     },
     "execution_count": 25,
     "metadata": {},
     "output_type": "execute_result"
    }
   ],
   "source": [
    "p=7\n",
    "Zp = set(range(p))\n",
    "Zpm1= set(range(p-1))\n",
    "Zp"
   ]
  },
  {
   "cell_type": "code",
   "execution_count": 26,
   "id": "2f070353-0f2d-43f5-ab6f-c4c40ab26b05",
   "metadata": {},
   "outputs": [
    {
     "data": {
      "text/plain": [
       "{1, 2, 3, 4, 5, 6}"
      ]
     },
     "execution_count": 26,
     "metadata": {},
     "output_type": "execute_result"
    }
   ],
   "source": [
    "Zp - {0}\n"
   ]
  },
  {
   "cell_type": "code",
   "execution_count": 27,
   "id": "b086b461-ca8d-4fe6-b1b7-55db78223539",
   "metadata": {},
   "outputs": [],
   "source": [
    "def find_multiplicative_inverse(v,m):\n",
    "    \"\"\" finds the element x of set Zm such that v*x=e where e is neutral of operation *\"\"\"\n",
    "    found = None\n",
    "    for x in range(m):\n",
    "        if (v*x)%m == 1:\n",
    "            found = x\n",
    "            break\n",
    "    return found"
   ]
  },
  {
   "cell_type": "code",
   "execution_count": 28,
   "id": "849fdb04-45c9-420f-9177-fe76bd4e0215",
   "metadata": {},
   "outputs": [],
   "source": [
    "def find_coprime(n):\n",
    "    \"\"\" returns all integer i < n / gcd (i, n) = 1\"\"\"\n",
    "    return ([i for i in range(n) if sp.gcd(i,n) == 1])"
   ]
  },
  {
   "cell_type": "code",
   "execution_count": 29,
   "id": "7673985d-df5e-4613-9bde-7fe163889734",
   "metadata": {
    "collapsed": true,
    "jupyter": {
     "outputs_hidden": true
    }
   },
   "outputs": [
    {
     "data": {
      "text/plain": [
       "[(3, [1, 3, 2, 6, 4, 5]), (5, [1, 5, 4, 6, 2, 3])]"
      ]
     },
     "execution_count": 29,
     "metadata": {},
     "output_type": "execute_result"
    }
   ],
   "source": [
    "def find_generators(p):\n",
    "    \"\"\" finds all element g of set Zp* such that Zp* = {(g**n)%p for n in Zpm1} \"\"\"\n",
    "    Zp     = set(range(p))\n",
    "    Zpm1   = set(range(p-1))\n",
    "    generators    = []\n",
    "    for v in list(Zp - {0}):\n",
    "        list_arr = []\n",
    "        for d in list(Zpm1):\n",
    "            \n",
    "            if (v**d) % p not in list_arr:\n",
    "                list_arr.append((v**d) % p)\n",
    "                #print (f\"\\t{v} generated {(v**d) % p}\")\n",
    "            else:\n",
    "                #print (f\"\\t{v} not a generator. breaking\")\n",
    "                break\n",
    "        if set(list_arr) == Zp - {0}:\n",
    "            #print (f\"\\t{v} is a generator.\")\n",
    "            #print(f\"{v}\", list_arr)\n",
    "            generators.append((v, list_arr))\n",
    "    return generators\n",
    "find_generators(7)"
   ]
  },
  {
   "cell_type": "code",
   "execution_count": 30,
   "id": "9863b5ba-8308-49d3-828d-1a644bc1115e",
   "metadata": {},
   "outputs": [
    {
     "data": {
      "text/plain": [
       "[(0, None),\n",
       " (1, 1),\n",
       " (2, 8),\n",
       " (3, None),\n",
       " (4, 4),\n",
       " (5, None),\n",
       " (6, None),\n",
       " (7, 13),\n",
       " (8, 2),\n",
       " (9, None),\n",
       " (10, None),\n",
       " (11, 11),\n",
       " (12, None),\n",
       " (13, 7),\n",
       " (14, 14)]"
      ]
     },
     "execution_count": 30,
     "metadata": {},
     "output_type": "execute_result"
    }
   ],
   "source": [
    "m=15\n",
    "[(v,find_multiplicative_inverse(v,m)) for v in range (m)]\n"
   ]
  },
  {
   "cell_type": "code",
   "execution_count": 31,
   "id": "c914886e-8ea1-4e00-8283-232fa2bf6cb0",
   "metadata": {},
   "outputs": [
    {
     "data": {
      "text/plain": [
       "[1, 2, 4, 7, 8, 11, 13, 14]"
      ]
     },
     "execution_count": 31,
     "metadata": {},
     "output_type": "execute_result"
    }
   ],
   "source": [
    "find_coprime(m)"
   ]
  },
  {
   "cell_type": "code",
   "execution_count": 34,
   "id": "043db6ec-8363-4942-88e5-a7131c620c77",
   "metadata": {},
   "outputs": [
    {
     "name": "stdout",
     "output_type": "stream",
     "text": [
      "select generator g=5 and s=2 of Z7* : [1, 5, 4, 6, 2, 3]\n"
     ]
    }
   ],
   "source": [
    "import random\n",
    "\n",
    "p=7\n",
    "(g, esp)=random.choice(find_generators(p))\n",
    "s=random.choice(esp)\n",
    "print (f\"select generator g={g} and s={s} of Z{p}* : {esp}\")\n",
    "\n",
    "def ShorSimonFunction(a1, a2):\n",
    "    return ((g**a1)*(s**a2))%p\n",
    "    "
   ]
  },
  {
   "cell_type": "code",
   "execution_count": 35,
   "id": "20831362-b833-4efe-8549-bea989e3fc57",
   "metadata": {},
   "outputs": [
    {
     "data": {
      "text/plain": [
       "[(1, 1), (2, 4), (3, 5), (4, 2), (5, 3), (6, 6)]"
      ]
     },
     "execution_count": 35,
     "metadata": {},
     "output_type": "execute_result"
    }
   ],
   "source": [
    "[(v,find_multiplicative_inverse(v,p)) for v in range (1,p)]"
   ]
  },
  {
   "cell_type": "code",
   "execution_count": 70,
   "id": "175b9092-fd85-4cf2-9166-392d50ffb8f3",
   "metadata": {},
   "outputs": [
    {
     "name": "stdout",
     "output_type": "stream",
     "text": [
      "a=4 m=2\n"
     ]
    }
   ],
   "source": [
    "n= 15\n",
    "\n",
    "# Pick a random coprime of n\n",
    "a=4 #random.choice(find_coprime(n)) \n",
    "\n",
    "# Search for the smallest m / (a**m)%n = 1\n",
    "for m in range (2,n):\n",
    "    if (a**m)%n == 1:\n",
    "        break\n",
    "\n",
    "print (f\"a={a} m={m}\")"
   ]
  },
  {
   "cell_type": "code",
   "execution_count": 71,
   "id": "a07bbccb-116e-4e64-8793-62afade6b736",
   "metadata": {},
   "outputs": [
    {
     "data": {
      "text/plain": [
       "1"
      ]
     },
     "execution_count": 71,
     "metadata": {},
     "output_type": "execute_result"
    }
   ],
   "source": [
    "\n"
   ]
  },
  {
   "cell_type": "code",
   "execution_count": null,
   "id": "38c06169-0290-4d34-8a66-aa4b5e3c7867",
   "metadata": {},
   "outputs": [],
   "source": []
  },
  {
   "cell_type": "code",
   "execution_count": null,
   "id": "beba3940-8f83-4064-924d-8bae20f80551",
   "metadata": {},
   "outputs": [],
   "source": []
  }
 ],
 "metadata": {
  "kernelspec": {
   "display_name": "Python 3 (ipykernel)",
   "language": "python",
   "name": "python3"
  },
  "language_info": {
   "codemirror_mode": {
    "name": "ipython",
    "version": 3
   },
   "file_extension": ".py",
   "mimetype": "text/x-python",
   "name": "python",
   "nbconvert_exporter": "python",
   "pygments_lexer": "ipython3",
   "version": "3.11.6"
  }
 },
 "nbformat": 4,
 "nbformat_minor": 5
}
