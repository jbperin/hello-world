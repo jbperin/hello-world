{
 "cells": [
  {
   "cell_type": "code",
   "execution_count": 1,
   "id": "f359b1af",
   "metadata": {},
   "outputs": [],
   "source": [
    "from sympy.physics.quantum.circuitplot import labeller, render_label, Mz, CreateOneQubitGate,CreateCGate\n",
    "from sympy.physics.quantum.gate import CNOT, H, SWAP, CGate, S, T\n",
    "from sympy.external import import_module\n",
    "from sympy.testing.pytest import skip\n",
    "mpl = import_module('matplotlib')\n",
    "from sympy.physics.quantum.circuitplot import CircuitPlot"
   ]
  },
  {
   "cell_type": "code",
   "execution_count": 4,
   "id": "b8633d9a",
   "metadata": {},
   "outputs": [],
   "source": [
    "c = CircuitPlot(SWAP(0,2)*H(0)* CGate((0,),S(1)) *H(1)*CGate((0,),T(2))\\\n",
    "                    *CGate((1,),S(2))*H(2),3,labels=labeller(3,'j'))"
   ]
  },
  {
   "cell_type": "code",
   "execution_count": 5,
   "id": "a420775b",
   "metadata": {},
   "outputs": [],
   "source": [
    "c = CircuitPlot(SWAP(0,2)*H(0)* CGate((0,),S(1)) *H(1)*CGate((0,),T(2))\\\n",
    "                    *CGate((1,),S(2))*H(2),3,labels=labeller(3,'j'))"
   ]
  },
  {
   "cell_type": "code",
   "execution_count": 6,
   "id": "687c8793",
   "metadata": {},
   "outputs": [],
   "source": [
    "c = CircuitPlot(CNOT(1,0),2,labels=labeller(2))"
   ]
  },
  {
   "cell_type": "code",
   "execution_count": 3,
   "id": "1aa9f109",
   "metadata": {},
   "outputs": [],
   "source": [
    "from sympy.physics.quantum.circuitplot import labeller, render_label, Mz, CreateOneQubitGate,\\\n",
    "     CreateCGate\n",
    "from sympy.physics.quantum.gate import CNOT, H, SWAP, CGate, S, T\n",
    "from sympy.external import import_module\n",
    "from sympy.physics.quantum.circuitplot import CircuitPlot"
   ]
  },
  {
   "cell_type": "code",
   "execution_count": 4,
   "id": "80200339",
   "metadata": {},
   "outputs": [
    {
     "data": {
      "image/png": "[encoded data removed]",
      "text/plain": [
       "<Figure size 200x200 with 1 Axes>"
      ]
     },
     "metadata": {},
     "output_type": "display_data"
    }
   ],
   "source": [
    "c = CircuitPlot(CNOT(1,0),2,labels=labeller(2))"
   ]
  },
  {
   "cell_type": "code",
   "execution_count": null,
   "id": "c275765e",
   "metadata": {},
   "outputs": [],
   "source": []
  }
 ],
 "metadata": {
  "kernelspec": {
   "display_name": "Python 3 (ipykernel)",
   "language": "python",
   "name": "python3"
  },
  "language_info": {
   "codemirror_mode": {
    "name": "ipython",
    "version": 3
   },
   "file_extension": ".py",
   "mimetype": "text/x-python",
   "name": "python",
   "nbconvert_exporter": "python",
   "pygments_lexer": "ipython3",
   "version": "3.11.3"
  }
 },
 "nbformat": 4,
 "nbformat_minor": 5
}
